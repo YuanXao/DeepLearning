{
 "cells": [
  {
   "cell_type": "markdown",
   "id": "9a3e4fe4-8469-4a2a-83bb-79a11e852533",
   "metadata": {},
   "source": [
    "B0822012 邱元肇 HW2"
   ]
  },
  {
   "cell_type": "markdown",
   "id": "1d040472-9ddc-4895-b0ad-999636770e51",
   "metadata": {},
   "source": [
    "長庚大學 資工系/人工智慧學程 樣形識別/深度學習 課程使用之教材及示範程式 Ch02"
   ]
  },
  {
   "cell_type": "code",
   "execution_count": 1,
   "id": "02720b54-7a22-4080-aa85-860a0d69046b",
   "metadata": {},
   "outputs": [],
   "source": [
    "import numpy as np\n",
    "import tensorflow as tf\n",
    "import tensorflow.keras as keras"
   ]
  },
  {
   "cell_type": "code",
   "execution_count": 2,
   "id": "bcb98c15-13d0-440f-80fe-c98af5889842",
   "metadata": {},
   "outputs": [],
   "source": [
    "(xr,yr), (xt,yt)= keras.datasets.mnist.load_data() #(X_train, Y_train), (X_test, Y_test)"
   ]
  },
  {
   "cell_type": "markdown",
   "id": "d690937e-d6cf-4a30-8df5-d761543ed1cd",
   "metadata": {},
   "source": [
    "MNIST (Mixed National Institute of Standards and Technology)資料集是 Yann Lecun's 提供的圖片資料庫，包含60,000張手寫數字圖片(Handwritten Digit Image)的訓練資料，和10,000張測試資料。\n",
    "\n",
    "MNIST資料集是成對的數字手寫圖片和對應的標籤資料，其簡單說明如下所示：\n",
    "*   __手寫數字圖片：__ 尺寸 28x28 像素的灰階點陣圖\n",
    "*   __標籤：__ 手寫數字圖片對應實際的 0~9 數字"
   ]
  },
  {
   "cell_type": "code",
   "execution_count": 3,
   "id": "95f49edd-5a08-4812-927a-1a134893d38a",
   "metadata": {},
   "outputs": [
    {
     "data": {
      "text/plain": [
       "((60000, 28, 28), (60000,), (10000, 28, 28), (10000,))"
      ]
     },
     "execution_count": 3,
     "metadata": {},
     "output_type": "execute_result"
    }
   ],
   "source": [
    "xr.shape, yr.shape, xt.shape, yt.shape"
   ]
  },
  {
   "cell_type": "code",
   "execution_count": 4,
   "id": "43476bdd-64c7-47e0-b037-7738a14ae4f5",
   "metadata": {},
   "outputs": [
    {
     "name": "stdout",
     "output_type": "stream",
     "text": [
      "[[  0   0   0   0   0   0   0   0   0   0   0   0   0   0   0   0   0   0\n",
      "    0   0   0   0   0   0   0   0   0   0]\n",
      " [  0   0   0   0   0   0   0   0   0   0   0   0   0   0   0   0   0   0\n",
      "    0   0   0   0   0   0   0   0   0   0]\n",
      " [  0   0   0   0   0   0   0   0   0   0   0   0   0   0   0   0   0   0\n",
      "    0   0   0   0   0   0   0   0   0   0]\n",
      " [  0   0   0   0   0   0   0   0   0   0   0   0   0   0   0   0   0   0\n",
      "    0   0   0   0   0   0   0   0   0   0]\n",
      " [  0   0   0   0   0   0   0   0   0   0   0   0   0   0   0   0   0   0\n",
      "    0   0   0   0   0   0   0   0   0   0]\n",
      " [  0   0   0   0   0   0   0   0   0   0   0   0   3  18  18  18 126 136\n",
      "  175  26 166 255 247 127   0   0   0   0]\n",
      " [  0   0   0   0   0   0   0   0  30  36  94 154 170 253 253 253 253 253\n",
      "  225 172 253 242 195  64   0   0   0   0]\n",
      " [  0   0   0   0   0   0   0  49 238 253 253 253 253 253 253 253 253 251\n",
      "   93  82  82  56  39   0   0   0   0   0]\n",
      " [  0   0   0   0   0   0   0  18 219 253 253 253 253 253 198 182 247 241\n",
      "    0   0   0   0   0   0   0   0   0   0]\n",
      " [  0   0   0   0   0   0   0   0  80 156 107 253 253 205  11   0  43 154\n",
      "    0   0   0   0   0   0   0   0   0   0]\n",
      " [  0   0   0   0   0   0   0   0   0  14   1 154 253  90   0   0   0   0\n",
      "    0   0   0   0   0   0   0   0   0   0]\n",
      " [  0   0   0   0   0   0   0   0   0   0   0 139 253 190   2   0   0   0\n",
      "    0   0   0   0   0   0   0   0   0   0]\n",
      " [  0   0   0   0   0   0   0   0   0   0   0  11 190 253  70   0   0   0\n",
      "    0   0   0   0   0   0   0   0   0   0]\n",
      " [  0   0   0   0   0   0   0   0   0   0   0   0  35 241 225 160 108   1\n",
      "    0   0   0   0   0   0   0   0   0   0]\n",
      " [  0   0   0   0   0   0   0   0   0   0   0   0   0  81 240 253 253 119\n",
      "   25   0   0   0   0   0   0   0   0   0]\n",
      " [  0   0   0   0   0   0   0   0   0   0   0   0   0   0  45 186 253 253\n",
      "  150  27   0   0   0   0   0   0   0   0]\n",
      " [  0   0   0   0   0   0   0   0   0   0   0   0   0   0   0  16  93 252\n",
      "  253 187   0   0   0   0   0   0   0   0]\n",
      " [  0   0   0   0   0   0   0   0   0   0   0   0   0   0   0   0   0 249\n",
      "  253 249  64   0   0   0   0   0   0   0]\n",
      " [  0   0   0   0   0   0   0   0   0   0   0   0   0   0  46 130 183 253\n",
      "  253 207   2   0   0   0   0   0   0   0]\n",
      " [  0   0   0   0   0   0   0   0   0   0   0   0  39 148 229 253 253 253\n",
      "  250 182   0   0   0   0   0   0   0   0]\n",
      " [  0   0   0   0   0   0   0   0   0   0  24 114 221 253 253 253 253 201\n",
      "   78   0   0   0   0   0   0   0   0   0]\n",
      " [  0   0   0   0   0   0   0   0  23  66 213 253 253 253 253 198  81   2\n",
      "    0   0   0   0   0   0   0   0   0   0]\n",
      " [  0   0   0   0   0   0  18 171 219 253 253 253 253 195  80   9   0   0\n",
      "    0   0   0   0   0   0   0   0   0   0]\n",
      " [  0   0   0   0  55 172 226 253 253 253 253 244 133  11   0   0   0   0\n",
      "    0   0   0   0   0   0   0   0   0   0]\n",
      " [  0   0   0   0 136 253 253 253 212 135 132  16   0   0   0   0   0   0\n",
      "    0   0   0   0   0   0   0   0   0   0]\n",
      " [  0   0   0   0   0   0   0   0   0   0   0   0   0   0   0   0   0   0\n",
      "    0   0   0   0   0   0   0   0   0   0]\n",
      " [  0   0   0   0   0   0   0   0   0   0   0   0   0   0   0   0   0   0\n",
      "    0   0   0   0   0   0   0   0   0   0]\n",
      " [  0   0   0   0   0   0   0   0   0   0   0   0   0   0   0   0   0   0\n",
      "    0   0   0   0   0   0   0   0   0   0]]\n"
     ]
    }
   ],
   "source": [
    "print(xr[0])"
   ]
  },
  {
   "cell_type": "code",
   "execution_count": 5,
   "id": "a3adc1d9-ea05-4960-84c0-c9bfe3009744",
   "metadata": {},
   "outputs": [
    {
     "name": "stdout",
     "output_type": "stream",
     "text": [
      "  0  0  0  0  0  0  0  0  0  0  0  0  0  0  0  0  0  0  0  0  0  0  0  0  0  0  0  0\n",
      "  0  0  0  0  0  0  0  0  0  0  0  0  0  0  0  0  0  0  0  0  0  0  0  0  0  0  0  0\n",
      "  0  0  0  0  0  0  0  0  0  0  0  0  0  0  0  0  0  0  0  0  0  0  0  0  0  0  0  0\n",
      "  0  0  0  0  0  0  0  0  0  0  0  0  0  0  0  0  0  0  0  0  0  0  0  0  0  0  0  0\n",
      "  0  0  0  0  0  0  0  0  0  0  0  0  0  0  0  0  0  0  0  0  0  0  0  0  0  0  0  0\n",
      "  0  0  0  0  0  0  0  0  0  0  0  0  3 18 18 18126136175 26166255247127  0  0  0  0\n",
      "  0  0  0  0  0  0  0  0 30 36 94154170253253253253253225172253242195 64  0  0  0  0\n",
      "  0  0  0  0  0  0  0 49238253253253253253253253253251 93 82 82 56 39  0  0  0  0  0\n",
      "  0  0  0  0  0  0  0 18219253253253253253198182247241  0  0  0  0  0  0  0  0  0  0\n",
      "  0  0  0  0  0  0  0  0 80156107253253205 11  0 43154  0  0  0  0  0  0  0  0  0  0\n",
      "  0  0  0  0  0  0  0  0  0 14  1154253 90  0  0  0  0  0  0  0  0  0  0  0  0  0  0\n",
      "  0  0  0  0  0  0  0  0  0  0  0139253190  2  0  0  0  0  0  0  0  0  0  0  0  0  0\n",
      "  0  0  0  0  0  0  0  0  0  0  0 11190253 70  0  0  0  0  0  0  0  0  0  0  0  0  0\n",
      "  0  0  0  0  0  0  0  0  0  0  0  0 35241225160108  1  0  0  0  0  0  0  0  0  0  0\n",
      "  0  0  0  0  0  0  0  0  0  0  0  0  0 81240253253119 25  0  0  0  0  0  0  0  0  0\n",
      "  0  0  0  0  0  0  0  0  0  0  0  0  0  0 45186253253150 27  0  0  0  0  0  0  0  0\n",
      "  0  0  0  0  0  0  0  0  0  0  0  0  0  0  0 16 93252253187  0  0  0  0  0  0  0  0\n",
      "  0  0  0  0  0  0  0  0  0  0  0  0  0  0  0  0  0249253249 64  0  0  0  0  0  0  0\n",
      "  0  0  0  0  0  0  0  0  0  0  0  0  0  0 46130183253253207  2  0  0  0  0  0  0  0\n",
      "  0  0  0  0  0  0  0  0  0  0  0  0 39148229253253253250182  0  0  0  0  0  0  0  0\n",
      "  0  0  0  0  0  0  0  0  0  0 24114221253253253253201 78  0  0  0  0  0  0  0  0  0\n",
      "  0  0  0  0  0  0  0  0 23 66213253253253253198 81  2  0  0  0  0  0  0  0  0  0  0\n",
      "  0  0  0  0  0  0 18171219253253253253195 80  9  0  0  0  0  0  0  0  0  0  0  0  0\n",
      "  0  0  0  0 55172226253253253253244133 11  0  0  0  0  0  0  0  0  0  0  0  0  0  0\n",
      "  0  0  0  0136253253253212135132 16  0  0  0  0  0  0  0  0  0  0  0  0  0  0  0  0\n",
      "  0  0  0  0  0  0  0  0  0  0  0  0  0  0  0  0  0  0  0  0  0  0  0  0  0  0  0  0\n",
      "  0  0  0  0  0  0  0  0  0  0  0  0  0  0  0  0  0  0  0  0  0  0  0  0  0  0  0  0\n",
      "  0  0  0  0  0  0  0  0  0  0  0  0  0  0  0  0  0  0  0  0  0  0  0  0  0  0  0  0\n"
     ]
    }
   ],
   "source": [
    "x= xr[0]\n",
    "#%%\n",
    "for i in range(28):\n",
    "    for j in range(28):\n",
    "        z= x[i,j]\n",
    "        print(f'{z:3d}', end='')\n",
    "    print()"
   ]
  },
  {
   "cell_type": "code",
   "execution_count": 6,
   "id": "8926e89d-0e6a-45d1-bf18-92041b4bb1fb",
   "metadata": {},
   "outputs": [
    {
     "data": {
      "text/plain": [
       "<matplotlib.image.AxesImage at 0x21e894f01f0>"
      ]
     },
     "execution_count": 6,
     "metadata": {},
     "output_type": "execute_result"
    },
    {
     "data": {
      "image/png": "[encoded data removed]",
      "text/plain": [
       "<Figure size 432x288 with 1 Axes>"
      ]
     },
     "metadata": {
      "needs_background": "light"
     },
     "output_type": "display_data"
    }
   ],
   "source": [
    "import matplotlib.pyplot as pl\n",
    "pl.imshow(x)"
   ]
  },
  {
   "cell_type": "code",
   "execution_count": 7,
   "id": "55ae28e8-f05b-42dd-8f18-0d330a219f9b",
   "metadata": {},
   "outputs": [
    {
     "name": "stdout",
     "output_type": "stream",
     "text": [
      "y= 5\n"
     ]
    }
   ],
   "source": [
    "y= yr[0]\n",
    "print(f'{y= }')"
   ]
  },
  {
   "cell_type": "code",
   "execution_count": 8,
   "id": "8b0fa414-4260-45e0-ba12-3a60be671b9c",
   "metadata": {},
   "outputs": [
    {
     "name": "stdout",
     "output_type": "stream",
     "text": [
      "[[0 0 0 ... 0 0 0]\n",
      " [0 0 0 ... 0 0 0]\n",
      " [0 0 0 ... 0 0 0]\n",
      " ...\n",
      " [0 0 0 ... 0 0 0]\n",
      " [0 0 0 ... 0 0 0]\n",
      " [0 0 0 ... 0 0 0]] (60000, 784)\n",
      "[[0 0 0 ... 0 0 0]\n",
      " [0 0 0 ... 0 0 0]\n",
      " [0 0 0 ... 0 0 0]\n",
      " ...\n",
      " [0 0 0 ... 0 0 0]\n",
      " [0 0 0 ... 0 0 0]\n",
      " [0 0 0 ... 0 0 0]] (10000, 784)\n"
     ]
    }
   ],
   "source": [
    "xr1= xr.reshape(-1, 28*28) \n",
    "xt1= xt.reshape(-1, 28*28) \n",
    "print(xr1,xr1.shape)\n",
    "print(xt1,xt1.shape)"
   ]
  },
  {
   "cell_type": "code",
   "execution_count": 9,
   "id": "0e35c860-a5ff-41f5-87ad-91e7acac7ba1",
   "metadata": {},
   "outputs": [
    {
     "name": "stdout",
     "output_type": "stream",
     "text": [
      "Epoch 1/10\n",
      "600/600 [==============================] - 2s 2ms/step - loss: 11.0985 - accuracy: 0.1432\n",
      "Epoch 2/10\n",
      "600/600 [==============================] - 1s 2ms/step - loss: 9.7700 - accuracy: 0.2081\n",
      "Epoch 3/10\n",
      "600/600 [==============================] - 1s 2ms/step - loss: 9.7427 - accuracy: 0.2027\n",
      "Epoch 4/10\n",
      "600/600 [==============================] - 1s 2ms/step - loss: 8.7097 - accuracy: 0.2695\n",
      "Epoch 5/10\n",
      "600/600 [==============================] - 1s 2ms/step - loss: 2.0187 - accuracy: 0.4120\n",
      "Epoch 6/10\n",
      "600/600 [==============================] - 1s 2ms/step - loss: 2.0298 - accuracy: 0.4043\n",
      "Epoch 7/10\n",
      "600/600 [==============================] - 1s 2ms/step - loss: 2.0402 - accuracy: 0.3728\n",
      "Epoch 8/10\n",
      "600/600 [==============================] - 2s 3ms/step - loss: 2.2181 - accuracy: 0.4111\n",
      "Epoch 9/10\n",
      "600/600 [==============================] - 1s 2ms/step - loss: 2.0708 - accuracy: 0.4348\n",
      "Epoch 10/10\n",
      "600/600 [==============================] - 1s 2ms/step - loss: 1.8810 - accuracy: 0.4344\n",
      "313/313 [==============================] - 1s 1ms/step - loss: 2.2220 - accuracy: 0.4236\n"
     ]
    },
    {
     "data": {
      "text/plain": [
       "[2.2219693660736084, 0.4235999882221222]"
      ]
     },
     "execution_count": 9,
     "metadata": {},
     "output_type": "execute_result"
    }
   ],
   "source": [
    "# 建立神經層 784-100-10\n",
    "aModel= keras.Sequential([\n",
    "    keras.Input(28*28),\n",
    "    keras.layers.Dense(100),    \n",
    "    keras.layers.Dense(10)   \n",
    "    ])\n",
    "\n",
    "#編譯模型\n",
    "aModel.compile(\n",
    "    loss=     'sparse_categorical_crossentropy', # sparse單標籤多元分類\n",
    "    metrics= ['accuracy'] #準確度(適用分類問題)\n",
    "    )\n",
    "\n",
    "#訓練模型(訓練週期10、批次尺寸100)\n",
    "aModel.fit(xr1, yr, \n",
    "           epochs= 10, \n",
    "           batch_size= 100)\n",
    "\n",
    "#評估準確度 loss, accuracy = model.evaluate(X_train, Y_train)\n",
    "#輸出(loss, accuracy)\n",
    "aModel.evaluate(xt1, yt)"
   ]
  },
  {
   "cell_type": "code",
   "execution_count": 10,
   "id": "7ce738dd-a919-4e59-b12e-05f27cc99865",
   "metadata": {},
   "outputs": [
    {
     "name": "stdout",
     "output_type": "stream",
     "text": [
      "Epoch 1/10\n",
      "600/600 [==============================] - 2s 3ms/step - loss: 2.3750 - accuracy: 0.3615\n",
      "Epoch 2/10\n",
      "600/600 [==============================] - 1s 2ms/step - loss: 2.0769 - accuracy: 0.3735\n",
      "Epoch 3/10\n",
      "600/600 [==============================] - 1s 2ms/step - loss: 2.0468 - accuracy: 0.3600\n",
      "Epoch 4/10\n",
      "600/600 [==============================] - 1s 2ms/step - loss: 2.0569 - accuracy: 0.3805\n",
      "Epoch 5/10\n",
      "600/600 [==============================] - 1s 2ms/step - loss: 2.0745 - accuracy: 0.4082\n",
      "Epoch 6/10\n",
      "600/600 [==============================] - 1s 2ms/step - loss: 2.0861 - accuracy: 0.4273\n",
      "Epoch 7/10\n",
      "600/600 [==============================] - 2s 3ms/step - loss: 2.0085 - accuracy: 0.4459\n",
      "Epoch 8/10\n",
      "600/600 [==============================] - 2s 3ms/step - loss: 2.1110 - accuracy: 0.4435\n",
      "Epoch 9/10\n",
      "600/600 [==============================] - 2s 3ms/step - loss: 2.0766 - accuracy: 0.4398\n",
      "Epoch 10/10\n",
      "600/600 [==============================] - 1s 2ms/step - loss: 2.0584 - accuracy: 0.4624\n",
      "313/313 [==============================] - 1s 1ms/step - loss: 2.1111 - accuracy: 0.4916\n"
     ]
    },
    {
     "data": {
      "text/plain": [
       "[2.111117362976074, 0.49160000681877136]"
      ]
     },
     "execution_count": 10,
     "metadata": {},
     "output_type": "execute_result"
    }
   ],
   "source": [
    "# 建立神經層 784-100-10，隱藏層使用sigmoid \n",
    "#心得：準確度無明顯提升，因sigmoid函數進行反向傳播演算法時，會有梯度消失問題，訓練效果仍不佳\n",
    "aModel= keras.Sequential([\n",
    "    keras.Input(28*28),\n",
    "    keras.layers.Dense(100, activation= 'sigmoid'),    \n",
    "    keras.layers.Dense(10)   \n",
    "    ])\n",
    "\n",
    "#編譯模型\n",
    "aModel.compile(\n",
    "    loss=     'sparse_categorical_crossentropy', # sparse單標籤多元分類\n",
    "    metrics= ['accuracy'] #準確度(適用分類問題)\n",
    "    )\n",
    "\n",
    "#訓練模型(訓練週期10、批次尺寸100)\n",
    "aModel.fit(xr1, yr, \n",
    "           epochs= 10, \n",
    "           batch_size= 100)\n",
    "\n",
    "#評估準確度\n",
    "aModel.evaluate(xt1, yt)"
   ]
  },
  {
   "cell_type": "code",
   "execution_count": 11,
   "id": "8023307f-24e5-40f3-99c9-0ace32ee8b6d",
   "metadata": {},
   "outputs": [
    {
     "name": "stdout",
     "output_type": "stream",
     "text": [
      "Epoch 1/10\n",
      "600/600 [==============================] - 2s 3ms/step - loss: 0.5630 - accuracy: 0.8490\n",
      "Epoch 2/10\n",
      "600/600 [==============================] - 1s 2ms/step - loss: 0.2893 - accuracy: 0.9143\n",
      "Epoch 3/10\n",
      "600/600 [==============================] - 2s 3ms/step - loss: 0.2554 - accuracy: 0.9231\n",
      "Epoch 4/10\n",
      "600/600 [==============================] - 2s 3ms/step - loss: 0.2352 - accuracy: 0.9293\n",
      "Epoch 5/10\n",
      "600/600 [==============================] - 2s 3ms/step - loss: 0.2175 - accuracy: 0.9347\n",
      "Epoch 6/10\n",
      "600/600 [==============================] - 2s 3ms/step - loss: 0.2050 - accuracy: 0.9378\n",
      "Epoch 7/10\n",
      "600/600 [==============================] - 2s 3ms/step - loss: 0.1983 - accuracy: 0.9397\n",
      "Epoch 8/10\n",
      "600/600 [==============================] - 2s 3ms/step - loss: 0.1926 - accuracy: 0.9422\n",
      "Epoch 9/10\n",
      "600/600 [==============================] - 2s 3ms/step - loss: 0.1864 - accuracy: 0.9438\n",
      "Epoch 10/10\n",
      "600/600 [==============================] - 2s 3ms/step - loss: 0.1821 - accuracy: 0.9453\n",
      "313/313 [==============================] - 1s 2ms/step - loss: 0.1856 - accuracy: 0.9435\n"
     ]
    },
    {
     "data": {
      "text/plain": [
       "[0.18561671674251556, 0.9434999823570251]"
      ]
     },
     "execution_count": 11,
     "metadata": {},
     "output_type": "execute_result"
    }
   ],
   "source": [
    "# 建立神經層 784-100-10，隱藏層使用sigmoid，輸出層使用sigmoid\n",
    "#心得：準確度大幅上升，輸出層改用sigmoid函數取代預設的線性函數\n",
    "aModel= keras.Sequential([\n",
    "    keras.Input(28*28),\n",
    "    keras.layers.Dense(100, activation= 'sigmoid'),    \n",
    "    keras.layers.Dense(10,  activation= 'sigmoid')\n",
    "    ])\n",
    "\n",
    "#編譯模型\n",
    "aModel.compile(\n",
    "    loss=     'sparse_categorical_crossentropy', # sparse單標籤多元分類\n",
    "    metrics= ['accuracy'] #準確度(適用分類問題)\n",
    "    )\n",
    "\n",
    "#訓練模型(訓練週期10、批次尺寸100)\n",
    "aModel.fit(xr1, yr, \n",
    "           epochs= 10, \n",
    "           batch_size= 100)\n",
    "\n",
    "#評估準確度\n",
    "aModel.evaluate(xt1, yt)"
   ]
  },
  {
   "cell_type": "code",
   "execution_count": 12,
   "id": "64f2f2b8-940e-489f-84f4-a81a93bb2bf5",
   "metadata": {},
   "outputs": [
    {
     "name": "stdout",
     "output_type": "stream",
     "text": [
      "Epoch 1/10\n",
      "600/600 [==============================] - 2s 3ms/step - loss: 3.9723 - accuracy: 0.8587\n",
      "Epoch 2/10\n",
      "600/600 [==============================] - 2s 3ms/step - loss: 0.4957 - accuracy: 0.9194\n",
      "Epoch 3/10\n",
      "600/600 [==============================] - 1s 2ms/step - loss: 0.3611 - accuracy: 0.9400\n",
      "Epoch 4/10\n",
      "600/600 [==============================] - 1s 2ms/step - loss: 0.2940 - accuracy: 0.9503\n",
      "Epoch 5/10\n",
      "600/600 [==============================] - 1s 2ms/step - loss: 0.2601 - accuracy: 0.9572\n",
      "Epoch 6/10\n",
      "600/600 [==============================] - 1s 2ms/step - loss: 0.2277 - accuracy: 0.9622\n",
      "Epoch 7/10\n",
      "600/600 [==============================] - 1s 2ms/step - loss: 0.2180 - accuracy: 0.9643\n",
      "Epoch 8/10\n",
      "600/600 [==============================] - 1s 2ms/step - loss: 0.1933 - accuracy: 0.9667\n",
      "Epoch 9/10\n",
      "600/600 [==============================] - 1s 2ms/step - loss: 0.1803 - accuracy: 0.9689\n",
      "Epoch 10/10\n",
      "600/600 [==============================] - 1s 2ms/step - loss: 0.1771 - accuracy: 0.9712\n",
      "313/313 [==============================] - 0s 1ms/step - loss: 0.4474 - accuracy: 0.9584\n"
     ]
    },
    {
     "data": {
      "text/plain": [
       "[0.4474130868911743, 0.9584000110626221]"
      ]
     },
     "execution_count": 12,
     "metadata": {},
     "output_type": "execute_result"
    }
   ],
   "source": [
    "# 建立神經層 784-100-10，隱藏層使用relu，輸出層使用sigmoid\n",
    "#心得：準確度再次上升，隱藏層改用線性整流函式，能最小化反向傳播時的訊號損失\n",
    "aModel= keras.Sequential([\n",
    "    keras.Input(28*28),\n",
    "    keras.layers.Dense(100, activation= 'relu'),    \n",
    "    keras.layers.Dense(10,  activation= 'sigmoid')\n",
    "    ])\n",
    "\n",
    "#編譯模型\n",
    "aModel.compile(\n",
    "    loss=     'sparse_categorical_crossentropy', # sparse單標籤多元分類\n",
    "    metrics= ['accuracy'] #準確度(適用分類問題)\n",
    "    )\n",
    "\n",
    "#訓練模型(訓練週期10、批次尺寸100)\n",
    "aModel.fit(xr1, yr, \n",
    "           epochs= 10, \n",
    "           batch_size= 100)\n",
    "\n",
    "#評估準確度\n",
    "aModel.evaluate(xt1, yt)"
   ]
  },
  {
   "cell_type": "code",
   "execution_count": 13,
   "id": "2eafa847-3e06-4655-bbb3-6a736c9e57a5",
   "metadata": {},
   "outputs": [
    {
     "name": "stdout",
     "output_type": "stream",
     "text": [
      "Epoch 1/10\n",
      "600/600 [==============================] - 2s 2ms/step - loss: 3.7654 - accuracy: 0.8566\n",
      "Epoch 2/10\n",
      "600/600 [==============================] - 1s 2ms/step - loss: 0.5036 - accuracy: 0.9193\n",
      "Epoch 3/10\n",
      "600/600 [==============================] - 1s 2ms/step - loss: 0.3516 - accuracy: 0.9403\n",
      "Epoch 4/10\n",
      "600/600 [==============================] - 1s 2ms/step - loss: 0.2837 - accuracy: 0.9509\n",
      "Epoch 5/10\n",
      "600/600 [==============================] - 1s 2ms/step - loss: 0.2554 - accuracy: 0.9584\n",
      "Epoch 6/10\n",
      "600/600 [==============================] - 1s 2ms/step - loss: 0.2266 - accuracy: 0.9622\n",
      "Epoch 7/10\n",
      "600/600 [==============================] - 1s 2ms/step - loss: 0.2024 - accuracy: 0.9655\n",
      "Epoch 8/10\n",
      "600/600 [==============================] - 1s 2ms/step - loss: 0.1864 - accuracy: 0.9684\n",
      "Epoch 9/10\n",
      "600/600 [==============================] - 1s 2ms/step - loss: 0.1751 - accuracy: 0.9706\n",
      "Epoch 10/10\n",
      "600/600 [==============================] - 1s 2ms/step - loss: 0.1756 - accuracy: 0.9727\n",
      "313/313 [==============================] - 1s 1ms/step - loss: 0.4252 - accuracy: 0.9602\n"
     ]
    },
    {
     "data": {
      "text/plain": [
       "[0.4252135753631592, 0.9602000117301941]"
      ]
     },
     "execution_count": 13,
     "metadata": {},
     "output_type": "execute_result"
    }
   ],
   "source": [
    "# 建立神經層 784-100-10，隱藏層使用relu，輸出層使用softmax\n",
    "#心得1：準確度不受影響，輸出層改用softmax，和先前使用sigmoid意義相同，只是輸出格式不一樣\n",
    "#心得2：sigmoid輸出單一值；softmax輸出機率陣列\n",
    "aModel= keras.Sequential([\n",
    "    keras.Input(28*28),\n",
    "    keras.layers.Dense(100, activation= 'relu'),    \n",
    "    keras.layers.Dense(10,  activation= 'softmax')\n",
    "    ])\n",
    "\n",
    "#編譯模型\n",
    "aModel.compile(\n",
    "    loss=     'sparse_categorical_crossentropy',\n",
    "    metrics= ['accuracy']\n",
    "    )\n",
    "\n",
    "#訓練模型(訓練週期10、批次尺寸100)\n",
    "aModel.fit(xr1, yr, \n",
    "           epochs= 10, \n",
    "           batch_size= 100)\n",
    "\n",
    "#評估準確度\n",
    "aModel.evaluate(xt1, yt)"
   ]
  },
  {
   "cell_type": "code",
   "execution_count": 14,
   "id": "8d7efd8f-8b6d-43e1-ad28-e9becf855b53",
   "metadata": {},
   "outputs": [
    {
     "name": "stdout",
     "output_type": "stream",
     "text": [
      "Epoch 1/10\n",
      "600/600 [==============================] - 1s 2ms/step - loss: 0.3259 - accuracy: 0.9097\n",
      "Epoch 2/10\n",
      "600/600 [==============================] - 1s 2ms/step - loss: 0.1590 - accuracy: 0.9544\n",
      "Epoch 3/10\n",
      "600/600 [==============================] - 1s 2ms/step - loss: 0.1156 - accuracy: 0.9667\n",
      "Epoch 4/10\n",
      "600/600 [==============================] - 1s 2ms/step - loss: 0.0917 - accuracy: 0.9730\n",
      "Epoch 5/10\n",
      "600/600 [==============================] - 1s 2ms/step - loss: 0.0765 - accuracy: 0.9783\n",
      "Epoch 6/10\n",
      "600/600 [==============================] - 1s 2ms/step - loss: 0.0656 - accuracy: 0.9804\n",
      "Epoch 7/10\n",
      "600/600 [==============================] - 1s 2ms/step - loss: 0.0568 - accuracy: 0.9830\n",
      "Epoch 8/10\n",
      "600/600 [==============================] - 1s 2ms/step - loss: 0.0500 - accuracy: 0.9853\n",
      "Epoch 9/10\n",
      "600/600 [==============================] - 1s 2ms/step - loss: 0.0445 - accuracy: 0.9871\n",
      "Epoch 10/10\n",
      "600/600 [==============================] - 1s 2ms/step - loss: 0.0386 - accuracy: 0.9890\n",
      "313/313 [==============================] - 0s 1ms/step - loss: 0.0812 - accuracy: 0.9777\n"
     ]
    },
    {
     "data": {
      "text/plain": [
       "[0.0811612531542778, 0.9776999950408936]"
      ]
     },
     "execution_count": 14,
     "metadata": {},
     "output_type": "execute_result"
    }
   ],
   "source": [
    "# 資料預處理：正規化(Normalization) <== 適用資料範圍固定、無極端最大最小值之情形\n",
    "#心得：準確度顯著提升，正規化能使參數縮放至0~1的範圍，使資料分布更集中。\n",
    "xr1= xr.reshape(-1,28*28) /255\n",
    "xt1= xt.reshape(-1,28*28) /255\n",
    "\n",
    "# 建立神經層 784-100-10，隱藏層使用relu，輸出層使用softmax\n",
    "aModel= keras.Sequential([\n",
    "    keras.Input(28*28),\n",
    "    keras.layers.Dense(100, activation= 'relu'),    \n",
    "    keras.layers.Dense(10,  activation= 'softmax')\n",
    "    ])\n",
    "\n",
    "#編譯模型\n",
    "aModel.compile(\n",
    "    loss=     'sparse_categorical_crossentropy',\n",
    "    metrics= ['accuracy']\n",
    "    )\n",
    "\n",
    "#訓練模型(訓練週期10、批次尺寸100)\n",
    "aModel.fit(xr1, yr, \n",
    "           epochs= 10, \n",
    "           batch_size= 100)\n",
    "\n",
    "#評估準確度\n",
    "aModel.evaluate(xt1, yt)"
   ]
  },
  {
   "cell_type": "code",
   "execution_count": 15,
   "id": "1069311e-74d4-4632-af4f-da72e1f62f8b",
   "metadata": {},
   "outputs": [
    {
     "name": "stdout",
     "output_type": "stream",
     "text": [
      "Epoch 1/10\n",
      "600/600 [==============================] - 2s 3ms/step - loss: 0.2895 - accuracy: 0.9175\n",
      "Epoch 2/10\n",
      "600/600 [==============================] - 2s 3ms/step - loss: 0.1275 - accuracy: 0.9630\n",
      "Epoch 3/10\n",
      "600/600 [==============================] - 2s 3ms/step - loss: 0.0862 - accuracy: 0.9743\n",
      "Epoch 4/10\n",
      "600/600 [==============================] - 2s 3ms/step - loss: 0.0659 - accuracy: 0.9803\n",
      "Epoch 5/10\n",
      "600/600 [==============================] - 2s 3ms/step - loss: 0.0519 - accuracy: 0.9850\n",
      "Epoch 6/10\n",
      "600/600 [==============================] - 2s 3ms/step - loss: 0.0419 - accuracy: 0.9878\n",
      "Epoch 7/10\n",
      "600/600 [==============================] - 2s 3ms/step - loss: 0.0350 - accuracy: 0.9900\n",
      "Epoch 8/10\n",
      "600/600 [==============================] - 1s 2ms/step - loss: 0.0285 - accuracy: 0.9918\n",
      "Epoch 9/10\n",
      "600/600 [==============================] - 2s 3ms/step - loss: 0.0242 - accuracy: 0.9931\n",
      "Epoch 10/10\n",
      "600/600 [==============================] - 2s 3ms/step - loss: 0.0201 - accuracy: 0.9944\n",
      "313/313 [==============================] - 0s 1ms/step - loss: 0.0708 - accuracy: 0.9807\n"
     ]
    },
    {
     "data": {
      "text/plain": [
       "[0.07077629119157791, 0.9807000160217285]"
      ]
     },
     "execution_count": 15,
     "metadata": {},
     "output_type": "execute_result"
    }
   ],
   "source": [
    "# 建立神經層 784-200-10，隱藏層使用relu，輸出層使用softmax\n",
    "# 心得：準確度些許提升，隱藏層神經元由100->200在此範例中對準確率提升有些幫助。\n",
    "aModel= keras.Sequential([\n",
    "    keras.Input(28*28),\n",
    "    keras.layers.Dense(200, activation= 'relu'),    \n",
    "    keras.layers.Dense(10,  activation= 'softmax')\n",
    "    ])\n",
    "\n",
    "#編譯模型\n",
    "aModel.compile(\n",
    "    loss=     'sparse_categorical_crossentropy',\n",
    "    metrics= ['accuracy']\n",
    "    )\n",
    "\n",
    "#訓練模型(訓練週期10、批次尺寸100) *註：以下xr1、xt1是延續上面的變數，故已正規化\n",
    "aModel.fit(xr1, yr, \n",
    "           epochs= 10, \n",
    "           batch_size= 100)\n",
    "\n",
    "#評估準確度\n",
    "aModel.evaluate(xt1, yt)"
   ]
  },
  {
   "cell_type": "code",
   "execution_count": 16,
   "id": "35f8c031-8b66-4f53-aad7-03122e5b293c",
   "metadata": {},
   "outputs": [
    {
     "name": "stdout",
     "output_type": "stream",
     "text": [
      "Epoch 1/10\n",
      "600/600 [==============================] - 2s 2ms/step - loss: 0.2956 - accuracy: 0.9157\n",
      "Epoch 2/10\n",
      "600/600 [==============================] - 1s 2ms/step - loss: 0.1301 - accuracy: 0.9612\n",
      "Epoch 3/10\n",
      "600/600 [==============================] - 1s 2ms/step - loss: 0.0915 - accuracy: 0.9725\n",
      "Epoch 4/10\n",
      "600/600 [==============================] - 1s 2ms/step - loss: 0.0714 - accuracy: 0.9784\n",
      "Epoch 5/10\n",
      "600/600 [==============================] - 1s 2ms/step - loss: 0.0581 - accuracy: 0.9820\n",
      "Epoch 6/10\n",
      "600/600 [==============================] - 1s 2ms/step - loss: 0.0483 - accuracy: 0.9854\n",
      "Epoch 7/10\n",
      "600/600 [==============================] - 1s 2ms/step - loss: 0.0401 - accuracy: 0.9873\n",
      "Epoch 8/10\n",
      "600/600 [==============================] - 1s 2ms/step - loss: 0.0336 - accuracy: 0.9896\n",
      "Epoch 9/10\n",
      "600/600 [==============================] - 1s 2ms/step - loss: 0.0286 - accuracy: 0.9909\n",
      "Epoch 10/10\n",
      "600/600 [==============================] - 1s 2ms/step - loss: 0.0243 - accuracy: 0.9925\n",
      "313/313 [==============================] - 1s 1ms/step - loss: 0.1007 - accuracy: 0.9739\n"
     ]
    },
    {
     "data": {
      "text/plain": [
       "[0.10069693624973297, 0.9739000201225281]"
      ]
     },
     "execution_count": 16,
     "metadata": {},
     "output_type": "execute_result"
    }
   ],
   "source": [
    "# 建立神經層 784-100-100-10，隱藏層使用relu，輸出層使用softmax\n",
    "# 心得：準確度似乎沒有明顯變化，增加隱藏層層數在此範例中不太能提升準確率。\n",
    "#      不過也有可能是因為各層神經元數量需要再調整(見下一個程式)\n",
    "aModel= keras.Sequential([\n",
    "    keras.Input(28*28),\n",
    "    keras.layers.Dense(100, activation= 'relu'), \n",
    "    keras.layers.Dense(100, activation= 'relu'), \n",
    "    keras.layers.Dense(10,  activation= 'softmax')\n",
    "    ])\n",
    "\n",
    "#編譯模型\n",
    "aModel.compile(\n",
    "    loss=     'sparse_categorical_crossentropy',\n",
    "    metrics= ['accuracy']\n",
    "    )\n",
    "\n",
    "#訓練模型(訓練週期10、批次尺寸100)\n",
    "aModel.fit(xr1, yr, \n",
    "           epochs= 10, \n",
    "           batch_size= 100)\n",
    "\n",
    "#評估準確度\n",
    "aModel.evaluate(xt1, yt)"
   ]
  },
  {
   "cell_type": "code",
   "execution_count": 17,
   "id": "b0b8ec94-c04c-4a53-8ee5-cbfb504d0353",
   "metadata": {},
   "outputs": [
    {
     "name": "stdout",
     "output_type": "stream",
     "text": [
      "Epoch 1/10\n",
      "600/600 [==============================] - 2s 3ms/step - loss: 0.2921 - accuracy: 0.9158\n",
      "Epoch 2/10\n",
      "600/600 [==============================] - 2s 3ms/step - loss: 0.1216 - accuracy: 0.9632\n",
      "Epoch 3/10\n",
      "600/600 [==============================] - 2s 3ms/step - loss: 0.0852 - accuracy: 0.9743\n",
      "Epoch 4/10\n",
      "600/600 [==============================] - 2s 3ms/step - loss: 0.0658 - accuracy: 0.9803\n",
      "Epoch 5/10\n",
      "600/600 [==============================] - 1s 2ms/step - loss: 0.0526 - accuracy: 0.9839\n",
      "Epoch 6/10\n",
      "600/600 [==============================] - 2s 3ms/step - loss: 0.0420 - accuracy: 0.9873\n",
      "Epoch 7/10\n",
      "600/600 [==============================] - 1s 2ms/step - loss: 0.0350 - accuracy: 0.9893\n",
      "Epoch 8/10\n",
      "600/600 [==============================] - 1s 2ms/step - loss: 0.0286 - accuracy: 0.9915\n",
      "Epoch 9/10\n",
      "600/600 [==============================] - 1s 2ms/step - loss: 0.0235 - accuracy: 0.9922\n",
      "Epoch 10/10\n",
      "600/600 [==============================] - 1s 2ms/step - loss: 0.0199 - accuracy: 0.9939\n",
      "313/313 [==============================] - 0s 1ms/step - loss: 0.0832 - accuracy: 0.9786\n"
     ]
    },
    {
     "data": {
      "text/plain": [
       "[0.0831589326262474, 0.978600025177002]"
      ]
     },
     "execution_count": 17,
     "metadata": {},
     "output_type": "execute_result"
    }
   ],
   "source": [
    "# 建立神經層 784-150-50-10，隱藏層使用relu，輸出層使用softmax\n",
    "# 心得：準確度些許提升，但仍不明顯。調整各隱藏層神經元數量後可能不是最好的方式。\n",
    "aModel= keras.Sequential([\n",
    "    keras.Input(28*28),\n",
    "    keras.layers.Dense(150, activation= 'relu'), \n",
    "    keras.layers.Dense(50,  activation= 'relu'), \n",
    "    keras.layers.Dense(10,  activation= 'softmax')\n",
    "    ])\n",
    "\n",
    "#編譯模型\n",
    "aModel.compile(\n",
    "    loss=     'sparse_categorical_crossentropy',\n",
    "    metrics= ['accuracy']\n",
    "    )\n",
    "\n",
    "#訓練模型(訓練週期10、批次尺寸100)\n",
    "aModel.fit(xr1, yr, \n",
    "           epochs= 10, \n",
    "           batch_size= 100)\n",
    "\n",
    "#評估準確度\n",
    "aModel.evaluate(xt1, yt)"
   ]
  },
  {
   "cell_type": "markdown",
   "id": "ccbce541-82e0-4d69-8e7c-b73412681fc1",
   "metadata": {},
   "source": [
    "Q: 如何改進，提升正確率"
   ]
  },
  {
   "cell_type": "markdown",
   "id": "1fb7a816-97af-4a11-8d10-e3e60fdbea4e",
   "metadata": {},
   "source": [
    "思考：統整以上資訊，我們可以得知：\n",
    "\n",
    "* __資料預處理__ => 正規化 對準確率提升有顯著影響\n",
    "\n",
    "* __隱藏層__ => 使用ReLU能有最佳的準確率，其他函式會有梯度消失現象\n",
    "\n",
    "* __輸出層__ => 使用sigmoid、softmax能有最佳的準確率\n",
    "\n",
    "* __神經網路結構__ => 單層與雙層結構、三種神經元數量的組合，對準確率提升效果不是很明顯(但仍可能有其餘組合)"
   ]
  },
  {
   "cell_type": "markdown",
   "id": "9e9c6af6-93de-4ca1-9068-743f92559004",
   "metadata": {},
   "source": [
    "改進：思考以上還有甚麼參數能夠更動：\n",
    "*  啟動函數的選擇(但很難找到更適當的函數)\n",
    "*  編譯模型的損失函數(但很難找到更適當的函數)\n",
    "*  訓練模型的訓練週期(對於訓練週期>4，都是過度擬合，再增加更多周期訓練出來的模型都沒有意義。參考下面敘述。)\n",
    "*  訓練模型的批次尺寸\n",
    "*  神經網路結構"
   ]
  },
  {
   "cell_type": "markdown",
   "id": "878687d6-1125-4ffb-a5e8-98b5798d2b65",
   "metadata": {},
   "source": [
    "潛在風險：\n",
    "*  過度擬合\n",
    "\n",
    "可以觀察到，以上訓練過程其實在週期3、4左右，準確率就變動不大。表示有過度擬合。\n",
    "\n",
    "但為了方便後續觀察，以下將以如何增進準確度為主要討論目標，暫不考慮過度擬合現象。"
   ]
  },
  {
   "cell_type": "markdown",
   "id": "382dc17c-fb8f-4b3d-9f32-5fd10b0504bd",
   "metadata": {},
   "source": [
    "__1.調整批次尺寸__"
   ]
  },
  {
   "cell_type": "code",
   "execution_count": 27,
   "id": "78ab91d9-0098-43cd-b6a8-738edf6ccabf",
   "metadata": {},
   "outputs": [
    {
     "name": "stdout",
     "output_type": "stream",
     "text": [
      "Epoch 1/10\n",
      "6000/6000 [==============================] - 11s 2ms/step - loss: 0.2199 - accuracy: 0.9364\n",
      "Epoch 2/10\n",
      "6000/6000 [==============================] - 10s 2ms/step - loss: 0.1240 - accuracy: 0.9683\n",
      "Epoch 3/10\n",
      "6000/6000 [==============================] - 10s 2ms/step - loss: 0.1115 - accuracy: 0.9747\n",
      "Epoch 4/10\n",
      "6000/6000 [==============================] - 11s 2ms/step - loss: 0.1075 - accuracy: 0.9770\n",
      "Epoch 5/10\n",
      "6000/6000 [==============================] - 10s 2ms/step - loss: 0.1037 - accuracy: 0.9801\n",
      "Epoch 6/10\n",
      "6000/6000 [==============================] - 10s 2ms/step - loss: 0.0967 - accuracy: 0.9816\n",
      "Epoch 7/10\n",
      "6000/6000 [==============================] - 10s 2ms/step - loss: 0.0930 - accuracy: 0.9828\n",
      "Epoch 8/10\n",
      "6000/6000 [==============================] - 10s 2ms/step - loss: 0.0938 - accuracy: 0.9848\n",
      "Epoch 9/10\n",
      "6000/6000 [==============================] - 11s 2ms/step - loss: 0.0913 - accuracy: 0.9854\n",
      "Epoch 10/10\n",
      "6000/6000 [==============================] - 11s 2ms/step - loss: 0.0844 - accuracy: 0.9859\n",
      "313/313 [==============================] - 0s 1ms/step - loss: 0.2021 - accuracy: 0.9736\n"
     ]
    },
    {
     "data": {
      "text/plain": [
       "[0.20206277072429657, 0.9735999703407288]"
      ]
     },
     "execution_count": 27,
     "metadata": {},
     "output_type": "execute_result"
    }
   ],
   "source": [
    "# 1. 更改批次尺寸至10\n",
    "# 建立神經層 784-150-50-10，隱藏層使用relu，輸出層使用softmax\n",
    "aModel= keras.Sequential([\n",
    "    keras.Input(28*28),\n",
    "    keras.layers.Dense(150, activation= 'relu'), \n",
    "    keras.layers.Dense(50,  activation= 'relu'), \n",
    "    keras.layers.Dense(10,  activation= 'softmax')\n",
    "    ])\n",
    "\n",
    "#編譯模型(啟動函數變更為categorical_crossentropy)\n",
    "aModel.compile(\n",
    "    loss=     'sparse_categorical_crossentropy', \n",
    "    metrics= ['accuracy']\n",
    "    )\n",
    "\n",
    "#訓練模型(訓練週期10、批次尺寸10)\n",
    "aModel.fit(xr1, yr, \n",
    "           epochs= 10, \n",
    "           batch_size= 10)\n",
    "\n",
    "#評估準確度\n",
    "aModel.evaluate(xt1, yt)"
   ]
  },
  {
   "cell_type": "code",
   "execution_count": 28,
   "id": "7ba2e4d0-ec9b-4152-92d0-a5b47e1f35de",
   "metadata": {},
   "outputs": [
    {
     "name": "stdout",
     "output_type": "stream",
     "text": [
      "Epoch 1/10\n",
      "300/300 [==============================] - 1s 3ms/step - loss: 0.3553 - accuracy: 0.8994\n",
      "Epoch 2/10\n",
      "300/300 [==============================] - 1s 3ms/step - loss: 0.1555 - accuracy: 0.9548\n",
      "Epoch 3/10\n",
      "300/300 [==============================] - 1s 3ms/step - loss: 0.1079 - accuracy: 0.9677\n",
      "Epoch 4/10\n",
      "300/300 [==============================] - 1s 3ms/step - loss: 0.0827 - accuracy: 0.9751\n",
      "Epoch 5/10\n",
      "300/300 [==============================] - 1s 3ms/step - loss: 0.0650 - accuracy: 0.9810\n",
      "Epoch 6/10\n",
      "300/300 [==============================] - 1s 3ms/step - loss: 0.0535 - accuracy: 0.9839\n",
      "Epoch 7/10\n",
      "300/300 [==============================] - 1s 3ms/step - loss: 0.0434 - accuracy: 0.9868\n",
      "Epoch 8/10\n",
      "300/300 [==============================] - 1s 3ms/step - loss: 0.0356 - accuracy: 0.9889\n",
      "Epoch 9/10\n",
      "300/300 [==============================] - 1s 3ms/step - loss: 0.0296 - accuracy: 0.9905\n",
      "Epoch 10/10\n",
      "300/300 [==============================] - 1s 3ms/step - loss: 0.0246 - accuracy: 0.9925\n",
      "313/313 [==============================] - 0s 1ms/step - loss: 0.0755 - accuracy: 0.9787\n"
     ]
    },
    {
     "data": {
      "text/plain": [
       "[0.07554056495428085, 0.9786999821662903]"
      ]
     },
     "execution_count": 28,
     "metadata": {},
     "output_type": "execute_result"
    }
   ],
   "source": [
    "# 1. 更改批次尺寸至200\n",
    "# 建立神經層 784-150-50-10，隱藏層使用relu，輸出層使用softmax\n",
    "aModel= keras.Sequential([\n",
    "    keras.Input(28*28),\n",
    "    keras.layers.Dense(150, activation= 'relu'), \n",
    "    keras.layers.Dense(50,  activation= 'relu'), \n",
    "    keras.layers.Dense(10,  activation= 'softmax')\n",
    "    ])\n",
    "\n",
    "#編譯模型(啟動函數變更為categorical_crossentropy)\n",
    "aModel.compile(\n",
    "    loss=     'sparse_categorical_crossentropy', \n",
    "    metrics= ['accuracy']\n",
    "    )\n",
    "\n",
    "#訓練模型(訓練週期10、批次尺寸200)\n",
    "aModel.fit(xr1, yr, \n",
    "           epochs= 10, \n",
    "           batch_size= 200)\n",
    "\n",
    "#評估準確度\n",
    "aModel.evaluate(xt1, yt)"
   ]
  },
  {
   "cell_type": "markdown",
   "id": "d21263a3-092b-4c2f-ba31-9c94e58cde39",
   "metadata": {},
   "source": [
    "心得：\n",
    "\n",
    "在固定訓練週期下，單純調整批次尺寸不太影響最佳準確度。\n",
    "\n",
    "原因是因為批次尺寸只是訓練樣本拆分的方式不同，理論上的訓練結果應相同(除非一起調整其他參數)。\n",
    "\n",
    "不過有幾個發現：\n",
    "* 批次尺寸小 => 完成一個訓練週期要花更長的時間，也較晚達到最佳準確度\n",
    "* 批次尺寸小 => 完成一個訓練週期可花更短的時間，也較早達到最佳準確度"
   ]
  },
  {
   "cell_type": "markdown",
   "id": "ff8e0ecb-8415-4851-96b4-6a794704e855",
   "metadata": {},
   "source": [
    "__2.調整神經網路結構__"
   ]
  },
  {
   "cell_type": "code",
   "execution_count": 29,
   "id": "ceeaa67c-3169-4120-a181-1a721158b8ef",
   "metadata": {},
   "outputs": [
    {
     "name": "stdout",
     "output_type": "stream",
     "text": [
      "Epoch 1/10\n",
      "600/600 [==============================] - 4s 6ms/step - loss: 0.2412 - accuracy: 0.9288\n",
      "Epoch 2/10\n",
      "600/600 [==============================] - 4s 6ms/step - loss: 0.0923 - accuracy: 0.9716\n",
      "Epoch 3/10\n",
      "600/600 [==============================] - 4s 6ms/step - loss: 0.0613 - accuracy: 0.9812\n",
      "Epoch 4/10\n",
      "600/600 [==============================] - 4s 7ms/step - loss: 0.0447 - accuracy: 0.9858\n",
      "Epoch 5/10\n",
      "600/600 [==============================] - 4s 7ms/step - loss: 0.0339 - accuracy: 0.9894\n",
      "Epoch 6/10\n",
      "600/600 [==============================] - 4s 6ms/step - loss: 0.0262 - accuracy: 0.9916\n",
      "Epoch 7/10\n",
      "600/600 [==============================] - 4s 6ms/step - loss: 0.0198 - accuracy: 0.9935\n",
      "Epoch 8/10\n",
      "600/600 [==============================] - 4s 6ms/step - loss: 0.0161 - accuracy: 0.9950\n",
      "Epoch 9/10\n",
      "600/600 [==============================] - 4s 7ms/step - loss: 0.0121 - accuracy: 0.9956\n",
      "Epoch 10/10\n",
      "600/600 [==============================] - 4s 6ms/step - loss: 0.0097 - accuracy: 0.9970\n",
      "313/313 [==============================] - 1s 2ms/step - loss: 0.0892 - accuracy: 0.9824\n"
     ]
    },
    {
     "data": {
      "text/plain": [
       "[0.08917802572250366, 0.9824000000953674]"
      ]
     },
     "execution_count": 29,
     "metadata": {},
     "output_type": "execute_result"
    }
   ],
   "source": [
    "# 建立神經層 784-500-50-10，隱藏層使用relu，輸出層使用softmax\n",
    "aModel= keras.Sequential([\n",
    "    keras.Input(28*28),\n",
    "    keras.layers.Dense(500, activation= 'relu'), \n",
    "    keras.layers.Dense(50,  activation= 'relu'), \n",
    "    keras.layers.Dense(10,  activation= 'softmax')\n",
    "    ])\n",
    "\n",
    "#編譯模型\n",
    "aModel.compile(\n",
    "    loss=     'sparse_categorical_crossentropy',\n",
    "    metrics= ['accuracy']\n",
    "    )\n",
    "\n",
    "#訓練模型(訓練週期10、批次尺寸100)\n",
    "aModel.fit(xr1, yr, \n",
    "           epochs= 10, \n",
    "           batch_size= 100)\n",
    "\n",
    "#評估準確度\n",
    "aModel.evaluate(xt1, yt)"
   ]
  },
  {
   "cell_type": "code",
   "execution_count": 30,
   "id": "45043e7a-1689-4a7c-bdbc-22cb6e350b5d",
   "metadata": {},
   "outputs": [
    {
     "name": "stdout",
     "output_type": "stream",
     "text": [
      "Epoch 1/10\n",
      "600/600 [==============================] - 7s 11ms/step - loss: 0.2145 - accuracy: 0.9345\n",
      "Epoch 2/10\n",
      "600/600 [==============================] - 7s 11ms/step - loss: 0.0826 - accuracy: 0.9746\n",
      "Epoch 3/10\n",
      "600/600 [==============================] - 7s 11ms/step - loss: 0.0557 - accuracy: 0.9830\n",
      "Epoch 4/10\n",
      "600/600 [==============================] - 7s 11ms/step - loss: 0.0397 - accuracy: 0.9875\n",
      "Epoch 5/10\n",
      "600/600 [==============================] - 7s 11ms/step - loss: 0.0307 - accuracy: 0.9904\n",
      "Epoch 6/10\n",
      "600/600 [==============================] - 7s 11ms/step - loss: 0.0241 - accuracy: 0.9925\n",
      "Epoch 7/10\n",
      "600/600 [==============================] - 7s 11ms/step - loss: 0.0179 - accuracy: 0.9947\n",
      "Epoch 8/10\n",
      "600/600 [==============================] - 7s 12ms/step - loss: 0.0151 - accuracy: 0.9954\n",
      "Epoch 9/10\n",
      "600/600 [==============================] - 7s 11ms/step - loss: 0.0128 - accuracy: 0.9960\n",
      "Epoch 10/10\n",
      "600/600 [==============================] - 7s 11ms/step - loss: 0.0112 - accuracy: 0.9968\n",
      "313/313 [==============================] - 1s 3ms/step - loss: 0.1147 - accuracy: 0.9786\n"
     ]
    },
    {
     "data": {
      "text/plain": [
       "[0.11466069519519806, 0.978600025177002]"
      ]
     },
     "execution_count": 30,
     "metadata": {},
     "output_type": "execute_result"
    }
   ],
   "source": [
    "# 建立神經層 784-1000-50-10，隱藏層使用relu，輸出層使用softmax\n",
    "aModel= keras.Sequential([\n",
    "    keras.Input(28*28),\n",
    "    keras.layers.Dense(1000, activation= 'relu'), \n",
    "    keras.layers.Dense(50,  activation= 'relu'), \n",
    "    keras.layers.Dense(10,  activation= 'softmax')\n",
    "    ])\n",
    "\n",
    "#編譯模型\n",
    "aModel.compile(\n",
    "    loss=     'sparse_categorical_crossentropy',\n",
    "    metrics= ['accuracy']\n",
    "    )\n",
    "\n",
    "#訓練模型(訓練週期10、批次尺寸100)\n",
    "aModel.fit(xr1, yr, \n",
    "           epochs= 10, \n",
    "           batch_size= 100)\n",
    "\n",
    "#評估準確度\n",
    "aModel.evaluate(xt1, yt)"
   ]
  },
  {
   "cell_type": "code",
   "execution_count": 31,
   "id": "941f860f-8b90-48a5-9e16-818722681165",
   "metadata": {},
   "outputs": [
    {
     "name": "stdout",
     "output_type": "stream",
     "text": [
      "Epoch 1/10\n",
      "600/600 [==============================] - 4s 5ms/step - loss: 0.2346 - accuracy: 0.9279\n",
      "Epoch 2/10\n",
      "600/600 [==============================] - 3s 5ms/step - loss: 0.0923 - accuracy: 0.9724\n",
      "Epoch 3/10\n",
      "600/600 [==============================] - 3s 5ms/step - loss: 0.0636 - accuracy: 0.9807\n",
      "Epoch 4/10\n",
      "600/600 [==============================] - 3s 5ms/step - loss: 0.0487 - accuracy: 0.9855\n",
      "Epoch 5/10\n",
      "600/600 [==============================] - 3s 5ms/step - loss: 0.0390 - accuracy: 0.9884\n",
      "Epoch 6/10\n",
      "600/600 [==============================] - 3s 5ms/step - loss: 0.0321 - accuracy: 0.9902\n",
      "Epoch 7/10\n",
      "600/600 [==============================] - 3s 5ms/step - loss: 0.0285 - accuracy: 0.9921\n",
      "Epoch 8/10\n",
      "600/600 [==============================] - 3s 5ms/step - loss: 0.0254 - accuracy: 0.9929\n",
      "Epoch 9/10\n",
      "600/600 [==============================] - 3s 5ms/step - loss: 0.0213 - accuracy: 0.9945\n",
      "Epoch 10/10\n",
      "600/600 [==============================] - 3s 5ms/step - loss: 0.0230 - accuracy: 0.9939\n",
      "313/313 [==============================] - 1s 2ms/step - loss: 0.1113 - accuracy: 0.9818\n"
     ]
    },
    {
     "data": {
      "text/plain": [
       "[0.11126305162906647, 0.9818000197410583]"
      ]
     },
     "execution_count": 31,
     "metadata": {},
     "output_type": "execute_result"
    }
   ],
   "source": [
    "# 建立神經層 784-300-300-300-10，隱藏層使用relu，輸出層使用softmax\n",
    "aModel= keras.Sequential([\n",
    "    keras.Input(28*28),\n",
    "    keras.layers.Dense(300, activation= 'relu'), \n",
    "    keras.layers.Dense(300,  activation= 'relu'), \n",
    "    keras.layers.Dense(300,  activation= 'relu'), \n",
    "    keras.layers.Dense(10,  activation= 'softmax')\n",
    "    ])\n",
    "\n",
    "#編譯模型\n",
    "aModel.compile(\n",
    "    loss=     'sparse_categorical_crossentropy',\n",
    "    metrics= ['accuracy']\n",
    "    )\n",
    "\n",
    "#訓練模型(訓練週期10、批次尺寸100)\n",
    "aModel.fit(xr1, yr, \n",
    "           epochs= 10, \n",
    "           batch_size= 100)\n",
    "\n",
    "#評估準確度\n",
    "aModel.evaluate(xt1, yt)"
   ]
  },
  {
   "cell_type": "code",
   "execution_count": 32,
   "id": "ef4e211b-958f-4866-aa89-69d432b90f55",
   "metadata": {},
   "outputs": [
    {
     "name": "stdout",
     "output_type": "stream",
     "text": [
      "Epoch 1/10\n",
      "600/600 [==============================] - 4s 6ms/step - loss: 0.2375 - accuracy: 0.9264\n",
      "Epoch 2/10\n",
      "600/600 [==============================] - 4s 6ms/step - loss: 0.0919 - accuracy: 0.9722\n",
      "Epoch 3/10\n",
      "600/600 [==============================] - 4s 7ms/step - loss: 0.0626 - accuracy: 0.9808\n",
      "Epoch 4/10\n",
      "600/600 [==============================] - 4s 7ms/step - loss: 0.0465 - accuracy: 0.9856\n",
      "Epoch 5/10\n",
      "600/600 [==============================] - 4s 7ms/step - loss: 0.0356 - accuracy: 0.9894\n",
      "Epoch 6/10\n",
      "600/600 [==============================] - 4s 6ms/step - loss: 0.0292 - accuracy: 0.9912\n",
      "Epoch 7/10\n",
      "600/600 [==============================] - 4s 7ms/step - loss: 0.0244 - accuracy: 0.9924\n",
      "Epoch 8/10\n",
      "600/600 [==============================] - 4s 7ms/step - loss: 0.0206 - accuracy: 0.9941\n",
      "Epoch 9/10\n",
      "600/600 [==============================] - 4s 7ms/step - loss: 0.0189 - accuracy: 0.9942\n",
      "Epoch 10/10\n",
      "600/600 [==============================] - 4s 7ms/step - loss: 0.0157 - accuracy: 0.9954\n",
      "313/313 [==============================] - 1s 2ms/step - loss: 0.1178 - accuracy: 0.9802\n"
     ]
    },
    {
     "data": {
      "text/plain": [
       "[0.11780104786157608, 0.9801999926567078]"
      ]
     },
     "execution_count": 32,
     "metadata": {},
     "output_type": "execute_result"
    }
   ],
   "source": [
    "# 建立神經層 784-400-300-50-10，隱藏層使用relu，輸出層使用softmax\n",
    "aModel= keras.Sequential([\n",
    "    keras.Input(28*28),\n",
    "    keras.layers.Dense(400, activation= 'relu'), \n",
    "    keras.layers.Dense(300,  activation= 'relu'), \n",
    "    keras.layers.Dense(50,  activation= 'relu'), \n",
    "    keras.layers.Dense(10,  activation= 'softmax')\n",
    "    ])\n",
    "\n",
    "#編譯模型\n",
    "aModel.compile(\n",
    "    loss=     'sparse_categorical_crossentropy',\n",
    "    metrics= ['accuracy']\n",
    "    )\n",
    "\n",
    "#訓練模型(訓練週期10、批次尺寸100)\n",
    "aModel.fit(xr1, yr, \n",
    "           epochs= 10, \n",
    "           batch_size= 100)\n",
    "\n",
    "#評估準確度\n",
    "aModel.evaluate(xt1, yt)"
   ]
  },
  {
   "cell_type": "code",
   "execution_count": 34,
   "id": "d78374e3-71bc-4708-a9d3-f57566ada33c",
   "metadata": {},
   "outputs": [
    {
     "name": "stdout",
     "output_type": "stream",
     "text": [
      "Epoch 1/10\n",
      "600/600 [==============================] - 5s 8ms/step - loss: 0.2398 - accuracy: 0.9293\n",
      "Epoch 2/10\n",
      "600/600 [==============================] - 4s 7ms/step - loss: 0.0853 - accuracy: 0.9743\n",
      "Epoch 3/10\n",
      "600/600 [==============================] - 4s 7ms/step - loss: 0.0571 - accuracy: 0.9824\n",
      "Epoch 4/10\n",
      "600/600 [==============================] - 4s 7ms/step - loss: 0.0408 - accuracy: 0.9872\n",
      "Epoch 5/10\n",
      "600/600 [==============================] - 5s 8ms/step - loss: 0.0306 - accuracy: 0.9904\n",
      "Epoch 6/10\n",
      "600/600 [==============================] - 5s 8ms/step - loss: 0.0246 - accuracy: 0.9920\n",
      "Epoch 7/10\n",
      "600/600 [==============================] - 4s 7ms/step - loss: 0.0185 - accuracy: 0.9942\n",
      "Epoch 8/10\n",
      "600/600 [==============================] - 5s 8ms/step - loss: 0.0162 - accuracy: 0.9951\n",
      "Epoch 9/10\n",
      "600/600 [==============================] - 5s 8ms/step - loss: 0.0130 - accuracy: 0.9962\n",
      "Epoch 10/10\n",
      "600/600 [==============================] - 5s 8ms/step - loss: 0.0106 - accuracy: 0.9965\n",
      "313/313 [==============================] - 1s 2ms/step - loss: 0.1092 - accuracy: 0.9809: 0s - loss: 0.1229 - accuracy: 0.97 - ETA: 0s - loss: 0.1124 - accuracy: \n"
     ]
    },
    {
     "data": {
      "text/plain": [
       "[0.10923237353563309, 0.98089998960495]"
      ]
     },
     "execution_count": 34,
     "metadata": {},
     "output_type": "execute_result"
    }
   ],
   "source": [
    "# 建立神經層 784-500-200-50，隱藏層使用relu，輸出層使用softmax\n",
    "aModel= keras.Sequential([\n",
    "    keras.Input(28*28),\n",
    "    keras.layers.Dense(500, activation= 'relu'), \n",
    "    keras.layers.Dense(200,  activation= 'relu'), \n",
    "    keras.layers.Dense(50,  activation= 'softmax')\n",
    "    ])\n",
    "\n",
    "#編譯模型\n",
    "aModel.compile(\n",
    "    loss=     'sparse_categorical_crossentropy',\n",
    "    metrics= ['accuracy']\n",
    "    )\n",
    "\n",
    "#訓練模型(訓練週期10、批次尺寸100)\n",
    "aModel.fit(xr1, yr, \n",
    "           epochs= 10, \n",
    "           batch_size= 100)\n",
    "\n",
    "#評估準確度\n",
    "aModel.evaluate(xt1, yt)"
   ]
  },
  {
   "cell_type": "markdown",
   "id": "14a84762-6800-4f80-b080-721b050d1d8b",
   "metadata": {},
   "source": [
    "嘗試到這邊，已觀察出添加隱藏層數，似乎不太影響最終準確度(即使神經元數量更多、結構更複雜)\n",
    "\n",
    "因此考量更簡單的結構，再看看要不要回歸一開始的雙層隱藏層結構進行訓練"
   ]
  },
  {
   "cell_type": "code",
   "execution_count": 35,
   "id": "a2a41c5e-ce93-4e10-8f17-424086ad0160",
   "metadata": {},
   "outputs": [
    {
     "name": "stdout",
     "output_type": "stream",
     "text": [
      "Epoch 1/10\n",
      "600/600 [==============================] - 4s 7ms/step - loss: 0.2464 - accuracy: 0.9285\n",
      "Epoch 2/10\n",
      "600/600 [==============================] - 4s 7ms/step - loss: 0.0983 - accuracy: 0.9710\n",
      "Epoch 3/10\n",
      "600/600 [==============================] - 4s 7ms/step - loss: 0.0644 - accuracy: 0.9805\n",
      "Epoch 4/10\n",
      "600/600 [==============================] - 4s 6ms/step - loss: 0.0471 - accuracy: 0.9857\n",
      "Epoch 5/10\n",
      "600/600 [==============================] - 4s 7ms/step - loss: 0.0357 - accuracy: 0.9894\n",
      "Epoch 6/10\n",
      "600/600 [==============================] - 4s 7ms/step - loss: 0.0275 - accuracy: 0.9917\n",
      "Epoch 7/10\n",
      "600/600 [==============================] - 4s 6ms/step - loss: 0.0207 - accuracy: 0.9942\n",
      "Epoch 8/10\n",
      "600/600 [==============================] - 4s 6ms/step - loss: 0.0159 - accuracy: 0.9952\n",
      "Epoch 9/10\n",
      "600/600 [==============================] - 4s 7ms/step - loss: 0.0127 - accuracy: 0.9962\n",
      "Epoch 10/10\n",
      "600/600 [==============================] - 4s 7ms/step - loss: 0.0097 - accuracy: 0.9972\n",
      "313/313 [==============================] - 1s 2ms/step - loss: 0.0851 - accuracy: 0.9795\n"
     ]
    },
    {
     "data": {
      "text/plain": [
       "[0.08505570143461227, 0.9794999957084656]"
      ]
     },
     "execution_count": 35,
     "metadata": {},
     "output_type": "execute_result"
    }
   ],
   "source": [
    "# 建立神經層 784-500-10，隱藏層使用relu，輸出層使用softmax\n",
    "aModel= keras.Sequential([\n",
    "    keras.Input(28*28),\n",
    "    keras.layers.Dense(500, activation= 'relu'), \n",
    "    keras.layers.Dense(10,  activation= 'softmax')\n",
    "    ])\n",
    "\n",
    "#編譯模型\n",
    "aModel.compile(\n",
    "    loss=     'sparse_categorical_crossentropy',\n",
    "    metrics= ['accuracy']\n",
    "    )\n",
    "\n",
    "#訓練模型(訓練週期10、批次尺寸100)\n",
    "aModel.fit(xr1, yr, \n",
    "           epochs= 10, \n",
    "           batch_size= 100)\n",
    "\n",
    "#評估準確度\n",
    "aModel.evaluate(xt1, yt)"
   ]
  },
  {
   "cell_type": "code",
   "execution_count": 39,
   "id": "17eea953-c8e1-4701-a9f7-e0c234abeeba",
   "metadata": {},
   "outputs": [
    {
     "name": "stdout",
     "output_type": "stream",
     "text": [
      "Epoch 1/10\n",
      "600/600 [==============================] - 5s 7ms/step - loss: 0.2727 - accuracy: 0.9225\n",
      "Epoch 2/10\n",
      "600/600 [==============================] - 4s 7ms/step - loss: 0.1052 - accuracy: 0.9694\n",
      "Epoch 3/10\n",
      "600/600 [==============================] - 4s 7ms/step - loss: 0.0695 - accuracy: 0.9790\n",
      "Epoch 4/10\n",
      "600/600 [==============================] - 4s 7ms/step - loss: 0.0508 - accuracy: 0.9844\n",
      "Epoch 5/10\n",
      "600/600 [==============================] - 4s 7ms/step - loss: 0.0382 - accuracy: 0.9883\n",
      "Epoch 6/10\n",
      "600/600 [==============================] - 4s 7ms/step - loss: 0.0292 - accuracy: 0.9912\n",
      "Epoch 7/10\n",
      "600/600 [==============================] - 4s 7ms/step - loss: 0.0226 - accuracy: 0.9933\n",
      "Epoch 8/10\n",
      "600/600 [==============================] - 4s 7ms/step - loss: 0.0175 - accuracy: 0.9947\n",
      "Epoch 9/10\n",
      "600/600 [==============================] - 4s 7ms/step - loss: 0.0137 - accuracy: 0.9963\n",
      "Epoch 10/10\n",
      "600/600 [==============================] - 4s 7ms/step - loss: 0.0105 - accuracy: 0.9966\n",
      "313/313 [==============================] - 1s 2ms/step - loss: 0.0878 - accuracy: 0.9772\n"
     ]
    },
    {
     "data": {
      "text/plain": [
       "[0.08775004744529724, 0.9771999716758728]"
      ]
     },
     "execution_count": 39,
     "metadata": {},
     "output_type": "execute_result"
    }
   ],
   "source": [
    "# 建立神經層 784-500-100，隱藏層使用relu，輸出層使用softmax\n",
    "aModel= keras.Sequential([\n",
    "    keras.Input(28*28),\n",
    "    keras.layers.Dense(500, activation= 'relu'), \n",
    "    keras.layers.Dense(100,  activation= 'softmax')\n",
    "    ])\n",
    "\n",
    "#編譯模型\n",
    "aModel.compile(\n",
    "    loss=     'sparse_categorical_crossentropy',\n",
    "    metrics= ['accuracy']\n",
    "    )\n",
    "\n",
    "#訓練模型(訓練週期10、批次尺寸100)\n",
    "aModel.fit(xr1, yr, \n",
    "           epochs= 10, \n",
    "           batch_size= 100)\n",
    "\n",
    "#評估準確度\n",
    "aModel.evaluate(xt1, yt)"
   ]
  },
  {
   "cell_type": "markdown",
   "id": "7ce1142e-9ed4-41ee-9958-230da863e3a9",
   "metadata": {},
   "source": [
    "嘗試後發現單層隱藏層訓練效果仍沒有一開始的雙層結構佳。\n",
    "\n",
    "因此，確定使用雙層結構，並調配適當批次尺寸"
   ]
  },
  {
   "cell_type": "code",
   "execution_count": 40,
   "id": "1908c036-06b5-46b6-840e-f3d6ca87f597",
   "metadata": {},
   "outputs": [
    {
     "name": "stdout",
     "output_type": "stream",
     "text": [
      "Epoch 1/10\n",
      "400/400 [==============================] - 3s 7ms/step - loss: 0.2698 - accuracy: 0.9196\n",
      "Epoch 2/10\n",
      "400/400 [==============================] - 3s 7ms/step - loss: 0.0989 - accuracy: 0.9704\n",
      "Epoch 3/10\n",
      "400/400 [==============================] - 3s 7ms/step - loss: 0.0649 - accuracy: 0.9805\n",
      "Epoch 4/10\n",
      "400/400 [==============================] - 3s 7ms/step - loss: 0.0464 - accuracy: 0.9858\n",
      "Epoch 5/10\n",
      "400/400 [==============================] - 3s 7ms/step - loss: 0.0356 - accuracy: 0.9889\n",
      "Epoch 6/10\n",
      "400/400 [==============================] - 3s 7ms/step - loss: 0.0259 - accuracy: 0.9919\n",
      "Epoch 7/10\n",
      "400/400 [==============================] - 3s 7ms/step - loss: 0.0203 - accuracy: 0.9936\n",
      "Epoch 8/10\n",
      "400/400 [==============================] - 3s 8ms/step - loss: 0.0152 - accuracy: 0.9947\n",
      "Epoch 9/10\n",
      "400/400 [==============================] - 3s 8ms/step - loss: 0.0124 - accuracy: 0.9963\n",
      "Epoch 10/10\n",
      "400/400 [==============================] - 3s 7ms/step - loss: 0.0101 - accuracy: 0.9969\n",
      "313/313 [==============================] - 1s 2ms/step - loss: 0.0773 - accuracy: 0.9826\n"
     ]
    },
    {
     "data": {
      "text/plain": [
       "[0.07733574509620667, 0.9825999736785889]"
      ]
     },
     "execution_count": 40,
     "metadata": {},
     "output_type": "execute_result"
    }
   ],
   "source": [
    "# 建立神經層 784-500-50-10，隱藏層使用relu，輸出層使用softmax\n",
    "aModel= keras.Sequential([\n",
    "    keras.Input(28*28),\n",
    "    keras.layers.Dense(500, activation= 'relu'), \n",
    "    keras.layers.Dense(50,  activation= 'relu'), \n",
    "    keras.layers.Dense(10,  activation= 'softmax')\n",
    "    ])\n",
    "\n",
    "#編譯模型\n",
    "aModel.compile(\n",
    "    loss=     'sparse_categorical_crossentropy',\n",
    "    metrics= ['accuracy']\n",
    "    )\n",
    "\n",
    "#訓練模型(訓練週期10、批次尺寸150)\n",
    "aModel.fit(xr1, yr, \n",
    "           epochs= 10, \n",
    "           batch_size= 150)\n",
    "\n",
    "#評估準確度\n",
    "aModel.evaluate(xt1, yt)"
   ]
  },
  {
   "cell_type": "code",
   "execution_count": 41,
   "id": "8b84dbc7-9f2e-446c-906f-2d3f42c546ca",
   "metadata": {},
   "outputs": [
    {
     "name": "stdout",
     "output_type": "stream",
     "text": [
      "Epoch 1/10\n",
      "150/150 [==============================] - 2s 10ms/step - loss: 0.3806 - accuracy: 0.8882\n",
      "Epoch 2/10\n",
      "150/150 [==============================] - 2s 11ms/step - loss: 0.1437 - accuracy: 0.9572\n",
      "Epoch 3/10\n",
      "150/150 [==============================] - 2s 10ms/step - loss: 0.0936 - accuracy: 0.9718\n",
      "Epoch 4/10\n",
      "150/150 [==============================] - 2s 10ms/step - loss: 0.0667 - accuracy: 0.9801\n",
      "Epoch 5/10\n",
      "150/150 [==============================] - 2s 10ms/step - loss: 0.0493 - accuracy: 0.9851\n",
      "Epoch 6/10\n",
      "150/150 [==============================] - 1s 10ms/step - loss: 0.0384 - accuracy: 0.9883\n",
      "Epoch 7/10\n",
      "150/150 [==============================] - 2s 10ms/step - loss: 0.0288 - accuracy: 0.9914\n",
      "Epoch 8/10\n",
      "150/150 [==============================] - 1s 10ms/step - loss: 0.0225 - accuracy: 0.9932\n",
      "Epoch 9/10\n",
      "150/150 [==============================] - 1s 10ms/step - loss: 0.0169 - accuracy: 0.9952\n",
      "Epoch 10/10\n",
      "150/150 [==============================] - 1s 10ms/step - loss: 0.0139 - accuracy: 0.9960\n",
      "313/313 [==============================] - 1s 2ms/step - loss: 0.0769 - accuracy: 0.9788\n"
     ]
    },
    {
     "data": {
      "text/plain": [
       "[0.07685786485671997, 0.9787999987602234]"
      ]
     },
     "execution_count": 41,
     "metadata": {},
     "output_type": "execute_result"
    }
   ],
   "source": [
    "# 建立神經層 784-500-50-10，隱藏層使用relu，輸出層使用softmax\n",
    "aModel= keras.Sequential([\n",
    "    keras.Input(28*28),\n",
    "    keras.layers.Dense(500, activation= 'relu'), \n",
    "    keras.layers.Dense(50,  activation= 'relu'), \n",
    "    keras.layers.Dense(10,  activation= 'softmax')\n",
    "    ])\n",
    "\n",
    "#編譯模型\n",
    "aModel.compile(\n",
    "    loss=     'sparse_categorical_crossentropy',\n",
    "    metrics= ['accuracy']\n",
    "    )\n",
    "\n",
    "#訓練模型(訓練週期10、批次尺寸400)\n",
    "aModel.fit(xr1, yr, \n",
    "           epochs= 10, \n",
    "           batch_size= 400)\n",
    "\n",
    "#評估準確度\n",
    "aModel.evaluate(xt1, yt)"
   ]
  },
  {
   "cell_type": "code",
   "execution_count": 42,
   "id": "bad750cb-b11c-47f0-9186-df8b4be0295f",
   "metadata": {},
   "outputs": [
    {
     "name": "stdout",
     "output_type": "stream",
     "text": [
      "Epoch 1/10\n",
      "200/200 [==============================] - 2s 9ms/step - loss: 0.3233 - accuracy: 0.9054\n",
      "Epoch 2/10\n",
      "200/200 [==============================] - 2s 9ms/step - loss: 0.1246 - accuracy: 0.9625\n",
      "Epoch 3/10\n",
      "200/200 [==============================] - 2s 9ms/step - loss: 0.0803 - accuracy: 0.9760\n",
      "Epoch 4/10\n",
      "200/200 [==============================] - 2s 9ms/step - loss: 0.0578 - accuracy: 0.9819\n",
      "Epoch 5/10\n",
      "200/200 [==============================] - 2s 9ms/step - loss: 0.0429 - accuracy: 0.9868\n",
      "Epoch 6/10\n",
      "200/200 [==============================] - 2s 9ms/step - loss: 0.0323 - accuracy: 0.9902\n",
      "Epoch 7/10\n",
      "200/200 [==============================] - 2s 9ms/step - loss: 0.0248 - accuracy: 0.9926\n",
      "Epoch 8/10\n",
      "200/200 [==============================] - 2s 9ms/step - loss: 0.0190 - accuracy: 0.9943\n",
      "Epoch 9/10\n",
      "200/200 [==============================] - 2s 9ms/step - loss: 0.0152 - accuracy: 0.9954\n",
      "Epoch 10/10\n",
      "200/200 [==============================] - 2s 9ms/step - loss: 0.0117 - accuracy: 0.9966\n",
      "313/313 [==============================] - 1s 2ms/step - loss: 0.0688 - accuracy: 0.9826\n"
     ]
    },
    {
     "data": {
      "text/plain": [
       "[0.06876298040151596, 0.9825999736785889]"
      ]
     },
     "execution_count": 42,
     "metadata": {},
     "output_type": "execute_result"
    }
   ],
   "source": [
    "# 建立神經層 784-500-50-10，隱藏層使用relu，輸出層使用softmax\n",
    "aModel= keras.Sequential([\n",
    "    keras.Input(28*28),\n",
    "    keras.layers.Dense(500, activation= 'relu'), \n",
    "    keras.layers.Dense(50,  activation= 'relu'), \n",
    "    keras.layers.Dense(10,  activation= 'softmax')\n",
    "    ])\n",
    "\n",
    "#編譯模型\n",
    "aModel.compile(\n",
    "    loss=     'sparse_categorical_crossentropy',\n",
    "    metrics= ['accuracy']\n",
    "    )\n",
    "\n",
    "#訓練模型(訓練週期10、批次尺寸300)\n",
    "aModel.fit(xr1, yr, \n",
    "           epochs= 10, \n",
    "           batch_size= 300)\n",
    "\n",
    "#評估準確度\n",
    "aModel.evaluate(xt1, yt)"
   ]
  },
  {
   "cell_type": "code",
   "execution_count": 43,
   "id": "8fef2299-6bc7-4186-91f6-b432892e06e4",
   "metadata": {},
   "outputs": [
    {
     "name": "stdout",
     "output_type": "stream",
     "text": [
      "Epoch 1/10\n",
      "300/300 [==============================] - 3s 8ms/step - loss: 0.2918 - accuracy: 0.9122\n",
      "Epoch 2/10\n",
      "300/300 [==============================] - 2s 8ms/step - loss: 0.1079 - accuracy: 0.9671\n",
      "Epoch 3/10\n",
      "300/300 [==============================] - 2s 8ms/step - loss: 0.0705 - accuracy: 0.9786\n",
      "Epoch 4/10\n",
      "300/300 [==============================] - 2s 8ms/step - loss: 0.0502 - accuracy: 0.9842\n",
      "Epoch 5/10\n",
      "300/300 [==============================] - 2s 8ms/step - loss: 0.0360 - accuracy: 0.9888\n",
      "Epoch 6/10\n",
      "300/300 [==============================] - 2s 8ms/step - loss: 0.0274 - accuracy: 0.9916\n",
      "Epoch 7/10\n",
      "300/300 [==============================] - 2s 8ms/step - loss: 0.0207 - accuracy: 0.9935\n",
      "Epoch 8/10\n",
      "300/300 [==============================] - 2s 8ms/step - loss: 0.0154 - accuracy: 0.9952\n",
      "Epoch 9/10\n",
      "300/300 [==============================] - 2s 8ms/step - loss: 0.0126 - accuracy: 0.9961\n",
      "Epoch 10/10\n",
      "300/300 [==============================] - 2s 7ms/step - loss: 0.0104 - accuracy: 0.9965\n",
      "313/313 [==============================] - 1s 2ms/step - loss: 0.0782 - accuracy: 0.9808\n"
     ]
    },
    {
     "data": {
      "text/plain": [
       "[0.07815755903720856, 0.9807999730110168]"
      ]
     },
     "execution_count": 43,
     "metadata": {},
     "output_type": "execute_result"
    }
   ],
   "source": [
    "# 建立神經層 784-500-50-10，隱藏層使用relu，輸出層使用softmax\n",
    "aModel= keras.Sequential([\n",
    "    keras.Input(28*28),\n",
    "    keras.layers.Dense(500, activation= 'relu'), \n",
    "    keras.layers.Dense(50,  activation= 'relu'), \n",
    "    keras.layers.Dense(10,  activation= 'softmax')\n",
    "    ])\n",
    "\n",
    "#編譯模型\n",
    "aModel.compile(\n",
    "    loss=     'sparse_categorical_crossentropy',\n",
    "    metrics= ['accuracy']\n",
    "    )\n",
    "\n",
    "#訓練模型(訓練週期10、批次尺寸200)\n",
    "aModel.fit(xr1, yr, \n",
    "           epochs= 10, \n",
    "           batch_size= 200)\n",
    "\n",
    "#評估準確度\n",
    "aModel.evaluate(xt1, yt)"
   ]
  },
  {
   "cell_type": "markdown",
   "id": "d00feae4-e182-4000-b700-9dbc42d32804",
   "metadata": {},
   "source": [
    "心得：\n",
    "\n",
    "建立神經層 784-500-50-10，隱藏層使用relu，輸出層使用softmax\n",
    "\n",
    "訓練週期10，批次尺寸150或300，會有最佳訓練效果(0.983)\n",
    "\n",
    "並歸納以下結論：\n",
    "\n",
    "* 更深層的神經網路對準確度提升無顯著影響\n",
    "* 增加第一隱藏層神經元數目可提升準確度，但有極限值(約500)\n",
    "* 更改神經元結構後，配合適當批次尺寸的調整，可能可以讓準確度些微提升"
   ]
  },
  {
   "cell_type": "code",
   "execution_count": null,
   "id": "66c186a2-cde7-4042-9547-a0aa292ca99b",
   "metadata": {},
   "outputs": [],
   "source": []
  }
 ],
 "metadata": {
  "kernelspec": {
   "display_name": "Python 3",
   "language": "python",
   "name": "python3"
  },
  "language_info": {
   "codemirror_mode": {
    "name": "ipython",
    "version": 3
   },
   "file_extension": ".py",
   "mimetype": "text/x-python",
   "name": "python",
   "nbconvert_exporter": "python",
   "pygments_lexer": "ipython3",
   "version": "3.9.4"
  }
 },
 "nbformat": 4,
 "nbformat_minor": 5
}
