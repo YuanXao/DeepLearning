{
  "cells": [
    {
      "cell_type": "markdown",
      "source": [
        "# B0822012邱元肇 樣形識別HW5\n",
        "\n",
        "**作業要求:**\n",
        "\n",
        "上傳第五週回去自己試跑的程式與筆記就可以了\n",
        "\n",
        "**原始程式碼來源:**\n",
        "\n",
        "https://github.com/fchollet/deep-learning-with-python-notebooks\n",
        "\n",
        "chapter05_fundamentals-of-ml.ipynb\n"
      ],
      "metadata": {
        "id": "F3mnV7yweCmU"
      }
    },
    {
      "cell_type": "markdown",
      "source": [
        "**本章摘要**\n",
        "* 模型訓練上的原理與細節\n",
        "  * 加入白噪音對mnist數據準確度的影響(會降低。可取前10000高頻率字詞訓練避免極端偏差)\n",
        "  * 任意訓練資料模型都能嘗試擬合(但準確度高不代表泛化性佳，故仍需以測試資料評估)\n",
        "* 模型達不到最佳結果\n",
        "  * 設置過高學習率(無法達成理想結果)=>應適當設置\n",
        "  * 模型達不到最佳擬合結果(連過度擬合都沒出現)=>增大模型結構複雜度或神經元，使其存儲更多訊息\n",
        "* 對抗過度擬合\n",
        "  * 縮小模型體積(延緩過度擬合時間，並減緩泛化下降程度)\n",
        "  * 權重正則化：使用L1或L2，以權重納入損失函數之方式限制權重上下限\n",
        "  * Dropout層(取用一定比例的數據將其初始化，使數據增添隨機性)"
      ],
      "metadata": {
        "id": "vYYp1zmGelbs"
      }
    },
    {
      "cell_type": "markdown",
      "metadata": {
        "id": "1Z-BOxwenkxP"
      },
      "source": [
        "This is a companion notebook for the book [Deep Learning with Python, Second Edition](https://www.manning.com/books/deep-learning-with-python-second-edition?a_aid=keras&a_bid=76564dff). For readability, it only contains runnable code blocks and section titles, and omits everything else in the book: text paragraphs, figures, and pseudocode.\n",
        "\n",
        "**If you want to be able to follow what's going on, I recommend reading the notebook side by side with your copy of the book.**\n",
        "\n",
        "This notebook was generated for TensorFlow 2.6."
      ]
    },
    {
      "cell_type": "markdown",
      "metadata": {
        "id": "_OnEms08nkxS"
      },
      "source": [
        "# Fundamentals of machine learning"
      ]
    },
    {
      "cell_type": "markdown",
      "metadata": {
        "id": "JlmDyMwPnkxT"
      },
      "source": [
        "## Generalization: The goal of machine learning"
      ]
    },
    {
      "cell_type": "markdown",
      "metadata": {
        "id": "RP9AQPqwnkxT"
      },
      "source": [
        "### Underfitting and overfitting"
      ]
    },
    {
      "cell_type": "markdown",
      "metadata": {
        "id": "Nf87riy4nkxT"
      },
      "source": [
        "#### Noisy training data"
      ]
    },
    {
      "cell_type": "markdown",
      "metadata": {
        "id": "B3M3Th97nkxU"
      },
      "source": [
        "#### Ambiguous features"
      ]
    },
    {
      "cell_type": "markdown",
      "metadata": {
        "id": "tW12O-f_nkxU"
      },
      "source": [
        "#### Rare features and spurious correlations"
      ]
    },
    {
      "cell_type": "markdown",
      "metadata": {
        "id": "jZPk9PEnnkxU"
      },
      "source": [
        "**Adding white-noise channels or all-zeros channels to MNIST**\n",
        "\n",
        "**讀取mnist數據集，並加入噪音**"
      ]
    },
    {
      "cell_type": "code",
      "execution_count": null,
      "metadata": {
        "colab": {
          "base_uri": "https://localhost:8080/"
        },
        "id": "pVlNCp45nkxV",
        "outputId": "ab55e7f0-40a6-480d-d728-dd42f962a7f4"
      },
      "outputs": [
        {
          "output_type": "stream",
          "name": "stdout",
          "text": [
            "Downloading data from https://storage.googleapis.com/tensorflow/tf-keras-datasets/mnist.npz\n",
            "11490434/11490434 [==============================] - 0s 0us/step\n"
          ]
        }
      ],
      "source": [
        "from tensorflow.keras.datasets import mnist\n",
        "import numpy as np\n",
        "\n",
        "(train_images, train_labels), _ = mnist.load_data()\n",
        "train_images = train_images.reshape((60000, 28 * 28))\n",
        "train_images = train_images.astype(\"float32\") / 255\n",
        "\n",
        "# 噪音\n",
        "train_images_with_noise_channels = np.concatenate(\n",
        "    [train_images, np.random.random((len(train_images), 784))], axis=1)\n",
        "\n",
        "# 零噪音\n",
        "train_images_with_zeros_channels = np.concatenate(\n",
        "    [train_images, np.zeros((len(train_images), 784))], axis=1)"
      ]
    },
    {
      "cell_type": "code",
      "source": [
        "train_images"
      ],
      "metadata": {
        "colab": {
          "base_uri": "https://localhost:8080/"
        },
        "id": "_zFnmhdP8CVZ",
        "outputId": "d75e6c4b-87b0-4b32-b830-7614b4b54e5f"
      },
      "execution_count": null,
      "outputs": [
        {
          "output_type": "execute_result",
          "data": {
            "text/plain": [
              "array([[0., 0., 0., ..., 0., 0., 0.],\n",
              "       [0., 0., 0., ..., 0., 0., 0.],\n",
              "       [0., 0., 0., ..., 0., 0., 0.],\n",
              "       ...,\n",
              "       [0., 0., 0., ..., 0., 0., 0.],\n",
              "       [0., 0., 0., ..., 0., 0., 0.],\n",
              "       [0., 0., 0., ..., 0., 0., 0.]], dtype=float32)"
            ]
          },
          "metadata": {},
          "execution_count": 8
        }
      ]
    },
    {
      "cell_type": "code",
      "source": [
        "train_images_with_noise_channels"
      ],
      "metadata": {
        "colab": {
          "base_uri": "https://localhost:8080/"
        },
        "id": "T9o0PXuW76GE",
        "outputId": "19e02e42-c2cc-406b-bb57-252392d087bb"
      },
      "execution_count": null,
      "outputs": [
        {
          "output_type": "execute_result",
          "data": {
            "text/plain": [
              "array([[0.        , 0.        , 0.        , ..., 0.96498778, 0.67332145,\n",
              "        0.52829696],\n",
              "       [0.        , 0.        , 0.        , ..., 0.78744225, 0.61874876,\n",
              "        0.85970177],\n",
              "       [0.        , 0.        , 0.        , ..., 0.68470674, 0.11706191,\n",
              "        0.42525545],\n",
              "       ...,\n",
              "       [0.        , 0.        , 0.        , ..., 0.43851895, 0.85692664,\n",
              "        0.89222317],\n",
              "       [0.        , 0.        , 0.        , ..., 0.81975925, 0.58491714,\n",
              "        0.29321799],\n",
              "       [0.        , 0.        , 0.        , ..., 0.00842105, 0.70057481,\n",
              "        0.25990934]])"
            ]
          },
          "metadata": {},
          "execution_count": 2
        }
      ]
    },
    {
      "cell_type": "code",
      "source": [
        "train_images_with_zeros_channels"
      ],
      "metadata": {
        "colab": {
          "base_uri": "https://localhost:8080/"
        },
        "id": "puXBJJ4x8FJr",
        "outputId": "cb475c35-3b3a-4c5d-dc6d-c66e462a3c7c"
      },
      "execution_count": null,
      "outputs": [
        {
          "output_type": "execute_result",
          "data": {
            "text/plain": [
              "array([[0., 0., 0., ..., 0., 0., 0.],\n",
              "       [0., 0., 0., ..., 0., 0., 0.],\n",
              "       [0., 0., 0., ..., 0., 0., 0.],\n",
              "       ...,\n",
              "       [0., 0., 0., ..., 0., 0., 0.],\n",
              "       [0., 0., 0., ..., 0., 0., 0.],\n",
              "       [0., 0., 0., ..., 0., 0., 0.]])"
            ]
          },
          "metadata": {},
          "execution_count": 4
        }
      ]
    },
    {
      "cell_type": "markdown",
      "metadata": {
        "id": "JLwyvEEvnkxW"
      },
      "source": [
        "**Training the same model on MNIST data with noise channels or all-zero channels**"
      ]
    },
    {
      "cell_type": "code",
      "execution_count": null,
      "metadata": {
        "colab": {
          "base_uri": "https://localhost:8080/"
        },
        "id": "0N9Zge40nkxW",
        "outputId": "46d2b1ce-09a6-4b73-fcf4-4a76da286f4d"
      },
      "outputs": [
        {
          "output_type": "stream",
          "name": "stdout",
          "text": [
            "Epoch 1/10\n",
            "375/375 [==============================] - 6s 7ms/step - loss: 0.6340 - accuracy: 0.8116 - val_loss: 0.2854 - val_accuracy: 0.9154\n",
            "Epoch 2/10\n",
            "375/375 [==============================] - 2s 5ms/step - loss: 0.2474 - accuracy: 0.9239 - val_loss: 0.1787 - val_accuracy: 0.9455\n",
            "Epoch 3/10\n",
            "375/375 [==============================] - 1s 3ms/step - loss: 0.1586 - accuracy: 0.9500 - val_loss: 0.1408 - val_accuracy: 0.9577\n",
            "Epoch 4/10\n",
            "375/375 [==============================] - 1s 4ms/step - loss: 0.1152 - accuracy: 0.9644 - val_loss: 0.1310 - val_accuracy: 0.9607\n",
            "Epoch 5/10\n",
            "375/375 [==============================] - 1s 3ms/step - loss: 0.0830 - accuracy: 0.9736 - val_loss: 0.1479 - val_accuracy: 0.9596\n",
            "Epoch 6/10\n",
            "375/375 [==============================] - 1s 4ms/step - loss: 0.0616 - accuracy: 0.9797 - val_loss: 0.1439 - val_accuracy: 0.9585\n",
            "Epoch 7/10\n",
            "375/375 [==============================] - 1s 3ms/step - loss: 0.0453 - accuracy: 0.9855 - val_loss: 0.1206 - val_accuracy: 0.9680\n",
            "Epoch 8/10\n",
            "375/375 [==============================] - 1s 3ms/step - loss: 0.0337 - accuracy: 0.9888 - val_loss: 0.1414 - val_accuracy: 0.9621\n",
            "Epoch 9/10\n",
            "375/375 [==============================] - 1s 3ms/step - loss: 0.0260 - accuracy: 0.9918 - val_loss: 0.1816 - val_accuracy: 0.9562\n",
            "Epoch 10/10\n",
            "375/375 [==============================] - 1s 3ms/step - loss: 0.0223 - accuracy: 0.9931 - val_loss: 0.1348 - val_accuracy: 0.9685\n",
            "Epoch 1/10\n",
            "375/375 [==============================] - 2s 4ms/step - loss: 0.2882 - accuracy: 0.9163 - val_loss: 0.1660 - val_accuracy: 0.9542\n",
            "Epoch 2/10\n",
            "375/375 [==============================] - 1s 4ms/step - loss: 0.1213 - accuracy: 0.9642 - val_loss: 0.1196 - val_accuracy: 0.9631\n",
            "Epoch 3/10\n",
            "375/375 [==============================] - 1s 3ms/step - loss: 0.0802 - accuracy: 0.9769 - val_loss: 0.1007 - val_accuracy: 0.9706\n",
            "Epoch 4/10\n",
            "375/375 [==============================] - 1s 3ms/step - loss: 0.0581 - accuracy: 0.9830 - val_loss: 0.0890 - val_accuracy: 0.9749\n",
            "Epoch 5/10\n",
            "375/375 [==============================] - 1s 3ms/step - loss: 0.0419 - accuracy: 0.9875 - val_loss: 0.0816 - val_accuracy: 0.9778\n",
            "Epoch 6/10\n",
            "375/375 [==============================] - 1s 3ms/step - loss: 0.0326 - accuracy: 0.9906 - val_loss: 0.0891 - val_accuracy: 0.9741\n",
            "Epoch 7/10\n",
            "375/375 [==============================] - 1s 3ms/step - loss: 0.0246 - accuracy: 0.9928 - val_loss: 0.0868 - val_accuracy: 0.9767\n",
            "Epoch 8/10\n",
            "375/375 [==============================] - 1s 4ms/step - loss: 0.0186 - accuracy: 0.9945 - val_loss: 0.0804 - val_accuracy: 0.9783\n",
            "Epoch 9/10\n",
            "375/375 [==============================] - 1s 3ms/step - loss: 0.0146 - accuracy: 0.9959 - val_loss: 0.0818 - val_accuracy: 0.9787\n",
            "Epoch 10/10\n",
            "375/375 [==============================] - 1s 4ms/step - loss: 0.0110 - accuracy: 0.9967 - val_loss: 0.0777 - val_accuracy: 0.9803\n"
          ]
        }
      ],
      "source": [
        "from tensorflow import keras\n",
        "from tensorflow.keras import layers\n",
        "\n",
        "def get_model():\n",
        "    model = keras.Sequential([\n",
        "        layers.Dense(512, activation=\"relu\"),\n",
        "        layers.Dense(10, activation=\"softmax\")\n",
        "    ])\n",
        "    model.compile(optimizer=\"rmsprop\",\n",
        "                  loss=\"sparse_categorical_crossentropy\",\n",
        "                  metrics=[\"accuracy\"])\n",
        "    return model\n",
        "\n",
        "model = get_model()\n",
        "history_noise = model.fit(\n",
        "    train_images_with_noise_channels, train_labels,\n",
        "    epochs=10,\n",
        "    batch_size=128,\n",
        "    validation_split=0.2)\n",
        "\n",
        "model = get_model()\n",
        "history_zeros = model.fit(\n",
        "    train_images_with_zeros_channels, train_labels,\n",
        "    epochs=10,\n",
        "    batch_size=128,\n",
        "    validation_split=0.2)"
      ]
    },
    {
      "cell_type": "markdown",
      "metadata": {
        "id": "RLmCtq-LnkxX"
      },
      "source": [
        "**Plotting a validation accuracy comparison**\n",
        "\n",
        "**繪圖後發現，加入噪音的數據使最終訓練準確率降低，因為噪音本身提供了部分錯誤的相關性訊息使其擬合無法完全理想。此外，CH4在一開始挑出10000的最高頻率出現的單字，也是為了避免訊息資訊的偏差。**"
      ]
    },
    {
      "cell_type": "code",
      "execution_count": null,
      "metadata": {
        "colab": {
          "base_uri": "https://localhost:8080/",
          "height": 312
        },
        "id": "EU8s64WMnkxX",
        "outputId": "7b0b2efe-3cce-45cd-bcbb-55d7c0dc98b4"
      },
      "outputs": [
        {
          "output_type": "execute_result",
          "data": {
            "text/plain": [
              "<matplotlib.legend.Legend at 0x7fd9405036d0>"
            ]
          },
          "metadata": {},
          "execution_count": 3
        },
        {
          "output_type": "display_data",
          "data": {
            "text/plain": [
              "<Figure size 432x288 with 1 Axes>"
            ],
            "image/png": "[encoded data removed]"
          },
          "metadata": {
            "needs_background": "light"
          }
        }
      ],
      "source": [
        "import matplotlib.pyplot as plt\n",
        "val_acc_noise = history_noise.history[\"val_accuracy\"]\n",
        "val_acc_zeros = history_zeros.history[\"val_accuracy\"]\n",
        "epochs = range(1, 11)\n",
        "plt.plot(epochs, val_acc_noise, \"b-\",\n",
        "         label=\"Validation accuracy with noise channels\")\n",
        "plt.plot(epochs, val_acc_zeros, \"b--\",\n",
        "         label=\"Validation accuracy with zeros channels\")\n",
        "plt.title(\"Effect of noise channels on validation accuracy\")\n",
        "plt.xlabel(\"Epochs\")\n",
        "plt.ylabel(\"Accuracy\")\n",
        "plt.legend()"
      ]
    },
    {
      "cell_type": "markdown",
      "metadata": {
        "id": "HeBRC3SXnkxX"
      },
      "source": [
        "### The nature of generalization in deep learning"
      ]
    },
    {
      "cell_type": "markdown",
      "metadata": {
        "id": "P5uc7z65nkxX"
      },
      "source": [
        "**Fitting a MNIST model with randomly shuffled labels**\n",
        "\n",
        "**使用完全隨機之標籤訓練資料，仍有不差的訓練準確率，是因為模型能自行尋找訓練數據集的規律；但驗證準確率極糟，因為模型早已過度擬合，泛化性亦極差**"
      ]
    },
    {
      "cell_type": "code",
      "execution_count": null,
      "metadata": {
        "colab": {
          "base_uri": "https://localhost:8080/"
        },
        "id": "oyE2OPJDnkxY",
        "outputId": "9a762cf9-5d03-4f9e-ed0d-1e26d1108242"
      },
      "outputs": [
        {
          "output_type": "stream",
          "name": "stdout",
          "text": [
            "Epoch 1/100\n",
            "375/375 [==============================] - 2s 3ms/step - loss: 2.3189 - accuracy: 0.1026 - val_loss: 2.3067 - val_accuracy: 0.0978\n",
            "Epoch 2/100\n",
            "375/375 [==============================] - 1s 3ms/step - loss: 2.3003 - accuracy: 0.1159 - val_loss: 2.3115 - val_accuracy: 0.1040\n",
            "Epoch 3/100\n",
            "375/375 [==============================] - 1s 3ms/step - loss: 2.2924 - accuracy: 0.1242 - val_loss: 2.3192 - val_accuracy: 0.0972\n",
            "Epoch 4/100\n",
            "375/375 [==============================] - 1s 3ms/step - loss: 2.2792 - accuracy: 0.1376 - val_loss: 2.3278 - val_accuracy: 0.1037\n",
            "Epoch 5/100\n",
            "375/375 [==============================] - 1s 3ms/step - loss: 2.2614 - accuracy: 0.1530 - val_loss: 2.3378 - val_accuracy: 0.0993\n",
            "Epoch 6/100\n",
            "375/375 [==============================] - 1s 3ms/step - loss: 2.2407 - accuracy: 0.1674 - val_loss: 2.3454 - val_accuracy: 0.1028\n",
            "Epoch 7/100\n",
            "375/375 [==============================] - 1s 3ms/step - loss: 2.2166 - accuracy: 0.1811 - val_loss: 2.3638 - val_accuracy: 0.1031\n",
            "Epoch 8/100\n",
            "375/375 [==============================] - 1s 3ms/step - loss: 2.1892 - accuracy: 0.1988 - val_loss: 2.3833 - val_accuracy: 0.0986\n",
            "Epoch 9/100\n",
            "375/375 [==============================] - 1s 3ms/step - loss: 2.1614 - accuracy: 0.2136 - val_loss: 2.4036 - val_accuracy: 0.1002\n",
            "Epoch 10/100\n",
            "375/375 [==============================] - 1s 4ms/step - loss: 2.1305 - accuracy: 0.2286 - val_loss: 2.4189 - val_accuracy: 0.0992\n",
            "Epoch 11/100\n",
            "375/375 [==============================] - 1s 3ms/step - loss: 2.0972 - accuracy: 0.2434 - val_loss: 2.4464 - val_accuracy: 0.1001\n",
            "Epoch 12/100\n",
            "375/375 [==============================] - 1s 3ms/step - loss: 2.0643 - accuracy: 0.2597 - val_loss: 2.4707 - val_accuracy: 0.1048\n",
            "Epoch 13/100\n",
            "375/375 [==============================] - 1s 3ms/step - loss: 2.0274 - accuracy: 0.2781 - val_loss: 2.5132 - val_accuracy: 0.1003\n",
            "Epoch 14/100\n",
            "375/375 [==============================] - 1s 3ms/step - loss: 1.9947 - accuracy: 0.2901 - val_loss: 2.5336 - val_accuracy: 0.0996\n",
            "Epoch 15/100\n",
            "375/375 [==============================] - 1s 3ms/step - loss: 1.9586 - accuracy: 0.3072 - val_loss: 2.5747 - val_accuracy: 0.0994\n",
            "Epoch 16/100\n",
            "375/375 [==============================] - 1s 3ms/step - loss: 1.9245 - accuracy: 0.3204 - val_loss: 2.5934 - val_accuracy: 0.1025\n",
            "Epoch 17/100\n",
            "375/375 [==============================] - 1s 3ms/step - loss: 1.8909 - accuracy: 0.3348 - val_loss: 2.6283 - val_accuracy: 0.1004\n",
            "Epoch 18/100\n",
            "375/375 [==============================] - 1s 3ms/step - loss: 1.8571 - accuracy: 0.3452 - val_loss: 2.6709 - val_accuracy: 0.1003\n",
            "Epoch 19/100\n",
            "375/375 [==============================] - 1s 3ms/step - loss: 1.8237 - accuracy: 0.3613 - val_loss: 2.7064 - val_accuracy: 0.1010\n",
            "Epoch 20/100\n",
            "375/375 [==============================] - 1s 3ms/step - loss: 1.7919 - accuracy: 0.3733 - val_loss: 2.7369 - val_accuracy: 0.1044\n",
            "Epoch 21/100\n",
            "375/375 [==============================] - 1s 3ms/step - loss: 1.7602 - accuracy: 0.3851 - val_loss: 2.7776 - val_accuracy: 0.1002\n",
            "Epoch 22/100\n",
            "375/375 [==============================] - 1s 3ms/step - loss: 1.7279 - accuracy: 0.3989 - val_loss: 2.8197 - val_accuracy: 0.1041\n",
            "Epoch 23/100\n",
            "375/375 [==============================] - 1s 3ms/step - loss: 1.6979 - accuracy: 0.4097 - val_loss: 2.8483 - val_accuracy: 0.1040\n",
            "Epoch 24/100\n",
            "375/375 [==============================] - 1s 3ms/step - loss: 1.6672 - accuracy: 0.4231 - val_loss: 2.8796 - val_accuracy: 0.1046\n",
            "Epoch 25/100\n",
            "375/375 [==============================] - 1s 3ms/step - loss: 1.6384 - accuracy: 0.4333 - val_loss: 2.9573 - val_accuracy: 0.1004\n",
            "Epoch 26/100\n",
            "375/375 [==============================] - 1s 3ms/step - loss: 1.6107 - accuracy: 0.4434 - val_loss: 2.9717 - val_accuracy: 0.1023\n",
            "Epoch 27/100\n",
            "375/375 [==============================] - 1s 3ms/step - loss: 1.5837 - accuracy: 0.4544 - val_loss: 3.0049 - val_accuracy: 0.1037\n",
            "Epoch 28/100\n",
            "375/375 [==============================] - 1s 3ms/step - loss: 1.5546 - accuracy: 0.4624 - val_loss: 3.0511 - val_accuracy: 0.1035\n",
            "Epoch 29/100\n",
            "375/375 [==============================] - 1s 3ms/step - loss: 1.5290 - accuracy: 0.4735 - val_loss: 3.1017 - val_accuracy: 0.0993\n",
            "Epoch 30/100\n",
            "375/375 [==============================] - 1s 3ms/step - loss: 1.5038 - accuracy: 0.4836 - val_loss: 3.1380 - val_accuracy: 0.1004\n",
            "Epoch 31/100\n",
            "375/375 [==============================] - 1s 3ms/step - loss: 1.4763 - accuracy: 0.4919 - val_loss: 3.1987 - val_accuracy: 0.1011\n",
            "Epoch 32/100\n",
            "375/375 [==============================] - 1s 3ms/step - loss: 1.4498 - accuracy: 0.5041 - val_loss: 3.2274 - val_accuracy: 0.0998\n",
            "Epoch 33/100\n",
            "375/375 [==============================] - 1s 4ms/step - loss: 1.4271 - accuracy: 0.5113 - val_loss: 3.2609 - val_accuracy: 0.1001\n",
            "Epoch 34/100\n",
            "375/375 [==============================] - 2s 4ms/step - loss: 1.4019 - accuracy: 0.5222 - val_loss: 3.3180 - val_accuracy: 0.1021\n",
            "Epoch 35/100\n",
            "375/375 [==============================] - 1s 3ms/step - loss: 1.3761 - accuracy: 0.5309 - val_loss: 3.3806 - val_accuracy: 0.1011\n",
            "Epoch 36/100\n",
            "375/375 [==============================] - 1s 3ms/step - loss: 1.3555 - accuracy: 0.5380 - val_loss: 3.4280 - val_accuracy: 0.1004\n",
            "Epoch 37/100\n",
            "375/375 [==============================] - 1s 3ms/step - loss: 1.3319 - accuracy: 0.5472 - val_loss: 3.4919 - val_accuracy: 0.1039\n",
            "Epoch 38/100\n",
            "375/375 [==============================] - 1s 3ms/step - loss: 1.3112 - accuracy: 0.5533 - val_loss: 3.5069 - val_accuracy: 0.1028\n",
            "Epoch 39/100\n",
            "375/375 [==============================] - 1s 3ms/step - loss: 1.2873 - accuracy: 0.5644 - val_loss: 3.5698 - val_accuracy: 0.1017\n",
            "Epoch 40/100\n",
            "375/375 [==============================] - 1s 3ms/step - loss: 1.2673 - accuracy: 0.5704 - val_loss: 3.6286 - val_accuracy: 0.1018\n",
            "Epoch 41/100\n",
            "375/375 [==============================] - 1s 3ms/step - loss: 1.2455 - accuracy: 0.5777 - val_loss: 3.6838 - val_accuracy: 0.1003\n",
            "Epoch 42/100\n",
            "375/375 [==============================] - 1s 3ms/step - loss: 1.2233 - accuracy: 0.5857 - val_loss: 3.7285 - val_accuracy: 0.1020\n",
            "Epoch 43/100\n",
            "375/375 [==============================] - 1s 3ms/step - loss: 1.2065 - accuracy: 0.5919 - val_loss: 3.7740 - val_accuracy: 0.1023\n",
            "Epoch 44/100\n",
            "375/375 [==============================] - 1s 3ms/step - loss: 1.1848 - accuracy: 0.6002 - val_loss: 3.8425 - val_accuracy: 0.0999\n",
            "Epoch 45/100\n",
            "375/375 [==============================] - 1s 3ms/step - loss: 1.1682 - accuracy: 0.6082 - val_loss: 3.8647 - val_accuracy: 0.0989\n",
            "Epoch 46/100\n",
            "375/375 [==============================] - 1s 3ms/step - loss: 1.1478 - accuracy: 0.6130 - val_loss: 3.9344 - val_accuracy: 0.1018\n",
            "Epoch 47/100\n",
            "375/375 [==============================] - 1s 3ms/step - loss: 1.1291 - accuracy: 0.6176 - val_loss: 3.9870 - val_accuracy: 0.1024\n",
            "Epoch 48/100\n",
            "375/375 [==============================] - 1s 3ms/step - loss: 1.1125 - accuracy: 0.6255 - val_loss: 4.0549 - val_accuracy: 0.1001\n",
            "Epoch 49/100\n",
            "375/375 [==============================] - 1s 4ms/step - loss: 1.0958 - accuracy: 0.6326 - val_loss: 4.0938 - val_accuracy: 0.0975\n",
            "Epoch 50/100\n",
            "375/375 [==============================] - 1s 3ms/step - loss: 1.0750 - accuracy: 0.6367 - val_loss: 4.1712 - val_accuracy: 0.1004\n",
            "Epoch 51/100\n",
            "375/375 [==============================] - 1s 3ms/step - loss: 1.0582 - accuracy: 0.6460 - val_loss: 4.2246 - val_accuracy: 0.1000\n",
            "Epoch 52/100\n",
            "375/375 [==============================] - 1s 3ms/step - loss: 1.0436 - accuracy: 0.6500 - val_loss: 4.2840 - val_accuracy: 0.1007\n",
            "Epoch 53/100\n",
            "375/375 [==============================] - 1s 3ms/step - loss: 1.0268 - accuracy: 0.6552 - val_loss: 4.3524 - val_accuracy: 0.1016\n",
            "Epoch 54/100\n",
            "375/375 [==============================] - 1s 3ms/step - loss: 1.0097 - accuracy: 0.6603 - val_loss: 4.3927 - val_accuracy: 0.0996\n",
            "Epoch 55/100\n",
            "375/375 [==============================] - 1s 3ms/step - loss: 0.9953 - accuracy: 0.6666 - val_loss: 4.4425 - val_accuracy: 0.1053\n",
            "Epoch 56/100\n",
            "375/375 [==============================] - 1s 3ms/step - loss: 0.9786 - accuracy: 0.6724 - val_loss: 4.4838 - val_accuracy: 0.1029\n",
            "Epoch 57/100\n",
            "375/375 [==============================] - 1s 3ms/step - loss: 0.9637 - accuracy: 0.6789 - val_loss: 4.5523 - val_accuracy: 0.1004\n",
            "Epoch 58/100\n",
            "375/375 [==============================] - 1s 3ms/step - loss: 0.9497 - accuracy: 0.6849 - val_loss: 4.6283 - val_accuracy: 0.1013\n",
            "Epoch 59/100\n",
            "375/375 [==============================] - 1s 3ms/step - loss: 0.9351 - accuracy: 0.6893 - val_loss: 4.6645 - val_accuracy: 0.1015\n",
            "Epoch 60/100\n",
            "375/375 [==============================] - 1s 3ms/step - loss: 0.9215 - accuracy: 0.6944 - val_loss: 4.7598 - val_accuracy: 0.1018\n",
            "Epoch 61/100\n",
            "375/375 [==============================] - 1s 3ms/step - loss: 0.9059 - accuracy: 0.6989 - val_loss: 4.7906 - val_accuracy: 0.1025\n",
            "Epoch 62/100\n",
            "375/375 [==============================] - 1s 3ms/step - loss: 0.8936 - accuracy: 0.7037 - val_loss: 4.8661 - val_accuracy: 0.0990\n",
            "Epoch 63/100\n",
            "375/375 [==============================] - 1s 3ms/step - loss: 0.8805 - accuracy: 0.7071 - val_loss: 4.9194 - val_accuracy: 0.0993\n",
            "Epoch 64/100\n",
            "375/375 [==============================] - 1s 3ms/step - loss: 0.8674 - accuracy: 0.7119 - val_loss: 4.9988 - val_accuracy: 0.1018\n",
            "Epoch 65/100\n",
            "375/375 [==============================] - 1s 4ms/step - loss: 0.8536 - accuracy: 0.7171 - val_loss: 5.0143 - val_accuracy: 0.0986\n",
            "Epoch 66/100\n",
            "375/375 [==============================] - 2s 5ms/step - loss: 0.8411 - accuracy: 0.7212 - val_loss: 5.0852 - val_accuracy: 0.0981\n",
            "Epoch 67/100\n",
            "375/375 [==============================] - 1s 3ms/step - loss: 0.8296 - accuracy: 0.7243 - val_loss: 5.1350 - val_accuracy: 0.0994\n",
            "Epoch 68/100\n",
            "375/375 [==============================] - 1s 3ms/step - loss: 0.8158 - accuracy: 0.7310 - val_loss: 5.2446 - val_accuracy: 0.1018\n",
            "Epoch 69/100\n",
            "375/375 [==============================] - 1s 3ms/step - loss: 0.8051 - accuracy: 0.7335 - val_loss: 5.2730 - val_accuracy: 0.0988\n",
            "Epoch 70/100\n",
            "375/375 [==============================] - 1s 3ms/step - loss: 0.7911 - accuracy: 0.7384 - val_loss: 5.3602 - val_accuracy: 0.0988\n",
            "Epoch 71/100\n",
            "375/375 [==============================] - 1s 3ms/step - loss: 0.7800 - accuracy: 0.7428 - val_loss: 5.4207 - val_accuracy: 0.0990\n",
            "Epoch 72/100\n",
            "375/375 [==============================] - 1s 3ms/step - loss: 0.7676 - accuracy: 0.7451 - val_loss: 5.4388 - val_accuracy: 0.0962\n",
            "Epoch 73/100\n",
            "375/375 [==============================] - 1s 3ms/step - loss: 0.7593 - accuracy: 0.7484 - val_loss: 5.5727 - val_accuracy: 0.1007\n",
            "Epoch 74/100\n",
            "375/375 [==============================] - 1s 3ms/step - loss: 0.7471 - accuracy: 0.7540 - val_loss: 5.5800 - val_accuracy: 0.0990\n",
            "Epoch 75/100\n",
            "375/375 [==============================] - 1s 3ms/step - loss: 0.7340 - accuracy: 0.7595 - val_loss: 5.6774 - val_accuracy: 0.0967\n",
            "Epoch 76/100\n",
            "375/375 [==============================] - 1s 3ms/step - loss: 0.7243 - accuracy: 0.7632 - val_loss: 5.7450 - val_accuracy: 0.1008\n",
            "Epoch 77/100\n",
            "375/375 [==============================] - 1s 3ms/step - loss: 0.7115 - accuracy: 0.7674 - val_loss: 5.8361 - val_accuracy: 0.1025\n",
            "Epoch 78/100\n",
            "375/375 [==============================] - 1s 3ms/step - loss: 0.7042 - accuracy: 0.7680 - val_loss: 5.8526 - val_accuracy: 0.1028\n",
            "Epoch 79/100\n",
            "375/375 [==============================] - 1s 3ms/step - loss: 0.6943 - accuracy: 0.7726 - val_loss: 5.9860 - val_accuracy: 0.0997\n",
            "Epoch 80/100\n",
            "375/375 [==============================] - 1s 3ms/step - loss: 0.6836 - accuracy: 0.7756 - val_loss: 6.0249 - val_accuracy: 0.1021\n",
            "Epoch 81/100\n",
            "375/375 [==============================] - 1s 3ms/step - loss: 0.6727 - accuracy: 0.7797 - val_loss: 6.0477 - val_accuracy: 0.1030\n",
            "Epoch 82/100\n",
            "375/375 [==============================] - 1s 3ms/step - loss: 0.6645 - accuracy: 0.7838 - val_loss: 6.1022 - val_accuracy: 0.1016\n",
            "Epoch 83/100\n",
            "375/375 [==============================] - 1s 3ms/step - loss: 0.6545 - accuracy: 0.7850 - val_loss: 6.1638 - val_accuracy: 0.1048\n",
            "Epoch 84/100\n",
            "375/375 [==============================] - 1s 3ms/step - loss: 0.6443 - accuracy: 0.7894 - val_loss: 6.2600 - val_accuracy: 0.1015\n",
            "Epoch 85/100\n",
            "375/375 [==============================] - 1s 4ms/step - loss: 0.6360 - accuracy: 0.7944 - val_loss: 6.3409 - val_accuracy: 0.0995\n",
            "Epoch 86/100\n",
            "375/375 [==============================] - 1s 3ms/step - loss: 0.6256 - accuracy: 0.7959 - val_loss: 6.4020 - val_accuracy: 0.0994\n",
            "Epoch 87/100\n",
            "375/375 [==============================] - 1s 3ms/step - loss: 0.6165 - accuracy: 0.8005 - val_loss: 6.5061 - val_accuracy: 0.1002\n",
            "Epoch 88/100\n",
            "375/375 [==============================] - 1s 3ms/step - loss: 0.6087 - accuracy: 0.8012 - val_loss: 6.4902 - val_accuracy: 0.1011\n",
            "Epoch 89/100\n",
            "375/375 [==============================] - 1s 3ms/step - loss: 0.6011 - accuracy: 0.8035 - val_loss: 6.5935 - val_accuracy: 0.1005\n",
            "Epoch 90/100\n",
            "375/375 [==============================] - 1s 3ms/step - loss: 0.5901 - accuracy: 0.8075 - val_loss: 6.6992 - val_accuracy: 0.1011\n",
            "Epoch 91/100\n",
            "375/375 [==============================] - 1s 3ms/step - loss: 0.5827 - accuracy: 0.8109 - val_loss: 6.7440 - val_accuracy: 0.1000\n",
            "Epoch 92/100\n",
            "375/375 [==============================] - 1s 3ms/step - loss: 0.5737 - accuracy: 0.8140 - val_loss: 6.7558 - val_accuracy: 0.1047\n",
            "Epoch 93/100\n",
            "375/375 [==============================] - 1s 3ms/step - loss: 0.5659 - accuracy: 0.8160 - val_loss: 6.8746 - val_accuracy: 0.1007\n",
            "Epoch 94/100\n",
            "375/375 [==============================] - 1s 3ms/step - loss: 0.5584 - accuracy: 0.8180 - val_loss: 6.9111 - val_accuracy: 0.1007\n",
            "Epoch 95/100\n",
            "375/375 [==============================] - 1s 3ms/step - loss: 0.5504 - accuracy: 0.8229 - val_loss: 6.9712 - val_accuracy: 0.1007\n",
            "Epoch 96/100\n",
            "375/375 [==============================] - 1s 3ms/step - loss: 0.5412 - accuracy: 0.8249 - val_loss: 7.0676 - val_accuracy: 0.1021\n",
            "Epoch 97/100\n",
            "375/375 [==============================] - 1s 3ms/step - loss: 0.5349 - accuracy: 0.8279 - val_loss: 7.1163 - val_accuracy: 0.1032\n",
            "Epoch 98/100\n",
            "375/375 [==============================] - 1s 3ms/step - loss: 0.5236 - accuracy: 0.8313 - val_loss: 7.1693 - val_accuracy: 0.1033\n",
            "Epoch 99/100\n",
            "375/375 [==============================] - 1s 3ms/step - loss: 0.5215 - accuracy: 0.8317 - val_loss: 7.2590 - val_accuracy: 0.1008\n",
            "Epoch 100/100\n",
            "375/375 [==============================] - 1s 3ms/step - loss: 0.5125 - accuracy: 0.8354 - val_loss: 7.3720 - val_accuracy: 0.1026\n"
          ]
        },
        {
          "output_type": "execute_result",
          "data": {
            "text/plain": [
              "<keras.callbacks.History at 0x7fd940749ed0>"
            ]
          },
          "metadata": {},
          "execution_count": 4
        }
      ],
      "source": [
        "(train_images, train_labels), _ = mnist.load_data()\n",
        "train_images = train_images.reshape((60000, 28 * 28))\n",
        "train_images = train_images.astype(\"float32\") / 255\n",
        "\n",
        "random_train_labels = train_labels[:]\n",
        "np.random.shuffle(random_train_labels)\n",
        "\n",
        "model = keras.Sequential([\n",
        "    layers.Dense(512, activation=\"relu\"),\n",
        "    layers.Dense(10, activation=\"softmax\")\n",
        "])\n",
        "model.compile(optimizer=\"rmsprop\",\n",
        "              loss=\"sparse_categorical_crossentropy\",\n",
        "              metrics=[\"accuracy\"])\n",
        "model.fit(train_images, random_train_labels,\n",
        "          epochs=100,\n",
        "          batch_size=128,\n",
        "          validation_split=0.2)"
      ]
    },
    {
      "cell_type": "markdown",
      "metadata": {
        "id": "GntG0bAQnkxY"
      },
      "source": [
        "#### The manifold hypothesis"
      ]
    },
    {
      "cell_type": "markdown",
      "metadata": {
        "id": "yTnIT11lnkxY"
      },
      "source": [
        "#### Interpolation as a source of generalization"
      ]
    },
    {
      "cell_type": "markdown",
      "metadata": {
        "id": "h_knFHvnnkxY"
      },
      "source": [
        "#### Why deep learning works"
      ]
    },
    {
      "cell_type": "markdown",
      "metadata": {
        "id": "xYk8LC76nkxY"
      },
      "source": [
        "#### Training data is paramount"
      ]
    },
    {
      "cell_type": "markdown",
      "metadata": {
        "id": "IOnz0gWlnkxY"
      },
      "source": [
        "## Evaluating machine-learning models"
      ]
    },
    {
      "cell_type": "markdown",
      "metadata": {
        "id": "IzvFbbX9nkxZ"
      },
      "source": [
        "### Training, validation, and test sets"
      ]
    },
    {
      "cell_type": "markdown",
      "metadata": {
        "id": "-NHfHb_5nkxZ"
      },
      "source": [
        "#### Simple hold-out validation"
      ]
    },
    {
      "cell_type": "markdown",
      "metadata": {
        "id": "I8atkqoqnkxZ"
      },
      "source": [
        "#### K-fold validation"
      ]
    },
    {
      "cell_type": "markdown",
      "metadata": {
        "id": "h2xPykI1nkxZ"
      },
      "source": [
        "#### Iterated K-fold validation with shuffling"
      ]
    },
    {
      "cell_type": "markdown",
      "metadata": {
        "id": "-J43cgd7nkxZ"
      },
      "source": [
        "### Beating a common-sense baseline"
      ]
    },
    {
      "cell_type": "markdown",
      "metadata": {
        "id": "cSfprKhUnkxZ"
      },
      "source": [
        "### Things to keep in mind about model evaluation"
      ]
    },
    {
      "cell_type": "markdown",
      "metadata": {
        "id": "-Wm_9ixEnkxZ"
      },
      "source": [
        "## Improving model fit"
      ]
    },
    {
      "cell_type": "markdown",
      "metadata": {
        "id": "NdGnrLnAnkxZ"
      },
      "source": [
        "### Tuning key gradient descent parameters"
      ]
    },
    {
      "cell_type": "markdown",
      "metadata": {
        "id": "JRX50n7Pnkxa"
      },
      "source": [
        "**Training a MNIST model with an incorrectly high learning rate**\n",
        "\n",
        "**不當的參數設定會使模型訓練無法達成理想結果，如：學習率設置過高。**"
      ]
    },
    {
      "cell_type": "code",
      "execution_count": null,
      "metadata": {
        "colab": {
          "base_uri": "https://localhost:8080/"
        },
        "id": "lHCAI03Vnkxa",
        "outputId": "4cdf20d0-3617-4863-8c7f-daef1fa97960"
      },
      "outputs": [
        {
          "output_type": "stream",
          "name": "stdout",
          "text": [
            "Epoch 1/10\n",
            "375/375 [==============================] - 2s 4ms/step - loss: 806.3513 - accuracy: 0.3910 - val_loss: 3.0697 - val_accuracy: 0.3219\n",
            "Epoch 2/10\n",
            "375/375 [==============================] - 1s 3ms/step - loss: 3.8888 - accuracy: 0.2769 - val_loss: 2.5701 - val_accuracy: 0.2923\n",
            "Epoch 3/10\n",
            "375/375 [==============================] - 1s 3ms/step - loss: 2.7391 - accuracy: 0.2691 - val_loss: 2.7825 - val_accuracy: 0.2365\n",
            "Epoch 4/10\n",
            "375/375 [==============================] - 1s 3ms/step - loss: 2.6552 - accuracy: 0.2379 - val_loss: 2.2301 - val_accuracy: 0.2313\n",
            "Epoch 5/10\n",
            "375/375 [==============================] - 1s 3ms/step - loss: 2.7584 - accuracy: 0.2472 - val_loss: 3.2408 - val_accuracy: 0.2642\n",
            "Epoch 6/10\n",
            "375/375 [==============================] - 1s 3ms/step - loss: 2.8527 - accuracy: 0.2399 - val_loss: 2.5243 - val_accuracy: 0.2755\n",
            "Epoch 7/10\n",
            "375/375 [==============================] - 1s 3ms/step - loss: 2.8884 - accuracy: 0.2541 - val_loss: 1.9827 - val_accuracy: 0.2641\n",
            "Epoch 8/10\n",
            "375/375 [==============================] - 1s 3ms/step - loss: 2.6056 - accuracy: 0.2389 - val_loss: 2.2678 - val_accuracy: 0.2488\n",
            "Epoch 9/10\n",
            "375/375 [==============================] - 1s 3ms/step - loss: 2.4448 - accuracy: 0.2737 - val_loss: 2.1071 - val_accuracy: 0.2627\n",
            "Epoch 10/10\n",
            "375/375 [==============================] - 1s 3ms/step - loss: 2.4824 - accuracy: 0.2662 - val_loss: 2.2787 - val_accuracy: 0.3264\n"
          ]
        },
        {
          "output_type": "execute_result",
          "data": {
            "text/plain": [
              "<keras.callbacks.History at 0x7fd9402aa9d0>"
            ]
          },
          "metadata": {},
          "execution_count": 5
        }
      ],
      "source": [
        "(train_images, train_labels), _ = mnist.load_data()\n",
        "train_images = train_images.reshape((60000, 28 * 28))\n",
        "train_images = train_images.astype(\"float32\") / 255\n",
        "\n",
        "model = keras.Sequential([\n",
        "    layers.Dense(512, activation=\"relu\"),\n",
        "    layers.Dense(10, activation=\"softmax\")\n",
        "])\n",
        "model.compile(optimizer=keras.optimizers.RMSprop(1.), # 學習率 1 (過高)\n",
        "              loss=\"sparse_categorical_crossentropy\",\n",
        "              metrics=[\"accuracy\"])\n",
        "model.fit(train_images, train_labels,\n",
        "          epochs=10,\n",
        "          batch_size=128,\n",
        "          validation_split=0.2)"
      ]
    },
    {
      "cell_type": "markdown",
      "metadata": {
        "id": "TKm38vYTnkxa"
      },
      "source": [
        "**The same model with a more appropriate learning rate**"
      ]
    },
    {
      "cell_type": "code",
      "execution_count": null,
      "metadata": {
        "colab": {
          "base_uri": "https://localhost:8080/"
        },
        "id": "T4eVMnBjnkxa",
        "outputId": "6ec6a1be-37fb-4bbf-d07c-279115d52235"
      },
      "outputs": [
        {
          "output_type": "stream",
          "name": "stdout",
          "text": [
            "Epoch 1/10\n",
            "375/375 [==============================] - 2s 4ms/step - loss: 0.3710 - accuracy: 0.9117 - val_loss: 0.2212 - val_accuracy: 0.9401\n",
            "Epoch 2/10\n",
            "375/375 [==============================] - 1s 3ms/step - loss: 0.1400 - accuracy: 0.9636 - val_loss: 0.1543 - val_accuracy: 0.9613\n",
            "Epoch 3/10\n",
            "375/375 [==============================] - 1s 3ms/step - loss: 0.1109 - accuracy: 0.9737 - val_loss: 0.1644 - val_accuracy: 0.9681\n",
            "Epoch 4/10\n",
            "375/375 [==============================] - 1s 3ms/step - loss: 0.0990 - accuracy: 0.9775 - val_loss: 0.2209 - val_accuracy: 0.9645\n",
            "Epoch 5/10\n",
            "375/375 [==============================] - 1s 3ms/step - loss: 0.0935 - accuracy: 0.9814 - val_loss: 0.1991 - val_accuracy: 0.9730\n",
            "Epoch 6/10\n",
            "375/375 [==============================] - 2s 5ms/step - loss: 0.0791 - accuracy: 0.9836 - val_loss: 0.1903 - val_accuracy: 0.9724\n",
            "Epoch 7/10\n",
            "375/375 [==============================] - 2s 5ms/step - loss: 0.0728 - accuracy: 0.9867 - val_loss: 0.2527 - val_accuracy: 0.9729\n",
            "Epoch 8/10\n",
            "375/375 [==============================] - 2s 6ms/step - loss: 0.0728 - accuracy: 0.9869 - val_loss: 0.2689 - val_accuracy: 0.9754\n",
            "Epoch 9/10\n",
            "375/375 [==============================] - 2s 5ms/step - loss: 0.0639 - accuracy: 0.9894 - val_loss: 0.2834 - val_accuracy: 0.9742\n",
            "Epoch 10/10\n",
            "375/375 [==============================] - 2s 6ms/step - loss: 0.0553 - accuracy: 0.9903 - val_loss: 0.2761 - val_accuracy: 0.9747\n"
          ]
        },
        {
          "output_type": "execute_result",
          "data": {
            "text/plain": [
              "<keras.callbacks.History at 0x7fd94073eed0>"
            ]
          },
          "metadata": {},
          "execution_count": 6
        }
      ],
      "source": [
        "model = keras.Sequential([\n",
        "    layers.Dense(512, activation=\"relu\"),\n",
        "    layers.Dense(10, activation=\"softmax\")\n",
        "])\n",
        "model.compile(optimizer=keras.optimizers.RMSprop(1e-2), # 學習率 0.01 (合適)\n",
        "              loss=\"sparse_categorical_crossentropy\",\n",
        "              metrics=[\"accuracy\"])\n",
        "model.fit(train_images, train_labels,\n",
        "          epochs=10,\n",
        "          batch_size=128,\n",
        "          validation_split=0.2)"
      ]
    },
    {
      "cell_type": "markdown",
      "metadata": {
        "id": "0TAHlvRknkxa"
      },
      "source": [
        "### Leveraging better architecture priors"
      ]
    },
    {
      "cell_type": "markdown",
      "metadata": {
        "id": "nBcp6-YEnkxa"
      },
      "source": [
        "### Increasing model capacity\n",
        "\n",
        "**模型似乎達不到最佳擬合結果時，可能是因為模型存儲信息的容量太少，因此可以嘗試增加模型結構複雜度或神經元數**"
      ]
    },
    {
      "cell_type": "markdown",
      "metadata": {
        "id": "DLU7Bxy_nkxa"
      },
      "source": [
        "**A simple logistic regression on MNIST**"
      ]
    },
    {
      "cell_type": "code",
      "execution_count": null,
      "metadata": {
        "colab": {
          "base_uri": "https://localhost:8080/"
        },
        "id": "2o9Zg0aPnkxb",
        "outputId": "3b401a30-3031-467c-c0d1-ca6297b0b450"
      },
      "outputs": [
        {
          "output_type": "stream",
          "name": "stdout",
          "text": [
            "Epoch 1/20\n",
            "375/375 [==============================] - 2s 3ms/step - loss: 0.6662 - accuracy: 0.8332 - val_loss: 0.3556 - val_accuracy: 0.9059\n",
            "Epoch 2/20\n",
            "375/375 [==============================] - 1s 3ms/step - loss: 0.3513 - accuracy: 0.9029 - val_loss: 0.3063 - val_accuracy: 0.9159\n",
            "Epoch 3/20\n",
            "375/375 [==============================] - 1s 3ms/step - loss: 0.3156 - accuracy: 0.9124 - val_loss: 0.2894 - val_accuracy: 0.9201\n",
            "Epoch 4/20\n",
            "375/375 [==============================] - 1s 3ms/step - loss: 0.2994 - accuracy: 0.9165 - val_loss: 0.2818 - val_accuracy: 0.9227\n",
            "Epoch 5/20\n",
            "375/375 [==============================] - 1s 3ms/step - loss: 0.2900 - accuracy: 0.9187 - val_loss: 0.2750 - val_accuracy: 0.9239\n",
            "Epoch 6/20\n",
            "375/375 [==============================] - 1s 3ms/step - loss: 0.2828 - accuracy: 0.9210 - val_loss: 0.2733 - val_accuracy: 0.9252\n",
            "Epoch 7/20\n",
            "375/375 [==============================] - 1s 3ms/step - loss: 0.2782 - accuracy: 0.9227 - val_loss: 0.2692 - val_accuracy: 0.9266\n",
            "Epoch 8/20\n",
            "375/375 [==============================] - 1s 3ms/step - loss: 0.2745 - accuracy: 0.9233 - val_loss: 0.2671 - val_accuracy: 0.9270\n",
            "Epoch 9/20\n",
            "375/375 [==============================] - 1s 3ms/step - loss: 0.2713 - accuracy: 0.9245 - val_loss: 0.2655 - val_accuracy: 0.9290\n",
            "Epoch 10/20\n",
            "375/375 [==============================] - 1s 3ms/step - loss: 0.2687 - accuracy: 0.9252 - val_loss: 0.2647 - val_accuracy: 0.9285\n",
            "Epoch 11/20\n",
            "375/375 [==============================] - 1s 3ms/step - loss: 0.2665 - accuracy: 0.9265 - val_loss: 0.2650 - val_accuracy: 0.9283\n",
            "Epoch 12/20\n",
            "375/375 [==============================] - 1s 3ms/step - loss: 0.2645 - accuracy: 0.9267 - val_loss: 0.2645 - val_accuracy: 0.9285\n",
            "Epoch 13/20\n",
            "375/375 [==============================] - 1s 3ms/step - loss: 0.2633 - accuracy: 0.9273 - val_loss: 0.2622 - val_accuracy: 0.9291\n",
            "Epoch 14/20\n",
            "375/375 [==============================] - 1s 3ms/step - loss: 0.2616 - accuracy: 0.9272 - val_loss: 0.2624 - val_accuracy: 0.9306\n",
            "Epoch 15/20\n",
            "375/375 [==============================] - 1s 3ms/step - loss: 0.2603 - accuracy: 0.9288 - val_loss: 0.2618 - val_accuracy: 0.9300\n",
            "Epoch 16/20\n",
            "375/375 [==============================] - 1s 3ms/step - loss: 0.2590 - accuracy: 0.9286 - val_loss: 0.2646 - val_accuracy: 0.9289\n",
            "Epoch 17/20\n",
            "375/375 [==============================] - 1s 3ms/step - loss: 0.2581 - accuracy: 0.9295 - val_loss: 0.2624 - val_accuracy: 0.9300\n",
            "Epoch 18/20\n",
            "375/375 [==============================] - 1s 3ms/step - loss: 0.2575 - accuracy: 0.9295 - val_loss: 0.2605 - val_accuracy: 0.9312\n",
            "Epoch 19/20\n",
            "375/375 [==============================] - 1s 3ms/step - loss: 0.2563 - accuracy: 0.9301 - val_loss: 0.2620 - val_accuracy: 0.9306\n",
            "Epoch 20/20\n",
            "375/375 [==============================] - 1s 3ms/step - loss: 0.2558 - accuracy: 0.9304 - val_loss: 0.2617 - val_accuracy: 0.9303\n"
          ]
        }
      ],
      "source": [
        "model = keras.Sequential([layers.Dense(10, activation=\"softmax\")])\n",
        "model.compile(optimizer=\"rmsprop\",\n",
        "              loss=\"sparse_categorical_crossentropy\",\n",
        "              metrics=[\"accuracy\"])\n",
        "history_small_model = model.fit(\n",
        "    train_images, train_labels,\n",
        "    epochs=20,\n",
        "    batch_size=128,\n",
        "    validation_split=0.2)"
      ]
    },
    {
      "cell_type": "code",
      "execution_count": null,
      "metadata": {
        "colab": {
          "base_uri": "https://localhost:8080/",
          "height": 312
        },
        "id": "3LvQ4H9rnkxb",
        "outputId": "aa3dd9ba-d0c4-4823-f345-f5ead9e08e2c"
      },
      "outputs": [
        {
          "output_type": "execute_result",
          "data": {
            "text/plain": [
              "<matplotlib.legend.Legend at 0x7fd8e6615a90>"
            ]
          },
          "metadata": {},
          "execution_count": 8
        },
        {
          "output_type": "display_data",
          "data": {
            "text/plain": [
              "<Figure size 432x288 with 1 Axes>"
            ],
            "image/png": "[encoded data removed]"
          },
          "metadata": {
            "needs_background": "light"
          }
        }
      ],
      "source": [
        "import matplotlib.pyplot as plt\n",
        "val_loss = history_small_model.history[\"val_loss\"]\n",
        "epochs = range(1, 21)\n",
        "plt.plot(epochs, val_loss, \"b--\",\n",
        "         label=\"Validation loss\")\n",
        "plt.title(\"Effect of insufficient model capacity on validation loss\")\n",
        "plt.xlabel(\"Epochs\")\n",
        "plt.ylabel(\"Loss\")\n",
        "plt.legend()"
      ]
    },
    {
      "cell_type": "code",
      "execution_count": null,
      "metadata": {
        "colab": {
          "base_uri": "https://localhost:8080/"
        },
        "id": "VK-QiRa-nkxb",
        "outputId": "5df3554c-59c8-43d4-d28f-0af8911dce44"
      },
      "outputs": [
        {
          "output_type": "stream",
          "name": "stdout",
          "text": [
            "Epoch 1/20\n",
            "375/375 [==============================] - 2s 4ms/step - loss: 0.3609 - accuracy: 0.8989 - val_loss: 0.2095 - val_accuracy: 0.9388\n",
            "Epoch 2/20\n",
            "375/375 [==============================] - 1s 4ms/step - loss: 0.1579 - accuracy: 0.9526 - val_loss: 0.1364 - val_accuracy: 0.9596\n",
            "Epoch 3/20\n",
            "375/375 [==============================] - 1s 4ms/step - loss: 0.1124 - accuracy: 0.9664 - val_loss: 0.1180 - val_accuracy: 0.9654\n",
            "Epoch 4/20\n",
            "375/375 [==============================] - 1s 3ms/step - loss: 0.0859 - accuracy: 0.9739 - val_loss: 0.1075 - val_accuracy: 0.9699\n",
            "Epoch 5/20\n",
            "375/375 [==============================] - 1s 3ms/step - loss: 0.0693 - accuracy: 0.9792 - val_loss: 0.1072 - val_accuracy: 0.9699\n",
            "Epoch 6/20\n",
            "375/375 [==============================] - 1s 3ms/step - loss: 0.0573 - accuracy: 0.9829 - val_loss: 0.0992 - val_accuracy: 0.9731\n",
            "Epoch 7/20\n",
            "375/375 [==============================] - 1s 3ms/step - loss: 0.0479 - accuracy: 0.9854 - val_loss: 0.1083 - val_accuracy: 0.9717\n",
            "Epoch 8/20\n",
            "375/375 [==============================] - 1s 4ms/step - loss: 0.0399 - accuracy: 0.9880 - val_loss: 0.0968 - val_accuracy: 0.9749\n",
            "Epoch 9/20\n",
            "375/375 [==============================] - 1s 3ms/step - loss: 0.0336 - accuracy: 0.9899 - val_loss: 0.0975 - val_accuracy: 0.9747\n",
            "Epoch 10/20\n",
            "375/375 [==============================] - 1s 3ms/step - loss: 0.0277 - accuracy: 0.9914 - val_loss: 0.1055 - val_accuracy: 0.9743\n",
            "Epoch 11/20\n",
            "375/375 [==============================] - 1s 4ms/step - loss: 0.0237 - accuracy: 0.9926 - val_loss: 0.1098 - val_accuracy: 0.9742\n",
            "Epoch 12/20\n",
            "375/375 [==============================] - 1s 3ms/step - loss: 0.0203 - accuracy: 0.9937 - val_loss: 0.1172 - val_accuracy: 0.9737\n",
            "Epoch 13/20\n",
            "375/375 [==============================] - 1s 3ms/step - loss: 0.0169 - accuracy: 0.9950 - val_loss: 0.1282 - val_accuracy: 0.9721\n",
            "Epoch 14/20\n",
            "375/375 [==============================] - 1s 4ms/step - loss: 0.0148 - accuracy: 0.9954 - val_loss: 0.1209 - val_accuracy: 0.9746\n",
            "Epoch 15/20\n",
            "375/375 [==============================] - 1s 3ms/step - loss: 0.0120 - accuracy: 0.9962 - val_loss: 0.1255 - val_accuracy: 0.9739\n",
            "Epoch 16/20\n",
            "375/375 [==============================] - 1s 3ms/step - loss: 0.0102 - accuracy: 0.9968 - val_loss: 0.1374 - val_accuracy: 0.9743\n",
            "Epoch 17/20\n",
            "375/375 [==============================] - 1s 3ms/step - loss: 0.0092 - accuracy: 0.9972 - val_loss: 0.1462 - val_accuracy: 0.9739\n",
            "Epoch 18/20\n",
            "375/375 [==============================] - 1s 3ms/step - loss: 0.0082 - accuracy: 0.9976 - val_loss: 0.1480 - val_accuracy: 0.9735\n",
            "Epoch 19/20\n",
            "375/375 [==============================] - 1s 4ms/step - loss: 0.0069 - accuracy: 0.9977 - val_loss: 0.1509 - val_accuracy: 0.9737\n",
            "Epoch 20/20\n",
            "375/375 [==============================] - 1s 3ms/step - loss: 0.0057 - accuracy: 0.9983 - val_loss: 0.1518 - val_accuracy: 0.9759\n"
          ]
        }
      ],
      "source": [
        "model = keras.Sequential([\n",
        "    layers.Dense(96, activation=\"relu\"),\n",
        "    layers.Dense(96, activation=\"relu\"),\n",
        "    layers.Dense(10, activation=\"softmax\"),\n",
        "])\n",
        "model.compile(optimizer=\"rmsprop\",\n",
        "              loss=\"sparse_categorical_crossentropy\",\n",
        "              metrics=[\"accuracy\"])\n",
        "history_large_model = model.fit(\n",
        "    train_images, train_labels,\n",
        "    epochs=20,\n",
        "    batch_size=128,\n",
        "    validation_split=0.2)"
      ]
    },
    {
      "cell_type": "markdown",
      "metadata": {
        "id": "HStcSImynkxb"
      },
      "source": [
        "## Improving generalization"
      ]
    },
    {
      "cell_type": "markdown",
      "metadata": {
        "id": "r4JuG67rnkxb"
      },
      "source": [
        "### Dataset curation"
      ]
    },
    {
      "cell_type": "markdown",
      "metadata": {
        "id": "oLsQexVpnkxb"
      },
      "source": [
        "### Feature engineering"
      ]
    },
    {
      "cell_type": "markdown",
      "metadata": {
        "id": "n8iXrHk5nkxb"
      },
      "source": [
        "### Using early stopping"
      ]
    },
    {
      "cell_type": "markdown",
      "metadata": {
        "id": "qfBR8i0znkxb"
      },
      "source": [
        "### Regularizing your model"
      ]
    },
    {
      "cell_type": "markdown",
      "metadata": {
        "id": "zh_Mtpn1nkxc"
      },
      "source": [
        "#### Reducing the network's size\n",
        "\n",
        "**正則化(Regularizing)：使曲線更簡單、平滑、足夠泛化**\n",
        "\n",
        "**縮小訓練模型的體積能夠讓過度擬合的出現時間變得更晚，並且過度擬合後的泛化下降程度也更趨緩**"
      ]
    },
    {
      "cell_type": "markdown",
      "metadata": {
        "id": "iJyJ_k1Enkxc"
      },
      "source": [
        "**Original model**"
      ]
    },
    {
      "cell_type": "code",
      "execution_count": null,
      "metadata": {
        "colab": {
          "base_uri": "https://localhost:8080/"
        },
        "id": "WIXecQ5Jnkxc",
        "outputId": "d3c0bd48-66b4-4a3b-cd28-81c7139b9d64"
      },
      "outputs": [
        {
          "output_type": "stream",
          "name": "stdout",
          "text": [
            "Downloading data from https://storage.googleapis.com/tensorflow/tf-keras-datasets/imdb.npz\n",
            "17464789/17464789 [==============================] - 0s 0us/step\n",
            "Epoch 1/20\n",
            "30/30 [==============================] - 2s 40ms/step - loss: 0.5553 - accuracy: 0.7673 - val_loss: 0.4074 - val_accuracy: 0.8683\n",
            "Epoch 2/20\n",
            "30/30 [==============================] - 1s 23ms/step - loss: 0.3316 - accuracy: 0.8956 - val_loss: 0.3127 - val_accuracy: 0.8852\n",
            "Epoch 3/20\n",
            "30/30 [==============================] - 1s 21ms/step - loss: 0.2400 - accuracy: 0.9201 - val_loss: 0.2855 - val_accuracy: 0.8891\n",
            "Epoch 4/20\n",
            "30/30 [==============================] - 1s 23ms/step - loss: 0.1878 - accuracy: 0.9399 - val_loss: 0.2722 - val_accuracy: 0.8914\n",
            "Epoch 5/20\n",
            "30/30 [==============================] - 1s 20ms/step - loss: 0.1497 - accuracy: 0.9524 - val_loss: 0.2760 - val_accuracy: 0.8899\n",
            "Epoch 6/20\n",
            "30/30 [==============================] - 1s 20ms/step - loss: 0.1250 - accuracy: 0.9610 - val_loss: 0.2879 - val_accuracy: 0.8871\n",
            "Epoch 7/20\n",
            "30/30 [==============================] - 1s 20ms/step - loss: 0.1034 - accuracy: 0.9687 - val_loss: 0.3065 - val_accuracy: 0.8835\n",
            "Epoch 8/20\n",
            "30/30 [==============================] - 1s 20ms/step - loss: 0.0850 - accuracy: 0.9756 - val_loss: 0.3356 - val_accuracy: 0.8804\n",
            "Epoch 9/20\n",
            "30/30 [==============================] - 1s 20ms/step - loss: 0.0692 - accuracy: 0.9819 - val_loss: 0.3542 - val_accuracy: 0.8790\n",
            "Epoch 10/20\n",
            "30/30 [==============================] - 1s 21ms/step - loss: 0.0559 - accuracy: 0.9855 - val_loss: 0.3809 - val_accuracy: 0.8776\n",
            "Epoch 11/20\n",
            "30/30 [==============================] - 1s 21ms/step - loss: 0.0484 - accuracy: 0.9888 - val_loss: 0.4092 - val_accuracy: 0.8755\n",
            "Epoch 12/20\n",
            "30/30 [==============================] - 1s 21ms/step - loss: 0.0365 - accuracy: 0.9926 - val_loss: 0.4308 - val_accuracy: 0.8753\n",
            "Epoch 13/20\n",
            "30/30 [==============================] - 1s 21ms/step - loss: 0.0299 - accuracy: 0.9941 - val_loss: 0.4760 - val_accuracy: 0.8732\n",
            "Epoch 14/20\n",
            "30/30 [==============================] - 1s 21ms/step - loss: 0.0268 - accuracy: 0.9943 - val_loss: 0.4945 - val_accuracy: 0.8741\n",
            "Epoch 15/20\n",
            "30/30 [==============================] - 1s 21ms/step - loss: 0.0177 - accuracy: 0.9971 - val_loss: 0.5242 - val_accuracy: 0.8714\n",
            "Epoch 16/20\n",
            "30/30 [==============================] - 1s 21ms/step - loss: 0.0143 - accuracy: 0.9979 - val_loss: 0.5670 - val_accuracy: 0.8694\n",
            "Epoch 17/20\n",
            "30/30 [==============================] - 1s 20ms/step - loss: 0.0109 - accuracy: 0.9987 - val_loss: 0.6263 - val_accuracy: 0.8674\n",
            "Epoch 18/20\n",
            "30/30 [==============================] - 1s 20ms/step - loss: 0.0099 - accuracy: 0.9986 - val_loss: 0.6368 - val_accuracy: 0.8664\n",
            "Epoch 19/20\n",
            "30/30 [==============================] - 1s 21ms/step - loss: 0.0050 - accuracy: 0.9995 - val_loss: 0.6825 - val_accuracy: 0.8654\n",
            "Epoch 20/20\n",
            "30/30 [==============================] - 1s 20ms/step - loss: 0.0073 - accuracy: 0.9983 - val_loss: 0.7154 - val_accuracy: 0.8664\n"
          ]
        }
      ],
      "source": [
        "from tensorflow.keras.datasets import imdb\n",
        "(train_data, train_labels), _ = imdb.load_data(num_words=10000)\n",
        "\n",
        "def vectorize_sequences(sequences, dimension=10000):\n",
        "    results = np.zeros((len(sequences), dimension))\n",
        "    for i, sequence in enumerate(sequences):\n",
        "        results[i, sequence] = 1.\n",
        "    return results\n",
        "train_data = vectorize_sequences(train_data)\n",
        "\n",
        "model = keras.Sequential([\n",
        "    layers.Dense(16, activation=\"relu\"),\n",
        "    layers.Dense(16, activation=\"relu\"),\n",
        "    layers.Dense(1, activation=\"sigmoid\")\n",
        "])\n",
        "model.compile(optimizer=\"rmsprop\",\n",
        "              loss=\"binary_crossentropy\",\n",
        "              metrics=[\"accuracy\"])\n",
        "history_original = model.fit(train_data, train_labels,\n",
        "                             epochs=20, batch_size=512, validation_split=0.4)"
      ]
    },
    {
      "cell_type": "markdown",
      "metadata": {
        "id": "z324Rzl7nkxc"
      },
      "source": [
        "**Version of the model with lower capacity**\n",
        "\n",
        "較小的模型較晚過度擬合(訓練週期4-->6)，且過度擬合以後的驗證曲線變化也較為趨緩\n",
        "\n",
        "<img src=\"https://i.imgur.com/HSI8fRa.jpg\">\n"
      ]
    },
    {
      "cell_type": "code",
      "execution_count": null,
      "metadata": {
        "colab": {
          "base_uri": "https://localhost:8080/"
        },
        "id": "R97Lc-70nkxc",
        "outputId": "1efa36a4-3a82-454d-8f6b-3ddfa1312c71"
      },
      "outputs": [
        {
          "output_type": "stream",
          "name": "stdout",
          "text": [
            "Epoch 1/20\n",
            "30/30 [==============================] - 2s 35ms/step - loss: 0.6687 - accuracy: 0.5694 - val_loss: 0.6437 - val_accuracy: 0.7192\n",
            "Epoch 2/20\n",
            "30/30 [==============================] - 1s 20ms/step - loss: 0.6139 - accuracy: 0.7084 - val_loss: 0.5960 - val_accuracy: 0.7650\n",
            "Epoch 3/20\n",
            "30/30 [==============================] - 1s 21ms/step - loss: 0.5630 - accuracy: 0.7737 - val_loss: 0.5552 - val_accuracy: 0.7789\n",
            "Epoch 4/20\n",
            "30/30 [==============================] - 1s 28ms/step - loss: 0.5187 - accuracy: 0.8213 - val_loss: 0.5231 - val_accuracy: 0.8349\n",
            "Epoch 5/20\n",
            "30/30 [==============================] - 1s 28ms/step - loss: 0.4828 - accuracy: 0.8565 - val_loss: 0.4977 - val_accuracy: 0.8462\n",
            "Epoch 6/20\n",
            "30/30 [==============================] - 1s 32ms/step - loss: 0.4527 - accuracy: 0.8803 - val_loss: 0.4789 - val_accuracy: 0.8562\n",
            "Epoch 7/20\n",
            "30/30 [==============================] - 1s 30ms/step - loss: 0.4270 - accuracy: 0.9000 - val_loss: 0.4651 - val_accuracy: 0.8642\n",
            "Epoch 8/20\n",
            "30/30 [==============================] - 1s 24ms/step - loss: 0.4052 - accuracy: 0.9142 - val_loss: 0.4531 - val_accuracy: 0.8758\n",
            "Epoch 9/20\n",
            "30/30 [==============================] - 1s 21ms/step - loss: 0.3857 - accuracy: 0.9287 - val_loss: 0.4491 - val_accuracy: 0.8696\n",
            "Epoch 10/20\n",
            "30/30 [==============================] - 1s 23ms/step - loss: 0.3683 - accuracy: 0.9367 - val_loss: 0.4480 - val_accuracy: 0.8690\n",
            "Epoch 11/20\n",
            "30/30 [==============================] - 1s 24ms/step - loss: 0.3519 - accuracy: 0.9449 - val_loss: 0.4498 - val_accuracy: 0.8692\n",
            "Epoch 12/20\n",
            "30/30 [==============================] - 1s 21ms/step - loss: 0.3374 - accuracy: 0.9519 - val_loss: 0.4565 - val_accuracy: 0.8670\n",
            "Epoch 13/20\n",
            "30/30 [==============================] - 1s 20ms/step - loss: 0.3240 - accuracy: 0.9577 - val_loss: 0.4514 - val_accuracy: 0.8717\n",
            "Epoch 14/20\n",
            "30/30 [==============================] - 1s 21ms/step - loss: 0.3117 - accuracy: 0.9638 - val_loss: 0.4537 - val_accuracy: 0.8741\n",
            "Epoch 15/20\n",
            "30/30 [==============================] - 1s 21ms/step - loss: 0.3001 - accuracy: 0.9691 - val_loss: 0.4717 - val_accuracy: 0.8659\n",
            "Epoch 16/20\n",
            "30/30 [==============================] - 1s 21ms/step - loss: 0.2895 - accuracy: 0.9723 - val_loss: 0.4597 - val_accuracy: 0.8730\n",
            "Epoch 17/20\n",
            "30/30 [==============================] - 1s 20ms/step - loss: 0.2791 - accuracy: 0.9763 - val_loss: 0.4562 - val_accuracy: 0.8784\n",
            "Epoch 18/20\n",
            "30/30 [==============================] - 1s 21ms/step - loss: 0.2697 - accuracy: 0.9783 - val_loss: 0.4867 - val_accuracy: 0.8693\n",
            "Epoch 19/20\n",
            "30/30 [==============================] - 1s 21ms/step - loss: 0.2608 - accuracy: 0.9801 - val_loss: 0.5162 - val_accuracy: 0.8633\n",
            "Epoch 20/20\n",
            "30/30 [==============================] - 1s 20ms/step - loss: 0.2522 - accuracy: 0.9816 - val_loss: 0.5191 - val_accuracy: 0.8665\n"
          ]
        }
      ],
      "source": [
        "# 模型由16x16x1縮小為4x4x1\n",
        "model = keras.Sequential([\n",
        "    layers.Dense(4, activation=\"relu\"),\n",
        "    layers.Dense(4, activation=\"relu\"),\n",
        "    layers.Dense(1, activation=\"sigmoid\")\n",
        "])\n",
        "model.compile(optimizer=\"rmsprop\",\n",
        "              loss=\"binary_crossentropy\",\n",
        "              metrics=[\"accuracy\"])\n",
        "history_smaller_model = model.fit(\n",
        "    train_data, train_labels,\n",
        "    epochs=20, batch_size=512, validation_split=0.4)"
      ]
    },
    {
      "cell_type": "markdown",
      "metadata": {
        "id": "_y9vhGQCnkxc"
      },
      "source": [
        "**Version of the model with higher capacity**\n",
        "\n",
        "**太大的模型，過度擬合更早發生，驗證損失曲線不穩定且方差更大**\n",
        "\n",
        "<img src=\"https://i.imgur.com/mIT7eB5.jpg\">"
      ]
    },
    {
      "cell_type": "code",
      "execution_count": null,
      "metadata": {
        "colab": {
          "base_uri": "https://localhost:8080/"
        },
        "id": "xSKazSH2nkxc",
        "outputId": "1a5b7c17-e5e8-4964-da7e-81bc338eb228"
      },
      "outputs": [
        {
          "output_type": "stream",
          "name": "stdout",
          "text": [
            "Epoch 1/20\n",
            "30/30 [==============================] - 2s 42ms/step - loss: 0.5317 - accuracy: 0.7648 - val_loss: 0.3427 - val_accuracy: 0.8632\n",
            "Epoch 2/20\n",
            "30/30 [==============================] - 1s 29ms/step - loss: 0.2510 - accuracy: 0.8983 - val_loss: 0.2974 - val_accuracy: 0.8835\n",
            "Epoch 3/20\n",
            "30/30 [==============================] - 1s 26ms/step - loss: 0.1383 - accuracy: 0.9477 - val_loss: 0.3008 - val_accuracy: 0.8843\n",
            "Epoch 4/20\n",
            "30/30 [==============================] - 1s 26ms/step - loss: 0.1231 - accuracy: 0.9699 - val_loss: 0.3329 - val_accuracy: 0.8898\n",
            "Epoch 5/20\n",
            "30/30 [==============================] - 1s 28ms/step - loss: 0.0121 - accuracy: 0.9979 - val_loss: 0.4912 - val_accuracy: 0.8794\n",
            "Epoch 6/20\n",
            "30/30 [==============================] - 1s 28ms/step - loss: 0.0509 - accuracy: 0.9941 - val_loss: 0.8740 - val_accuracy: 0.8250\n",
            "Epoch 7/20\n",
            "30/30 [==============================] - 1s 25ms/step - loss: 0.0028 - accuracy: 0.9995 - val_loss: 0.5833 - val_accuracy: 0.8875\n",
            "Epoch 8/20\n",
            "30/30 [==============================] - 1s 25ms/step - loss: 3.4092e-04 - accuracy: 1.0000 - val_loss: 0.6740 - val_accuracy: 0.8852\n",
            "Epoch 9/20\n",
            "30/30 [==============================] - 1s 25ms/step - loss: 0.1549 - accuracy: 0.9793 - val_loss: 0.5243 - val_accuracy: 0.8834\n",
            "Epoch 10/20\n",
            "30/30 [==============================] - 1s 25ms/step - loss: 4.0874e-04 - accuracy: 1.0000 - val_loss: 0.6232 - val_accuracy: 0.8858\n",
            "Epoch 11/20\n",
            "30/30 [==============================] - 1s 25ms/step - loss: 1.0650e-04 - accuracy: 1.0000 - val_loss: 0.7292 - val_accuracy: 0.8813\n",
            "Epoch 12/20\n",
            "30/30 [==============================] - 1s 26ms/step - loss: 3.0319e-05 - accuracy: 1.0000 - val_loss: 0.8192 - val_accuracy: 0.8849\n",
            "Epoch 13/20\n",
            "30/30 [==============================] - 1s 25ms/step - loss: 7.3286e-06 - accuracy: 1.0000 - val_loss: 0.9313 - val_accuracy: 0.8849\n",
            "Epoch 14/20\n",
            "30/30 [==============================] - 1s 26ms/step - loss: 1.9988e-06 - accuracy: 1.0000 - val_loss: 1.0226 - val_accuracy: 0.8848\n",
            "Epoch 15/20\n",
            "30/30 [==============================] - 1s 25ms/step - loss: 6.0984e-07 - accuracy: 1.0000 - val_loss: 1.1094 - val_accuracy: 0.8814\n",
            "Epoch 16/20\n",
            "30/30 [==============================] - 1s 25ms/step - loss: 2.2419e-07 - accuracy: 1.0000 - val_loss: 1.1854 - val_accuracy: 0.8820\n",
            "Epoch 17/20\n",
            "30/30 [==============================] - 1s 25ms/step - loss: 8.7338e-08 - accuracy: 1.0000 - val_loss: 1.2500 - val_accuracy: 0.8835\n",
            "Epoch 18/20\n",
            "30/30 [==============================] - 1s 25ms/step - loss: 4.0885e-08 - accuracy: 1.0000 - val_loss: 1.2978 - val_accuracy: 0.8834\n",
            "Epoch 19/20\n",
            "30/30 [==============================] - 1s 26ms/step - loss: 2.4000e-08 - accuracy: 1.0000 - val_loss: 1.3310 - val_accuracy: 0.8832\n",
            "Epoch 20/20\n",
            "30/30 [==============================] - 1s 25ms/step - loss: 1.6567e-08 - accuracy: 1.0000 - val_loss: 1.3562 - val_accuracy: 0.8840\n"
          ]
        }
      ],
      "source": [
        "model = keras.Sequential([\n",
        "    layers.Dense(512, activation=\"relu\"),\n",
        "    layers.Dense(512, activation=\"relu\"),\n",
        "    layers.Dense(1, activation=\"sigmoid\")\n",
        "])\n",
        "model.compile(optimizer=\"rmsprop\",\n",
        "              loss=\"binary_crossentropy\",\n",
        "              metrics=[\"accuracy\"])\n",
        "history_larger_model = model.fit(\n",
        "    train_data, train_labels,\n",
        "    epochs=20, batch_size=512, validation_split=0.4)"
      ]
    },
    {
      "cell_type": "markdown",
      "metadata": {
        "id": "qCIZ5a1Snkxd"
      },
      "source": [
        "#### Adding weight regularization"
      ]
    },
    {
      "cell_type": "markdown",
      "source": [
        "####**奧卡姆剃⼑原理(principle of Occam’s razor)**\n",
        "\n",
        "對於某事給出兩種解釋，最有可能正確的解釋是最簡單的解釋。類推至神經網路模型，簡單的模型較複雜的模型更不容易過度擬合。"
      ],
      "metadata": {
        "id": "P9Tfwu2aNwVv"
      }
    },
    {
      "cell_type": "markdown",
      "source": [
        "####**權重正則化(weight regularization)**\n",
        "\n",
        "也就是權重限制法。強制給定訓練權重之上、下限，使參數訓練時不會過大或過小，使權重分布更常規性(減輕模型複雜度)，避免過度擬合情形。形式上有：\n",
        "* **L1 regulation：** The cost added is proportional to the absolute value of the weight coefficients (增加的cost與權重係數**絕對值**成正比)\n",
        "* **L2 regulation：** The cost added is proportional to the square of the value of the weight coefficients (增加的cost與權重係數**平方**成正比)"
      ],
      "metadata": {
        "id": "dB3GCvtgO_AY"
      }
    },
    {
      "cell_type": "markdown",
      "metadata": {
        "id": "z68Io0oOnkxd"
      },
      "source": [
        "**Adding L2 weight regularization to the model**\n",
        "\n",
        "`kernel_regularizer=regularizers.l2(0.002)`：將各層權重矩陣的每一個係數值增加`(0.002 * weight_coefficient_value ** 2)`至模型總損失。最終發現經L2正則化的模型更能對抗過度擬合。\n",
        "\n",
        "<img src=\"https://i.imgur.com/agOAGTq.jpg\">"
      ]
    },
    {
      "cell_type": "code",
      "execution_count": null,
      "metadata": {
        "colab": {
          "base_uri": "https://localhost:8080/"
        },
        "id": "4lvgdZOhnkxd",
        "outputId": "9b5c6495-820a-480e-b52d-6b779ceb1ce4"
      },
      "outputs": [
        {
          "output_type": "stream",
          "name": "stdout",
          "text": [
            "Epoch 1/20\n",
            "30/30 [==============================] - 2s 36ms/step - loss: 0.5872 - accuracy: 0.7932 - val_loss: 0.5008 - val_accuracy: 0.8179\n",
            "Epoch 2/20\n",
            "30/30 [==============================] - 1s 20ms/step - loss: 0.3967 - accuracy: 0.8955 - val_loss: 0.3906 - val_accuracy: 0.8830\n",
            "Epoch 3/20\n",
            "30/30 [==============================] - 1s 23ms/step - loss: 0.3275 - accuracy: 0.9171 - val_loss: 0.3745 - val_accuracy: 0.8818\n",
            "Epoch 4/20\n",
            "30/30 [==============================] - 1s 21ms/step - loss: 0.2971 - accuracy: 0.9251 - val_loss: 0.3582 - val_accuracy: 0.8903\n",
            "Epoch 5/20\n",
            "30/30 [==============================] - 1s 21ms/step - loss: 0.2797 - accuracy: 0.9303 - val_loss: 0.3598 - val_accuracy: 0.8871\n",
            "Epoch 6/20\n",
            "30/30 [==============================] - 1s 22ms/step - loss: 0.2643 - accuracy: 0.9369 - val_loss: 0.3702 - val_accuracy: 0.8839\n",
            "Epoch 7/20\n",
            "30/30 [==============================] - 1s 21ms/step - loss: 0.2570 - accuracy: 0.9402 - val_loss: 0.3818 - val_accuracy: 0.8798\n",
            "Epoch 8/20\n",
            "30/30 [==============================] - 1s 21ms/step - loss: 0.2494 - accuracy: 0.9440 - val_loss: 0.3831 - val_accuracy: 0.8799\n",
            "Epoch 9/20\n",
            "30/30 [==============================] - 1s 25ms/step - loss: 0.2415 - accuracy: 0.9464 - val_loss: 0.3772 - val_accuracy: 0.8833\n",
            "Epoch 10/20\n",
            "30/30 [==============================] - 1s 21ms/step - loss: 0.2370 - accuracy: 0.9493 - val_loss: 0.4345 - val_accuracy: 0.8620\n",
            "Epoch 11/20\n",
            "30/30 [==============================] - 1s 21ms/step - loss: 0.2339 - accuracy: 0.9491 - val_loss: 0.3852 - val_accuracy: 0.8783\n",
            "Epoch 12/20\n",
            "30/30 [==============================] - 1s 21ms/step - loss: 0.2295 - accuracy: 0.9523 - val_loss: 0.4451 - val_accuracy: 0.8675\n",
            "Epoch 13/20\n",
            "30/30 [==============================] - 1s 20ms/step - loss: 0.2242 - accuracy: 0.9519 - val_loss: 0.4299 - val_accuracy: 0.8662\n",
            "Epoch 14/20\n",
            "30/30 [==============================] - 1s 21ms/step - loss: 0.2232 - accuracy: 0.9527 - val_loss: 0.4071 - val_accuracy: 0.8764\n",
            "Epoch 15/20\n",
            "30/30 [==============================] - 1s 21ms/step - loss: 0.2252 - accuracy: 0.9510 - val_loss: 0.4092 - val_accuracy: 0.8770\n",
            "Epoch 16/20\n",
            "30/30 [==============================] - 1s 21ms/step - loss: 0.2140 - accuracy: 0.9577 - val_loss: 0.4179 - val_accuracy: 0.8752\n",
            "Epoch 17/20\n",
            "30/30 [==============================] - 1s 24ms/step - loss: 0.2132 - accuracy: 0.9539 - val_loss: 0.4076 - val_accuracy: 0.8765\n",
            "Epoch 18/20\n",
            "30/30 [==============================] - 1s 20ms/step - loss: 0.2156 - accuracy: 0.9543 - val_loss: 0.4119 - val_accuracy: 0.8749\n",
            "Epoch 19/20\n",
            "30/30 [==============================] - 1s 20ms/step - loss: 0.2052 - accuracy: 0.9599 - val_loss: 0.4217 - val_accuracy: 0.8748\n",
            "Epoch 20/20\n",
            "30/30 [==============================] - 1s 20ms/step - loss: 0.2088 - accuracy: 0.9553 - val_loss: 0.4181 - val_accuracy: 0.8773\n"
          ]
        }
      ],
      "source": [
        "from tensorflow.keras import regularizers\n",
        "model = keras.Sequential([\n",
        "    layers.Dense(16,\n",
        "                 kernel_regularizer=regularizers.l2(0.002),\n",
        "                 activation=\"relu\"),\n",
        "    layers.Dense(16,\n",
        "                 kernel_regularizer=regularizers.l2(0.002),\n",
        "                 activation=\"relu\"),\n",
        "    layers.Dense(1, activation=\"sigmoid\")\n",
        "])\n",
        "model.compile(optimizer=\"rmsprop\",\n",
        "              loss=\"binary_crossentropy\",\n",
        "              metrics=[\"accuracy\"])\n",
        "history_l2_reg = model.fit(\n",
        "    train_data, train_labels,\n",
        "    epochs=20, batch_size=512, validation_split=0.4)"
      ]
    },
    {
      "cell_type": "markdown",
      "metadata": {
        "id": "pnr_2lLfnkxd"
      },
      "source": [
        "**Different weight regularizers available in Keras**"
      ]
    },
    {
      "cell_type": "code",
      "execution_count": null,
      "metadata": {
        "colab": {
          "base_uri": "https://localhost:8080/"
        },
        "id": "6UUPwA3mnkxd",
        "outputId": "11a3e62c-b44a-46d2-9903-7ebca4002e9c"
      },
      "outputs": [
        {
          "output_type": "execute_result",
          "data": {
            "text/plain": [
              "<keras.regularizers.L1L2 at 0x7fd8365cc610>"
            ]
          },
          "metadata": {},
          "execution_count": 14
        }
      ],
      "source": [
        "from tensorflow.keras import regularizers\n",
        "regularizers.l1(0.001)\n",
        "regularizers.l1_l2(l1=0.001, l2=0.001)"
      ]
    },
    {
      "cell_type": "markdown",
      "metadata": {
        "id": "kql5WdWCnkxd"
      },
      "source": [
        "#### Adding dropout"
      ]
    },
    {
      "cell_type": "markdown",
      "metadata": {
        "id": "RPJgu0Ignkxd"
      },
      "source": [
        "**Adding dropout to the IMDB model**\n",
        "\n",
        "**使用Dropout層也能減輕過度擬合**\n",
        "\n",
        "<img src=\"https://i.imgur.com/6WNCcHu.jpg\">"
      ]
    },
    {
      "cell_type": "code",
      "execution_count": null,
      "metadata": {
        "colab": {
          "base_uri": "https://localhost:8080/"
        },
        "id": "ItFs0bWUnkxe",
        "outputId": "3ddd44db-d18b-412e-b3fc-a0b880f6083f"
      },
      "outputs": [
        {
          "output_type": "stream",
          "name": "stdout",
          "text": [
            "Epoch 1/20\n",
            "30/30 [==============================] - 2s 36ms/step - loss: 0.6418 - accuracy: 0.6385 - val_loss: 0.5467 - val_accuracy: 0.8446\n",
            "Epoch 2/20\n",
            "30/30 [==============================] - 1s 20ms/step - loss: 0.5401 - accuracy: 0.7496 - val_loss: 0.4549 - val_accuracy: 0.8695\n",
            "Epoch 3/20\n",
            "30/30 [==============================] - 1s 21ms/step - loss: 0.4673 - accuracy: 0.8099 - val_loss: 0.3862 - val_accuracy: 0.8807\n",
            "Epoch 4/20\n",
            "30/30 [==============================] - 1s 21ms/step - loss: 0.3993 - accuracy: 0.8533 - val_loss: 0.3360 - val_accuracy: 0.8838\n",
            "Epoch 5/20\n",
            "30/30 [==============================] - 1s 20ms/step - loss: 0.3524 - accuracy: 0.8753 - val_loss: 0.3029 - val_accuracy: 0.8882\n",
            "Epoch 6/20\n",
            "30/30 [==============================] - 1s 21ms/step - loss: 0.3104 - accuracy: 0.8943 - val_loss: 0.2967 - val_accuracy: 0.8903\n",
            "Epoch 7/20\n",
            "30/30 [==============================] - 1s 20ms/step - loss: 0.2785 - accuracy: 0.9072 - val_loss: 0.2821 - val_accuracy: 0.8854\n",
            "Epoch 8/20\n",
            "30/30 [==============================] - 1s 21ms/step - loss: 0.2422 - accuracy: 0.9209 - val_loss: 0.2837 - val_accuracy: 0.8855\n",
            "Epoch 9/20\n",
            "30/30 [==============================] - 1s 20ms/step - loss: 0.2229 - accuracy: 0.9290 - val_loss: 0.3021 - val_accuracy: 0.8903\n",
            "Epoch 10/20\n",
            "30/30 [==============================] - 1s 21ms/step - loss: 0.1995 - accuracy: 0.9376 - val_loss: 0.3011 - val_accuracy: 0.8873\n",
            "Epoch 11/20\n",
            "30/30 [==============================] - 1s 21ms/step - loss: 0.1850 - accuracy: 0.9413 - val_loss: 0.3199 - val_accuracy: 0.8826\n",
            "Epoch 12/20\n",
            "30/30 [==============================] - 1s 20ms/step - loss: 0.1672 - accuracy: 0.9480 - val_loss: 0.3617 - val_accuracy: 0.8903\n",
            "Epoch 13/20\n",
            "30/30 [==============================] - 1s 20ms/step - loss: 0.1461 - accuracy: 0.9536 - val_loss: 0.4109 - val_accuracy: 0.8866\n",
            "Epoch 14/20\n",
            "30/30 [==============================] - 1s 21ms/step - loss: 0.1449 - accuracy: 0.9569 - val_loss: 0.3761 - val_accuracy: 0.8845\n",
            "Epoch 15/20\n",
            "30/30 [==============================] - 1s 20ms/step - loss: 0.1308 - accuracy: 0.9599 - val_loss: 0.4000 - val_accuracy: 0.8811\n",
            "Epoch 16/20\n",
            "30/30 [==============================] - 1s 20ms/step - loss: 0.1277 - accuracy: 0.9608 - val_loss: 0.4617 - val_accuracy: 0.8870\n",
            "Epoch 17/20\n",
            "30/30 [==============================] - 1s 20ms/step - loss: 0.1126 - accuracy: 0.9668 - val_loss: 0.4751 - val_accuracy: 0.8844\n",
            "Epoch 18/20\n",
            "30/30 [==============================] - 1s 20ms/step - loss: 0.1075 - accuracy: 0.9677 - val_loss: 0.5138 - val_accuracy: 0.8841\n",
            "Epoch 19/20\n",
            "30/30 [==============================] - 1s 20ms/step - loss: 0.1031 - accuracy: 0.9703 - val_loss: 0.5242 - val_accuracy: 0.8826\n",
            "Epoch 20/20\n",
            "30/30 [==============================] - 1s 20ms/step - loss: 0.0962 - accuracy: 0.9729 - val_loss: 0.5553 - val_accuracy: 0.8841\n"
          ]
        }
      ],
      "source": [
        "model = keras.Sequential([\n",
        "    layers.Dense(16, activation=\"relu\"),\n",
        "    layers.Dropout(0.5), # Drop out 50% 的數據\n",
        "    layers.Dense(16, activation=\"relu\"),\n",
        "    layers.Dropout(0.5), # Drop out 50% 的數據\n",
        "    layers.Dense(1, activation=\"sigmoid\")\n",
        "])\n",
        "model.compile(optimizer=\"rmsprop\",\n",
        "              loss=\"binary_crossentropy\",\n",
        "              metrics=[\"accuracy\"])\n",
        "history_dropout = model.fit(\n",
        "    train_data, train_labels,\n",
        "    epochs=20, batch_size=512, validation_split=0.4)"
      ]
    },
    {
      "cell_type": "markdown",
      "metadata": {
        "id": "89WDOrlMnkxe"
      },
      "source": [
        "## Summary"
      ]
    },
    {
      "cell_type": "markdown",
      "source": [
        "請看本文章最頂處，我在文初做好了摘要"
      ],
      "metadata": {
        "id": "py2fErFZXk6-"
      }
    }
  ],
  "metadata": {
    "colab": {
      "collapsed_sections": [],
      "provenance": [],
      "toc_visible": true
    },
    "kernelspec": {
      "display_name": "Python 3",
      "language": "python",
      "name": "python3"
    },
    "language_info": {
      "codemirror_mode": {
        "name": "ipython",
        "version": 3
      },
      "file_extension": ".py",
      "mimetype": "text/x-python",
      "name": "python",
      "nbconvert_exporter": "python",
      "pygments_lexer": "ipython3",
      "version": "3.7.0"
    }
  },
  "nbformat": 4,
  "nbformat_minor": 0
}