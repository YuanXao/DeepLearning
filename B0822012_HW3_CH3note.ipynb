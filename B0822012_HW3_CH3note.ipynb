{
  "cells": [
    {
      "cell_type": "markdown",
      "source": [
        "# B0822012邱元肇_CH3筆記\n",
        "\n",
        "**作業要求:**\n",
        "\n",
        "依據第三週老師課後所講的作業繳交內容，僅需上傳回去自己試跑的程式與筆記就可以了\n",
        "\n",
        "**原始程式碼來源:**\n",
        "\n",
        "https://github.com/fchollet/deep-learning-with-python-notebooks\n",
        "\n",
        "Chapter 3: Introduction to Keras and TensorFlow\n"
      ],
      "metadata": {
        "id": "FbOTnZGqGj9J"
      }
    },
    {
      "cell_type": "markdown",
      "source": [
        "**本章摘要**\n",
        "* 介紹tensor的特性、指派、運算方法\n",
        "* tensor與numpy最大不同：**能算梯度**\n",
        "* 生成二維數據，自訂正向、反向傳播函數，訓練40次，更新權重w,b畫出數據決策邊界\n",
        "  * 方法：使用利用`np.random.multivariate_normal`產生數據\n",
        "  *定義正向傳播函數`def model(inputs)`\n",
        "  *定義損失函數`def square_loss(targets, predictions)`\n",
        "  *定義訓練函數(需給定學習率)`def training_step(inputs, targets)`\n",
        "  *以for迴圈執行訓練\n",
        "* 介紹模型設計(Dense層)、模型編譯(Compile)、模型訓練(model.fit())、取出預測結果(model.predict())"
      ],
      "metadata": {
        "id": "pePk0CXQHupf"
      }
    },
    {
      "cell_type": "markdown",
      "metadata": {
        "id": "_sE5cdu4BJbG"
      },
      "source": [
        "This is a companion notebook for the book [Deep Learning with Python, Second Edition](https://www.manning.com/books/deep-learning-with-python-second-edition?a_aid=keras&a_bid=76564dff). For readability, it only contains runnable code blocks and section titles, and omits everything else in the book: text paragraphs, figures, and pseudocode.\n",
        "\n",
        "**If you want to be able to follow what's going on, I recommend reading the notebook side by side with your copy of the book.**\n",
        "\n",
        "This notebook was generated for TensorFlow 2.6."
      ]
    },
    {
      "cell_type": "markdown",
      "metadata": {
        "id": "mnnNLtynBJbK"
      },
      "source": [
        "# Introduction to Keras and TensorFlow"
      ]
    },
    {
      "cell_type": "markdown",
      "metadata": {
        "id": "Ee11RsESBJbM"
      },
      "source": [
        "## What's TensorFlow?"
      ]
    },
    {
      "cell_type": "markdown",
      "metadata": {
        "id": "KfzTf54vBJbM"
      },
      "source": [
        "## What's Keras?"
      ]
    },
    {
      "cell_type": "markdown",
      "metadata": {
        "id": "Hj0A9UbbBJbN"
      },
      "source": [
        "## Keras and TensorFlow: A brief history"
      ]
    },
    {
      "cell_type": "markdown",
      "metadata": {
        "id": "6YZFEaVbBJbO"
      },
      "source": [
        "## Setting up a deep-learning workspace"
      ]
    },
    {
      "cell_type": "markdown",
      "metadata": {
        "id": "GTaAHIJCBJbP"
      },
      "source": [
        "### Jupyter notebooks: The preferred way to run deep-learning experiments"
      ]
    },
    {
      "cell_type": "markdown",
      "metadata": {
        "id": "Ea7sDmKNBJbQ"
      },
      "source": [
        "### Using Colaboratory"
      ]
    },
    {
      "cell_type": "markdown",
      "metadata": {
        "id": "ZYOW1cNMBJbR"
      },
      "source": [
        "#### First steps with Colaboratory"
      ]
    },
    {
      "cell_type": "markdown",
      "metadata": {
        "id": "A1U4M9BXBJbR"
      },
      "source": [
        "#### Installing packages with pip"
      ]
    },
    {
      "cell_type": "markdown",
      "metadata": {
        "id": "Z_ypVLkyBJbS"
      },
      "source": [
        "#### Using the GPU runtime"
      ]
    },
    {
      "cell_type": "markdown",
      "metadata": {
        "id": "2eqM3sy7BJbT"
      },
      "source": [
        "## First steps with TensorFlow"
      ]
    },
    {
      "cell_type": "markdown",
      "metadata": {
        "id": "LDUJVGwQBJbT"
      },
      "source": [
        "#### Constant tensors and variables"
      ]
    },
    {
      "cell_type": "markdown",
      "metadata": {
        "id": "t8OA2Z28BJbT"
      },
      "source": [
        "**All-ones or all-zeros tensors**"
      ]
    },
    {
      "cell_type": "code",
      "execution_count": null,
      "metadata": {
        "colab": {
          "base_uri": "https://localhost:8080/"
        },
        "id": "tWwJGlI3BJbU",
        "outputId": "1c9e13f9-e94a-4c43-b789-071f5ffffa84"
      },
      "outputs": [
        {
          "output_type": "stream",
          "name": "stdout",
          "text": [
            "tf.Tensor(\n",
            "[[1.]\n",
            " [1.]], shape=(2, 1), dtype=float32)\n",
            "========================================\n",
            "<tf.Variable 'Variable:0' shape=(2, 1) dtype=float32, numpy=\n",
            "array([[1.],\n",
            "       [1.]], dtype=float32)>\n",
            "========================================\n"
          ]
        }
      ],
      "source": [
        "import tensorflow as tf\n",
        "x = tf.ones(shape=(2, 1))\n",
        "print(x)\n",
        "print('===='*10)\n",
        "\n",
        "var_x = tf.Variable(x)\n",
        "print(var_x)\n",
        "print('===='*10)"
      ]
    },
    {
      "cell_type": "code",
      "source": [
        "print(x[0])\n",
        "print('===='*10)\n",
        "\n",
        "print(var_x)\n",
        "print('===='*10)\n",
        "\n",
        "print(var_x[0])\n",
        "print('===='*10)\n",
        "\n",
        "print(var_x[0,0])\n",
        "print('===='*10)"
      ],
      "metadata": {
        "colab": {
          "base_uri": "https://localhost:8080/"
        },
        "id": "yHGscssdBszk",
        "outputId": "7d00948c-1689-4d1c-bc86-c7d6a6c76496"
      },
      "execution_count": null,
      "outputs": [
        {
          "output_type": "stream",
          "name": "stdout",
          "text": [
            "tf.Tensor([1.], shape=(1,), dtype=float32)\n",
            "========================================\n",
            "<tf.Variable 'Variable:0' shape=(2, 1) dtype=float32, numpy=\n",
            "array([[1.],\n",
            "       [1.]], dtype=float32)>\n",
            "========================================\n",
            "tf.Tensor([1.], shape=(1,), dtype=float32)\n",
            "========================================\n",
            "tf.Tensor(1.0, shape=(), dtype=float32)\n",
            "========================================\n"
          ]
        }
      ]
    },
    {
      "cell_type": "code",
      "source": [
        "# var_x[0,0]= 1000 #會爆氣\n",
        "var_x[0,0].assign(1000)\n",
        "print(var_x)\n",
        "print('===='*10)\n",
        "\n",
        "var_x[0].assign([2000])\n",
        "print(var_x)\n",
        "print('===='*10)"
      ],
      "metadata": {
        "colab": {
          "base_uri": "https://localhost:8080/"
        },
        "id": "-nC-sx91B9u4",
        "outputId": "0c51f644-aa35-4772-911a-e69208de4880"
      },
      "execution_count": null,
      "outputs": [
        {
          "output_type": "stream",
          "name": "stdout",
          "text": [
            "<tf.Variable 'Variable:0' shape=(2, 1) dtype=float32, numpy=\n",
            "array([[1000.],\n",
            "       [   1.]], dtype=float32)>\n",
            "========================================\n",
            "<tf.Variable 'Variable:0' shape=(2, 1) dtype=float32, numpy=\n",
            "array([[2.e+03],\n",
            "       [1.e+00]], dtype=float32)>\n",
            "========================================\n"
          ]
        }
      ]
    },
    {
      "cell_type": "code",
      "execution_count": null,
      "metadata": {
        "colab": {
          "base_uri": "https://localhost:8080/"
        },
        "id": "7AvQA_UiBJbW",
        "outputId": "259a73a4-2e76-421b-86e0-e680045191ca"
      },
      "outputs": [
        {
          "output_type": "stream",
          "name": "stdout",
          "text": [
            "tf.Tensor(\n",
            "[[0.]\n",
            " [0.]], shape=(2, 1), dtype=float32)\n"
          ]
        }
      ],
      "source": [
        "x_shp = tf.zeros(shape=(2, 1))\n",
        "print(x_shp)"
      ]
    },
    {
      "cell_type": "markdown",
      "metadata": {
        "id": "TwYVJrK9BJbX"
      },
      "source": [
        "**Random tensors**"
      ]
    },
    {
      "cell_type": "code",
      "execution_count": 4,
      "metadata": {
        "colab": {
          "base_uri": "https://localhost:8080/"
        },
        "id": "SZTBT3OSBJbX",
        "outputId": "b8fa5405-520d-4b2f-efd1-fc8956dc65f8"
      },
      "outputs": [
        {
          "output_type": "stream",
          "name": "stdout",
          "text": [
            "tf.Tensor(\n",
            "[[-0.07445468]\n",
            " [ 0.2228161 ]\n",
            " [-0.7223058 ]], shape=(3, 1), dtype=float32)\n",
            "========================================\n",
            "tf.Tensor(\n",
            "[[[-0.8252818  -0.54269737]\n",
            "  [ 0.10484487  0.75185853]]\n",
            "\n",
            " [[-0.42891866  0.94716406]\n",
            "  [-0.6172725   0.21603373]]\n",
            "\n",
            " [[-0.40743005  0.63845164]\n",
            "  [-0.32675394 -0.7292842 ]]], shape=(3, 2, 2), dtype=float32)\n",
            "========================================\n",
            "tf.Tensor([-0.93376255], shape=(1,), dtype=float32)\n",
            "========================================\n"
          ]
        }
      ],
      "source": [
        "# normal distribution 常態分布\n",
        "\n",
        "x = tf.random.normal(shape=(3, 1), mean=0., stddev=1.)\n",
        "print(x)\n",
        "print('===='*10)\n",
        "\n",
        "x = tf.random.normal(shape=(3,2,2)) # mean=0., stddev=1.\n",
        "print(x)\n",
        "print('===='*10)\n",
        "\n",
        "x = tf.random.normal(shape=(1,)) # mean=0., stddev=1.\n",
        "print(x)\n",
        "print('===='*10)\n",
        "\n",
        "# 不能這樣\n",
        "# x = tf.random.normal() # mean=0., stddev=1.\n",
        "# print(x)\n",
        "# print('===='*10)"
      ]
    },
    {
      "cell_type": "code",
      "execution_count": 5,
      "metadata": {
        "colab": {
          "base_uri": "https://localhost:8080/"
        },
        "id": "jggZ9SZJBJbY",
        "outputId": "8d8fddf6-ba2d-436e-c09a-83923ae5507b"
      },
      "outputs": [
        {
          "output_type": "stream",
          "name": "stdout",
          "text": [
            "tf.Tensor(\n",
            "[[0.4957403 ]\n",
            " [0.338858  ]\n",
            " [0.88745666]], shape=(3, 1), dtype=float32)\n"
          ]
        }
      ],
      "source": [
        "# uniform distribution 均勻分布\n",
        "\n",
        "x = tf.random.uniform(shape=(3, 1), minval=0., maxval=1.)\n",
        "print(x)"
      ]
    },
    {
      "cell_type": "markdown",
      "metadata": {
        "id": "2KAdeviEBJbY"
      },
      "source": [
        "**NumPy arrays are assignable**"
      ]
    },
    {
      "cell_type": "code",
      "execution_count": 7,
      "metadata": {
        "id": "pSgVvWRjBJbZ",
        "colab": {
          "base_uri": "https://localhost:8080/"
        },
        "outputId": "455482fc-379d-4329-9aa2-087853ddd7e8"
      },
      "outputs": [
        {
          "output_type": "execute_result",
          "data": {
            "text/plain": [
              "array([[0., 1.],\n",
              "       [1., 1.]])"
            ]
          },
          "metadata": {},
          "execution_count": 7
        }
      ],
      "source": [
        "import numpy as np\n",
        "x = np.ones(shape=(2, 2))\n",
        "x[0, 0] = 0.\n",
        "x"
      ]
    },
    {
      "cell_type": "markdown",
      "source": [
        "**指派值給TensorFlow，馬上跳錯誤給你看:)**\n",
        "\n",
        "錯誤訊息： `EagerTensor object does not support item\n",
        "assignment.`\n",
        "\n",
        "原因：Tensor無法直接指派值"
      ],
      "metadata": {
        "id": "sNe0Hu7vV1fB"
      }
    },
    {
      "cell_type": "code",
      "source": [
        "x = tf.ones(shape=(2, 2))\n",
        "x[0, 0] = 0."
      ],
      "metadata": {
        "colab": {
          "base_uri": "https://localhost:8080/",
          "height": 184
        },
        "id": "SXfS-02tVrdN",
        "outputId": "0fab4048-87c8-4e1e-daff-6bd2f2af06d1"
      },
      "execution_count": 8,
      "outputs": [
        {
          "output_type": "error",
          "ename": "TypeError",
          "evalue": "ignored",
          "traceback": [
            "\u001b[0;31m---------------------------------------------------------------------------\u001b[0m",
            "\u001b[0;31mTypeError\u001b[0m                                 Traceback (most recent call last)",
            "\u001b[0;32m<ipython-input-8-09deea229eff>\u001b[0m in \u001b[0;36m<module>\u001b[0;34m\u001b[0m\n\u001b[1;32m      1\u001b[0m \u001b[0mx\u001b[0m \u001b[0;34m=\u001b[0m \u001b[0mtf\u001b[0m\u001b[0;34m.\u001b[0m\u001b[0mones\u001b[0m\u001b[0;34m(\u001b[0m\u001b[0mshape\u001b[0m\u001b[0;34m=\u001b[0m\u001b[0;34m(\u001b[0m\u001b[0;36m2\u001b[0m\u001b[0;34m,\u001b[0m \u001b[0;36m2\u001b[0m\u001b[0;34m)\u001b[0m\u001b[0;34m)\u001b[0m\u001b[0;34m\u001b[0m\u001b[0;34m\u001b[0m\u001b[0m\n\u001b[0;32m----> 2\u001b[0;31m \u001b[0mx\u001b[0m\u001b[0;34m[\u001b[0m\u001b[0;36m0\u001b[0m\u001b[0;34m,\u001b[0m \u001b[0;36m0\u001b[0m\u001b[0;34m]\u001b[0m \u001b[0;34m=\u001b[0m \u001b[0;36m0.\u001b[0m\u001b[0;34m\u001b[0m\u001b[0;34m\u001b[0m\u001b[0m\n\u001b[0m",
            "\u001b[0;31mTypeError\u001b[0m: 'tensorflow.python.framework.ops.EagerTensor' object does not support item assignment"
          ]
        }
      ]
    },
    {
      "cell_type": "markdown",
      "metadata": {
        "id": "uf15DgL_BJba"
      },
      "source": [
        "**Creating a TensorFlow variable**\n",
        "\n",
        "首先創建一個Variable Tensor，並給定初值"
      ]
    },
    {
      "cell_type": "code",
      "execution_count": 9,
      "metadata": {
        "colab": {
          "base_uri": "https://localhost:8080/"
        },
        "id": "Arg8Zka4BJba",
        "outputId": "04d2cc39-6787-449d-f58b-bde4a12e1593"
      },
      "outputs": [
        {
          "output_type": "stream",
          "name": "stdout",
          "text": [
            "<tf.Variable 'Variable:0' shape=(3, 1) dtype=float32, numpy=\n",
            "array([[1.3605561],\n",
            "       [1.2371366],\n",
            "       [0.2222842]], dtype=float32)>\n"
          ]
        }
      ],
      "source": [
        "# const 轉 variable tensor\n",
        "v = tf.Variable(initial_value=tf.random.normal(shape=(3, 1)))\n",
        "print(v)"
      ]
    },
    {
      "cell_type": "markdown",
      "metadata": {
        "id": "N1ggMyFNBJbb"
      },
      "source": [
        "**Assigning a value to a TensorFlow variable**"
      ]
    },
    {
      "cell_type": "code",
      "execution_count": 14,
      "metadata": {
        "colab": {
          "base_uri": "https://localhost:8080/"
        },
        "id": "BeFW9LbzBJbc",
        "outputId": "6e823776-c9d6-4add-ee1c-9bccd9e72fbf"
      },
      "outputs": [
        {
          "output_type": "execute_result",
          "data": {
            "text/plain": [
              "<tf.Variable 'UnreadVariable' shape=(3, 1) dtype=float32, numpy=\n",
              "array([[1.],\n",
              "       [1.],\n",
              "       [1.]], dtype=float32)>"
            ]
          },
          "metadata": {},
          "execution_count": 14
        }
      ],
      "source": [
        "v.assign(tf.ones((3, 1)))\n",
        "\n",
        "# 同樣，指派時要用 assign，不能直接用 =\n",
        "# v[0,0] = 2"
      ]
    },
    {
      "cell_type": "markdown",
      "metadata": {
        "id": "1qAxEcIRBJbc"
      },
      "source": [
        "**Assigning a value to a subset of a TensorFlow variable**"
      ]
    },
    {
      "cell_type": "code",
      "execution_count": 22,
      "metadata": {
        "colab": {
          "base_uri": "https://localhost:8080/"
        },
        "id": "zUQ5ZA9GBJbd",
        "outputId": "d97fa2fb-9929-44ae-98c4-442dec5ec24a"
      },
      "outputs": [
        {
          "output_type": "execute_result",
          "data": {
            "text/plain": [
              "<tf.Variable 'UnreadVariable' shape=(3, 1) dtype=float32, numpy=\n",
              "array([[3.],\n",
              "       [2.],\n",
              "       [2.]], dtype=float32)>"
            ]
          },
          "metadata": {},
          "execution_count": 22
        }
      ],
      "source": [
        "v[0, 0].assign(3.)"
      ]
    },
    {
      "cell_type": "markdown",
      "metadata": {
        "id": "sp5h9gu5BJbd"
      },
      "source": [
        "**Using `assign_add`**\n",
        "\n",
        "格式：`v.assign_add(Tensor)`\n",
        "\n",
        "*註：v與Tensor的shape必須完全一致"
      ]
    },
    {
      "cell_type": "code",
      "execution_count": 23,
      "metadata": {
        "colab": {
          "base_uri": "https://localhost:8080/"
        },
        "id": "eV3-JbD3BJbe",
        "outputId": "1f02f4b9-ffe0-4286-f765-62edd62f16a9"
      },
      "outputs": [
        {
          "output_type": "execute_result",
          "data": {
            "text/plain": [
              "<tf.Variable 'UnreadVariable' shape=(3, 1) dtype=float32, numpy=\n",
              "array([[4.],\n",
              "       [3.],\n",
              "       [3.]], dtype=float32)>"
            ]
          },
          "metadata": {},
          "execution_count": 23
        }
      ],
      "source": [
        "# 疊加 ( v + Tensor )\n",
        "v.assign_add(tf.ones((3, 1)))"
      ]
    },
    {
      "cell_type": "code",
      "source": [
        "# 相減 ( v - Tensor )\n",
        "v.assign_sub(tf.ones((3, 1)))"
      ],
      "metadata": {
        "colab": {
          "base_uri": "https://localhost:8080/"
        },
        "id": "DVD5NG1vcsTx",
        "outputId": "7bafcb47-209a-49c3-e0ab-036f8bbbbde0"
      },
      "execution_count": 24,
      "outputs": [
        {
          "output_type": "execute_result",
          "data": {
            "text/plain": [
              "<tf.Variable 'UnreadVariable' shape=(3, 1) dtype=float32, numpy=\n",
              "array([[3.],\n",
              "       [2.],\n",
              "       [2.]], dtype=float32)>"
            ]
          },
          "metadata": {},
          "execution_count": 24
        }
      ]
    },
    {
      "cell_type": "markdown",
      "metadata": {
        "id": "zXBhgJrdBJbe"
      },
      "source": [
        "#### Tensor operations: Doing math in TensorFlow"
      ]
    },
    {
      "cell_type": "markdown",
      "metadata": {
        "id": "spn74wOIBJbf"
      },
      "source": [
        "**A few basic math operations**\n",
        "\n",
        "* 平方：`tf.square(a)`\n",
        "\n",
        "* 開根號：`tf.sqrt(a)`\n",
        "\n",
        "* 矩陣相乘(同a@b)：`tf.matmul(a, b)`\n",
        "\n",
        "* e = e * d：`e *= d`"
      ]
    },
    {
      "cell_type": "code",
      "execution_count": 25,
      "metadata": {
        "id": "Etl3q296BJbg"
      },
      "outputs": [],
      "source": [
        "# 書商\n",
        "a = tf.ones((2, 2))\n",
        "b = tf.square(a)\n",
        "c = tf.sqrt(a)\n",
        "d = b + c\n",
        "e = tf.matmul(a, b)\n",
        "e *= d\n",
        "\n",
        "# 老師\n",
        "a = tf.ones((2, 2)) * 100\n",
        "b = tf.square(a) # 也可以直接 b = a**2\n",
        "c = tf.sqrt(a) # 也可以直接 b = a**0.5\n",
        "d = b + c\n",
        "e = tf.matmul(a, b) # 矩陣運算。也可以 a @ b\n",
        "e *= d"
      ]
    },
    {
      "cell_type": "code",
      "source": [
        "a"
      ],
      "metadata": {
        "colab": {
          "base_uri": "https://localhost:8080/"
        },
        "id": "KjiHxn2wLB6Q",
        "outputId": "93666b9b-e213-4d36-fc5c-2cc26c61ce64"
      },
      "execution_count": null,
      "outputs": [
        {
          "output_type": "execute_result",
          "data": {
            "text/plain": [
              "<tf.Tensor: shape=(2, 2), dtype=float32, numpy=\n",
              "array([[100., 100.],\n",
              "       [100., 100.]], dtype=float32)>"
            ]
          },
          "metadata": {},
          "execution_count": 42
        }
      ]
    },
    {
      "cell_type": "code",
      "source": [
        "b"
      ],
      "metadata": {
        "colab": {
          "base_uri": "https://localhost:8080/"
        },
        "id": "21DpsXPfHpDh",
        "outputId": "186bb8c8-ab2e-49c4-ae76-42f5cfbb6cfe"
      },
      "execution_count": null,
      "outputs": [
        {
          "output_type": "execute_result",
          "data": {
            "text/plain": [
              "<tf.Tensor: shape=(2, 2), dtype=float32, numpy=\n",
              "array([[10000., 10000.],\n",
              "       [10000., 10000.]], dtype=float32)>"
            ]
          },
          "metadata": {},
          "execution_count": 40
        }
      ]
    },
    {
      "cell_type": "code",
      "source": [
        "c"
      ],
      "metadata": {
        "colab": {
          "base_uri": "https://localhost:8080/"
        },
        "id": "n0FjYadfHuM7",
        "outputId": "97028574-c90d-47de-891e-7ffd8c4f0dfd"
      },
      "execution_count": null,
      "outputs": [
        {
          "output_type": "execute_result",
          "data": {
            "text/plain": [
              "<tf.Tensor: shape=(2, 2), dtype=float32, numpy=\n",
              "array([[10., 10.],\n",
              "       [10., 10.]], dtype=float32)>"
            ]
          },
          "metadata": {},
          "execution_count": 37
        }
      ]
    },
    {
      "cell_type": "code",
      "source": [
        "d"
      ],
      "metadata": {
        "colab": {
          "base_uri": "https://localhost:8080/"
        },
        "id": "WYEDEHbgI0Qa",
        "outputId": "66929e16-ee47-4a8f-b43e-c04f4977776d"
      },
      "execution_count": null,
      "outputs": [
        {
          "output_type": "execute_result",
          "data": {
            "text/plain": [
              "<tf.Tensor: shape=(2, 2), dtype=float32, numpy=\n",
              "array([[10010., 10010.],\n",
              "       [10010., 10010.]], dtype=float32)>"
            ]
          },
          "metadata": {},
          "execution_count": 38
        }
      ]
    },
    {
      "cell_type": "code",
      "source": [
        "print( tf.matmul(a, b) )\n",
        "print('===='*10)\n",
        "\n",
        "print( a @ b )\n",
        "print('===='*10)\n",
        "\n",
        "import numpy as np\n",
        "aa = np.ones((2,2))\n",
        "bb = np.ones((2,2))*10\n",
        "print(aa)\n",
        "print(bb)\n",
        "print(aa * bb)\n",
        "print(aa @ bb)\n",
        "print('===='*10)\n",
        "\n",
        "x1 = tf.Variable(initial_value=np.array([[1,5,6],[2,3,8]]),dtype='float32')\n",
        "x2 = tf.ones(shape=(2,3))*2\n",
        "x12乘 = x1*x2\n",
        "print('x1=',x1)\n",
        "print('x2=',x2)\n",
        "print('x1 * x2 =',x12乘)"
      ],
      "metadata": {
        "colab": {
          "base_uri": "https://localhost:8080/"
        },
        "id": "Q2NYfSziK8Cz",
        "outputId": "092fa8f1-9bcf-4299-e5b0-069897fef8d4"
      },
      "execution_count": 43,
      "outputs": [
        {
          "output_type": "stream",
          "name": "stdout",
          "text": [
            "tf.Tensor(\n",
            "[[2000000. 2000000.]\n",
            " [2000000. 2000000.]], shape=(2, 2), dtype=float32)\n",
            "========================================\n",
            "tf.Tensor(\n",
            "[[2000000. 2000000.]\n",
            " [2000000. 2000000.]], shape=(2, 2), dtype=float32)\n",
            "========================================\n",
            "[[1. 1.]\n",
            " [1. 1.]]\n",
            "[[10. 10.]\n",
            " [10. 10.]]\n",
            "[[10. 10.]\n",
            " [10. 10.]]\n",
            "[[20. 20.]\n",
            " [20. 20.]]\n",
            "========================================\n",
            "x1= <tf.Variable 'Variable:0' shape=(2, 3) dtype=float32, numpy=\n",
            "array([[1., 5., 6.],\n",
            "       [2., 3., 8.]], dtype=float32)>\n",
            "x2= tf.Tensor(\n",
            "[[2. 2. 2.]\n",
            " [2. 2. 2.]], shape=(2, 3), dtype=float32)\n",
            "x1 * x2 = tf.Tensor(\n",
            "[[ 2. 10. 12.]\n",
            " [ 4.  6. 16.]], shape=(2, 3), dtype=float32)\n"
          ]
        }
      ]
    },
    {
      "cell_type": "code",
      "source": [
        "print(a)\n",
        "print(b)\n",
        "print('===='*10)\n",
        "print(e)\n",
        "\n",
        "# e = e * d \n",
        "#   = tf.matmul(a, b) * (b+c)\n",
        "#   = tf.matmul(a, b) * (tf.square(a)+tf.sqrt(a))"
      ],
      "metadata": {
        "colab": {
          "base_uri": "https://localhost:8080/"
        },
        "id": "eZWUUdOjHP5U",
        "outputId": "77c9ee08-df70-4f23-821f-6f8996e51490"
      },
      "execution_count": 47,
      "outputs": [
        {
          "output_type": "stream",
          "name": "stdout",
          "text": [
            "tf.Tensor(\n",
            "[[100. 100.]\n",
            " [100. 100.]], shape=(2, 2), dtype=float32)\n",
            "tf.Tensor(\n",
            "[[10000. 10000.]\n",
            " [10000. 10000.]], shape=(2, 2), dtype=float32)\n",
            "========================================\n",
            "tf.Tensor(\n",
            "[[2.002e+10 2.002e+10]\n",
            " [2.002e+10 2.002e+10]], shape=(2, 2), dtype=float32)\n"
          ]
        }
      ]
    },
    {
      "cell_type": "markdown",
      "metadata": {
        "id": "BDZc-skhBJbh"
      },
      "source": [
        "#### A second look at the GradientTape API"
      ]
    },
    {
      "cell_type": "markdown",
      "metadata": {
        "id": "_xFSie2zBJbh"
      },
      "source": [
        "**Using the `GradientTape`**"
      ]
    },
    {
      "cell_type": "code",
      "execution_count": 48,
      "metadata": {
        "id": "9JuRZ3r_BJbh"
      },
      "outputs": [],
      "source": [
        "input_var = tf.Variable(initial_value=3.)\n",
        "with tf.GradientTape() as tape:\n",
        "   result = tf.square(input_var)\n",
        "gradient = tape.gradient(result, input_var)"
      ]
    },
    {
      "cell_type": "code",
      "source": [
        "input_var, gradient"
      ],
      "metadata": {
        "colab": {
          "base_uri": "https://localhost:8080/"
        },
        "id": "yfH5atovNeSt",
        "outputId": "e6fb5e18-9d28-4af7-85fb-5c33adc3868d"
      },
      "execution_count": 49,
      "outputs": [
        {
          "output_type": "execute_result",
          "data": {
            "text/plain": [
              "(<tf.Variable 'Variable:0' shape=() dtype=float32, numpy=3.0>,\n",
              " <tf.Tensor: shape=(), dtype=float32, numpy=6.0>)"
            ]
          },
          "metadata": {},
          "execution_count": 49
        }
      ]
    },
    {
      "cell_type": "code",
      "source": [
        "# 範例1 梯度計算的函式呼叫方法\n",
        "# x = 3\n",
        "# y = x^2 = 9\n",
        "# dy/dx = 2x = 6\n",
        "\n",
        "x = tf.Variable(3.)\n",
        "with tf.GradientTape() as t:\n",
        "  y = x**2\n",
        "dy_dx = t.gradient(y, x)\n",
        "\n",
        "x, y, dy_dx"
      ],
      "metadata": {
        "colab": {
          "base_uri": "https://localhost:8080/"
        },
        "id": "yABYSyEpNmLD",
        "outputId": "49f0aa65-f9d3-43df-8811-c48de2b531a7"
      },
      "execution_count": 50,
      "outputs": [
        {
          "output_type": "execute_result",
          "data": {
            "text/plain": [
              "(<tf.Variable 'Variable:0' shape=() dtype=float32, numpy=3.0>,\n",
              " <tf.Tensor: shape=(), dtype=float32, numpy=9.0>,\n",
              " <tf.Tensor: shape=(), dtype=float32, numpy=6.0>)"
            ]
          },
          "metadata": {},
          "execution_count": 50
        }
      ]
    },
    {
      "cell_type": "code",
      "source": [
        "# 範例2 導入函數，提高程式靈活性\n",
        "\n",
        "def f(x):\n",
        "  y = x**3 + x**2 + x +1\n",
        "  return y\n",
        "\n",
        "x = tf.Variable(10.)\n",
        "with tf.GradientTape() as t:\n",
        "  y = f(x)\n",
        "dy_dx = t.gradient(y, x)\n",
        "\n",
        "x, y, dy_dx"
      ],
      "metadata": {
        "colab": {
          "base_uri": "https://localhost:8080/"
        },
        "id": "QXq9kmRmOkNq",
        "outputId": "bed0e7a4-b717-411f-ea4f-d7467e56da52"
      },
      "execution_count": 51,
      "outputs": [
        {
          "output_type": "execute_result",
          "data": {
            "text/plain": [
              "(<tf.Variable 'Variable:0' shape=() dtype=float32, numpy=10.0>,\n",
              " <tf.Tensor: shape=(), dtype=float32, numpy=1111.0>,\n",
              " <tf.Tensor: shape=(), dtype=float32, numpy=321.0>)"
            ]
          },
          "metadata": {},
          "execution_count": 51
        }
      ]
    },
    {
      "cell_type": "code",
      "source": [
        "# 範例3 即使函數極其複雜也能算出梯度\n",
        "\n",
        "def f(x):\n",
        "  y = tf.sin(x**3) + tf.exp(x**2) + x +1\n",
        "  return y\n",
        "\n",
        "x = tf.Variable(10.)\n",
        "with tf.GradientTape() as t:\n",
        "  y = f(x)\n",
        "dy_dx = t.gradient(y, x)\n",
        "\n",
        "x, y, dy_dx"
      ],
      "metadata": {
        "colab": {
          "base_uri": "https://localhost:8080/"
        },
        "id": "vDwSc8ncPhFW",
        "outputId": "e624b328-58c2-409e-cd8f-b52a54f97411"
      },
      "execution_count": 52,
      "outputs": [
        {
          "output_type": "execute_result",
          "data": {
            "text/plain": [
              "(<tf.Variable 'Variable:0' shape=() dtype=float32, numpy=10.0>,\n",
              " <tf.Tensor: shape=(), dtype=float32, numpy=inf>,\n",
              " <tf.Tensor: shape=(), dtype=float32, numpy=inf>)"
            ]
          },
          "metadata": {},
          "execution_count": 52
        }
      ]
    },
    {
      "cell_type": "code",
      "source": [
        "# 範例4 複合函數，也能計算梯度\n",
        "\n",
        "def f(x):\n",
        "  y = tf.sin(x) + tf.exp(-x) + 1\n",
        "  return y\n",
        "def g(x):\n",
        "  y = tf.cos(x) + tf.exp(-2*x)\n",
        "  return y\n",
        "\n",
        "x = tf.Variable(1.)\n",
        "with tf.GradientTape() as t:\n",
        "  y = g(f(x))\n",
        "\n",
        "dy_dx = t.gradient(y, x)\n",
        "\n",
        "x, y, dy_dx"
      ],
      "metadata": {
        "colab": {
          "base_uri": "https://localhost:8080/"
        },
        "id": "MrKkbkYuPtAT",
        "outputId": "883d2bfc-8614-4a84-bceb-cd0c831abc8b"
      },
      "execution_count": 53,
      "outputs": [
        {
          "output_type": "execute_result",
          "data": {
            "text/plain": [
              "(<tf.Variable 'Variable:0' shape=() dtype=float32, numpy=1.0>,\n",
              " <tf.Tensor: shape=(), dtype=float32, numpy=-0.58398515>,\n",
              " <tf.Tensor: shape=(), dtype=float32, numpy=-0.1426037>)"
            ]
          },
          "metadata": {},
          "execution_count": 53
        }
      ]
    },
    {
      "cell_type": "markdown",
      "source": [
        "**W3上課進度至以上為止**\n",
        "\n",
        "回家作業：除了以上code回家試run，也試run以下code"
      ],
      "metadata": {
        "id": "b68dT0pSRz94"
      }
    },
    {
      "cell_type": "markdown",
      "metadata": {
        "id": "b4_sj0VVBJbi"
      },
      "source": [
        "**Using `GradientTape` with constant tensor inputs**"
      ]
    },
    {
      "cell_type": "code",
      "execution_count": 62,
      "metadata": {
        "id": "9_kuU_wZBJbi",
        "colab": {
          "base_uri": "https://localhost:8080/"
        },
        "outputId": "b0036dfe-22f0-465e-ac01-9f3b740e45b4"
      },
      "outputs": [
        {
          "output_type": "execute_result",
          "data": {
            "text/plain": [
              "(<tf.Tensor: shape=(), dtype=float32, numpy=3.0>,\n",
              " <tf.Tensor: shape=(), dtype=float32, numpy=9.0>,\n",
              " None)"
            ]
          },
          "metadata": {},
          "execution_count": 62
        }
      ],
      "source": [
        "#沒加入 .watch() => 跑不出梯度結果\n",
        "input_const = tf.constant(3.)\n",
        "with tf.GradientTape() as tape:\n",
        "   result = tf.square(input_const)\n",
        "gradient = tape.gradient(result, input_const)\n",
        "input_const,result,gradient"
      ]
    },
    {
      "cell_type": "code",
      "source": [
        "#有加入 .watch() => 才可有梯度結果\n",
        "input_const = tf.constant(3.)\n",
        "with tf.GradientTape() as tape:\n",
        "   tape.watch(input_const)\n",
        "   result = tf.square(input_const)\n",
        "gradient = tape.gradient(result, input_const)\n",
        "input_const,result,gradient"
      ],
      "metadata": {
        "colab": {
          "base_uri": "https://localhost:8080/"
        },
        "id": "nApHFrwrqNKs",
        "outputId": "422f4329-f9fb-4e25-830b-6aac11fc50e7"
      },
      "execution_count": 63,
      "outputs": [
        {
          "output_type": "execute_result",
          "data": {
            "text/plain": [
              "(<tf.Tensor: shape=(), dtype=float32, numpy=3.0>,\n",
              " <tf.Tensor: shape=(), dtype=float32, numpy=9.0>,\n",
              " <tf.Tensor: shape=(), dtype=float32, numpy=6.0>)"
            ]
          },
          "metadata": {},
          "execution_count": 63
        }
      ]
    },
    {
      "cell_type": "markdown",
      "metadata": {
        "id": "PERUnCs9BJbj"
      },
      "source": [
        "**Using nested gradient tapes to compute second-order gradients**"
      ]
    },
    {
      "cell_type": "code",
      "execution_count": 66,
      "metadata": {
        "id": "0MwVO73YBJbj",
        "colab": {
          "base_uri": "https://localhost:8080/"
        },
        "outputId": "470ac82c-74c1-49af-f66e-4237b2f9341e"
      },
      "outputs": [
        {
          "output_type": "execute_result",
          "data": {
            "text/plain": [
              "(<tf.Variable 'Variable:0' shape=() dtype=float32, numpy=0.0>,\n",
              " <tf.Tensor: shape=(), dtype=float32, numpy=0.0>,\n",
              " <tf.Tensor: shape=(), dtype=float32, numpy=0.0>,\n",
              " <tf.Tensor: shape=(), dtype=float32, numpy=9.8>)"
            ]
          },
          "metadata": {},
          "execution_count": 66
        }
      ],
      "source": [
        "# 給定x=4.9t^2 ，計算a=x''=?\n",
        "time = tf.Variable(0.)\n",
        "with tf.GradientTape() as outer_tape:\n",
        "    with tf.GradientTape() as inner_tape:\n",
        "        position =  4.9 * time ** 2   # x=4.9t^2\n",
        "    speed = inner_tape.gradient(position, time)\n",
        "acceleration = outer_tape.gradient(speed, time)\n",
        "time, position, speed, acceleration"
      ]
    },
    {
      "cell_type": "markdown",
      "metadata": {
        "id": "aElFFOqOBJbk"
      },
      "source": [
        "#### An end-to-end example: A linear classifier in pure TensorFlow"
      ]
    },
    {
      "cell_type": "markdown",
      "metadata": {
        "id": "9qLN2qgnBJbk"
      },
      "source": [
        "**Generating two classes of random points in a 2D plane**\n",
        "\n",
        "**使用np.random.multivariate_normal**\n",
        "\n",
        "x,y的二維常態分布：\n",
        "\n",
        "<img src=\"https://picx.zhimg.com/80/v2-8db5e6317b8164e1b56403a12fd65480_720w.webp?source=1940ef5c\">\n",
        "\n",
        "**舉例:** 設置mean=[3，0]，cov=diag(1，1)，使用300個點繪製散布圖，列印出X和Y的方差均接近於設定的值1。也可以看到散布圖中，X和Y的均值大致上分别是3和0。\n",
        "\n",
        "<img src=\"https://picx.zhimg.com/80/v2-db78d0356dddee2d57e0b5be7dd6ce24_720w.webp?source=1940ef5c\">\n",
        "\n",
        "<img src=\"https://picx.zhimg.com/v2-bf9cbfe0500264cead55d021c4840c11_r.jpg?source=1940ef5c\">\n"
      ]
    },
    {
      "cell_type": "code",
      "execution_count": 73,
      "metadata": {
        "id": "7p9dS3OyBJbl",
        "colab": {
          "base_uri": "https://localhost:8080/"
        },
        "outputId": "c71e6337-1c21-4610-cce3-c65b288e7dd4"
      },
      "outputs": [
        {
          "output_type": "stream",
          "name": "stdout",
          "text": [
            "[[ 0.93469757  3.0685841 ]\n",
            " [-1.57415098  2.17715664]\n",
            " [-2.04197999  1.6682978 ]\n",
            " ...\n",
            " [ 0.12395299  2.88434129]\n",
            " [ 0.71284273  3.37020426]\n",
            " [-1.60840808  0.41208567]] (1000, 2)\n",
            "[[ 5.60520282  0.66304698]\n",
            " [ 3.13020496  0.08941552]\n",
            " [ 2.17681203  0.69512296]\n",
            " ...\n",
            " [ 1.89314416  0.73901858]\n",
            " [ 2.26776419  0.31561356]\n",
            " [ 2.69657199 -0.08850704]] (1000, 2)\n"
          ]
        }
      ],
      "source": [
        "num_samples_per_class = 1000\n",
        "negative_samples = np.random.multivariate_normal(\n",
        "    mean=[0, 3],\n",
        "    cov=[[1, 0.5],[0.5, 1]],\n",
        "    size=num_samples_per_class)\n",
        "positive_samples = np.random.multivariate_normal(\n",
        "    mean=[3, 0],\n",
        "    cov=[[1, 0.5],[0.5, 1]],\n",
        "    size=num_samples_per_class)\n",
        "print(negative_samples,np.shape(negative_samples))\n",
        "print(positive_samples,np.shape(positive_samples))"
      ]
    },
    {
      "cell_type": "code",
      "source": [
        "mean = [0, 0]\n",
        "cov = [[1, 0], [0, 100]]\n",
        "import matplotlib.pyplot as plt\n",
        "x, y = np.random.multivariate_normal(mean, cov, 5000).T\n",
        "plt.plot(x, y, 'x')\n",
        "plt.axis('equal')\n",
        "plt.show()"
      ],
      "metadata": {
        "colab": {
          "base_uri": "https://localhost:8080/",
          "height": 267
        },
        "id": "KItJZiqzuG23",
        "outputId": "afdd2af6-d881-44ab-cffa-a71d776866eb"
      },
      "execution_count": 76,
      "outputs": [
        {
          "output_type": "display_data",
          "data": {
            "text/plain": [
              "<Figure size 432x288 with 1 Axes>"
            ],
            "image/png": "[encoded data removed]"
          },
          "metadata": {
            "needs_background": "light"
          }
        }
      ]
    },
    {
      "cell_type": "code",
      "source": [
        "print(np.eye(1)) # 用於1D常態分布\n",
        "print(np.eye(2)) # 用於2D常態分布"
      ],
      "metadata": {
        "colab": {
          "base_uri": "https://localhost:8080/"
        },
        "id": "knuqqqS6sWDL",
        "outputId": "8d73c105-c40b-47ef-d4ec-0b48ec5f96c2"
      },
      "execution_count": 81,
      "outputs": [
        {
          "output_type": "stream",
          "name": "stdout",
          "text": [
            "[[1.]]\n",
            "[[1. 0.]\n",
            " [0. 1.]]\n"
          ]
        }
      ]
    },
    {
      "cell_type": "markdown",
      "metadata": {
        "id": "ohrR9PLLBJbl"
      },
      "source": [
        "**Stacking the two classes into an array with shape (2000, 2)**\n",
        "\n",
        "將negative_samples與positive_samples合併"
      ]
    },
    {
      "cell_type": "code",
      "execution_count": 82,
      "metadata": {
        "id": "zRyb640aBJbm",
        "colab": {
          "base_uri": "https://localhost:8080/"
        },
        "outputId": "41ebf19a-45fb-428b-d2b0-3b2fa606d3a6"
      },
      "outputs": [
        {
          "output_type": "execute_result",
          "data": {
            "text/plain": [
              "array([[ 0.93469757,  3.0685842 ],\n",
              "       [-1.574151  ,  2.1771567 ],\n",
              "       [-2.04198   ,  1.6682978 ],\n",
              "       ...,\n",
              "       [ 1.8931441 ,  0.73901856],\n",
              "       [ 2.267764  ,  0.31561357],\n",
              "       [ 2.696572  , -0.08850704]], dtype=float32)"
            ]
          },
          "metadata": {},
          "execution_count": 82
        }
      ],
      "source": [
        "inputs = np.vstack((negative_samples, positive_samples)).astype(np.float32)\n",
        "inputs"
      ]
    },
    {
      "cell_type": "markdown",
      "metadata": {
        "id": "dFZZvzVPBJbm"
      },
      "source": [
        "**Generating the corresponding targets (0 and 1)**"
      ]
    },
    {
      "cell_type": "markdown",
      "source": [
        "新增標籤矩陣targets：\n",
        "\n",
        "前1000列標籤0 (用`np.zeros`)\n",
        "\n",
        "後1000列標籤1 (用`np.ones`)"
      ],
      "metadata": {
        "id": "QBCZTF4L4-q-"
      }
    },
    {
      "cell_type": "code",
      "execution_count": 84,
      "metadata": {
        "id": "N-z1sRN_BJbn",
        "colab": {
          "base_uri": "https://localhost:8080/"
        },
        "outputId": "5058e0c7-5c96-4241-b690-6c540ea6484d"
      },
      "outputs": [
        {
          "output_type": "execute_result",
          "data": {
            "text/plain": [
              "array([[0.],\n",
              "       [0.],\n",
              "       [0.],\n",
              "       ...,\n",
              "       [1.],\n",
              "       [1.],\n",
              "       [1.]], dtype=float32)"
            ]
          },
          "metadata": {},
          "execution_count": 84
        }
      ],
      "source": [
        "# 剛剛有定義num_samples_per_class = 1000\n",
        "targets = np.vstack((np.zeros((num_samples_per_class, 1), dtype=\"float32\"),\n",
        "                     np.ones((num_samples_per_class, 1), dtype=\"float32\")))\n",
        "targets"
      ]
    },
    {
      "cell_type": "markdown",
      "metadata": {
        "id": "pHzVAGDvBJbn"
      },
      "source": [
        "**Plotting the two point classes**"
      ]
    },
    {
      "cell_type": "code",
      "execution_count": 93,
      "metadata": {
        "id": "LiCNOldCBJbn",
        "colab": {
          "base_uri": "https://localhost:8080/",
          "height": 266
        },
        "outputId": "21330711-7177-45e4-e3a1-9dbd493a5860"
      },
      "outputs": [
        {
          "output_type": "display_data",
          "data": {
            "text/plain": [
              "<Figure size 432x288 with 1 Axes>"
            ],
            "image/png": "[encoded data removed]"
          },
          "metadata": {
            "needs_background": "light"
          }
        }
      ],
      "source": [
        "# 畫出剛才合併後inputs的散布圖(2000,2)，以標籤矩陣targets區分顏色\n",
        "import matplotlib.pyplot as plt\n",
        "plt.scatter(inputs[:, 0], inputs[:, 1], c=targets[:, 0])\n",
        "plt.show()"
      ]
    },
    {
      "cell_type": "markdown",
      "metadata": {
        "id": "pHJb7oPOBJbo"
      },
      "source": [
        "**Creating the linear classifier variables**\n",
        "\n",
        "目標：找到能夠區分紫色、黃色數據的直線"
      ]
    },
    {
      "cell_type": "code",
      "execution_count": 101,
      "metadata": {
        "id": "tYr0sUM8BJbo",
        "colab": {
          "base_uri": "https://localhost:8080/"
        },
        "outputId": "afd01bf8-5220-46f3-ea6c-a0bf5d0b1ba2"
      },
      "outputs": [
        {
          "output_type": "stream",
          "name": "stdout",
          "text": [
            "<tf.Variable 'Variable:0' shape=(2, 1) dtype=float32, numpy=\n",
            "array([[0.6922313 ],\n",
            "       [0.96307623]], dtype=float32)> \n",
            "\n",
            " <tf.Variable 'Variable:0' shape=(1,) dtype=float32, numpy=array([0.], dtype=float32)>\n"
          ]
        }
      ],
      "source": [
        "# prediction = w * input + b\n",
        "\n",
        "input_dim = 2\n",
        "output_dim = 1\n",
        "W = tf.Variable(initial_value=tf.random.uniform(shape=(input_dim, output_dim)))\n",
        "b = tf.Variable(initial_value=tf.zeros(shape=(output_dim,)))\n",
        "print(W,'\\n\\n',b)"
      ]
    },
    {
      "cell_type": "markdown",
      "metadata": {
        "id": "pD92rQcCBJbo"
      },
      "source": [
        "**The forward pass function**\n",
        "\n",
        "定義正向傳播函數"
      ]
    },
    {
      "cell_type": "code",
      "execution_count": 102,
      "metadata": {
        "id": "ZQJea_bPBJbo"
      },
      "outputs": [],
      "source": [
        "def model(inputs):\n",
        "    return tf.matmul(inputs, W) + b"
      ]
    },
    {
      "cell_type": "markdown",
      "metadata": {
        "id": "XYQ_pKxEBJbp"
      },
      "source": [
        "**The mean squared error loss function**\n",
        "\n",
        "定義損失函數(採用均方差)"
      ]
    },
    {
      "cell_type": "code",
      "execution_count": 119,
      "metadata": {
        "id": "UXms0LVyBJbp"
      },
      "outputs": [],
      "source": [
        "def square_loss(targets, predictions):\n",
        "    per_sample_losses = tf.square(targets - predictions)\n",
        "    return tf.reduce_mean(per_sample_losses) #回傳損失矩陣的平均值(是一個數)"
      ]
    },
    {
      "cell_type": "markdown",
      "metadata": {
        "id": "ChiAB5kDBJbq"
      },
      "source": [
        "**The training step function**\n",
        "\n",
        "給定學習率0.1，定義一個訓練周期的函數\n"
      ]
    },
    {
      "cell_type": "code",
      "execution_count": 124,
      "metadata": {
        "id": "f0GH5k_vBJbq"
      },
      "outputs": [],
      "source": [
        "learning_rate = 0.1\n",
        "\n",
        "def training_step(inputs, targets):\n",
        "    with tf.GradientTape() as tape: # tape 即 t\n",
        "        predictions = model(inputs) #正向傳播； y = x...\n",
        "        loss = square_loss(targets, predictions) #計算損失； y = x...\n",
        "    \n",
        "    #dy/dx = t.gradient(y, x)\n",
        "    grad_loss_wrt_W, grad_loss_wrt_b = tape.gradient(loss, [W, b]) \n",
        "\n",
        "    #反向傳播\n",
        "    W.assign_sub(grad_loss_wrt_W * learning_rate) # W = W - (lossW * rate)\n",
        "    b.assign_sub(grad_loss_wrt_b * learning_rate) # b = b - (lossb * rate)\n",
        "    return loss"
      ]
    },
    {
      "cell_type": "markdown",
      "source": [
        "**梯度計算的用法(複習)**"
      ],
      "metadata": {
        "id": "ECNMT0HaAMUs"
      }
    },
    {
      "cell_type": "code",
      "source": [
        "x = tf.Variable(3.)\n",
        "with tf.GradientTape() as t:\n",
        "  y = x**2\n",
        "dy_dx = t.gradient(y, x)\n",
        "\n",
        "x, y, dy_dx"
      ],
      "metadata": {
        "colab": {
          "base_uri": "https://localhost:8080/"
        },
        "id": "dNwdIAaSAJ9X",
        "outputId": "eb6132e3-c672-48d6-819d-5ad12754eeb8"
      },
      "execution_count": 121,
      "outputs": [
        {
          "output_type": "execute_result",
          "data": {
            "text/plain": [
              "(<tf.Variable 'Variable:0' shape=() dtype=float32, numpy=3.0>,\n",
              " <tf.Tensor: shape=(), dtype=float32, numpy=9.0>,\n",
              " <tf.Tensor: shape=(), dtype=float32, numpy=6.0>)"
            ]
          },
          "metadata": {},
          "execution_count": 121
        }
      ]
    },
    {
      "cell_type": "markdown",
      "metadata": {
        "id": "Q3UzrwIDBJbq"
      },
      "source": [
        "**The batch training loop**\n",
        "\n",
        "以for迴圈重複訓練，訓練40次"
      ]
    },
    {
      "cell_type": "code",
      "execution_count": 105,
      "metadata": {
        "id": "Xrh5epq3BJbq",
        "colab": {
          "base_uri": "https://localhost:8080/"
        },
        "outputId": "e7333a85-771a-434c-c361-83fed78cb74b"
      },
      "outputs": [
        {
          "output_type": "stream",
          "name": "stdout",
          "text": [
            "Loss at step 0: 6.7162\n",
            "Loss at step 1: 0.8680\n",
            "Loss at step 2: 0.2458\n",
            "Loss at step 3: 0.1591\n",
            "Loss at step 4: 0.1395\n",
            "Loss at step 5: 0.1290\n",
            "Loss at step 6: 0.1203\n",
            "Loss at step 7: 0.1124\n",
            "Loss at step 8: 0.1052\n",
            "Loss at step 9: 0.0986\n",
            "Loss at step 10: 0.0925\n",
            "Loss at step 11: 0.0869\n",
            "Loss at step 12: 0.0818\n",
            "Loss at step 13: 0.0771\n",
            "Loss at step 14: 0.0728\n",
            "Loss at step 15: 0.0688\n",
            "Loss at step 16: 0.0652\n",
            "Loss at step 17: 0.0619\n",
            "Loss at step 18: 0.0588\n",
            "Loss at step 19: 0.0560\n",
            "Loss at step 20: 0.0534\n",
            "Loss at step 21: 0.0511\n",
            "Loss at step 22: 0.0489\n",
            "Loss at step 23: 0.0469\n",
            "Loss at step 24: 0.0451\n",
            "Loss at step 25: 0.0434\n",
            "Loss at step 26: 0.0419\n",
            "Loss at step 27: 0.0405\n",
            "Loss at step 28: 0.0392\n",
            "Loss at step 29: 0.0380\n",
            "Loss at step 30: 0.0369\n",
            "Loss at step 31: 0.0359\n",
            "Loss at step 32: 0.0350\n",
            "Loss at step 33: 0.0342\n",
            "Loss at step 34: 0.0334\n",
            "Loss at step 35: 0.0327\n",
            "Loss at step 36: 0.0320\n",
            "Loss at step 37: 0.0314\n",
            "Loss at step 38: 0.0309\n",
            "Loss at step 39: 0.0304\n"
          ]
        }
      ],
      "source": [
        "for step in range(40):\n",
        "    loss = training_step(inputs, targets)\n",
        "    print(f\"Loss at step {step}: {loss:.4f}\")"
      ]
    },
    {
      "cell_type": "code",
      "execution_count": 106,
      "metadata": {
        "id": "zotRjYBUBJbr",
        "colab": {
          "base_uri": "https://localhost:8080/",
          "height": 266
        },
        "outputId": "5cc39eb5-affc-433b-a380-da718ec4c35e"
      },
      "outputs": [
        {
          "output_type": "display_data",
          "data": {
            "text/plain": [
              "<Figure size 432x288 with 1 Axes>"
            ],
            "image/png": "[encoded data removed]"
          },
          "metadata": {
            "needs_background": "light"
          }
        }
      ],
      "source": [
        "predictions = model(inputs)\n",
        "plt.scatter(inputs[:, 0], inputs[:, 1], c=predictions[:, 0] > 0.5)\n",
        "plt.show()"
      ]
    },
    {
      "cell_type": "code",
      "execution_count": 107,
      "metadata": {
        "id": "E8AoygknBJbr",
        "colab": {
          "base_uri": "https://localhost:8080/",
          "height": 283
        },
        "outputId": "6a1bf39f-8f85-4b71-ea4b-b2728c1f8649"
      },
      "outputs": [
        {
          "output_type": "execute_result",
          "data": {
            "text/plain": [
              "<matplotlib.collections.PathCollection at 0x7efbcd38ab90>"
            ]
          },
          "metadata": {},
          "execution_count": 107
        },
        {
          "output_type": "display_data",
          "data": {
            "text/plain": [
              "<Figure size 432x288 with 1 Axes>"
            ],
            "image/png": "[encoded data removed]"
          },
          "metadata": {
            "needs_background": "light"
          }
        }
      ],
      "source": [
        "# 畫出區隔直線 prediction = [[w1],[w2]] * [x,y] + b\n",
        "#              = w1*x + w2*y + b\n",
        "x = np.linspace(-1, 4, 100)\n",
        "y = - W[0] /  W[1] * x + (0.5 - b) / W[1]\n",
        "plt.plot(x, y, \"-r\")\n",
        "plt.scatter(inputs[:, 0], inputs[:, 1], c=predictions[:, 0] > 0.5)"
      ]
    },
    {
      "cell_type": "markdown",
      "metadata": {
        "id": "l_UaGHUUBJbs"
      },
      "source": [
        "## Anatomy of a neural network: Understanding core Keras APIs"
      ]
    },
    {
      "cell_type": "markdown",
      "metadata": {
        "id": "4FNv0VbsBJbs"
      },
      "source": [
        "### Layers: The building blocks of deep learning"
      ]
    },
    {
      "cell_type": "markdown",
      "metadata": {
        "id": "0x_b0E0OBJbs"
      },
      "source": [
        "#### The base Layer class in Keras"
      ]
    },
    {
      "cell_type": "markdown",
      "metadata": {
        "id": "P3lvYOB4BJbs"
      },
      "source": [
        "**A `Dense` layer implemented as a `Layer` subclass**\n",
        "\n",
        "設計神經網路的Dense層"
      ]
    },
    {
      "cell_type": "code",
      "execution_count": 108,
      "metadata": {
        "id": "_DVNQ_CHBJbt"
      },
      "outputs": [],
      "source": [
        "from tensorflow import keras\n",
        "\n",
        "class SimpleDense(keras.layers.Layer):\n",
        "\n",
        "    def __init__(self, units, activation=None):\n",
        "        super().__init__()\n",
        "        self.units = units\n",
        "        self.activation = activation\n",
        "\n",
        "    def build(self, input_shape): # 給定W,b的初始權重\n",
        "        input_dim = input_shape[-1]\n",
        "        self.W = self.add_weight(shape=(input_dim, self.units),\n",
        "                                 initializer=\"random_normal\")\n",
        "        self.b = self.add_weight(shape=(self.units,),\n",
        "                                 initializer=\"zeros\")\n",
        "\n",
        "    def call(self, inputs): # 正向傳播\n",
        "        y = tf.matmul(inputs, self.W) + self.b\n",
        "        if self.activation is not None:\n",
        "            y = self.activation(y)\n",
        "        return y"
      ]
    },
    {
      "cell_type": "code",
      "execution_count": 109,
      "metadata": {
        "id": "12T34b2PBJbt",
        "colab": {
          "base_uri": "https://localhost:8080/"
        },
        "outputId": "132bbea8-63a4-4c62-b4fa-9be69e6076b0"
      },
      "outputs": [
        {
          "output_type": "stream",
          "name": "stdout",
          "text": [
            "(2, 32)\n"
          ]
        }
      ],
      "source": [
        "my_dense = SimpleDense(units=32, activation=tf.nn.relu)\n",
        "input_tensor = tf.ones(shape=(2, 784))\n",
        "output_tensor = my_dense(input_tensor)\n",
        "print(output_tensor.shape)"
      ]
    },
    {
      "cell_type": "markdown",
      "metadata": {
        "id": "KVGyX35-BJbt"
      },
      "source": [
        "#### Automatic shape inference: Building layers on the fly\n",
        "\n",
        "引用keras現成的Dense層"
      ]
    },
    {
      "cell_type": "code",
      "execution_count": 125,
      "metadata": {
        "id": "deHGtgTdBJbu"
      },
      "outputs": [],
      "source": [
        "from tensorflow.keras import layers\n",
        "layer = layers.Dense(32, activation=\"relu\") #建立輸入層(32)，啟動函數relu"
      ]
    },
    {
      "cell_type": "code",
      "execution_count": 126,
      "metadata": {
        "id": "5sKJgbDkBJbu"
      },
      "outputs": [],
      "source": [
        "from tensorflow.keras import models\n",
        "from tensorflow.keras import layers\n",
        "model = models.Sequential([\n",
        "    layers.Dense(32, activation=\"relu\"),\n",
        "    layers.Dense(32) #建立大小為32的隱藏層(假定尚未添加輸出層)\n",
        "])"
      ]
    },
    {
      "cell_type": "code",
      "execution_count": 127,
      "metadata": {
        "id": "jLKqic9gBJbu"
      },
      "outputs": [],
      "source": [
        "model = keras.Sequential([\n",
        "    SimpleDense(32, activation=\"relu\"),\n",
        "    SimpleDense(64, activation=\"relu\"),\n",
        "    SimpleDense(32, activation=\"relu\"),\n",
        "    SimpleDense(10, activation=\"softmax\") #建立大小為10的輸出層，啟動函數softmax\n",
        "])"
      ]
    },
    {
      "cell_type": "markdown",
      "metadata": {
        "id": "C2ZWnS3fBJbv"
      },
      "source": [
        "### From layers to models"
      ]
    },
    {
      "cell_type": "markdown",
      "metadata": {
        "id": "4fTBGcCRBJbv"
      },
      "source": [
        "### The \"compile\" step: Configuring the learning process\n",
        "\n",
        "模型建置完成，編譯模型成高階語言，使後續的程式能夠拿來進行訓練"
      ]
    },
    {
      "cell_type": "code",
      "execution_count": 128,
      "metadata": {
        "id": "14T6m4MyBJbv"
      },
      "outputs": [],
      "source": [
        "model = keras.Sequential([keras.layers.Dense(1)])\n",
        "# 編譯模型，決定優化器、損失函數與準確率評估方法\n",
        "model.compile(optimizer=\"rmsprop\",\n",
        "              loss=\"mean_squared_error\",\n",
        "              metrics=[\"accuracy\"])"
      ]
    },
    {
      "cell_type": "code",
      "execution_count": 129,
      "metadata": {
        "id": "9UoeeTmqBJbv"
      },
      "outputs": [],
      "source": [
        "model.compile(optimizer=keras.optimizers.RMSprop(),\n",
        "              loss=keras.losses.MeanSquaredError(),\n",
        "              metrics=[keras.metrics.BinaryAccuracy()])"
      ]
    },
    {
      "cell_type": "markdown",
      "metadata": {
        "id": "MMAGNKGwBJbw"
      },
      "source": [
        "### Picking a loss function"
      ]
    },
    {
      "cell_type": "markdown",
      "metadata": {
        "id": "z17mbjDSBJbw"
      },
      "source": [
        "### Understanding the fit() method"
      ]
    },
    {
      "cell_type": "markdown",
      "metadata": {
        "id": "LZOZPo-XBJbw"
      },
      "source": [
        "**Calling `fit()` with NumPy data**\n",
        "\n",
        "完成編譯後的模型，可用`fit()`訓練"
      ]
    },
    {
      "cell_type": "code",
      "execution_count": 130,
      "metadata": {
        "id": "oZMtO-C6BJbx",
        "colab": {
          "base_uri": "https://localhost:8080/"
        },
        "outputId": "7f052727-13b4-4d4c-fe88-8bcf86e30582"
      },
      "outputs": [
        {
          "output_type": "stream",
          "name": "stdout",
          "text": [
            "Epoch 1/5\n",
            "16/16 [==============================] - 1s 3ms/step - loss: 7.3386 - binary_accuracy: 0.9975\n",
            "Epoch 2/5\n",
            "16/16 [==============================] - 0s 3ms/step - loss: 7.0253 - binary_accuracy: 0.9975\n",
            "Epoch 3/5\n",
            "16/16 [==============================] - 0s 3ms/step - loss: 6.7616 - binary_accuracy: 0.9975\n",
            "Epoch 4/5\n",
            "16/16 [==============================] - 0s 3ms/step - loss: 6.5074 - binary_accuracy: 0.9975\n",
            "Epoch 5/5\n",
            "16/16 [==============================] - 0s 3ms/step - loss: 6.2594 - binary_accuracy: 0.9975\n"
          ]
        }
      ],
      "source": [
        "history = model.fit(\n",
        "    inputs,\n",
        "    targets,\n",
        "    epochs=5, #訓練週期5\n",
        "    batch_size=128 #批次尺寸128\n",
        ")"
      ]
    },
    {
      "cell_type": "code",
      "execution_count": 131,
      "metadata": {
        "id": "OQvWo_-OBJbx",
        "colab": {
          "base_uri": "https://localhost:8080/"
        },
        "outputId": "82ad0b39-e48c-40a9-f865-aecc5f29104d"
      },
      "outputs": [
        {
          "output_type": "execute_result",
          "data": {
            "text/plain": [
              "{'loss': [7.338642597198486,\n",
              "  7.025326251983643,\n",
              "  6.761574745178223,\n",
              "  6.507368564605713,\n",
              "  6.259353160858154],\n",
              " 'binary_accuracy': [0.9975000023841858,\n",
              "  0.9975000023841858,\n",
              "  0.9975000023841858,\n",
              "  0.9975000023841858,\n",
              "  0.9975000023841858]}"
            ]
          },
          "metadata": {},
          "execution_count": 131
        }
      ],
      "source": [
        "# 查看訓練過程中所儲存的參數\n",
        "history.history"
      ]
    },
    {
      "cell_type": "markdown",
      "metadata": {
        "id": "Vzngtn8RBJbx"
      },
      "source": [
        "### Monitoring loss and metrics on validation data"
      ]
    },
    {
      "cell_type": "markdown",
      "metadata": {
        "id": "n5pL0noYBJbx"
      },
      "source": [
        "**Using the `validation_data` argument**"
      ]
    },
    {
      "cell_type": "code",
      "execution_count": 117,
      "metadata": {
        "id": "nYhmKL91BJby",
        "colab": {
          "base_uri": "https://localhost:8080/"
        },
        "outputId": "91d7ddfd-6128-4769-a53d-acb35809139e"
      },
      "outputs": [
        {
          "output_type": "stream",
          "name": "stdout",
          "text": [
            "Epoch 1/5\n",
            "88/88 [==============================] - 1s 4ms/step - loss: 0.3836 - binary_accuracy: 0.8543 - val_loss: 0.0403 - val_binary_accuracy: 0.9900\n",
            "Epoch 2/5\n",
            "88/88 [==============================] - 0s 3ms/step - loss: 0.0744 - binary_accuracy: 0.9464 - val_loss: 0.0389 - val_binary_accuracy: 0.9950\n",
            "Epoch 3/5\n",
            "88/88 [==============================] - 0s 2ms/step - loss: 0.0713 - binary_accuracy: 0.9586 - val_loss: 0.2176 - val_binary_accuracy: 0.8850\n",
            "Epoch 4/5\n",
            "88/88 [==============================] - 0s 2ms/step - loss: 0.0680 - binary_accuracy: 0.9643 - val_loss: 0.1187 - val_binary_accuracy: 0.8767\n",
            "Epoch 5/5\n",
            "88/88 [==============================] - 0s 2ms/step - loss: 0.0745 - binary_accuracy: 0.9593 - val_loss: 0.1831 - val_binary_accuracy: 0.6517\n"
          ]
        },
        {
          "output_type": "execute_result",
          "data": {
            "text/plain": [
              "<keras.callbacks.History at 0x7efbcd406890>"
            ]
          },
          "metadata": {},
          "execution_count": 117
        }
      ],
      "source": [
        "model = keras.Sequential([keras.layers.Dense(1)])\n",
        "model.compile(optimizer=keras.optimizers.RMSprop(learning_rate=0.1),\n",
        "              loss=keras.losses.MeanSquaredError(),\n",
        "              metrics=[keras.metrics.BinaryAccuracy()])\n",
        "\n",
        "indices_permutation = np.random.permutation(len(inputs))\n",
        "shuffled_inputs = inputs[indices_permutation]\n",
        "shuffled_targets = targets[indices_permutation]\n",
        "\n",
        "num_validation_samples = int(0.3 * len(inputs))\n",
        "val_inputs = shuffled_inputs[:num_validation_samples]\n",
        "val_targets = shuffled_targets[:num_validation_samples]\n",
        "training_inputs = shuffled_inputs[num_validation_samples:]\n",
        "training_targets = shuffled_targets[num_validation_samples:]\n",
        "model.fit(\n",
        "    training_inputs,\n",
        "    training_targets,\n",
        "    epochs=5,\n",
        "    batch_size=16,\n",
        "    validation_data=(val_inputs, val_targets) #顯示驗證資料集在訓練過程的驗證損失與準確率\n",
        ")"
      ]
    },
    {
      "cell_type": "markdown",
      "metadata": {
        "id": "onmLnSSKBJby"
      },
      "source": [
        "### Inference: Using a model after training"
      ]
    },
    {
      "cell_type": "markdown",
      "source": [
        "**顯示前10筆資料預測結果**"
      ],
      "metadata": {
        "id": "6XPAEg1EGXnC"
      }
    },
    {
      "cell_type": "code",
      "execution_count": 118,
      "metadata": {
        "id": "-JR-5kCuBJby",
        "colab": {
          "base_uri": "https://localhost:8080/"
        },
        "outputId": "04c3b0c5-2b10-4cb5-cce7-7ecd0be07f7a"
      },
      "outputs": [
        {
          "output_type": "stream",
          "name": "stdout",
          "text": [
            "[[1.0428206 ]\n",
            " [0.74102885]\n",
            " [0.61514485]\n",
            " [0.83595574]\n",
            " [0.55318034]\n",
            " [0.9401332 ]\n",
            " [0.8434371 ]\n",
            " [1.1208842 ]\n",
            " [0.94899035]\n",
            " [0.90685236]]\n"
          ]
        }
      ],
      "source": [
        "predictions = model.predict(val_inputs, batch_size=128)\n",
        "print(predictions[:10])"
      ]
    },
    {
      "cell_type": "markdown",
      "metadata": {
        "id": "qDnIET85BJby"
      },
      "source": [
        "## Summary"
      ]
    },
    {
      "cell_type": "markdown",
      "source": [
        "請看本文章最頂處，我在文初做好了摘要"
      ],
      "metadata": {
        "id": "t5WkZoixKXAK"
      }
    }
  ],
  "metadata": {
    "colab": {
      "collapsed_sections": [],
      "provenance": [],
      "toc_visible": true
    },
    "kernelspec": {
      "display_name": "Python 3",
      "language": "python",
      "name": "python3"
    },
    "language_info": {
      "codemirror_mode": {
        "name": "ipython",
        "version": 3
      },
      "file_extension": ".py",
      "mimetype": "text/x-python",
      "name": "python",
      "nbconvert_exporter": "python",
      "pygments_lexer": "ipython3",
      "version": "3.7.0"
    }
  },
  "nbformat": 4,
  "nbformat_minor": 0
}