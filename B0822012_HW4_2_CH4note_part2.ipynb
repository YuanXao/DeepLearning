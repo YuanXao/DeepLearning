{
  "cells": [
    {
      "cell_type": "markdown",
      "metadata": {
        "id": "Ye177_27w39s"
      },
      "source": [
        "### Building your model"
      ]
    },
    {
      "cell_type": "markdown",
      "metadata": {
        "id": "2qhIpqIew39s"
      },
      "source": [
        "**Model definition**\n",
        "\n",
        "<img src=\"https://i.imgur.com/kKBmOPd.jpg\" width=\"200\" height=\"250\">"
      ]
    },
    {
      "cell_type": "code",
      "execution_count": null,
      "metadata": {
        "id": "yzyFhwS_w39s"
      },
      "outputs": [],
      "source": [
        "from tensorflow import keras\n",
        "from tensorflow.keras import layers\n",
        "\n",
        "# 建構16x16x1神經網路\n",
        "model = keras.Sequential([\n",
        "    layers.Dense(16, activation=\"relu\"),\n",
        "    layers.Dense(16, activation=\"relu\"),\n",
        "    layers.Dense(1, activation=\"sigmoid\")\n",
        "])"
      ]
    },
    {
      "cell_type": "markdown",
      "metadata": {
        "id": "6b78zNxXw39s"
      },
      "source": [
        "**Compiling the model**\n",
        "\n",
        "編譯模型\n",
        "\n",
        "| 問題種類 | 損失函數 | 選擇 |\n",
        "| :--- | :---| :---|\n",
        "|二元分類 |binary_crossentropy| ●|\n",
        "|單標籤多元分類 |categorical_crossentropy| ○|\n",
        "|多標籤多元分類 |binary_crossentropy| ○|\n",
        "|迴歸分析 |mse| ○|\n",
        "|迴歸值在0~1之間 |mse 或 binary_crossentropy| ○|"
      ]
    },
    {
      "cell_type": "code",
      "execution_count": null,
      "metadata": {
        "id": "jJbe_-wQw39s"
      },
      "outputs": [],
      "source": [
        "model.compile(optimizer=\"rmsprop\",\n",
        "              loss=\"binary_crossentropy\",\n",
        "              metrics=[\"accuracy\"])"
      ]
    },
    {
      "cell_type": "markdown",
      "metadata": {
        "id": "U1k5Pbv-w39t"
      },
      "source": [
        "### Validating your approach"
      ]
    },
    {
      "cell_type": "markdown",
      "source": [
        "####x,y,train,test差異"
      ],
      "metadata": {
        "id": "OT2kQGltw6dY"
      }
    },
    {
      "cell_type": "code",
      "source": [
        "# train: 訓練資料集   test: 測試資料集\n",
        "# x:數據(已編碼)   y:標籤\n",
        "print(x_train[0])\n",
        "print(y_train[0])\n",
        "print(x_test[0])\n",
        "print(y_test[0])"
      ],
      "metadata": {
        "colab": {
          "base_uri": "https://localhost:8080/"
        },
        "id": "X-y7TLFvwGik",
        "outputId": "1de0d607-8758-4acc-f63d-d235f94c8f60"
      },
      "execution_count": null,
      "outputs": [
        {
          "output_type": "stream",
          "name": "stdout",
          "text": [
            "[0. 1. 1. ... 0. 0. 0.]\n",
            "1.0\n",
            "[0. 1. 1. ... 0. 0. 0.]\n",
            "0.0\n"
          ]
        }
      ]
    },
    {
      "cell_type": "markdown",
      "metadata": {
        "id": "RXdnFOJmw39t"
      },
      "source": [
        "####**Setting aside a validation set**\n",
        "\n",
        "\n",
        "| 項目 | 訓練資料 | 驗證資料 |\n",
        "| :--- | :---| :---|\n",
        "|x_train |10000~25000|0~9999|\n",
        "|y_train |10000~25000|0~9999|\n"
      ]
    },
    {
      "cell_type": "code",
      "execution_count": null,
      "metadata": {
        "id": "oq7XZIBEw39t"
      },
      "outputs": [],
      "source": [
        "x_val = x_train[:10000]\n",
        "partial_x_train = x_train[10000:]\n",
        "y_val = y_train[:10000]\n",
        "partial_y_train = y_train[10000:]"
      ]
    },
    {
      "cell_type": "markdown",
      "metadata": {
        "id": "XjsL5NQWw39t"
      },
      "source": [
        "**Training your model**\n",
        "\n",
        "採用驗證資料；訓練週期20，批次尺寸512"
      ]
    },
    {
      "cell_type": "code",
      "execution_count": null,
      "metadata": {
        "colab": {
          "base_uri": "https://localhost:8080/"
        },
        "id": "VbKoycHhw39t",
        "outputId": "84447154-8182-4e1a-9d45-91e69049a178"
      },
      "outputs": [
        {
          "output_type": "stream",
          "name": "stdout",
          "text": [
            "Epoch 1/20\n",
            "30/30 [==============================] - 2s 39ms/step - loss: 0.5676 - accuracy: 0.7753 - val_loss: 0.4686 - val_accuracy: 0.8477\n",
            "Epoch 2/20\n",
            "30/30 [==============================] - 1s 20ms/step - loss: 0.3708 - accuracy: 0.8945 - val_loss: 0.3493 - val_accuracy: 0.8739\n",
            "Epoch 3/20\n",
            "30/30 [==============================] - 1s 19ms/step - loss: 0.2689 - accuracy: 0.9168 - val_loss: 0.3018 - val_accuracy: 0.8864\n",
            "Epoch 4/20\n",
            "30/30 [==============================] - 1s 20ms/step - loss: 0.2072 - accuracy: 0.9349 - val_loss: 0.2783 - val_accuracy: 0.8915\n",
            "Epoch 5/20\n",
            "30/30 [==============================] - 1s 20ms/step - loss: 0.1661 - accuracy: 0.9503 - val_loss: 0.3053 - val_accuracy: 0.8763\n",
            "Epoch 6/20\n",
            "30/30 [==============================] - 1s 20ms/step - loss: 0.1399 - accuracy: 0.9561 - val_loss: 0.2797 - val_accuracy: 0.8900\n",
            "Epoch 7/20\n",
            "30/30 [==============================] - 1s 19ms/step - loss: 0.1146 - accuracy: 0.9667 - val_loss: 0.2906 - val_accuracy: 0.8867\n",
            "Epoch 8/20\n",
            "30/30 [==============================] - 1s 23ms/step - loss: 0.0947 - accuracy: 0.9745 - val_loss: 0.3142 - val_accuracy: 0.8845\n",
            "Epoch 9/20\n",
            "30/30 [==============================] - 1s 20ms/step - loss: 0.0773 - accuracy: 0.9801 - val_loss: 0.3216 - val_accuracy: 0.8815\n",
            "Epoch 10/20\n",
            "30/30 [==============================] - 1s 19ms/step - loss: 0.0612 - accuracy: 0.9860 - val_loss: 0.3600 - val_accuracy: 0.8795\n",
            "Epoch 11/20\n",
            "30/30 [==============================] - 1s 20ms/step - loss: 0.0514 - accuracy: 0.9883 - val_loss: 0.3804 - val_accuracy: 0.8729\n",
            "Epoch 12/20\n",
            "30/30 [==============================] - 1s 20ms/step - loss: 0.0386 - accuracy: 0.9928 - val_loss: 0.4014 - val_accuracy: 0.8733\n",
            "Epoch 13/20\n",
            "30/30 [==============================] - 1s 19ms/step - loss: 0.0295 - accuracy: 0.9953 - val_loss: 0.4393 - val_accuracy: 0.8761\n",
            "Epoch 14/20\n",
            "30/30 [==============================] - 1s 19ms/step - loss: 0.0242 - accuracy: 0.9961 - val_loss: 0.4545 - val_accuracy: 0.8719\n",
            "Epoch 15/20\n",
            "30/30 [==============================] - 1s 20ms/step - loss: 0.0169 - accuracy: 0.9979 - val_loss: 0.4929 - val_accuracy: 0.8706\n",
            "Epoch 16/20\n",
            "30/30 [==============================] - 1s 23ms/step - loss: 0.0145 - accuracy: 0.9981 - val_loss: 0.5228 - val_accuracy: 0.8705\n",
            "Epoch 17/20\n",
            "30/30 [==============================] - 1s 20ms/step - loss: 0.0088 - accuracy: 0.9994 - val_loss: 0.5510 - val_accuracy: 0.8677\n",
            "Epoch 18/20\n",
            "30/30 [==============================] - 1s 20ms/step - loss: 0.0084 - accuracy: 0.9988 - val_loss: 0.5851 - val_accuracy: 0.8691\n",
            "Epoch 19/20\n",
            "30/30 [==============================] - 1s 20ms/step - loss: 0.0043 - accuracy: 0.9997 - val_loss: 0.6253 - val_accuracy: 0.8693\n",
            "Epoch 20/20\n",
            "30/30 [==============================] - 1s 19ms/step - loss: 0.0043 - accuracy: 0.9995 - val_loss: 0.6602 - val_accuracy: 0.8682\n"
          ]
        }
      ],
      "source": [
        "history = model.fit(partial_x_train,\n",
        "                    partial_y_train,\n",
        "                    epochs=20,\n",
        "                    batch_size=512,\n",
        "                    validation_data=(x_val, y_val))"
      ]
    },
    {
      "cell_type": "markdown",
      "source": [
        "####取出訓練過程時的所有數據"
      ],
      "metadata": {
        "id": "xhaVrszSxmkF"
      }
    },
    {
      "cell_type": "code",
      "execution_count": null,
      "metadata": {
        "colab": {
          "base_uri": "https://localhost:8080/"
        },
        "id": "QAm7PMKaw39t",
        "outputId": "aa77d707-004d-4b9a-d0e8-d8e418263f15"
      },
      "outputs": [
        {
          "output_type": "execute_result",
          "data": {
            "text/plain": [
              "dict_keys(['loss', 'accuracy', 'val_loss', 'val_accuracy'])"
            ]
          },
          "metadata": {},
          "execution_count": 70
        }
      ],
      "source": [
        "history_dict = history.history\n",
        "history_dict.keys()"
      ]
    },
    {
      "cell_type": "markdown",
      "metadata": {
        "id": "XTgGpO-Zw39t"
      },
      "source": [
        "####**Plotting the training and validation loss**"
      ]
    },
    {
      "cell_type": "code",
      "execution_count": null,
      "metadata": {
        "colab": {
          "base_uri": "https://localhost:8080/",
          "height": 295
        },
        "id": "i_95oUKIw39u",
        "outputId": "ba04bd37-e7b6-4c02-81da-e1a7f8a538e1"
      },
      "outputs": [
        {
          "output_type": "display_data",
          "data": {
            "text/plain": [
              "<Figure size 432x288 with 1 Axes>"
            ],
            "image/png": "[encoded data removed]"
          },
          "metadata": {
            "needs_background": "light"
          }
        }
      ],
      "source": [
        "import matplotlib.pyplot as plt\n",
        "history_dict = history.history\n",
        "loss_values = history_dict[\"loss\"]\n",
        "val_loss_values = history_dict[\"val_loss\"]\n",
        "epochs = range(1, len(loss_values) + 1)\n",
        "plt.plot(epochs, loss_values, \"bo\", label=\"Training loss\")\n",
        "plt.plot(epochs, val_loss_values, \"b\", label=\"Validation loss\")\n",
        "plt.title(\"Training and validation loss\")\n",
        "plt.xlabel(\"Epochs\")\n",
        "plt.ylabel(\"Loss\")\n",
        "plt.legend()\n",
        "plt.show()"
      ]
    },
    {
      "cell_type": "markdown",
      "metadata": {
        "id": "ekoJksrjw39u"
      },
      "source": [
        "####**Plotting the training and validation accuracy**"
      ]
    },
    {
      "cell_type": "code",
      "execution_count": null,
      "metadata": {
        "colab": {
          "base_uri": "https://localhost:8080/",
          "height": 295
        },
        "id": "jXdWl-EFw39u",
        "outputId": "9b08a73a-a479-4a64-a554-e39c0e4bb903"
      },
      "outputs": [
        {
          "output_type": "display_data",
          "data": {
            "text/plain": [
              "<Figure size 432x288 with 1 Axes>"
            ],
            "image/png": "[encoded data removed]"
          },
          "metadata": {
            "needs_background": "light"
          }
        }
      ],
      "source": [
        "plt.clf() # clear the current figure\n",
        "acc = history_dict[\"accuracy\"]\n",
        "val_acc = history_dict[\"val_accuracy\"]\n",
        "plt.plot(epochs, acc, \"bo\", label=\"Training acc\")\n",
        "plt.plot(epochs, val_acc, \"b\", label=\"Validation acc\")\n",
        "plt.title(\"Training and validation accuracy\")\n",
        "plt.xlabel(\"Epochs\")\n",
        "plt.ylabel(\"Accuracy\")\n",
        "plt.legend()\n",
        "plt.show()"
      ]
    },
    {
      "cell_type": "markdown",
      "metadata": {
        "id": "-1KQd4C0w39u"
      },
      "source": [
        "####**Retraining a model from scratch**\n",
        "\n",
        "使用較少的訓練週期，避免過度擬合之情況"
      ]
    },
    {
      "cell_type": "code",
      "execution_count": null,
      "metadata": {
        "colab": {
          "base_uri": "https://localhost:8080/"
        },
        "id": "kwARzqp1w39u",
        "outputId": "e8c2b2d8-6fcb-4ccc-ebd5-01f616a2f6a5"
      },
      "outputs": [
        {
          "output_type": "stream",
          "name": "stdout",
          "text": [
            "Epoch 1/4\n",
            "49/49 [==============================] - 1s 12ms/step - loss: 0.4331 - accuracy: 0.8193\n",
            "Epoch 2/4\n",
            "49/49 [==============================] - 1s 12ms/step - loss: 0.2476 - accuracy: 0.9115\n",
            "Epoch 3/4\n",
            "49/49 [==============================] - 1s 12ms/step - loss: 0.1928 - accuracy: 0.9291\n",
            "Epoch 4/4\n",
            "49/49 [==============================] - 1s 12ms/step - loss: 0.1651 - accuracy: 0.9422\n",
            "782/782 [==============================] - 2s 3ms/step - loss: 0.3149 - accuracy: 0.8758\n"
          ]
        }
      ],
      "source": [
        "model = keras.Sequential([\n",
        "    layers.Dense(16, activation=\"relu\"),\n",
        "    layers.Dense(16, activation=\"relu\"),\n",
        "    layers.Dense(1, activation=\"sigmoid\")\n",
        "])\n",
        "model.compile(optimizer=\"rmsprop\",\n",
        "              loss=\"binary_crossentropy\",\n",
        "              metrics=[\"accuracy\"])\n",
        "model.fit(x_train, y_train, epochs=4, batch_size=512)\n",
        "results = model.evaluate(x_test, y_test)"
      ]
    },
    {
      "cell_type": "markdown",
      "source": [
        "印出測試資料集的：損失、準確率\n",
        "\n",
        "`loss, accuracy = model.evaluate(x_test, y_test)`"
      ],
      "metadata": {
        "id": "vLszzA7KJKZ-"
      }
    },
    {
      "cell_type": "code",
      "execution_count": null,
      "metadata": {
        "colab": {
          "base_uri": "https://localhost:8080/"
        },
        "id": "wRfMZP6Sw39v",
        "outputId": "2dc11dea-e13a-4ec5-cb0e-dc987e4aead7"
      },
      "outputs": [
        {
          "output_type": "execute_result",
          "data": {
            "text/plain": [
              "[0.3148927092552185, 0.875760018825531]"
            ]
          },
          "metadata": {},
          "execution_count": 74
        }
      ],
      "source": [
        "results"
      ]
    },
    {
      "cell_type": "markdown",
      "metadata": {
        "id": "lYmWRIrow39v"
      },
      "source": [
        "### Using a trained model to generate predictions on new data (預測新數據之結果)\n",
        "\n",
        "以下可觀察出，\n",
        "\n",
        "       0.99...的預測結果表示很接近1 => 極可能為正向評論\n",
        "       0.01...的預測結果表示很接近0 => 極可能為負向評論"
      ]
    },
    {
      "cell_type": "code",
      "execution_count": null,
      "metadata": {
        "colab": {
          "base_uri": "https://localhost:8080/"
        },
        "id": "hb3G9Aoxw39v",
        "outputId": "ad0d9556-6689-45e4-e8ab-e5d9d7b4bee0"
      },
      "outputs": [
        {
          "output_type": "execute_result",
          "data": {
            "text/plain": [
              "array([[0.28915486],\n",
              "       [0.99985814],\n",
              "       [0.9438199 ],\n",
              "       ...,\n",
              "       [0.1788749 ],\n",
              "       [0.09173775],\n",
              "       [0.71508294]], dtype=float32)"
            ]
          },
          "metadata": {},
          "execution_count": 75
        }
      ],
      "source": [
        "model.predict(x_test)"
      ]
    },
    {
      "cell_type": "markdown",
      "metadata": {
        "id": "tolkzqczw39v"
      },
      "source": [
        "### Further experiments"
      ]
    },
    {
      "cell_type": "markdown",
      "metadata": {
        "id": "qf-NdM5Iw39v"
      },
      "source": [
        "### Wrapping up"
      ]
    }
  ],
  "metadata": {
    "colab": {
      "collapsed_sections": [],
      "provenance": [],
      "toc_visible": true
    },
    "kernelspec": {
      "display_name": "Python 3",
      "language": "python",
      "name": "python3"
    },
    "language_info": {
      "codemirror_mode": {
        "name": "ipython",
        "version": 3
      },
      "file_extension": ".py",
      "mimetype": "text/x-python",
      "name": "python",
      "nbconvert_exporter": "python",
      "pygments_lexer": "ipython3",
      "version": "3.7.0"
    }
  },
  "nbformat": 4,
  "nbformat_minor": 0
}