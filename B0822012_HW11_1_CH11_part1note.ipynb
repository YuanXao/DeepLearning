{
  "cells": [
    {
      "cell_type": "markdown",
      "metadata": {
        "id": "i7GReC5nLqxd"
      },
      "source": [
        "This is a companion notebook for the book [Deep Learning with Python, Second Edition](https://www.manning.com/books/deep-learning-with-python-second-edition?a_aid=keras&a_bid=76564dff). For readability, it only contains runnable code blocks and section titles, and omits everything else in the book: text paragraphs, figures, and pseudocode.\n",
        "\n",
        "**If you want to be able to follow what's going on, I recommend reading the notebook side by side with your copy of the book.**\n",
        "\n",
        "This notebook was generated for TensorFlow 2.6."
      ]
    },
    {
      "cell_type": "markdown",
      "metadata": {
        "id": "OMqkbJh6Lqxg"
      },
      "source": [
        "# Deep learning for text"
      ]
    },
    {
      "cell_type": "markdown",
      "metadata": {
        "id": "JnvC1sNVLqxh"
      },
      "source": [
        "## Natural-language processing: The bird's eye view"
      ]
    },
    {
      "cell_type": "markdown",
      "metadata": {
        "id": "erYNi5WRLqxh"
      },
      "source": [
        "## Preparing text data"
      ]
    },
    {
      "cell_type": "markdown",
      "metadata": {
        "id": "mkFQa-2ZLqxh"
      },
      "source": [
        "### Text standardization"
      ]
    },
    {
      "cell_type": "markdown",
      "metadata": {
        "id": "YwdJpS9XLqxi"
      },
      "source": [
        "### Text splitting (tokenization)"
      ]
    },
    {
      "cell_type": "markdown",
      "metadata": {
        "id": "fSMboZzuLqxi"
      },
      "source": [
        "### Vocabulary indexing"
      ]
    },
    {
      "cell_type": "markdown",
      "metadata": {
        "id": "gOKV1qDPLqxj"
      },
      "source": [
        "### Using the TextVectorization layer"
      ]
    },
    {
      "cell_type": "code",
      "execution_count": 2,
      "metadata": {
        "id": "OTXF-lIgLqxj",
        "outputId": "367ae21d-5a53-4d9a-a66c-1ccc15bf8ae3",
        "colab": {
          "base_uri": "https://localhost:8080/"
        }
      },
      "outputs": [
        {
          "output_type": "execute_result",
          "data": {
            "text/plain": [
              "{'': 0,\n",
              " '[UNK]': 1,\n",
              " 'i': 2,\n",
              " 'write': 3,\n",
              " 'erase': 4,\n",
              " 'rewrite': 5,\n",
              " 'again': 6,\n",
              " 'and': 7,\n",
              " 'then': 8,\n",
              " 'a': 9,\n",
              " 'poppy': 10,\n",
              " 'blooms': 11,\n",
              " 'am': 12,\n",
              " 'writing': 13,\n",
              " 'erasing': 14,\n",
              " 'rewriting': 15,\n",
              " 'is': 16,\n",
              " 'blooming': 17,\n",
              " 'ing': 18,\n",
              " 'bloom': 19,\n",
              " '我': 20,\n",
              " '寫': 21,\n",
              " '字': 22,\n",
              " '擦': 23,\n",
              " '掉': 24,\n",
              " '重': 25,\n",
              " '。': 26,\n",
              " '寫字': 27,\n",
              " '擦掉': 28,\n",
              " '重寫': 29,\n",
              " '然': 30,\n",
              " '後': 31,\n",
              " '再': 32,\n",
              " '一': 33,\n",
              " '次': 34,\n",
              " '，': 35,\n",
              " '然後': 36,\n",
              " '一次': 37}"
            ]
          },
          "metadata": {},
          "execution_count": 2
        }
      ],
      "source": [
        "import string\n",
        "\n",
        "class Vectorizer:\n",
        "    def standardize(self, text):\n",
        "        '''\n",
        "        標準化= 小寫化，去標點。\n",
        "        '''\n",
        "        text= text.lower()\n",
        "        return \"\".join(char \n",
        "                       for char in text \n",
        "                       if char not in \n",
        "                       string.punctuation #.replace('+','')\n",
        "                      )\n",
        "\n",
        "    def tokenize(self, text):\n",
        "        '''\n",
        "        塊狀化\n",
        "        '''\n",
        "        text = self.standardize(text)\n",
        "        return text.split()\n",
        "\n",
        "    def make_vocabulary(self, dataset):\n",
        "        '''\n",
        "        建詞表，以供編碼、解碼\n",
        "        '''\n",
        "        \n",
        "        self.vocabulary = {\"\": 0, \"[UNK]\": 1}\n",
        "        \n",
        "        for text in dataset:\n",
        "            text = self.standardize(text)\n",
        "            tokens = self.tokenize(text)\n",
        "            for token in tokens:\n",
        "                if token not in self.vocabulary:\n",
        "                    self.vocabulary[token] = len(self.vocabulary)\n",
        "        self.inverse_vocabulary = dict(\n",
        "            (v, k) for k, v in self.vocabulary.items())\n",
        "\n",
        "    def encode(self, text):\n",
        "        text = self.standardize(text)\n",
        "        tokens = self.tokenize(text)\n",
        "        return [self.vocabulary.get(token, 1) for token in tokens]\n",
        "\n",
        "    def decode(self, int_sequence):\n",
        "        return \" \".join(\n",
        "            self.inverse_vocabulary.get(i, \"[UNK]\") for i in int_sequence)\n",
        "\n",
        "vectorizer= Vectorizer()\n",
        "dataset= [\n",
        "    \"I write, erase, rewrite\",\n",
        "    \"Erase again, and then\",\n",
        "    \"A poppy blooms.\",\n",
        "    \"I am writing, erasing, and rewriting\",\n",
        "    \"Erasing again, and then\",\n",
        "    \"A poppy is blooming.\",\n",
        "    \"I am write +ing, erase +ing, and rewrite +ing\",\n",
        "    \"Erase +ing again, and then\",\n",
        "    \"A poppy is bloom +ing.\",\n",
        "    \"我 寫 字 擦 掉 重 寫 。\",\n",
        "    \"我 寫字 擦掉 重寫 。\",\n",
        "    \"然 後 再 擦 掉 一 次 ，\",\n",
        "    \"然後 再 擦掉 一次 ，\",\n",
        "]\n",
        "vectorizer.make_vocabulary(dataset)\n",
        "vectorizer.vocabulary"
      ]
    },
    {
      "cell_type": "code",
      "execution_count": 3,
      "metadata": {
        "id": "GFtmRDnjLqxl"
      },
      "outputs": [],
      "source": [
        "#string.punctuation.replace('+','')"
      ]
    },
    {
      "cell_type": "code",
      "execution_count": 4,
      "metadata": {
        "id": "FLzAiDiPLqxm",
        "outputId": "a0e67647-c29b-4e84-9fca-68680c81f274",
        "colab": {
          "base_uri": "https://localhost:8080/"
        }
      },
      "outputs": [
        {
          "output_type": "execute_result",
          "data": {
            "text/plain": [
              "[2, 12, 3, 18, 7, 8, 1, 18]"
            ]
          },
          "metadata": {},
          "execution_count": 4
        }
      ],
      "source": [
        "test_sentence= \"I write, rewrite, and still rewrite again\"\n",
        "test_sentence= \"I am write +ing, and then run +ing.\"\n",
        "#test_sentence= \"我 寫字 然後 又 擦掉 。\"\n",
        "#test_sentence= \"我 寫 字 然 後 又 擦 掉 。\"\n",
        "encoded_sentence= vectorizer.encode(test_sentence)\n",
        "encoded_sentence"
      ]
    },
    {
      "cell_type": "code",
      "execution_count": 5,
      "metadata": {
        "id": "9o_IpgKjLqxm",
        "outputId": "ece58e38-02f8-474d-8f92-06054da5ae97",
        "colab": {
          "base_uri": "https://localhost:8080/",
          "height": 35
        }
      },
      "outputs": [
        {
          "output_type": "execute_result",
          "data": {
            "text/plain": [
              "'i am write ing and then [UNK] ing'"
            ],
            "application/vnd.google.colaboratory.intrinsic+json": {
              "type": "string"
            }
          },
          "metadata": {},
          "execution_count": 5
        }
      ],
      "source": [
        "decoded_sentence = vectorizer.decode(encoded_sentence)\n",
        "decoded_sentence"
      ]
    },
    {
      "cell_type": "code",
      "execution_count": 6,
      "metadata": {
        "id": "qFJ3qCh8Lqxm"
      },
      "outputs": [],
      "source": [
        "from tensorflow.keras.layers import TextVectorization\n",
        "\n",
        "text_vectorization= TextVectorization(\n",
        "    output_mode= \"int\",\n",
        ")"
      ]
    },
    {
      "cell_type": "code",
      "execution_count": 7,
      "metadata": {
        "id": "Ok4aXkqgLqxn"
      },
      "outputs": [],
      "source": [
        "import re\n",
        "import string\n",
        "import tensorflow as tf\n",
        "\n",
        "def custom_standardization_fn(string_tensor):\n",
        "    \n",
        "    lowercase_string= tf.strings.lower(string_tensor)\n",
        "    \n",
        "    return tf.strings.regex_replace(\n",
        "            lowercase_string, \n",
        "            f\"[{re.escape(string.punctuation)}]\", \n",
        "            \"\")\n",
        "\n",
        "def custom_split_fn(string_tensor):\n",
        "    \n",
        "    return tf.strings.split(string_tensor)\n",
        "\n",
        "text_vectorization = TextVectorization(\n",
        "    output_mode= \"int\",\n",
        "    standardize= custom_standardization_fn,\n",
        "    split=       custom_split_fn,\n",
        ")"
      ]
    },
    {
      "cell_type": "code",
      "execution_count": 8,
      "metadata": {
        "id": "v53PtWr_Lqxn"
      },
      "outputs": [],
      "source": [
        "# dataset = [\n",
        "#     \"I write, erase, rewrite\",\n",
        "#     \"Erase again, and then\",\n",
        "#     \"A poppy blooms.\",\n",
        "# ]\n",
        "# \n",
        "text_vectorization.adapt(dataset)\n"
      ]
    },
    {
      "cell_type": "markdown",
      "metadata": {
        "id": "qj3DqjrFLqxn"
      },
      "source": [
        "**Displaying the vocabulary**"
      ]
    },
    {
      "cell_type": "code",
      "execution_count": 9,
      "metadata": {
        "collapsed": true,
        "jupyter": {
          "outputs_hidden": true
        },
        "tags": [],
        "id": "T__y_4MxLqxn",
        "outputId": "a4b9f6fc-aa54-4663-920f-3fb791a0be20",
        "colab": {
          "base_uri": "https://localhost:8080/"
        }
      },
      "outputs": [
        {
          "output_type": "execute_result",
          "data": {
            "text/plain": [
              "['',\n",
              " '[UNK]',\n",
              " 'ing',\n",
              " 'and',\n",
              " 'erase',\n",
              " 'then',\n",
              " 'poppy',\n",
              " 'i',\n",
              " 'again',\n",
              " 'a',\n",
              " '，',\n",
              " '擦掉',\n",
              " '擦',\n",
              " '掉',\n",
              " '我',\n",
              " '寫',\n",
              " '再',\n",
              " '。',\n",
              " 'write',\n",
              " 'rewrite',\n",
              " 'is',\n",
              " 'erasing',\n",
              " 'am',\n",
              " '重寫',\n",
              " '重',\n",
              " '然後',\n",
              " '然',\n",
              " '次',\n",
              " '後',\n",
              " '寫字',\n",
              " '字',\n",
              " '一次',\n",
              " '一',\n",
              " 'writing',\n",
              " 'rewriting',\n",
              " 'blooms',\n",
              " 'blooming',\n",
              " 'bloom']"
            ]
          },
          "metadata": {},
          "execution_count": 9
        }
      ],
      "source": [
        "text_vectorization.get_vocabulary()"
      ]
    },
    {
      "cell_type": "code",
      "execution_count": 10,
      "metadata": {
        "id": "-3qCOq-3Lqxo",
        "outputId": "28794476-e6db-4055-b4a4-0b1165ffd9b4",
        "colab": {
          "base_uri": "https://localhost:8080/"
        }
      },
      "outputs": [
        {
          "output_type": "stream",
          "name": "stdout",
          "text": [
            "tf.Tensor([ 7 18 19  3  1 19  8], shape=(7,), dtype=int64)\n"
          ]
        }
      ],
      "source": [
        "vocabulary = text_vectorization.get_vocabulary()\n",
        "test_sentence = \"I write, rewrite, and still rewrite again\"\n",
        "encoded_sentence = text_vectorization(test_sentence)\n",
        "print(encoded_sentence)"
      ]
    },
    {
      "cell_type": "code",
      "execution_count": 11,
      "metadata": {
        "id": "ji7jr-OiLqxo",
        "outputId": "ff94921b-21fa-4669-c4dd-b86144a795de",
        "colab": {
          "base_uri": "https://localhost:8080/"
        }
      },
      "outputs": [
        {
          "output_type": "stream",
          "name": "stdout",
          "text": [
            "i write rewrite and [UNK] rewrite again\n"
          ]
        }
      ],
      "source": [
        "inverse_vocab = dict(enumerate(vocabulary))\n",
        "decoded_sentence = \" \".join(inverse_vocab[int(i)] for i in encoded_sentence)\n",
        "print(decoded_sentence)"
      ]
    },
    {
      "cell_type": "markdown",
      "metadata": {
        "id": "gATQbSZMLqxo"
      },
      "source": [
        "## Two approaches for representing groups of words: Sets and sequences"
      ]
    },
    {
      "cell_type": "markdown",
      "metadata": {
        "id": "ZjjGM_QTLqxo"
      },
      "source": [
        "### Preparing the IMDB movie reviews data"
      ]
    },
    {
      "cell_type": "code",
      "execution_count": 12,
      "metadata": {
        "tags": [],
        "id": "IDRFQoooLqxp"
      },
      "outputs": [],
      "source": [
        "# !curl -O https://ai.stanford.edu/~amaas/data/sentiment/aclImdb_v1.tar.gz\n",
        "# !tar -xf aclImdb_v1.tar.gz"
      ]
    },
    {
      "cell_type": "code",
      "execution_count": 13,
      "metadata": {
        "id": "fET__T2oLqxp"
      },
      "outputs": [],
      "source": [
        "# !rm -r aclImdb/train/unsup"
      ]
    },
    {
      "cell_type": "code",
      "execution_count": 14,
      "metadata": {
        "id": "dTGyGzLALqxp"
      },
      "outputs": [],
      "source": [
        "# !cat aclImdb/train/pos/4077_10.txt\n"
      ]
    },
    {
      "cell_type": "code",
      "execution_count": 15,
      "metadata": {
        "id": "s--QEhOYLqxp"
      },
      "outputs": [],
      "source": [
        "# !rd /s /q aclImdb"
      ]
    },
    {
      "cell_type": "code",
      "execution_count": 16,
      "metadata": {
        "id": "1UqUau5wLqxp"
      },
      "outputs": [],
      "source": [
        "# !curl -O https://ai.stanford.edu/~amaas/data/sentiment/aclImdb_v1.tar.gz\n",
        "# !tar -xf aclImdb_v1.tar.gz"
      ]
    },
    {
      "cell_type": "code",
      "source": [
        "# !rm -r aclImdb/train/unsup"
      ],
      "metadata": {
        "id": "U2l0yFJtMQSg"
      },
      "execution_count": 17,
      "outputs": []
    },
    {
      "cell_type": "code",
      "execution_count": 18,
      "metadata": {
        "id": "muRYZbNdLqxq"
      },
      "outputs": [],
      "source": [
        "# !rd /s /q aclImdb\n",
        "# !tar -xf aclImdb_v1.tar.gz\n",
        "# !rd /s /q aclImdb\\train\\unsup"
      ]
    },
    {
      "cell_type": "code",
      "source": [
        "from google.colab import drive\n",
        "drive.mount('/content/drive')"
      ],
      "metadata": {
        "colab": {
          "base_uri": "https://localhost:8080/"
        },
        "id": "TV34pD2tRdsE",
        "outputId": "dad1ee13-1863-40d7-f57f-8c129209458d"
      },
      "execution_count": 1,
      "outputs": [
        {
          "output_type": "stream",
          "name": "stdout",
          "text": [
            "Mounted at /content/drive\n"
          ]
        }
      ]
    },
    {
      "cell_type": "code",
      "source": [
        "!unzip -qq /content/drive/MyDrive/aclImdb_ry_zh.zip"
      ],
      "metadata": {
        "id": "0POakbsVNie4"
      },
      "execution_count": 19,
      "outputs": []
    },
    {
      "cell_type": "code",
      "execution_count": 20,
      "metadata": {
        "id": "OTnJGr9nLqxq"
      },
      "outputs": [],
      "source": [
        "import os, pathlib, shutil, random\n",
        "\n",
        "base_dir=  pathlib.Path(\"aclImdb_ry_zh/aclImdb\")\n",
        "val_dir=   base_dir / \"val\"\n",
        "train_dir= base_dir / \"train\"\n",
        "\n",
        "for category in (\"neg\", \"pos\"):\n",
        "    os.makedirs(val_dir / category, \n",
        "                exist_ok= True)\n",
        "    files= os.listdir(train_dir / category)\n",
        "    random.Random(1337).shuffle(files)\n",
        "    \n",
        "    num_val_samples= int(0.2 * len(files))\n",
        "    \n",
        "    val_files= files[-num_val_samples:]\n",
        "    for fname in val_files:\n",
        "        shutil.move(train_dir / category / fname,\n",
        "                    val_dir / category / fname)"
      ]
    },
    {
      "cell_type": "code",
      "execution_count": 21,
      "metadata": {
        "id": "-CBCC0W6Lqxq",
        "colab": {
          "base_uri": "https://localhost:8080/"
        },
        "outputId": "be187307-a214-469d-c60d-6bd797521999"
      },
      "outputs": [
        {
          "output_type": "stream",
          "name": "stdout",
          "text": [
            "Found 70000 files belonging to 3 classes.\n",
            "Found 5000 files belonging to 2 classes.\n",
            "Found 25000 files belonging to 2 classes.\n"
          ]
        }
      ],
      "source": [
        "from tensorflow import keras\n",
        "batch_size= 100\n",
        "\n",
        "train_ds= keras.utils.text_dataset_from_directory(\n",
        "    \"aclImdb_ry_zh/aclImdb/train\", \n",
        "    batch_size=batch_size\n",
        ")\n",
        "val_ds= keras.utils.text_dataset_from_directory(\n",
        "    \"aclImdb_ry_zh/aclImdb/val\", \n",
        "    batch_size=batch_size\n",
        ")\n",
        "test_ds= keras.utils.text_dataset_from_directory(\n",
        "    \"aclImdb_ry_zh/aclImdb/test\", \n",
        "    batch_size=batch_size\n",
        ")\n",
        "\n",
        "#'''\n",
        "#Found 20000 files belonging to 2 classes.\n",
        "#Found 5000 files belonging to 2 classes.\n",
        "#Found 25000 files belonging to 2 classes.\n",
        "#'''\n"
      ]
    },
    {
      "cell_type": "code",
      "execution_count": 22,
      "metadata": {
        "id": "SUSoZ3PNLqxq",
        "colab": {
          "base_uri": "https://localhost:8080/"
        },
        "outputId": "81157679-4efb-422c-8388-bcb3e7af29f6"
      },
      "outputs": [
        {
          "output_type": "execute_result",
          "data": {
            "text/plain": [
              "(700, 50, 250)"
            ]
          },
          "metadata": {},
          "execution_count": 22
        }
      ],
      "source": [
        "len(train_ds), len(val_ds), len(test_ds)"
      ]
    },
    {
      "cell_type": "markdown",
      "metadata": {
        "id": "lAl1t9H6Lqxq"
      },
      "source": [
        "**Displaying the shapes and dtypes of the first batch**"
      ]
    },
    {
      "cell_type": "code",
      "source": [
        "import numpy as np\n",
        "test_arr = np.array([1,3,5,7,9])\n",
        "for x,y in enumerate(test_arr):\n",
        "  print(x,end=' ')\n",
        "  print(y,'\\n')\n"
      ],
      "metadata": {
        "colab": {
          "base_uri": "https://localhost:8080/"
        },
        "id": "Nn4qS9kiTyl5",
        "outputId": "d146af2f-74dc-458d-e36c-6e68eee45112"
      },
      "execution_count": 23,
      "outputs": [
        {
          "output_type": "stream",
          "name": "stdout",
          "text": [
            "0 1 \n",
            "\n",
            "1 3 \n",
            "\n",
            "2 5 \n",
            "\n",
            "3 7 \n",
            "\n",
            "4 9 \n",
            "\n"
          ]
        }
      ]
    },
    {
      "cell_type": "code",
      "execution_count": 24,
      "metadata": {
        "collapsed": true,
        "jupyter": {
          "outputs_hidden": true
        },
        "tags": [],
        "id": "HwJVtMZ0Lqxq",
        "colab": {
          "base_uri": "https://localhost:8080/"
        },
        "outputId": "dc019167-ce4e-47e6-89e1-a3b66a7dd472"
      },
      "outputs": [
        {
          "output_type": "stream",
          "name": "stdout",
          "text": [
            "n=0\n",
            "x.shape=(100,) x.dtype=<dtype: 'string'>\n",
            "y.shape=(100,) y.dtype=<dtype: 'int32'>\n",
            "y=tf.Tensor(\n",
            "[2 2 2 2 2 2 2 2 2 2 2 2 2 2 2 0 2 0 2 2 1 2 2 2 1 1 2 2 0 2 1 2 2 1 2 2 2\n",
            " 2 2 2 0 1 1 2 2 2 2 2 2 2 2 0 2 1 2 0 2 2 2 2 2 2 0 2 2 2 1 2 2 2 1 0 2 2\n",
            " 2 2 2 1 2 2 2 2 0 2 2 2 2 2 2 2 1 0 2 1 2 0 1 2 2 0], shape=(100,), dtype=int32)\n",
            "x=tf.Tensor(\n",
            "[b\"What can I say? It has horrible acting, beyond amateurish dialogue, sub-par special effects and you know what.....I've seen it about 50 times! It is so campy and awful that it is good! I definitely think this ranks right up there with Showgirls as one of the all time so bad its good movies! Special mention goes to Dennis Quaid, one of my favorite actors, for looking like he's in on the joke!\"\n",
            " b\"This is the first video game I've ever rated or commented on, but this game was so cool I had to put in my two cents. I don't play video games much at all, but every two years or so I will get the jones to play a game. I'd say the past ten years or so it has been discouraging because these video games are so difficult to learn and play. I grew up on Atari and Nintendo when you had just a couple of buttons and very simple tasks. Once Super Nintendo came on the scene my video game days were almost over.<br /><br />Even still, I decided to give Prince of Persia a shot. Bear in mind, I chose this video game solely based upon a t.v. commercial. I'm not in tuned with video games and the latest and hottest, I just pick up what I see advertised. I knew that I was going to have trouble, but I stuck in there and eventually I got the hang of it.... Scratch that... eventually I GOT ADDICTED. I took the game to work, I played endlessly trying to beat that game. I couldn't put it down it was so captivating. The graphics were awesome, the movements were smooth and cool, and the fact that his fighting was hand to hand combat instead of shooting just made it that much better. He had kill moves that could be done with button combos which reminded me of my Street Fighter 2 days, and that speed kill feature is off da hook, crazy nice. There was a good story that went along with the game. The different obstacles and moves were just difficult enough to where I couldn't overcome them the first time around, but they weren't so difficult that I had to give up. Fighting the opponents was the same, and when the prince turned into the Dark Prince the fun was just beginning.<br /><br />Like I said, I have very little reference for a good game versus a bad one, but this game was lovely. I eventually beat it in what was a short time for me (it had to have been weeks). The ending was even amazing, and I didn't know that games had credits longer than most movies.\"\n",
            " b'This movie was fabulous, I don\\'t care what anyone says. It was compelling in a way I haven\\'t seen a motion picture BE in a very, very long time. It didn\\'t appeal to the \"awkward\" sense of \"brilliant\" that compel some to give high remarks or head to the theater, but I\\'m telling anyone who cares to read it - it\\'s definitely worth it.<br /><br />In it\\'s opening weekend (10/24/03) it didn\\'t break the top 10. Scary Movie 3 was number one, so this is an explanation of why this movie, however excellent, didn\\'t make the big bucks. People in the USA want to see stupid, banal movies instead of intensively profound movies that grab you on multiple levels. It was fabulous. Angelina Jolie and Clive Owen were FABULOUS. It was just compelling and highly emotional. Go see it.'\n",
            " b'I found Sally Prager\\'s portrayal of Claudia delightful. The character is intelligent, curious, full of wonder, and caring toward her younger brother. Her independence and courage are admirable. I sympathized completely with \"Mrs. Frankweiler\\'s\" attraction to this spunky young girl. Ingrid Bergman\\'s appearance toward the end of this movie elevates the film to a new level; as ever, her acting is superb.'\n",
            " b'****SOME SPOILERS**** American Desi is an amateur production which is not nuanced, comical, or even close to the reality it pokes fun at. The term \"DESI\" is Indian for native and is colloquially used outside South Asia by Indians to refer to anyone or anything that has an Indian flavor. Considering the lead character\\'s determination to distance himself from things Indian, the title is misplaced. Particularly so, when it becomes clear that the film is made from an Indian-American perspective i.e. Americans of Indian descent who do not necessarily know much about India.<br /><br />The characters of this movie are all one-dimensional stereotypes - the overly garrulous Sikh (played rather badly by someone of Bengali descent who could not enunciate the Punjabi accent), the ridiculous TA who speaks with his fly open, the uptight Indian girl who won\\'t kiss the guy, and the crooked shopkeeper who overcharges the customers. The film appears to be a diatribe of dislike against Indians. Moreover, it is riven by confusion. The heroine\\'s confusion in leading on the lead character and then slapping him for kissing her, the confusion as to whether the Indian roommates are Indian (as in FOB\\'s - fresh off the boat immigrants) or ABCDs(American born confused desis), and confusion as to the objective of the movie - identity questions of the lead character or a general comedy about stupid Indian bumpkins.<br /><br />Adding to this mess are crucial details - a north-Indian aarti (prayer invocation) performed by an obviously south-Indian family, problems about the details of Muslims praying are examples.<br /><br />In short, the film is about how Indians are perceived by Indian-Americans, not about their lives. It is only marginally more accurate than the horrific unPC portrayals of Indians (and other South Asians) in Hollywood movies. As an aside, while APu from the SImpsons is not the best (as in accurate) representation, his character is developed enough to be funny and is fairly well researched.<br /><br />In the end, the viewer is left mystified as to the object of the movie apart from making a few crude jokes about Indians. Perhaps this is the result of angst against \"Mummy, Daddy\" translated into celluloid. Don\\'t get me wrong, I can take any jokes about Indians and Bhaji on the Beach, Bend it Like Beckham, The Kumars at No.42 (BBC TV series) are great examples of sharply humorous images of expatriate Indians; but this film\\'s humor is based on the crudest of devices and failed to amuse me.'\n",
            " b'All-too-typical erotic thriller that doesn\\'t generate much heat or suspense. The plot (complete with minor \"twists\") is, most of the time, devoid of interest, and the sex scenes, although frequent, don\\'t last too long (OK, I probably didn\\'t see the unrated version). Andrew Stevens is not a dislikable actor, he\\'s actually pretty competent - but that Tanya Roberts proves again (after \"Inner Sanctum\") that she\\'s remarkably untalented. (*1/2)'\n",
            " b\"I felt really sorry for John Abraham in this film. He proved to us all that try as you may, but even being that sexy can't save you when you've gone down the wrong path. Karam is the story of a man (played by Abraham) who kills others for a living and is told in second-person retrospect by his wife (played by Priyanka Chopra) and painfully so. From the minute this film begins, you know that Abraham's character is doomed. When you find out that he's attached to Priyanka Chopra in the film, you just have to know by then that they are star-crossed lovers. Abraham tries to quit the hit-man business after a hit gone awry but finds out the hard way that quitting the underworld is not as easy as it may seem. His pregnant wife is kidnapped, tortured and eventually held captive while the mob demand one last hit from Abraham which involves him taking out a host of people. This hit is the majority of the film and you can only imagine what becomes of him when the job is done. Karam is a very thought provoking and sad film that was very well executed on the part of all the actors. I hated the drug use scenes though because they were a bit too graphic. Abraham looks even more sexy than he usually does in this film and when he is beside Chopra, the screen just begins to melt from their combined hotness. Hahaha! :-D The songs are as excellent as they are haunting. A truly wonderfully tale of love, ambition and loss.\"\n",
            " b\"Right now there's a DVD out with a few of the stories edited into movies, but I wanted to see it in its original form. I had one video as a kid, and the rest of the series I've only seen through low-quality internet videos.<br /><br />It's interesting to see the direction the show took immediately after the original movies and before Episodes 1-3 were thought of. The character designs are fun, and even if they're sometimes clich\\xc3\\xa9 or annoying, they're bearable overall.<br /><br />The writing style is campy for sure, but the show's a great piece of nostalgia and I'd gladly shell out the money for a good-quality set of the original episodes.\"\n",
            " b\"I was not at all happy with the replacement of Ali McGraw with Jane Seymour; Jan Michael Vincent with Hart Bochner and some of the other changes. Thank God they left Robert Mitchum alone despite his age. I really missed John Houseman in his role as Aaron Jastrow and while I consider the late Sir John Gielgud to have been a superb actor, I kept looking for Houseman. Unfortunately his health prevented his reprisal of that role. I have nothing personal against Ms. Seymour but I much preferred Ms. McGraw in the role of Natalie. I also preferred Mr. Vincent over Mr. Bochner as I believe he portrayed Byron much more convincingly. I gave War and Remembrance a seven (7) rating as opposed to the ten (10) for Winds of War. Why? Precisely because of the change in actors. While I could understand the change from Houseman to Geilgud, I think there were too many changes. I am thankful they left Jeremy Kemp in the role of Gen. Von Roon however I was more impressed with Gunter Meisner's portrayal of Adolf Hitler in Winds of War over Steven Berkoff's portrayal in War and Remembrance. Ralph Bellamy did a masterful job as FDR. As to the critics of historical accuracy, the author was not presenting his work as a non-fiction textbook; but rather a novel set against the background of events leading up to and including World War II. And yes, there were some changes from the novel to the screen, but again, this is a great work of fiction that remarkably included real life events!!!\"\n",
            " b\"Little known Australian gem that takes the old 'girl stalked by psycho' theme and gives it a fun twist with some astute social commentary. A highly intellectual, educated women suddenly finds herself being manipulated by a slovenly, low class plumber. She is an expert at primitive cultures, yet is unable to deal with her own 'civilized' culture. As he tears away at her bathroom, he also tears away at the line that seperates the classes. Playfully pokes at everything from how much control one really has on their enviroment, to how vulnerable we ALL are and how no one is really that far removed or 'above' anyone else. Also aptly displays how our social mores, customs, and status are only their as long as everyone respects them. Yet the best thing about this sleeper is how everyone, including her friends and husband, are so caught up in their own little worlds that they cannot fully fathom the extent of her fear. Bringing to light the old adage of us all having our own 'private hell'. Mono sound and a bit of a 'cop out' ending are the only detractions.\"\n",
            " b\"Kirstie Alley won an Emmy for her performance in DAVID'S MOTHER, an uncompromising look at a blue-collar, boorish mother, who seems to be at a total loss at how to deal with her autistic son. Alley, cast against type, loses herself in this role of an uneducated, trailer-trash kind of mother who wants to love and help her son but is never really quite sure about what she should be doing for him. The always reliable Stockard Channing is also featured as her snobbish sister and Sam Waterston is charming as a man Alley gets involved with but this is Alley's movie and she forsakes any pretense of glamor to realistically portray an unsympathetic character in a difficult situation who somehow still manages to make us feel for her even though we know that a lot of what this woman does and feels is just wrong. Alley makes the most of a rather unpleasant role and gave us a memorable television experience, light years away from her role as Rebecca Howe on CHEERS.\"\n",
            " b\"A wrongfully executed man named Alex(Eric Mabius), resurrected from the dead by the crow, returns with a vengeance to find the man with a scar on his arm that killed his beloved Lauren(Jodi Lyn O'Keefe). To find that man, Alex will first seek out the four men who falsely accused him on the witness stand which led to his death via electric chair. The crow will guide him on his journey to finding those responsible. Erin(Kirsten Dunst), Lauren's sister, and Peter Walsh(Grant Shaud;was Alex's attorney)are Alex's only allies in the search for retribution. Soon dirty cops are unmasked leading straight to the Captain(Fred Ward)and even Erin and Lauren's own father, Nathan(William Atherton). I like this film and think the reason it turns out better than I expected is due to the heart of the picture..one man's will to find the one's responsible for the death of his love. There is some strong talent in the cast for a direct-to-video feature and the young leads of Mabius and Dunst{..not to mention Ward, Atherton, Midkiff, and Shaud}bring much to this film. The film's budget is exceedingly lower, but I felt it makes up for it in keeping the plot simple instead of overloading us with an overkill of sick visuals. Now, that's not to say it doesn't lack punch and edge. There are some very gruesome moments indeed and much flesh is displayed, but the levels are down exceedingly. Plus, this film doesn't make out the perversion as beautiful, but with a disdain towards those young ones exploited{example being when Alex confronts the young girl tied to a pole in the strip club owned by the dirty cops}. The film doesn't speak highly for the cops on the force under the Captain. The world of this film isn't Gothic like the other two but just as corrupt. While the other two felt like they were set in a much darker time and place, this film feels closer to our time in modern society. That might turn some away who like the dark, noirish vision of the first two. But, I do feel the heart of the story is still here and the element of man's link with the crow is quite present here.\"\n",
            " b\"Picked up this movie because the trailer's looked good and was not disappointed. Maybe just a little long, but the movie flows well - the lead character is likable and you care what happens to him and Hidalgo. Strange that they don't flesh out the other racers before the start though. We were interested in the story and did a little research - the basic facts appear true (he did indeed take part in this race) although there is a liberal amount of poetic license, of course.<br /><br />Thought Omar Shariff played a very good part and the rest of the cast gave good support.<br /><br />All in all, a good movie to curl up and enjoy with your chosen loved one !\"\n",
            " b\"I thought that the newer movies must have recycled all the jokes from old comedies like these and made these movies insignificant. But the charm that is present in this movie isn't present in most of the newer comedies. The plot itself is very good, and the direction sees to it that the movie doesn't get too serious or unfunny. I especially liked the fact that the movie was short.<br /><br />Cary Grant is excellent in his role.His acting is so funny, especially his dialog delivery and his facial expressions. He done't overdo it and fits his role perfectly. In fact, he should have received an Oscar nomination at least for best actor. Then there is a charming actress by the name of Irene who too is cast perfectly. The two share a wonderful chemistry that is one of the best that I have seen in movies. The supporting cast is great, especially the neighbor and the old lady. <br /><br />The direction is great. I especially loved the movie because I was not expecting such a movie in the thirties. It looks much newer, mainly because of the jokes. The ending is great and this movie is too good. 10 out of 10.\"\n",
            " b'I saw this film last night (a rainy Tuesday evening - perfect for watching a film like this!) I loved it.<br /><br />The cast is outstanding. As someone who loves visiting New York City, I enjoyed seeing Manhattan - the neighborhoods, Central Park, etc.<br /><br />If you like films that focus on the characters and not a whole lot of action, this is an excellent film to see!<br /><br />'\n",
            " b\"Cecil B. deMille's 1922 parlor-to-prison tearjerker Manslaughter finds the lovely Leatrice Joy as a good-at-heart but decadent young lady with more money than she knows what to do with. Her recklessness leads to imprisonment, which in turn leads to her regeneration. Thomas Meighan is the crusading district attorney who has made it his personal crusade to bring out the goodness and wholesomeness in Lydia (Joy) but he gets sidetracked by alcohol and once she is released, it is up to her to rescue him!<br /><br />If the plot doesn't sound too bad, you'll be floored by the woeful presentation. The quality of deMille's direction is very low, and he does not show any particular skill that is unique to him. The photography is standard and flat, and the editing is hardly more dynamic. One could easily classify it as a fashion show and be pretty correct. DeMille gets to dress Miss Joy up in so many different types of clothes (evening gowns, golfing costumes, motoring costumes, piles of furs) that it's subtitle could be 'Fashions of 1922'<br /><br />One thing more disappointing than the photography or editing or the direction is the acting, which is mostly flat and wooden. When it is not, it is merely routine silent gesturing, rolling eye balls, twitching eye brows and deliberate pointing and arm movements. What would have been enlivened for modern viewers by mugging and scene chewing of some of the worst silent films, is here merely dull to watch. The only member of the cast who succeeds in any form of excellence is Lois Wilson, who is not only beautiful but is able to play her role naturally. She is convincing and endearing in tearful close-ups, as long as you don't read the moralizing title card that follows once she opens her mouth to speak. Like I said, everybody else is droningly routine, Joy, Meighan, even Julia Faye. Her performance here makes a good argument for why she never attained true stardom.<br /><br />The worst and most amusing part of this movie is the heavy moralistic tone that carries through all of it. Meighan's character has plenty of intertitles where he drones on about how the youth of America is declining in it's moral stance, and going right back to the decadence of Rome. (insert absurd flashback) This movie's moralizing has been described as Victorian, but it's further than that. It has so little bearing in reality that I have a feeling audiences at that time didn't take it any more seriously than modern viewers could.<br /><br />This movie is exactly what the unknowing tend to think of as a 'typical' silent movie, with it's archaic moral structure, wooden acting and bad direction. DeMille shows that he could be a terrible director, with no sense of pacing, camera placement, or skill in handling either script or actors. I can't imagine anybody in their right mind taking it seriously. Boring, slow and idiotic, I recommend it to hardcore silent movie dorks like myself only.\"\n",
            " b\"One of my favorite films of all-time. Unusual because the pirates depicted in this movie are all too real. None of the romanticizing Errol Flynn or Jack Sparrow stuff. These pirates were shockingly ruthless and a real sense of danger permeates the film. Yul Brynner and Kirk Douglas bring intensity to their roles. Brynner as the egotistic sociopath who is the leader of the cutthroats and Douglas as a man who must deal with a desperate situation in a fight for survival. Samantha Eggar as a woman with flawed instincts for her own preservation evokes frustration and pity. From the brutal opening scenes, the message is clear that these pirates don't play. A sense of urgency then takes over until the final outcome. A great movie!\"\n",
            " b'Where do I begin? I wanted to enjoy this movie, and I did. Still, I wanted to be able to enjoy it for being another zombie film that was worth my loot, and it wasnt. This was a different kind of enjoyment. This was unhealthy, a perverse glee that I partook in watching one of the most ridiculous films Id seen yet. And I dont much care for whatever Fulci\\'s excuses were, there was no excuse for this film going how it went. This was a bad film all the way around, yet I still cant give it below a 4 out of ten, which is what I gave it, because well...at least I was able to laugh at this misfit of a movie.<br /><br />I had to imagine these zombies, that were all over the ceilings of these buildings everywhere...had to imagine that they were either bored as hell so they crawled up on the beems, and perched themselves high on stone erections, or they saw the fleshy living motley band of jerk-offs coming around, so they took it upon themselves to stage numerous aerial ambushes. Hell, what else is there to do when youre dead?<br /><br />I had to laugh at some zombies performing what looked to be martial arts swings, kicks, and jumps, and some shambling about like traditional meatlovers. I feasted my eyes on a floating head that was never explained. I watched in pure horrific delight as the land they were in, the Phillipenes, was absolutely engulfed in fog, heavy doses of fog, and that the ponds were as they were boiling castle moats. I had to even cringe when I saw that the design for a cure for this plague was sketched on a chalkboard as an octagon with lines stretching from each angle, with \"Dead One\" written in the middle. I had to ask myself...if the science of curing zombies is that easy, then I wonder if I could come up with a little something to start a zombie outbreak here!<br /><br />All in all the effects were overboard, the dubbing horrid, Im sure the original acting as poor, the story absurd, the zombies inconsistent, even in a bad way they couldve all been similar, and the women ugly, but I found myself enjoying this thing. It was a fun watch. It turned out to be a very very bad film, and I would not recommend this thing unless one is into bad directorial exploitation films, but still, again I say...it was worth a good laugh. I crave zombie films no matter what, but when this had Fulci\\'s name attached to it, it shouldve been much better. Let me dare say, Zombie Holocaust was better.'\n",
            " b'after hearing about this film since the 80s, i finally got the chance to see it and was seriously disappointed. it\\'s only slightly unusual and not at all funny. i was under the impression that mysterious possessed cars attack a town in a campy hysterical \"attack of the killer tomatos\" style.<br /><br />the cars are just human driven customs and very little actually happens in the film. there\\'s one or two chuckles, but there are many more wierder and/or funnier b-movies out there more deserving of a \"rep\" than this one.<br /><br />it\\'s like a watered down \"present day\" version of \"the road warrior\" without any of that film\\'s charm. it may have been the influence for it though as the \"helicopter jockey\" plays a small part in this film.<br /><br />worth seeing if you have to see every cult film ever made, but not if you need to stay awake. <br /><br />4 out of 10 overrated as a classic b-movie.'\n",
            " b'I loved this film. It was full of clich\\xc3\\xa9s and rubbish effects (the budget was so obviously spent half way through so the second half is more cardboard cut outs than CGI\\'s) The square looking college journalist who\\'s obsessed by UFO\\'s can\\'t get a break with her editor. Then, what a coincidence, a wrecked space shuttle pretty much lands her back garden. By the end, that square looking journalist has lost the specs, her shirt and her hair is hanging down. Then the brave tyke takes on the giant spider with a bazooka whilst hanging from a moving helicopter. Talk about multi skilled. (By the way, this was shortly after the spider had rampaged through down town LA growing bigger with every person it ate).<br /><br />This film was so wonderful, me and a friend have decided to write our own monster horror. If this can get made, then the studios are going to be snapping up ours. I fancy Spielberg to make the film \"Budgies\"...'\n",
            " b'While the British produced some hilarious and slick sitcoms in the 1990s - Ab Fab, Men Behaving Badly, One Foot in the Grave, etc. - the 70s were the real golden age.<br /><br />In the 1970s there were whole new territories to explore, including the sexual revolution, feminism, and the slowly evolving awareness of a need for \"sensitivity\" that would, twenty years later, become Political Correctness. Attempts to grapple with the confusion of this thoroughly modern world were the subtle and not-so-subtle themes in everything from the skits of Monty Python\\'s Flying Circus to sitcoms like Man About the House. (By the late 70s this \"grappling\" resulted in more meditative and bitter-sweet sitcoms such as the masterpiece Butterflies.)<br /><br />Man About the House is a perfect example of the good Britcoms of the time - slightly genteel, cheeky, fresh, ingenuous, sometimes outrageous, with some well made observations on contemporary life. Compare it to a cynical 90s show such as Ab Fab, and it is hard to believe the two were created in the same country.<br /><br />Man About the House is one of the great Britcoms of the 70s, right up there with Good Neighbors (The Good Life), and About the House\\'s spin off George and Mildred. Its quality is attested to by the fact that - as with Good Neighbors - its creators, writers, and many of its cast have had continued success in British television.'\n",
            " b\"I am quite tolerable with B class movies. They don't have big budgets so they work with rubbish/old timer/carriers never took off artists and thats OK. As long as they have a nice script and don't try to compete with big guys, they do just fine. However this movie...<br /><br />1) This is the second time they released a movie with Starship Troopers title that is ABSOLUTELY rubbish. The main story is not too bad but side stories are ridiculous.<br /><br />2) You don't expect anything philosophical from a Starship Troopers movie but the lines are at best copied from the first movie. All the characters talk in a very cheesy way.<br /><br />3) The CGI's are Xbox level, not even PS3. Especially the scenes with Marouders feel like they are coming from a low budget computer game (deer hunter, anyone?)<br /><br />4) Half the movie is wasted with religious talks, that lead nowhere. Makes you wander whether Vatican sponsored the movie. At one point I expected to see the pope jumping from a landing craft and start killing bugs. Its at that level, no kidding.<br /><br />All-and-all, I'm glad I watched this one at a friend and didn't spend any money (just my time, which is bad enough). And it also made me sad for the actors. Casper Van Dien's movie carrier never took off, so I guess it is fair to assume he needed the money. But Jolene Blalock was a rising star two years ago. Her acting skills are limited but everybody loved her in Star Trek. What forced her to join this movie is a mystery to me. I guess she also needed the money wanted to finish and go home because like everybody else, her acting was extremely cheesy.\"\n",
            " b'I realize that a lot of people actually enjoyed \"Double Team\", that its director Tsui Hark is a talented and hard working fellow responsible for some outstanding Hong Kong cinema in years past, and that Jean Claude Van Damme has at least managed to stay pretty buff even as his career declined (unlike his contemporary Steven \"Make Mine KFC\" Seagal). <br /><br />But \"Double Team\" sounded the Death Knell for Van Damme\\'s movie career, which was finished off and consigned to direct-to-video Hell by Hark\\'s follow up \"Knock Off\" in 1998. (Although I felt that \"Knock Off was mildly enjoyable, Hark\\'s off-kilter approach and the 3rd rate screenplay made it tank big-time with American audiences). <br /><br />It\\'s not that the movie itself was all that bad to look at.It\\'s obviously the work of professionals. The hyper-kinetic camera work and meth-driven action sequences are pretty much what we\\'ve come to expect from Hark and his colleagues, there\\'s some reasonably witty give and take in the dialog, a few decent one liners, etc., the actors are reasonably buff, etc. I tried to take all this into account, and all these mitigating elements help a little, but in the end, \"Double Team\" is obviously the Beginning Of The End. <br /><br />Why?? Well, we\\'ve always known the Van Damme isn\\'t an Actor, he\\'s a Body (like, say, Marc Singer in \"Beast Master\"). He\\'s only believable in a limited range of roles, and he\\'s very limited in his dramatic range of emotions ( the thick accent has always been a hindrance ). And \"Double Team\" pretty much signaled that Hollywood had run out of things to do with him, that his fan base and audience was pretty much played out, and that every VD film from now on would be a retread or a derivative, 2nd rate mishegoss. Three major directors had made a shot at bringing him into the mainstream (\"Hard Target\", \"Time Cop\", and \"Sudden Death\"), and Van Damme had been decent-to-excellent in all of them...but all those directors had moved on and Van Damme was now back to making \"B\" movie fodder. <br /><br />Or in the case of \"Double Team\" a \\'freak show buddy movie\\' whose gimmick was that it starred Dennis Rodman as a giant Dennis Rodman. Rodman\\'s whole gimmick as a celebrity (as opposed to his inarguable talent as a pro basketball player) is that he is \"outrageous\", and the movie stops repeatedly to let him BE outrageous, with various hi tech gimmicks and basketball-themed weapons that seemed to have been invented by your ninth-grade nephew. There are some potentially funny and incisive lines , but the delivery (by both Van Damme and Rodman) pretty much just lies there. Van Damme is particularly \"off\" in this movie, like he\\'s just going through the motions until his hangover subsides or something. <br /><br />So it\\'s not a \"real\" movie, but just a strung together series of set pieces with testosterone-fueled muscle flexing and an almost complete lack of actual human emotion or feeling. Oh, a certain kind of audience will love this kind of thing, but somehow, this particular movie seemed to permanently typecast Van Damme as a 2nd rater, a hack actor in the same vein as Rutger Hauer, Dolph Lundgren and, yes, Steven Seagal...All these actors also started off with a big splash in well designed vehicles that showcased their talents...and then faded into B-to-Z movie hackdom as the casting agencies and action directors moved on to other, fresher faces. <br /><br />For all his limitations as an actor and an action star, I\\'ve always enjoyed Van Damme - he\\'s good looking, he is capable of mild wit and self deprecating humor, and he works hard at maintaining his physique in a career phase where a lot of his action star peers from the same period have let themselves go and have to suck their guts in and hope for a good camera angle. I was sad to see him going through the motions in this silly half-baked excuse for a screenplay.'\n",
            " b\"What can you say about a film that covers three centuries, people from all stations of society, and several European countries and Canada. Ambitious is a good start. This film was very well crafted and at about one hundred forty minutes was too short for me. The story follows a red violin, an inanimate object, although at times it seemed alive to me, thru three centuries and the influences good and ill that it has on its possessors. It does ever seem to be owned. Each of its possessors lives a life of passion and turmoil. The violin's birth is during turmoil and during its life it buried, shot, and almost burned. The writing which includes this parallel between the violin and its possessor , five somewhat independent segments that mell and converge in the final scenes, and a story told by tarot cards make for an extremely unique experience. Add to that the musical score, scenery, the varied languages and cultures and you have a great offering. The performances were all strong, but I thought Jason Flemyng as Lord Frederick Pope stood out. To say his character was eccentric and maybe a little over the top is justifiable but I'm sure that was intended. English nobility has always been known for its idiosyncrasies. The ending has incongruous feel with the remainder of the film but is satisfactory and I can not suggest a better one. Great entertainment! Three and a half stars!!!\"\n",
            " b\"Angela Lansbury plays Eglantine a middle aged lady in war torn England, during the WWI. She has been studying witchcraft by mail, and has been secretly learning it in her home, she is doing well, until three children who have been separated from their parents from the last air raid, are sent to stay in Angela Lansbury's huge house. She is not happy about having them, because of her secret. They only want to go back home. The oldest boy is very hard to get along with he is a brat. The other two a boy and a girl are just inquisitive about their new place to stay and the lady that is their hostess. The kids find out about her secret and that is when the fun begins. Fun and more of it. Family fun. Laughter, frolic, adventure, something for everyone. The special effects are quite good. This is a musical the tunes are every bit as catchy to sing later as any of the other Disney films. Add this to your Family Video Library. You will not be disappointed.\"\n",
            " b'For those of you unfamiliar with Jimmy Stewart, this is one of his \"lesser\" films from later in his career. And, while it isn\\'t a great film compared to many of his other pictures, it isn\\'t bad and is a decent time-passer--but not much more.<br /><br />Kim Novak is a witch in New York City and for some inexplicable reason, she decides to cast a spell on poor Jimmy to make him fall in love with her. Over time, the cold and detached Ms. Novak also begins to fall in love with Stewart--and apparently in the witch\\'s rule book, this is a definite NO, NO!! <br /><br />The film is odd in its sensibilities about the witches. They are neither the baby-sacrificing nor the all-powerful variety. Most of their magic is pretty limited and pointless (such as Jack Lemmon using his powers to turn off street lamps). And, very oddly, the witches all seem to be bohemians who hang out in hip bars where you might find people wearing berets and listening to crappy jazz. Considering what I think of jazz, it must really stink to be a witch in this movie\\'s world!<br /><br />Anyway, the film is pretty romantic and mildly comedic, but not something I would rush out to watch. The acting is pretty good, but the script doesn\\'t offer enough payoff to make this an exceptional film--in fact, I almost scored the film a 6--it was really close.'\n",
            " b\"First of all, the film is very interesting and thought provoking. That being said, it does resemble Office Space a little bit. I say that because a lot of it takes place in an office and it's like we are watching it from Milton's perspective. Those are the only comparisons. I have just watched this movie, and I like it very much. This is the kind of film the movie theater's have been missing. To go back to my summary title, I think that Christian Slater's performance in this film outshines anything else he's done. I am a big fan of Elisha Cuthbert. She is good in this as well. However, Slater's performance is something to see by anyone and everyone. I almost forgot that is was Slater playing the part of Bob. Slater has never left the building!\"\n",
            " b'I saw this movie at the Toronto Filmfest and had such high hopes... soon to be dashed. The plot is both confused and boring, leaving the audience incapable of identifying with the characters. The backdrop of an erupting volcano tries to give the film tension but merely confuses the storyline. Harvey Keitel manages to make some of the movie at least watchable but this movie rated high on the numb-bum-omiter... for a movie pegged at 135 mins it felt like 4 hours.<br /><br />The whole audience was left in stunned silence at the end of the movie. When the Q and A started the director was asked \"what were the evil nuns about? \" he didn\\'t seem to know what they were there for either... I\\'d like to think it was a nod to Monty Python ;-)'\n",
            " b'German filmmaker Ulli Lommel has managed a task many horror fans thought was impossible: he\\'s unseated fellow Teuton Uwe Boll for the crown of director of the worst horror film ever made.<br /><br />Lommel is truly the Ed Wood of the new millennium. This film is as shoddy and laughable as the best-worst of EW. I am both proud and embarrassed to say that I watched it in toto, morbidly fascinated to see just low the bar could be set. The answer is: subterranean; Lommel dug a pit and buried it.<br /><br />The fun begins with the cast of international nobodies. Only someone who has lived in Los Angeles, where every auto mechanic, doctor and mailman is an actor or screenwriter waiting to be discovered, could easily understand how Lommel managed to find so many wannabe actors willing to spew his ridiculous dialog with a straight face.<br /><br />The main character, a villainous beat cop, is played by a German actor with a thick German accent. Aside from being a serial killer, he is also the oldest beat cop in LA. Despite the fact that he stops innocent women drivers and takes them into custody, then drags them into his home (which inexplicably is the top floor of a furniture warehouse), and does all this in plain sight of his rookie partners, the LAPD refuses to investigate, going so far as to physically attack one of his accusers in a ninja style raid on his apartment.<br /><br />The sets are excruciatingly bad. The production designer\\'s budget apparently included just enough money for a can of paint; enough to paint \"Precinct 707\" on a cardboard wall.<br /><br />Since the actors were obviously unpaid non-professionals--a sad assortment of European emigres (possibly deportees if they acted in their native lands), bimbos, mimbos, and desperate middle-aged women--and since little if any money was spent on sets, special efx, locations or other production value, it is only fair to mention that they did spring for a few genuine-looking police uniforms. Sadly, they couldn\\'t afford a police car; the uniformed cops cruise the streets in a shiny new Mercury rental.<br /><br />More than half of the story focuses on the dirty deeds of our deranged German LAPD officer and the futile efforts of two young rookies to stop him. One of these young actors is especially pitiable because he\\'s the only actor in this whole mess with even a vague shot at a real career in the movies. The other fits right in, with a rockabilly hairdo and tortured Brando posing that needs to be seen to be appreciated.<br /><br />The latter part of the film is where the title gets its zombie, as the victims of our killer are resurrected after he murders a girl who had just visited some voodoo priestesses to have a protective spell put on her. Don\\'t ask why a girl from Romania would resort to voodooism in anticipation of being murdered, just accept Lommel\\'s logic and enjoy the absurd ride.<br /><br />After much prolonged hand-clawing out of straw-covered roadside graves, the zombie girls manage to make their appearance. They look exactly as they did before death, maybe even prettier, with black glamor make-up generously airbrushed around their eyes. Looking nothing like zombies, they look more like high fashion models ready for the runway.<br /><br />At this point in the movie Lommel borrows a creative note from his lauded countryman Boll, and injects large doses of cheesy Euro-trash techno into the soundtrack. We\\'re talking prehistoric electronic bumblebee noise. Stuff they might have played in an Ibiza disco when Lommel was still young enough to shake his booty.<br /><br />Unlike other zombies, Lommel\\'s girls speak and function as normal... er, I mean, as they did before becoming zombified. This gives our auteur ample opportunities to shower us with more of his golden dialog. Yes, a golden shower it is.<br /><br />I won\\'t spoil anything by revealing the shock ending. All I can say is it\\'s perfectly in tune with the rest of this masterpiece. The spirit of Ed Wood lives on... or should I say his geist.'\n",
            " b'I saw this movie as a boy and it lingers after nearly fifty years as a haunting memory. It may be what we now call noir, but the twinkle in Welles\\' eye also lingers, suggesting a gris texture. That twinkle is the same that Harry Lime (cine verde?) flashed to Holly Martin in the alley scene of The Third Man (which was also made in Europe in 1949).<br /><br />Cagliostro was a brilliant montebank, alchemist,poseur and rascal of the first order. Welles gave him credibility, perhaps recognizing a kindred spirit down the centuries. I still remember the dark, cobbled streets and slick rainy roof tops of eighteenth century European cities -- scenes also not unlike the ones in The Third Man. The ending, I remember, was also bitter sweet.<br /><br />I wish that those who produce lesser know classics for DVD restoration might see this \"foreign\" movie; it is obviously available somewhere since there have been other reviewers. If they chose it I could have my childhood Madeleine experience, and others would have another Welles film to compare with the finite now available.'\n",
            " b'As I am always looking for something new and unique, I watched this film online. I thought that it would be just another \"B\" rate movie but I was amazed at the acting by the two main characters. All of the actors in this film were very capable and well directed. The plot was wonderful and unique as well with an excellent moral to the story.<br /><br />This movie is definitely not for someone looking for a sex romp, \"Dumb and Dumber\" or blood and guts. This is a wonderfully poignant film showing some grim realities of life coupled with the kindness of the human heart and just enough frivolity to keep it interesting.<br /><br />I would prefer this movie to many \"A\" rate movies I have seen even a great number with high box office earnings.<br /><br />I highly recommend this movie.'\n",
            " b'This review covers both versions of \"Flatland\" released in 2007, one by Ladd Ehlinger, Jr. with a mostly unknown voice cast, and the other by Jeffrey Travis with some Hollywood big names providing the voices.<br /><br />The source material for both is the 1884 novella by Edwin A. Abbott, but the approaches of the two films differ radically. The book is a staple of science fiction, and one of the few to address mathematical issues at its core. Being a product of its time, the book is technically naive, and politically incorrect based on current sensibilities.<br /><br />The Travis film is visually slicker, but significantly shorter, and tackles philosophical issues relative to the passage of time from initial publication. As such, it tampers with the plot to mixed effect. Unlike some others, I have no problem with some of the revisions to the underlying plot since they do help bring some of the book\\'s major issues into somewhat sharper focus. On the other hand, they also add a \"feel good\" and politically correct sensibility that seems out of place.<br /><br />The Ehlinger film is much truer to its source material, which is both a strength and a weakness. Given a current perspective, its 19th century depiction of the political and social subjugation of women is a distraction that the Travis film avoids. It\\'s also a longer film and could have been more effective with some of the same plot and editing license employed in the Travis film. Where it does tamper with the plot, some of the decisions are questionable as other reviewers have pointed out.<br /><br />So which is better? In my opinion, the short answer is the Ehlinger film. Despite its length, political incorrectness, and technical inferiority (the animation of the Travis film is much more sophisticated), it resonates at a technical level to a degree that the Travis film can\\'t match. As a scientist, this means a lot to me. On the other hand, the Travis film resonates on an emotional level that the Ehlinger film can\\'t match. So the answer may be whether you\\'re looking for technical insight or emotional satisfaction.<br /><br />Most jarring in the Travis film is that, unlike the Ehlinger film, the animators never quite caught on to the implications of a two-dimensional universe. It is filled with objects which are instantly recognizable to us, yet would be clearly impossible or meaningless in the film\\'s reality (e.g. the protagonist\\'s daughter has toys which only make sense to someone with a 3-D perspective, and how does he open his briefcase?). The cover art is an obvious first impression example. The Travis film\\'s characters look more human, but ask yourself how their eyes work. One detail of the book is that looking at a Flatlander from above, all of his internal organs are clearly visible, as they should be. Travis\\' animators hint at this, but don\\'t meet it head-on. The Ehlinger film\\'s animators may not have had the resources to make as slick a film as Travis\\', but they obviously gave a great deal of thought to what they were doing (or maybe not, since the necessary designs were all in the book). In short, Travis had the budget, but Ehlinger had the passion for the project - albeit perhaps a bit too much respect for the source to create a truly superior adaptation.<br /><br />The differences reflect different target audiences, though. The Travis film is an educational short film which was obviously meant to be viewed by classrooms of middle school and high school students. As such, it had to be socially inoffensive while conveying concepts of geometry that would never occur to non-mathematicians. That it includes recognizable names voicing the characters will help it grab a bit more attention - an educational short film for the \"X-Files\" generation. The Ehlinger film would mostly appeal to people with a college level interest in mathematics, or others who are already familiar with the book.<br /><br />Neither film is perfect, but I\\'m giving the Ehlinger film a rating of 8 and the Travis film a rating of 6. Depending on your sensibilities, your conclusion may be exactly opposite of mine, so I hope this review includes enough information to guide you to an informed selection.<br /><br />Or, like me, you could simply buy both... ;-)'\n",
            " b'This incredibly inept (supposed) horror film is so badly done that one might think that everyone involved (cast & crew) created this mess just to upset the general movie-going public and to sit back and laugh at us for trying to watch it! ...either that or it was created as some sort of tax dodge... Please don\\'t waste your time on this 0 out-of 10 trash...(a.k.a.<br /><br />\"Bram Stoker\\'s The Mummy\")'\n",
            " b\"Herbet Clutter, wife Bonnie, and their teenage children Kenyon and Nancy were much liked and respected in their tiny town of Holcomb, Kansas--but in the early hours of 14 November 1959 all four were brutally murdered. Rather unexpectedly, the crime made an impression on author Truman Capote, who rushed to the scene and followed the course of the case to its conclusion. The result was the book IN COLD BLOOD. Controversial, shocking, and exceptionally well-written, it became an international best seller and it remains a touchstone for crime writers to this day.<br /><br />The 1967 film version of Capote's work is almost as remarkable as the book itself. Filmed in black and white in many of the real-life locations, it has a slightly documentary quality, icy and detached--and the overall cast is exceptional. This is the film on which Robert Blake's reputation as an actor rests, and deservedly so. As killer Perry Smith, Blake traps you between a profound distaste and the shock of unexpected sympathy; it is a masterful performance from start to finish. As Richard Hickock, Scott Wilson is no less fine.<br /><br />Like Capote's book, the film opens with Smith and Hickock as they travel to Kansas and brings them to the Clutter home--only to suddenly flash past the crime to detail the investigation that finally resulted in their arrest and conviction. The centerpiece of the film has always been the moment at which we at last see what occurred in the Clutter home; actually filmed in the Clutter house itself, it is a spinechilling sequence, horrific and deeply disturbing.<br /><br />Director and writer Richard Brooks guides the film with a very powerful sense of deliberation, erring only in the sense that he allows the film to become slightly preachy. Given the overall power of the film, however, this becomes a trivial annoyance. Strong stuff--and recommended.<br /><br />GFT, Amazon Reviewer\"\n",
            " b'It\\'s easy to point out that this story is based on actual events once the cameras start rolling. It is also backed up by excellent performances by Cher and Eric Stoltz. <br /><br />\"Mask\" is a tender, heart-warming story of a young teenager named Rocky Dennis who is very intelligent and emotionally sensitive as well. However, he is scarred badly due to a rare disease that has disfigured his face since he was born. As always people who pass him by or approach him a first glance feel slightly intimidated by his deformity. But by not letting these fears get to him, he becomes well over with his peers as they learn to accept him for who he is, not by what he looks like. <br /><br />Rocky also gets a boost of confidence from his mother, Rusty Dennis, played with sheer excellence by Cher. Rusty is a gorgeous, single mother with problems of her own too. She spends most of her time hanging around with biker gangs, she drinks, smokes, is addicted to drugs, but in spite of her problems, she continues to love her son and will bend over backwards to defend him from anyone who puts him to a lesser degree. For example, when the school principal who recommended that her deformed son be placed in a \"special\" school and how she told him off to his face that he will thrive with the normal students and threatened to sue him, shows that her love for her son will always be first before her. But with his progress and his strong academic showings, Rocky graduates as valedictorian of his class.<br /><br />Ever since he was born, Rusty delivered tough love towards her son, not to the point where he\\'ll suffer a nervous breakdown, but just as way to keep him motivated and to blend in with people his own age like as though he was a normal child, without taking advantage of his deformity. And Rocky continued that legacy, from the morning he wakes up to face the world, inflate his self-confidence, keeping the glass half-full and just be happy with the world around him in what little time he has on this Earth. And eventually through tiring persuasion to get his mother to clean up her act, the audience finds more ways to love Rocky for what he really is. You love him because Rocky is a kid who loves people back which to this day is a precious commodity that you rarely see these days.<br /><br />I have seen \"Mask\" many times and every time I watch the movie, tissue paper is never behind. It is a coming-of-age story that deals with triumphs and failures of having an incurable disease and is handled in a believable and sensitive approach. But the great center in the story is not entirely centered on the kid\\'s physical illness, but the bonding between a mother and her son.'\n",
            " b\"This movie is very well written and acted out. Taye Diggs does a wonderful job as does Nia Long and the other supporting characters in this cast. Malcolm Lee's directory debut is a good one. I was surprised at how good this movie was. Definitely worth the money to see this one.\"\n",
            " b'Here is the King of Comedy, Hal Roach, on the downslide. This is a very low budget film, a continuation of the series starring William Tracy and Joe Sawyer which was usually the bottom of the double feature at the local theater.<br /><br />I first saw Tracy as Misto Bottome in \"Brother Rat\" and thought he was wonderful. He had the look of a mischievous child and oh, that voice!!! He continued to look much younger than he actually was but in this film he is beginning to show his age.<br /><br />The plot, what there is, revolves around the efforts of a reporter to prove himself to his publisher who is the father of his girlfriend. The finale is a mess......it is the worst type of slapstick with everybody running on and off a stage, falling down, being boffed on the head and generally causing mayhem. It was dated even in 1948. Roach made a career from this type of humor but the times had changed and audiences were not buying it.<br /><br />Don\\'t get me wrong......I like both Tracy and the excellent Joe Sawyer but this wasn\\'t up to their comedic talents. It\\'s not a total loss but comes pretty close.'\n",
            " b'It never ceases to amaze me how evolutionists posture themselves as the great intellectual victims in America. Hey, wake up, you won! In fact, YOU WON BIG, so stop whining. Forget for a moment that you are crusading for a theory which has scant little verifiable evidence for where its advocates want to take it, or as a general explanation of the development of life on earth. It\\'s like one of the great scams of the last century. In the home of the free and the land of the brave you get to teach unimpeded and unquestioned a theory with gaping holes and little actual factual support as an explanation for the development of life. Congratulations!<br /><br />And what the school district wanted to do in the Dover case was so insignificant, that is, inform kids that another theory existed. Oh my goodness, what happened to the opportunity to form your own opinion? If John Scopes were alive today he\\'d be fired for teaching that Darwinism might just not be right. Heresy!! It\\'s like the Dark Ages all over again, except this time the left is in control. Isn\\'t the free expression of reasoned belief and opinion what PBS and the ACLU are supposed to stand for, or does that only apply to beliefs without Christian support? The only thing I agree with Bush on (and I voted Dem the last two presidential elections) is that both theories have some factual basis, neither have complete validation, and both are appropriate for the classroom where neither can scientifically prove itself to be the definitive answer. <br /><br />This movie and the even more intellectually dishonest NOVA \"documentary\" (I gag at the use of that word with the NOVA \"effort\", my tax dollars at work) assume that Darwin\\'s theories have been conclusively proved to be correct as an explanation for the development of life on earth, and that if you were just smart enough and didn\\'t let your mind be clouded by the religious nonsense you\\'d see the truth too. Unfortunately, that just AIN\\'T TRUE. The Inconvenient Truth (ignored by these position papers) is that there are as many issues with Darwin\\'s theories as there are with the intelligent design theory. The dishonesty of this movie (and the NOVA \"effort\") in appearing to show the creationist view, but simply as a set up to the Darwinist response, is so contrived as to suggest the weakness of the Darwinist position. This one does the intellectual dishonesty in a particularly coy, pseudo self-effacing manner, making it in its own way even more dishonest. And they always have to throw in the personal stuff, just to show how all the creationists are Nazis and the anti-creationists just humble little folks (who nonetheless would like to impress their unsupported beliefs on your kids). I\\'m sure there are personal issues both ways, but you won\\'t see it here or on NOVA. Let\\'s have an intelligent debate on this issue, not the propaganda machine. Be professional journalists and grow up guys.'\n",
            " b'Sorry Martin, this wannabe \"Titanic\" didn\\'t do a thing for me...<br /><br />I don\\'t want to say this is simply a film for the masses about the masses but that\\'s the way it turned out: a big fat mass of masses for masses.<br /><br />That said, without spending too much time, I belive the film fails honestly because Scorcese is attached to it.<br /><br />If this was a film made by any unknown director or some greenhorn, I would have no choice but to applaud the effort as the EFFORT is tremendous. But, when you look at the body of work and more importantly the intelligence and multi-level approach of Scorcese\\'s other films, this film completely fails in comparison.<br /><br />Somewhere along the way this film was butchered, (pun intended) whether it was by the studio, by Scorcese, or by the batch of writers who\\'s conflicting visions and machismo keep bobbing up and down throughout the story. I believe Scorcese (or the studio) tried too hard to make a film for \"today\\'s (young) audience\" instead of just making (or letting Scorcese make) a Scorcese film. Sure, perhaps many of today\\'s brainwashed and dumbed down proles might not get it, but the film would have entertained the large following this director has cultivated over his many years behind the camera. If the only story he wanted to tell was a nobody wins revenge tale without redemption, flanked by an extremely shallow and cookie-cutter romance, then why waste all the time and money with 1860\\'s New York? Whether or not Martin is actually washed up or still possesses his own magical abilities with a camera I cannot say, but it seems that whatever his original vision was, someone went through it (violently) with a cleaver.<br /><br />It\\'s interesting though, as a comparison, the actual base human story of \"Titanic\" has the same cookie-cutter romance elements as \"Gangs\" yet it is crystal clear that the FOCUS of \"Titanic\" is on an IMMACULATE portrayal of both the ship itself, the passengers, and the events that took place -- an accurate portrayal of history is the most important factor. \"Gangs\" does not present that same sharp and exacting historical focus to any degree, instead bits of chopped up pseudo history and gruesome violence are thrown around for a bit color in an otherwise monochromatic, by the books, and boring love story.<br /><br />Bottom line: I can hear this bomb falling right now... Half my theatre left after the 2 hour mark, some before, and that was on opening night.'\n",
            " b'Anyone who saw this growing up has a soft spot in their hearts for it; I\\'ve encountered enough people over the course of my 37 yrs who perk up at the mention of it to be aware of its place in a lot of our memories. This has been satirized on the Simpsons, which proves it has embedded itself in the national pop culture consciousness. Anyone who has read the book its based on, the incredible \"I am Legend\" by Richard Matheson, knows that this film has very little in common with it beyond its initial premise--and even that is not followed too closely. All of the criticisms of THE OMEGA MAN are valid: It is very dated and not at all scary or intense and some of the stunts and special effects are laughably, ludicrously cheesy; the villains--who should have been more terrifying than even Romero\\'s zombies--are just crazed albino hippie Luddites and the last half of the film, once Chuck hooks up with Rosalind Cash and the kiddies, is really a let down. But the scenes that open the film of Heston hefting a cool-looking machine gun while decked out in Austin Powers-style finery (!) staring in angst at an old calendar or losing his mind for a moment hallucinating the sound of telephones ringing in the deserted city still pack a punch. This was the second movie, after 1959\\'s THE WORLD,THE FLESH, AND THE DEVIL, to successfully pull off the eerie effect of being the last living human being in a huge empty city. Both films established the visual motif of streets filled with blowing waves of newspapers and swirling trash.After years of seeing this on TV -- a guaranteed late September or early October event every year for a few years on the local TV station during my Pacific Northwest childhood in the old Dark Age before CABLE TV and the videocassette revolution, its nice to see this movie on DVD with a beautiful widescreen transfer. It looks and sounds great. As a child I always liked the music, particularly the \"surprise party\" theme that plays when the villains make their first appearance. It rocks here in all its xylophone and funky electric organ and horns glory!'\n",
            " b'I had read a few positive reviews of this film, and was truly surprised at how dreadful the whole thing was. Positioned as some cross between an AIDS-related story and some kind of \"Ghost\"/\"Blithe Spirit\" tale, this film can\\'t always make it\\'s mind up what it wants to be. <br /><br />Simon and Mark are a gay couple who have an \"open\" relationship - Simon is able to have anonymous (though safe) sex on the side when he wants. Mark is HIV+ and he and Simon don\\'t seem to have a sex life anymore. When Mark dies, Simon - who has made a habit of shutting off his emotions after being rejected years ago by his father - tries to erase his memory and just get on with being a bachelor. Not that his behavior before Mark\\'s death was much different. But Mark returns in ghostly form and foils his various trysts, while getting Simon to open up and admit his true feelings.<br /><br />Unfortunately, Simon is such a selfish SOB, it\\'s impossible to feel any empathy toward him for most of the film. By the time he is supposed to be more sympathetic, it\\'s too late to care. Mark, on the other hand, follows in Demi Moore\\'s footsteps from \"Ghost,\" by crying profusely throughout the movie. <br /><br />There is a bizarre switch in tone after Mark returns. Suddenly we get some lame attempts at humor, a la the TV show \"Bewitched.\" But that doesn\\'t last long. Once Simon\\'s emotional health is at stake, the whole thing becomes increasingly mawkish, with amateurish attempts to jerk at your heartstrings. The finale, with a gold-plated muscle-boy angel guiding a tearful Mark to heaven while a chastened, grief-stricken Simon waves goodbye is just stupefying, chiefly because it isn\\'t intentionally funny.'\n",
            " b\"SPOILERS 9/11 is a very good and VERY realistic documentary about the attacks on the WTC.2 French film makers who are in New York to film the actions of a NYFD are being confronted with this event and make the most of it.Before 9/11 nothing much really happens which gives the movie an even more horror like scenario. On the day of the attacks it seems like just another dull day at work but this will soon change.As one the film makers goes on the road with the firemen he films the first crashing plane,this is the only footage of the first impact.He rides with the firemen to the WTC and goes inside the building.As the second plane crashes the people understand that this is not an accident.In the next period of time we see firemen making plans to save as many people as possible,in the meanwhile we hear banging sounds,these are the sounds of people who jumped down from the tower and falling on the ground,this is the most grueling moment in the documentary.Then the tower collapses and our French friend has to run for his life,you hear him breath like a madman while he runs out of the building.Then a huge sort of sandstorm blasts over him and the screen turns black,he was very lucky to survive and now he can film the empty streets of Downtown New York. Because this documentary has got so much historical footage and because the film was ment to be something totally different this documentary will probably stay in everybody's memory.I saw the attacks live at home because I had the afternoon of,so this makes it even more realistic to watch. 10/10\"\n",
            " b\"How can a movie be both controversial and gentle? This one does it with a near-perfect structure. No one wants their daughters to be athletes. Apparently most cultures don't want their daughters to be small-breasted, either. Here we see a bunch of superb actors we've never heard of before portray folks of different cultures living fairly humdrum lives until their female children want to, and have the potential to, become professional soccer players. The structure around the parallelism of the two cultures is wonderful. There is no condescension. Both cultures are seen as modern and valid. (And yes, both are silly, too). One flaw: the Hindu wedding ceremony seemed to involve hundreds of relatives but not one child among them.\"\n",
            " b\"The first two adaptations (Angels Fall and Montana Sky) were disappointing for someone who read the books. I was actually pleased by Blue Smoke.<br /><br />They did a good job of adapting a complex book down to a short movie. The flashbacks were a great way of letting us understand Reena's history and her current emotional state. Of course, they changed some of the details, but those changes didn't bother me, and worked well for the movie. And I think they did a good job of casting for this one - Alicia Witt and Scott Bakula were very good.<br /><br />The only complaint I have is that due to the short time constraint, they were not able to really focus as much on the relationship with Bo, so the chemistry wasn't as strong as it could have been. Matthew Settle is very cute, but we didn't really get to know his character.<br /><br />That said, I enjoyed it.\"\n",
            " b\"Woody Allen movies are often original or so unoriginal that they become original (\\xc2\\x91Manhattan Murder Mystery' comes to mind). \\xc2\\x91The Purple Rose of Cairo', a title that says nothing about the real content of the movie, belongs to the first category. It is about a woman Cecilia (Mia Farrow) who enjoys watching movies and on one day she visits the movie \\xc2\\x91The Purple Rose of Cairo' and Tom Baxter (Jeff Daniels) suddenly steps off the screen into the theater and into the life of Cecilia. The problem is that Tom Baxter is the character of \\xc2\\x91Purple Rose' and knows only things his character is supposed to know for that role. More problems occur when other Tom Baxters in other theaters want to step out of the movie as well. Of course there is also the actor who plays Tom Baxter who is named Gil Shepherd. Both Tom and Gil fall in love with Cecilia.<br /><br />Like I said the movie is pretty original. The way Allen plays with the possibilities of this fiction is done in a terrific way. There is a part where Tom ends up in a whorehouse and he has no idea what the women are talking about because his character didn't need to know these kind of things. It is one of the funny parts of the movie and a perfect example of how Allen uses the situations for funny moments.<br /><br />It is also the problem with the movie. Near the end we grow a little tired with the same kind of jokes over and over again. Every time we see how Tom Baxter is incapable of doing or understanding things, or the opposite, because his character has no idea of real life. Allen is a great filmmaker and therefore the movie does not get boring. When we are not entertained with the jokes anymore at least we can be entertained with originality of the story. The closing scenes are pretty standard and predictable but the ride up to that point was so interesting I was willing to forgive him that. There was probably no other way to end this entertaining and original piece of cinema.\"\n",
            " b'My Take: Ridiculous and blood-thirsty. It\\'s bloodily bad. <br /><br />Even if it was pure camp material, the original DELTA FORCE with Chuck Norris, Lee Marvin and a supporting all-star cast didn\\'t take itself too seriously as it might have. The movie is pure B-movie, and it rarely took itself seriously. Same cannot be said about its sequel DELTA FORCE 2 in 1990 (also known as the COLUMBIAN CONNECTION). What the first film does with so much fun with itself was taken to darker and bloodier heights in this solid but joyless and too bloody sequel. Some stunt work (especially the skydiving scene and helicopters) are pretty good, but the overall film is too bloody serious to even be fun, hence it\\'s often tedious.<br /><br />Chuck Norris looks bored replaying his role in the first film (Col. McCoy) for vengeance when his pal\\'s wife was killed by a merciless drug dealer named Ramon Cotta (played with surprising menace by THE UNTOUCHABLES\\' Billy Drago), who has been freed numerous times after being captured. Although this villain is pretty mean as it should have, he\\'s too bloody serious and cold-hearted, you\\'ll hate him rather than like him for being mean. The rest of the film is as well, there\\'s no fun to have here.<br /><br />If the film could have taken itself less serious, like the tone of its predecessor, it could have had more fun with its stunts and all. There are some neat stunts sequences as said, but like I said, it\\'s not much fun. The seriousness could have been turned down and replaced with a lighter one, it could have warrant a passable rating (and perhaps, still keep its R rating). Production values aren\\'t very high and some of the dubbing is weak, and the screenplay even given to the English-speaking actors aren\\'t that good. Some fine helicopters but that\\'s just about what this cheap \"say no to drugs\" B-movie from the Cannon Group Inc.<br /><br />Rating: * out of 5.'\n",
            " b'Movies have always shown a fascination for these grim, dreary tales with unredeeming, amoral, warped characters at their center (especially if the tales are based on true events), but OUR fascination with such movies is harder to explain and borders on the masochistic. If there is ONE (1) thing to be gained from watching \"Deep Crimson\", I\\'m afraid I missed it. Although it\\'s set mostly in the Mexican deserts, the film is rather claustrophobically directed by Arturo Ripstein, who lets several of his scenes drag on too long. (*1/2)'\n",
            " b'A young woman finds herself held against her will in an eerie mental asylum by the sinister \"Dr. Specter\" and his masculine-looking assistant, Martine. She begins to suspect that the visions of horror she experiences are not nightmares and that she is due to be sacrificed to The Evil One. A laughably awful film if I\\'ve ever seen one, \"Asylum of Satan\" is highly enjoyable, cheesy trash. Bad acting from everyone, especially the lead actress, a terribly dated score, and the fakest-looking Satan you\\'ll ever see make this steaming pile one worth checking out if you like bad movies. Oh, and the death scene are a stitch! (Apperantly people can die from cockroaches crawling all over them...) My rating for \"Asylum of satan\"--2/10.'\n",
            " b\"Not that it didn't have its moments, but this is definitely one that should have gone directly to video. It just seems very poorly made. This movie also has Sherman Hemslely in a rather large role so once I saw that flash on the screen, I knew the film would be kind of generic. Still I like Norm MacDonald and he does his best, though he doesn't have much to work with. This movie has a butler who kidnaps his boss's dog, but the dog goes away. The police find a ransom note and Norm's blood everywhere and think he is the one who was kidnapped. There is a twist at the end anyone will see a mile away and there are some humorous scenes with Danny DeVito, but for the most part I wouldn't look too hard to find this movie.\"\n",
            " b\"It's interesting to compare the hero's sacrifice in Tomorrow is Forever with the hero's in Casablanca. Rick (Bogart) leaves Ilsa in Casablanca to her husband for the good of the world, and for a cause he believes in (fighting the Nazis) -- a cause he will participate in. But John/Erik (Welles), while he leaves Elizabeth for the good of the same cause he fervently believes in, can not participate. He is crippled and sickly from the First World War (he is probably emasculated, as well). Unlike Rick, he can neither reveal his identity or his love for the woman he left behind -- even though she may know it. He only says openly that the cause is all. But, unlike Rick, he is lying within himself. Elizabeth is the abiding passion in his life, his only possibility of emotional fulfillment. Yet, even so, the world comes first. And he sacrifices for this cause to the point of his own non-existence. It is truly the greater sacrifice. It is a wonderfully acted film, which makes the lost love of John and Elizabeth the most poignant I have ever shared as a movie viewer.\"\n",
            " b'Silly me, I thought ninjas could fight! Well, not according to this movie: the two leads (who are NOT ninjas) have about as much trouble taking them out as they would have with random people taken from the streets. They are so clueless and out-of-tune with their surroundings, in fact, that you can easily sneak up on them and twist their necks (aren\\'t ninjas usually supposed to be the ones DOING that, instead of having it done TO them?). No wonder the bad guy says at one point \"they\\'ve made a mockery of my men\" - his men are his private ninja army, who are practically good for nothing, except rollerskating! There is one half-decent fight scene somewhere around the middle, against the only ninja who at least tries to put up some sort of fight; the rest of the fights are forgettable, and often poorly edited. The entire film is utterly forgettable, but some of the stunts are worthy of respect, so I\\'ll be generous and give it *1/2 out of 4.'\n",
            " b'I love a good sappy love story (and I\\'m a guy) but when I rented \"Love Story\" I prayed for the end to come as quickly and painlessly as possible and just the opposite for Ali McGraw\\'s character.<br /><br />Ali McGraw as Jenny alienated and irritated the heck out of me within the first 15 minutes. When we learn that she has been diagnosed with a life threatening illness I couldn\\'t help but wonder if her death would be such a terrible loss for poor Oliver or if anyone watching this film would even care. If she didn\\'t die her grating personality would probably have pushed Oliver over the edge and eventually landed them in divorce court.<br /><br />People love this movie but it\\'s one of the worst of the 70\\'s.'\n",
            " b\"I'm not sure if Beauties and the Beast is a movie or just a compilation of someone's home movies. The plot, if you can call it that, involves a Bigfoot type creature terrorizing a bunch of hippies and nudists in the woods. The creature looks more like a guy wearing a black bathroom rug and false teeth than an actual Bigfoot. He kidnaps girl after girl taking them to his blanket furnished cave. He gropes them a couple of times and that's about it. I have no idea what happened to this girls or if they ever escaped. This film doesn't bother with things like that. In reality, Beauties and the Beast is a cheap, poorly made, and horribly acted excuse of a softcore porn film. Everything is simply awful. I can't think of any reason, and that includes the generous supply of nudity, to recommend this one to anyone. It's just so gawd awful! And if you must watch this thing, beware of the soundtrack. It's a two pronged assault against the senses. First, there's the generic, overly-sappy elevator music. It almost put me to sleep on a couple of occasions (that, and the dull movie). Second, one of the hippies insists on singing a folk song. I think my ears may still be bleeding.\"\n",
            " b\"I loved it! Fred MacMurray is wonderful as Skid Johnson, a somewhat conceited, proud yet at the same time very vulnerable saxophone player who is in love with Maggie (Carole Lombard), who's always there for him. They meet in Panama after Maggie comes off a ship and end up in a bar with Anthony Quinn. Tony gets punched in the nose after her insults Maggie by thinking her a loose woman - all because she took off her hat in public. Big brawl and Maggie ends up stuck in Panama. Romance. Carole and Arthur are great together. Maggie is always there for him whenever he needs her. She urges him to go to NY where (well watch the movie and find out). They have these wonderful scenes together where she sings in his arms while he plays the saxophone. I definitely recommend it.\"\n",
            " b'Although I\\'m always careful to avoid others\\' opinions before I see a film and make up my mind about it, I often look at what others have to say after I\\'ve reached a conclusion. I\\'m regularly flabbergasted by opinions on films such as Sixteen Tongues--which I thought was horrible--because they are often somewhat favorable. It especially confounds me in light of the consistently negative reviews received by films such as, say, Boogeyman (2005) or Gothika (2003), which I don\\'t think are masterpieces, but they\\'re well made. If reviewers are using anything even remotely resembling my criteria for film criticism, I have a difficult time understanding anyone thinking that a film like Sixteen Tongues is great while they also think that films like Boogeyman or Gothika are horrible.<br /><br />My current theory is that people are championing certain cultural facts. They\\'re celebrating the simple existence of independent films made on extremely low budgets, which are marketed as being somewhat \"underground\", and in which filmmakers are trying to do something different artistically while they deal with at least some controversial subject matter. An attendant anti-\"Hollywood\", anti-commercial, anti-big budget attitude tends to go hand in hand with the above.<br /><br />From my point of view, I\\'m critiquing the films only. I\\'m not critiquing any cultural facts, and I\\'m not giving any extra points or alternatively subtracting points for cultural situations that I\\'m in favor of or against, respectively. I think films should be viewed as if they exist in cultural vacuums. A movie is good or not only for what appears on your screen and comes out of your speakers. No other facts have a bearing on whether a film is good or not. Regardless of whether crap was produced for only ten dollars or ten million dollars, it\\'s still crap. And Sixteen Tongues is crap.<br /><br />There are some potentially interesting things about the premise, on the \"forest\" level. The film is set in a post-apocalyptic future. The characters live in a run-down hotel/apartment building. They have to pay for water with their credit cards. They also have to pay to shut off the television, which otherwise continually plays porno commercials similar to those for 900 numbers that run at the beginning of porno VHS tapes. The government is now building robots, including prostitution robots, combat robots and so on. For some strange reason, an ability to surf the Internet is a rare skill in the film, so a character possessing the ability is depended on and looked up to. Most of these facts have to be pieced together by the viewer over the course of the film, and they all read 100 times more interesting than they play in the film.<br /><br />More pragmatically, Sixteen Tongues centers on three unattractive characters in two spartan settings. Although there is almost constant nudity, and there are a couple violent scenes, the vast majority of screen time is taken up with incessant talking and relatively inactive shots of these three characters while they provide narration. The story just isn\\'t that interesting or well developed. The talking and narration are both very pretentious. And if they don\\'t lean towards gobbledy-gook, they lean towards blandness.<br /><br />The male character, Adrian Torque (Crawford James), was killed during the last war and then brought back to life. He required skin grafts, and for some reason that either wasn\\'t stated or was too garbled to understand (the sound mix is pretty bad, and characters tend to mumble and can\\'t enunciate very well) the skin grafts were done with 16 tongues. From what I could tell, they were supposed to be human tongues, but they\\'re sizeable enough and have characteristics more like giant lizard tongues. Maybe dinosaurs exist in the film\\'s world. Supposedly the tongue grafts still work like tongues, as Torque says he can taste things through them. The idea is ridiculous and in a better film could have been campy and funny (it\\'s too absurd to work seriously, which is the attempt here). It seems to just be an excuse for an easy way to use the title \"Sixteen Tongues\".<br /><br />The other two characters are Asian women who, despite being naked most of the time, are made to look as unattractive as possible. Ginny Chin-Chin\\'s (Jane Chase) head has been shaven, which doesn\\'t suit her, if it would suit any woman, and Alik Silens (Alice Liu) is made to look dorky--like those token male dweebs in teen comedies. It might seem like complaining about the women\\'s attractiveness is trivial, but as the majority of the film is these two women rambling on and on in a hotel room with crappy production design and crappier cinematography, nudity is about the only possible attractor. Plus, Ginny, at least, is supposed to be sexy. Usually there\\'s nothing I like more than seeing naked Asian women, but in this case, not really.<br /><br />For some, the attraction here is probably the \"daring\" subject matter. The nudity in the film is full frontal. There is simulated oral sex (on a male) and simulated hand manipulation (again on a male). The television keeps showing a crappily-filmed-but-graphic porno commercial, and the walls are papered with crappily-designed-(and too often repeated)-but-graphic porno advertisements. I\\'m a big fan of putting taboo-breaking material like this in films, but here, it doesn\\'t work. It seems like director Scooter McCrae included it just because it\\'s usually taboo. That\\'s not sufficient to make a good film.<br /><br />I can\\'t really think of a scene that wasn\\'t poorly shot, poorly lit, poorly blocked and poorly set. I can\\'t think of any aspect of the script that I liked. I can\\'t think of any scene that even slightly drew me into the film. I can\\'t think of any aspect of the performances I liked. I didn\\'t get any aesthetic or philosophic value from the film. I\\'ve only given an extra point because the premise has a smidgen of potential and the film is somewhat coherent.'\n",
            " b'Really. Does any week go by that Oprah doesn\\'t remind us that she was abused as child?<br /><br />She makes herself the focus of every interview.<br /><br />Oprah cannot resist commenting on the answer to every question she asks. She often interrupts guests before an answer is finished to interject her own aside or anecdote. Directors are obviously instructed to focus on her closeup reaction rather than guest\\'s faces because that\\'s what counts - what Oprah feels, what Oprah says.<br /><br />Oprah, Oprah, Oprah. It\\'s always all about Oprah.<br /><br />Oprah says - Feel sorry for me, I was so poor. Feel the pain of my battle with my weight. Feel my hurt when I\\'m turned away from a fancy store after they\\'ve already closed. Feel good for buying my magazines and books. Feel good for my success. Feel good when you give to my charity to make me look good. Feel good for making me rich beyond belief.<br /><br />My interpretation of her point of view: YOU VIEWERS ARE ALL DEEPLY FLAWED AND YOU NEED MY DAILY ADVICE. I have all the answers for your life though I have nothing in common with you plebes. I have never been married nor do I want to be. I have never had to raise a family - but I know all about it. I have little respect for men or marriage. I clearly prefer people like me over others - witness \"Legends Ball 2006\". Gayle is my best friend but we are not gay.<br /><br />As of 7/31/2006, the heading on her website actually reads : \"Oprah.com is your leading source for information about love, life, self, relationships, food, home, spirit and health.\" How presumptive and obnoxious is that ? <br /><br />In June 2006, she crashed two private wedding receptions in Oklahoma to gather footage for her September 2006 shows. She keeps promising to quit TV but her yapfest drags on with no end in sight.<br /><br />Contrary to what she thinks, Oprah is neither a queen nor a goddess nor on a personal mission from God. She\\'s just one very lucky, overweight, black woman who copied Phil Donahue\\'s style and called it her own. She happened to be in the right place at the right time and knew exactly how to suck up to the right demographic. <br /><br />Oprah is the P.T. Barnum of this age and it amazes me that people cannot see through her facade. <br /><br />So ladies and gentlemen, boys and girls and you too Oprah if you can fit that inflated ego through the door - This way now to the great egress ...'\n",
            " b'I was startled by how poor this film was.<br /><br />All the male characters that were supposed to be \"cool\" laughably sported identical black leather jackets and stubble, looking every bit like middle class drop outs, but getting their kicks from hanging around illegal bare knuckle fights... the scenes in which the naughty posh boys were knocking about with psychotic hard-men bottling each other in a strip bar were extremely cringe-worthy and utterly unbelievable.<br /><br />Also did anyone notice how much Marc Warren looked like Eddie Izzard in the orgy scene with that diamant\\xc3\\xa9 dog collar?! That chuckle was the only thing I enjoyed about the whole film.<br /><br />Oh - the kid was an excellent actor too - really good.<br /><br />Other than that it was RUBBISH!'\n",
            " b'you must see the movie more then once,then you will get the real filling of the movie.the movie is very good also from the professional side,the photography the music everything.everything is happening by the most beautiful lake the Ohrid lake in the mountain and national park in Macedonia.the crew is perfect from Pasic to Paunovic from Mirjana to Sinisa.i m very impressed with the acting of Pasic i think it is a masterpiece.and by the way is co-production of all ex Yugoslavian republics(its not a joke)..............................................more times you see the movie it gets better.'\n",
            " b'I tried to rent this flick a bunch of times, but a copy was never available at the video store. So, I just broke down and bought it. Got tired of waiting. Anyhow, I thought it was pretty good. I mean, it was low budget and all, but so what? It was creepy, fun and different. I liked that not-so-Hollywood look. These days everyone\\'s so spoiled with how they make big, expensive movies look. \"Halloween\" doesn\\'t look as good as most movies out nowadays, and everyone loves that. So, what\\'s the difference? I think I know. Everyone blasting this movie is bummed because they were taken in by the slick cover art and the \"Lions Gate\" name. And now, because the movie itself isn\\'t as slick as Scream, or The Ring, everyone wants to blame the filmmakers. Well, for those who don\\'t know, I\\'m pretty sure they don\\'t oversee that stuff. If you wanna blame somebody for taking your money, blame the guy who made the art work. Seriously...I bet if someone handed you a blank disc in a brown paper bag and told you to watch it, you\\'d be pleasantly surprised with what you got. It\\'s all about the presentation. I bet you\\'re the same folks who bought all those Dracula, Wolfman and Mummy movies because the packaging was cool. <br /><br />Anyway, it seems to me this is just a cool little flick by some unknown who\\'s trying to make movies. That\\'s it. I suggest everyone who initially hated it open their minds, accept it for what it is and watch it again. I bet you\\'ll feel differently.'\n",
            " b\"I have never left the cinema before the end of a movie, until now. How anyone can last through 3 hours of this film, is a true measure of how much the human body can endure. I for one (and an unprecedented number of others) couldn't take it.<br /><br />For a movie billed as a sensual & erotic journey of sexual awakening, this movie serves up a very long series of nature shots, badly & roughly chopped together with the worst sex scenes ever. The was more chemistry between Tom & Jerry that these two. The only thing that keeps your attention is the knowledge that something has to happen between these to characters soon. When it eventually does (after what seems like an eternity), you only see the first 5 seconds of the sexual encounter then you fade out to the aftermath. You only keep watching because you think that surely there has to be more? It can be this bad? But is it, more never comes. When some interesting events do happen, they are only told by the narrator (in subtitles because this movie is in French if you didn't already know).<br /><br />I don't know how this film ended and the worst thing is that I really don't care.\"\n",
            " b\"i picked up a copy of this movie at an old Italian owned video store, completely unaware of what i was about to witness for the next 90 minutes or so. what originally sparked my interest in this 70's obscurity was the box cover artwork, which was basically a black cover with a large keyhole in the center - a single eye looking through it. simple, but effective enough to get my $2 for a weekly rental.<br /><br />i'll never quite be able to fathom what the state of mind was like in the 70's, particularly in Italy (the origin of this film). i'm simply left speechless when i see a film like this. not that it was good. it was downright sleazy, and altogether badly done. but what concerns me here is the film's content.<br /><br />in brief, a escaped killer (supposedly child killer) befriends a young girl of roughly 12 years of age. she takes him to her house in a beautiful remote part of the countryside, and hides him in the basement. her mother (a widow, or divorced?) soon learns of his presence in the house, and they eventually become lovers. but it is only to be short lived as this killer will soon meet his fate.<br /><br />what strikes me about this film is not only the explicit content, but a brief sex scene between the killer and the young girl, which she (the character) willingly participates in (its obviously a body double, but still!?) ... i was truly shocked. and its no wonder this film faded quickly into obscurity.<br /><br />my question is: how did a film like this ever get made? who were the people who financed this film, and others like it? it seems that for a brief while (in that decade where anything went) if you could conceive a story so depraved, and so totally wrong, there was a good chance of getting it made.<br /><br />i don't recommend this film to anyone. it would only hold interest to those who have a Lolita-fetish, or collectors of hard-to-find movies. in any case, just remember: I DO NOT RECOMMEND THIS FILM!\"\n",
            " b'Television,during the late 1950\\'s and early 1960\\'s,for those who may not remember it,was in shades of gray with the majority of the weekly variety-musical show,and the situation family comedies that come to mind. Along during that decade of early television,the usual mystery-detective/crime drama series was all over the place,but the one thing that dominated television---the TV western,with \"Gunsmoke\" and \"Wagon Train\" ruling the ratings charts. During the year of 1959,most of the television shows that were on the airwaves at that time were westerns,with the usual drama or family situation comedy or children\\'s show that was the order of the day.<br /><br />In 1959,two astounding anthology series premiered that would change the face of television. One was \"The Twilight Zone\",which was hosted and narrated by Rod Serling whom also was responsible for writing some of the episodes. \"The Twilight Zone\" premiered in September of 1959 on CBS-TV. The other anthology series was the underrated and in its own right successful \"One Step Beyond\",which came in as a mid-season replacement,premiered on January 20,1959 on ABC-TV. Produced at the same time as \"The Twilight Zone\"(which was well-known and became very popular),the series \"One Step Beyond\" was a anthology series that fed the nation\\'s growing interest in paranormal suspense in a different way. Hosted by John Newland,he had a much more stronger screen persona. Since the stories Newland introduced were supposedly true,his understated,scholarly approach was more appropriate,and there was no need for cleverly written lines and sardonic wit. The show really introduced audiences to the supernatural and unexplained phenomenon which was really unheard of for late-1950\\'s TV.<br /><br />The production values on \"One Step Beyond\" were certainly on par with the average half-hour show of that time,since some of the stories kept the audiences\\' attention on sheer focus and a superior track record of consistent quality. And since they\\'re were no spaceships,prehistoric monsters,or aliens no lame effects were used here. Created by Merwin Gerard and Produced by Collier Young(whom would later on become one of the producers of \"Ironside\"),and John Newland,the series ran for three seasons on ABC-TV from January 20,1959 until July 4, 1961 and ran for a half-hour producing 96 episodes,all in classic black and white. Not only did John Newland introduced us to the episode that followed not to mention being a congenial host,the series also employed the talents of performers who invested their material with conviction and authenticity to spare,from long-established character actors to at the time rising stars who were making their mark on their careers,such as: Christopher Lee,George Grizzard,Torin Thatcher,William Shatner, Alfred Ryder,Suzanne Pleshette, Pernell Roberts, Ross Martin, Patrick O\\'Neal, Elizabeth Montgomery,Edward Binns,Charles Bronson, Robert Vaughn,Donald Pleasence,Paul Richards,Dick York,Jack Lord,Louise Fletcher, Barbara Bain,Barbara Eden,Robert Loggia,Claude Akins,and even Warren Beatty. Even Cloris Leachman and Mike Connors and also Peter Graves were guest stars in this series. Writers like Don M. Mankiewicz,along with Charles Beaumont,Larry Marcus and Collier Young.<br /><br />As for \"based on actual events\" aspect of the series,\"based on actual claims\" this was a series(one in these days is rarely seen) were based on something that actually or supposedly took place. Whether you believe these actually occurred or were the product of the supernatural or a more reasonable explanation,is beside the point. Best to judge for yourself. That they could happened,or that someone claimed as much,gives the series an extra shudder or chill factor that \"Zone\" can\\'t duplicate. And just by watching these episodes were always recounted in intriguing and compelling manner. The was a grand series that nevertheless carved out its own niche as the best of the genre from the golden age of late 50\\'s TV. It was a grand series that lasted for more than three seasons,ending on Independence Day of 1961 after more than 96 episodes.'\n",
            " b'Oh my, this was the worst reunion movie I have ever seen. (That is saying a lot.) I am ashamed of watching.<br /><br />What happened in the script meetings? \"Ooooooh, I know! Let\\'s have two stud muffins fall madly in love with the Most-Annoying-Character-Since-Cousin-Oliver.\" \"Yeah, that\\'ll be cool!\"<br /><br />Even for sitcoms, this was the most implausible plot since Ron Popeil starting spray painting bald men.'\n",
            " b'When the film \"DeLovely\" recently rekindled my love for Cole Porter\\'s music, I encountered this DVD on sale and thought it would make a great addition to my collection. It didn\\'t. For the most part, what a clunker.<br /><br />I realize that as great as the music is, \"Anything Goes\" is a bit dated as a musical, but this story, which has nothing to do with the original, is just dreadful.<br /><br />In addition to the uninspired plot, the songs that were added by Sammy Cahn and James Van Heusen are remarkably banal. Even more so, when one compares them to the Porter originals left in. It\\'s sad that anybody watching might actually think they were Porter\\'s own.<br /><br />Additionally, because of the prudishness of Hollywood, Porter\\'s originals get censored too. An example of the lunacy is when, in a lyric, \"4-letter word\" becomes \"3 letter-word.\" How trite can Hollywood be? 2 Porter songs in the beginning that get transformed into \\'50s-style jazz-dance numbers for the female leads lose all their charm from the butchery. The song \"Anything Goes\" has never been given a worse rendition.<br /><br />Bing Crosby, in his last Paramount picture, sleepwalks through it. Jeanmaire is not much better (especially her acting). It is no surprise that her career gravitated back to France after this.<br /><br />Mitzi Gaynor was her usual perky self, but the film gets saved somewhat by Donald O\\'Connor\\'s presence and energy. The one Porter song that seems to have kept its charm is a nice Gaynor/O\\'Connor duet on \"De-Lovely.\" <br /><br />While Porter purists will retch over this film (which was probably what his reaction was after seeing it, especially the added songs), it does offer up a period glimpse of Hollywood choreography from the mid-50s, along with the previously mentioned duet.<br /><br />Otherwise, it\\'s the bottom, not the top.'\n",
            " b\"Every good thing you've heard about this movie is true. It may very well be the fastest paced movie I've ever seen. Jerry Bruckheimer's most hyperbolic action movie ain't got nothing' on this one.<br /><br />Cary Grant and Rosalind Russell were a brilliant screen pair (indeed, it seems that no one was bad casting when paired with Cary Grant) as rival reporters in a furiously paced news office. Russell is the odd man, or should I say odd girl, out, due to her lack of a penis, but she proves herself more than capable of holding her own with the boys.<br /><br />Russell charges across the screen and never loses momentum for a second. She's goofy, sexy and hysterical. The funniest moment in the film comes when she's chasing a man down the street (I won't go into details) and dive tackles him to the ground.<br /><br />One of the first films from the 40s and a highlight of the decade.<br /><br />Grade: A+\"\n",
            " b'\"The Last Winter\" has an effective build up. It\\'s not completely original, mind you. We have seen that kind of setting before, in \"The Thing\" and a dozen other movies where a crew is isolated in a strange place where weird things start to happen. It\\'s the memory of those far superior movies that make this one watchable at first. However, the story drags on and it all goes downhill soon.<br /><br />The mysterious ongoings aren\\'t really that intriguing, and they get less intriguing the more they are exposed. On top of that, Ron Perlman\\'s character is annoying and unbelievable. He\\'s just a constant pain in the a.., just for the hell of it. The worst part about \"The Last Winter\", however, is the resolution or rather the lack thereof. It seems as if director/writer whatshisface hadn\\'t thought the whole thing through and just decided to go ahead with filming because the topic of global warming is so trendy right now.<br /><br />Well, it\\'s a pity. \"The Last Winter\" could have been a solid mystery/thriller. Instead it\\'s an unsatisfying waste of your time. There are far too many good movies out there waiting to be watched for you to rent this one.'\n",
            " b\"Infamous pre-code film, really the one film that caused people to insist on the Hayes Code being strictly enforced. Barbara Stanwyck stars as a young girl whose liquor-selling father has no problem pimping her out to customers. When he dies in an accident, she's released out into the world with the knowledge that her nubile body can get her whatever she wants. She goes to New York and proceeds to climb the corporate ladder, one bed at a time. Although obviously there's no actual sex shown, the film is quite sleazy. Unfortunately, after the initial shock value fades (around the time Stanwyck screws a rail car inspector so she can travel for free), the film becomes a tad repetitive and dull. Stanwyck herself is the only thing that keeps the film worth sitting through. As always, she's fantastic.\"\n",
            " b\"Keith Cooke plays the last human kickboxer who competes in a tournament where men with cybernetic replacements, (Or are they cyborgs, whatever the case my braincells were lost during the transition) of course he is forced to fight because his girlfriend (Tina Cote) has been abducted and is being forced to train Xao (Gary Daniels) who is a cyborg. Also aboard is Thom Mathews who looks to redeem himself and his father. The only good thing I can say about Heatseeker is that I didn't have to pay to see it, since I caught it on the Sci-Fi channel. Unfortunately that is all it has going for it. Heatseeker also ranks as one of the dullest features from Albert Pyun. His best efforts being the Kickboxer series (So far what I have seen) have been works of mediocrity but Heatseeker comes from a curse that no good movie has ever been made by Pyun, that involves cyborgs, robots or machines.) His best to date was the confusing and sub par Nemesis. However with Heatseeker, Pyun is desperately out of ideas and imagination, so he simply turns this into a robot jox of the fighting circuit. Also of note is that none of the fight sequences evoke excitement and overall we are left to watch a movie that is hideously dull in it's uninspired tone.<br /><br />* out of 4-(Bad)\"\n",
            " b'i think South Park is the funniest cartoon ever made. it may be rude but thats the best part of it. simply Trey Parker has done an excellent job! the tv show, movie, songs and everything else are great and i must add Cartman is the funniest cartoon charecter of all time and his voice is so cute! People who stay away from South Park should at least try watching it once and see what they were missing...'\n",
            " b\"I don't really know what to think of Bulworth. It's supposed to be a comedy I guess, but by the time it's through, it becomes a serious drama. Warren Beatty tackles a controversial subject, it just seems to fall short. Watching Beatty rap is another story all together. I was embarrassed for him. This film is worth a look.\"\n",
            " b'Jeremy Brett is simply the best Holmes ever, narrowly edging out the great Basil Rathbone of course, and this is probably the best adaptation of a Conon-Doyle short story.<br /><br />A length adaptation includes some new plot strands that fit in well to the surrounding drama and heightens the hatred one feels for Milverton.<br /><br />Excellent performances all round, especially from Robert Hardy, and both Brett and Hardwick fully rounded and comfortable in their roles makes this a superb piece of drama.'\n",
            " b\"This is the best film the Derek couple has ever made and if you think this is a recommendation then you haven't seen any of the others. There are the usual ingredients: it is just as poorly acted as their other efforts, we can watch Bo disrobing or auditioning for wet T-shirt contests quite frequently, the story is just laughably idiotic, and the film takes itself much too seriously. And then: Orang Utans in Africa?<br /><br />But it has a few things going for it. Bo looks great, the production values (sets, costumes, etc.) are quite good, and this greatly enhances its camp value. In a strange way it is actually quite funny, simply because it tries to be serious and fails so badly.\"\n",
            " b'because the commentary with the director, producers and Edie Falco is quite enlightening, in respect to both the film and the making of any low-budget film. Well worth it for me (I own it).<br /><br />The performances are all fine, and it is a fitting role for Madeleine Kahn\\'s last film appearance. Too bad that she was gone from movies for so long, especially after seeing this.<br /><br />**Possible Spoiler Ahead**<br /><br />To respond to the person who felt that the movie is named for its most \"appealing\" character, I disagree. It would seem to me that the film is named so because Judy is the one character in the film who has any real desire to leave this community and, however misbegotten, acts upon that desire. One hopes that it will inspire the lead to be less skeptical about such a crazy type of dream and to take the chance to pursue his own dreams, e.g., to go away and actually learn how to make the movie about this town that he wants to make.'\n",
            " b\"We hear about it far too much in the horror genre: a poorly made film with an interesting premise.<br /><br />Had this shied away from the punk-teen angle (like that of Bava's 'Demons') and headed for straight horror (maybe on the level of 'El Orfanato'), it could've had the chance to be a rather good film. Instead, poor writing, bad direction, seemingly bored actors, and silly camera tricks in exchange for real scares, we're left with yet another forgettable haunted-house picture.<br /><br />I'd say pass it up and wait for 'The Orphanage' on DVD. Or, if you can't wait, check out 'The Devil's Backbone.' <br /><br />-AP3-\"\n",
            " b\"this movie is kind of a british take on the teen shocker. i thought it was very disturbing (in a good way), and it is definitely more thought-provoking than, say, i know what you did last summer. also, it is not so much of a horror than a thriller with teens in the main roles. thora birch is convincingly british, and i liked the fact that she didn't just play the same role that she did in american beauty (a common problem amongst teen actors these days...freddie prinze jr, i am looking at you...). another nice aspect is the absence of an authoritative adult presence, which lends a strange lord of the flies tone to the film...are you wondering what happens?? see the film! you won't feel embarrassed to be in the theatre, even if you happen to be over 20 as i am...\"\n",
            " b\"I watched this movie on the Disney channel as a kid and fell in complete love with it then! I watched it every chance I got! I own the movie now as an adult and still adore it! :) I'm a big wolf person so I of course really liked the wolf in the movie! I don't know anyone that wouldn't like this movie! :D\"\n",
            " b\"Somewhere in the film entitled Birth, there is a charming feminine desire to accept the mystic power which promises eternal love. A woman has lost her husband and somehow after a ten year period, a small boy appears proclaiming he is the reincarnated soul of her deceased husband. The premise is palatable and the acting is brought to the point of acceptability, with the talents of Nicole Kidman and Lauren Becall. However, during the film one becomes aware that something beyond credulity is being glossed over. The age of the two individuals. The older woman eventually accepts her late husband's spirit in the form of the young boy and therein lies the problem. Even if it's accepted that an older woman could in fact love a little boy, the fact of the matter is, if the roles were reversed, and it was an adult man and a ten year old girl in the bathtub, women's groups from one side of the country to the other would be screeching at the top of their lungs that this film is nothing short of child molestation! So before you praise the overall romance of the film, consider what implications are being accepted. **\"\n",
            " b\"This movie has everything. Emotion, power, affection, Stephane Rideau's adorable naked beach dance... It exposes the need for real inner communion and outer communication in any relationship. Just because Cedric and Mathieu are a couple who happen to be gay doesn't mean there isn't quite useful insight for anybody in it. I would probably classify it as a gay movie, but one that can be appreciated and loved by heterosexual people as well as homosexual and bisexual people. Mathieu's incapacity to handle his emotions divulges the way our society doesn't encourage us to act any differently, and that is what engenders the discord between him and Cedric. This is definitely a must-see!!!!\"\n",
            " b\"The last traditional kung fu movie i remember is Tai-Chi Boxer from 1996 with Jacky Wu again in that movie. I've been looking forward to seeing more from the bad sighted wushu expert, and here it is a comeback from shaw brothers of all people.<br /><br />The name was promising for a start drunken monkey. So you immediately think that its gonna be a sort of mix between Lau Kar-Leung's Drunken Master 2 and Mad Monkey Kung fu, although its more the monkey though than the Drunk. Its great to see that Lau can still hold a kung fu fight sequence after around 40 years in the business. Jacky Wu also shows how he has progressed since Tai-Chi Boxer.<br /><br />The story keeps with the traditional kung fu themes, its great fun to watch and reminds one of what the Hong Kong film industry earned its name from. I really hope Shaw Brothers releases more.<br /><br />Its the most enjoyable Hong Kong movie i have seen for along time. I recommend it highly to anyone who enjoys kung fu movies and martial arts in general. If you don't it may not be your cup of tea but you could give it a chance anyway.\"\n",
            " b\"Well. This is a not well-known movie, and initially, i was surprised at the low rating it got at IMDb. But then I still went ahead to watch, and i was wrong. The movie is interesting only to the first half, then it begins unleashing the crappiest elements of a romantic comedy. <br /><br />First, there is a sense of realism and the movie attempted to shape the characters of the two main leads. We can see, from their never ending arguments to the lifestyle that they have, how different the two are main leads are. Both of them have major flaws with their characters, but nevertheless, remains quite likable. Then, comes the climax of the movie. They fall in love with each other. How? In what way? There is no plot line, no events that will lead them to even change their views of each other at this point of time(half the movie gone)and seriously, there are such little chemistry or sexual tension between the two leads that I for one, even though knowing that this is to come, still can't quite imagine them falling for each other. And before long my doubts are cleared, they are brought/forced together in a very unconvincing and awkward way. There must be divine intervention really for the two of them, with their characters to behave like they did. From then on, it's all very rushed and the characters of the main leads seem to change overnight(especially for the female lead). Why shape their characters up if you're going to ruin it so completely later on? For romance? A very awkward and forced one? NOTHING is convincing. <br /><br />This is a terrible movie. Even if you've got a couple of hours free with nothing to do, don't watch it.\"\n",
            " b'There are certain movies you just HAVE TO watch if only for their titles alone. With such a title you automatically tend to think \"how bad can it possibly be \\xc2\\x85 right?\" Of course, only a few minutes into the film and you can\\'t but realize how awful it is and all of a sudden the title doesn\\'t sound that funny anymore. A few minutes \\xc2\\x85 that\\'s how long it takes in order to be exposed to a world of horrible acting performances by randomly selected yokels, incomprehensible dialog and no plot development whatsoever. During the intro we have John Carradine (him again \\xc2\\x85 the more bad B-movies I discover, the more I encounter his fatigue face) murmuring something about being the devil and thus He who decides whether a person goes to hell or not. Apparently this sequence, and a couple of other ones featuring Carradine, where edited into the film by Fred Olen Ray afterwards! Okay, now I understand how Olen Ray has over 110 movies on his repertoire as a director and Carradine over 340 as an actor! Anyway, after the Judge of Hell\\'s bizarre uttering, we switch towards a remote countryside setting. We have a party of four, people that couldn\\'t possibly look less connected to each other, wandering through the woods and finding shelter in a secluded farm house. Apparently they are fugitive jewel thieves, but these people honestly look way too dumb to commit any sort of theft, let alone jewelery. You would then subsequently expect for the \"Demented Death Farm Massacre\" to ensue, but no \\xc2\\x85 First there\\'s a lot of arguing about the difference between stealing a jeep and picking up what other people threw away (seriously, who \"throws away\" a jeep?) and other totally random and nonsensical gibberish. The fattest and ugliest redneck I\\'ve ever seen is married to a beautiful young girl with impressive cleavage. It is later explained that her father owed the fat bastard $200 and they settled it with a marriage. That\\'s hillbilly logic for you! Every dialog is drawn out five or six times more than necessary and the \"action\" sequences are shot in slow-motion. They literally do everything here in order to reach a normal playtime. The absolute most shameless attempt to fill up the running time is an extremely long monologue of a guy talking to God. Seriously, FOUR full minutes of staring at a dumb yokel talking to the sky! There\\'s so much talking in this movie, it\\'s crazy. Either the screenplay contained approximately 7,000 pages or these rednecks were just instructed to improvise whatever the wanted. Naturally, there\\'s also a chase through the woods guided by the obligatory banjo music and incompetent cinematography. In the end, the only \"demented\" thing about this movie is that there are idiots like myself who watch it. The \"Death Farm\" is just a shed in somebody\\'s garden and the only farming tool used in the \"Massacre\" is a pitchfork. Lame.'\n",
            " b\"The movie started off really good with the diamond robbery then the film takes you to a lot of different places like flipping through a comic book which was quite irritating. Paresh Rawal & Johnny Lever were not really that funny as they usually are but Chunkey Pandey was the way he speaks was so funny that I was killing myself with laughter every time he spoke. Arbaaz Khan was the best in the whole film especially in the scene where he was threaten everyone to get the diamond with a crossbow and was wearing sunglasses. Ayesha Takia was looking beautiful & her acting was cute but the rest of the cast were not impressive and Viveik Oberoi is better off in negative roles because his acting in Shootout in Lokhandwala was terrific. The story is similar to Awara Paagal Deewana e.g. comic thriller about everyone after diamond/s. Overall it's OK to be watched once by rent or if it's on TV or something but not the kind of film to be bought on DVD. The only two good songs are Tere Layee & Yeh Dooriyaan.\"\n",
            " b\"Thoughtless, ignorant, ill-conceived, career-killing (where is the talented Angela Jones now?), deeply unfunny garbage. It's no wonder Reb Braddock hasn't directed anything else since - anyone who has a chance to make his first film on his own rules, based on his own script, with the help of Quentin Tarantino himself, and creates something like THIS, anyone who feels that THIS was a story worth telling to the world, doesn't deserve a second break. Under the circumstances, the performances are good - the actors do what they're told to do, and they do it well. It's just that they shouldn't have done it in the first place. <br /><br />0 out of 4.\"\n",
            " b\"Wow am I tired after watching that snoozer of a movie. Neverwas stars Aaron Ekheart who is Zachery Small the little boy who is the hero of Neverwas in the book. Why is it many fantasy films are contained within books like The Nevereding Story which is ten times better of a movie. Brittany Murphy actually surprised me as being pretty good in this movie. And the dude from Lord Of The Rings loses his marbles as a mental patient who thinks he is the king of Neverwas. This film also stars Nick Nolte who is Zachery's father and the author of Neverwas. I thought this movie would get cool and Zachery would trip out halfway through the movie and have a crazy dream sequence. Nope... This movie sucked. And my co-worker at Blockbuster also thought it sucked. So if you like fantasy movies don't watch this film as it will be a very painful watch especially if your like me and wait to see if the movie will eventually pick-up. Not this time around and I wish this movie Neverwas made.\"\n",
            " b'I think this aired in 1986, on the old NBC Monday Night Movie, in the summer when it was usual to see lost TV pilots aired as movie-of-the-weeks. Told the tale of a newspaper reporter(Chapman) who has to miss a vacation(having won a \"contest\")with his girlfriend Angela, a scenario which, in the style it was filmed starts off very prosaic and normal until, as he narrates the entire film as a flashback, he finds her return plane had \"gone off the radar\" for 90 minutes, and returns, but delayed. He gets unnerved watching Angela speaking to a mysterious man in sunglasses,who seems to be watching the passengers leave the plane, asks who it was- and she denies having spoken to anyone. She is also unaware the plane was \"delayed and missing\". She begins acting strangely and having odd meetings with unknown people, and as the reporter begins to investigate things and ask more questions, she tries to kill him and he finds she\\'s now a terminator-like robot(complete with the same kind of eye-tracking visuals from that film). Truly panicked he finds himself a wanted man, framed, and on the run with nothing more than the passenger list he got after dispatching the Angela robot. The only hint or clue we\\'re ever given is one passenger who appears to be normal who claims \"nothing went wrong on the flight, I slept, then felt a bump..and I had that awful nightmare..\" . The reporter asks \"What kind of nightmare?\" and before she can say more, she\\'s killed by another one of these robots. He finds out a little more, from another,older passenger who seems to be in charge of a localized group of these beings-he manages after a fight,to damage the mechanical brain and he begins talking incoherently about \"Dynamitards...are the collective of Dymogeny\" and how they intend to fully take over. We learn nothing else, other than he sets off,alone, in Fugtive-like fashion to find other normal passengers from the list-who were apparently checked off for termination-before the robots do. Obviously it was intended to be a series along the lines of Nowhere Man or The Fugitive, finding more clues along the way.<br /><br />The film had some interesting \"rock video\" sequences,very much of the time-dissolves and used a perpetual \"Los Angeles Sunset/Sunrise\" for lighting. The use of Bowie\\'s Ashes to Ashes and visual references to religious buildings and at one point, the hero seems to be standing in front of painted angel\\'s wings, lead one to think these were possibly not aliens but something darker or even homegrown on earth.'\n",
            " b'Max & Dave Fleischer & co. were among the very best of the creators of novel and surprising applications of animation from the late teens through the entire decade of the 1930\\'s. For \"Poor Cinderella\", they must have noted Disney\\'s stunning \"Flowers And Trees\", produced in 1931 and released the following year. The latter is generally credited as being the first full color process American cartoon, as opposed to two strip color which emphasized either blues or greens at the expense of certain shades that were lost to the lesser and less costly techniques of the day. For budgetary reasons, the ever inventive Fleischer Bros. developed their own \"Cinecolor\" approach, which was a variant on the two-strip color format. Although it apparently never quite caught on, they had applied for a patent while releasing their astoundingly beautiful and hysterically surreal and laugh-laden Boop masterpiece in 1934, the only Betty Boop color cartoon. <br /><br />Combining their proprietary Rotoscope technique along with other dimension enhancing toolkit tricks, few cartoon shorts have ever matched this effort for sheer entertainment value. They did try saving money on the color, as mentioned, but the whole production was obviously a very expensive endeavor, when all its components are considered in sum. The results offer a lasting tribute to the art and magic of 1930\\'s animation. <br /><br />As a Depression-era vehicle, good jobs were scarce but the Fleischer team\\'s uproarious talent sported young and brash animators who were willing to push the envelope of sensibilities and censors alike, much to our delight. Even the closing sequence is incredibly absurd, and gems like this will forever prevail.<br /><br />Betty had already helped launch the Popeye series a year earlier, so by 1934 the Fleischers had their distinctly urban stamp firmly planted under two cartoon banners aimed as much, if not more, at adults as the kids. If that weren\\'t true, they wouldn\\'t have always had to play \"duck and cover\" with the ever-present Hays commission, censor gavel at the ready. Thanks to the Fleischer folks and all involved parties, for the guts, the creative ambition, the sheer genius, and the uncompromising quality of whichever production standards were chosen to collectively coalesce into a cartoon gem for the ages. This is a must see.'\n",
            " b\"Left alone to fend for himself in the rubble of the Warsaw ghetto, 11 year old Alex (Jordan Kiziuk) must try to survive and also avoid the ever-present Nazi soldiers in this gripping, intensely moving film. The viewer becomes totally involved with Alex and his plight, as he courageously and inventively continues to avoid detection. The acting, particularly that of young Kiziuk and the late Jack Warden as his kindly uncle Baruch, is superb. The dialog is fairly sparse, letting Alex's expressions and body language show his fears and emotions, which are masterfully rendered. The production design is incredible, and one feels transported to that time and place. The musical score is appropriately somber and haunting, and the cinematography stunning. Some reviewers have commented on the British accents of several characters, but I don't feel that it's a detriment. Overall, an outstanding cinematic achievement, deserving of its many awards. Appropriate for older children (12 and up), though there are several scenes that contain violence. Well worth seeking out, this is a film you won't easily forget. Highest recommendation.\"\n",
            " b'A Man Called Sarge may be the worst film ever made. It\\'s playing on the local Fox affiliate\\'s \"Sunday Afternoon At The Movies\" type- thing. I cannot make myself keep watching it. It stars Gary Kroeger and Marc Singer, and is ostensibly a Mel Brooks-esque/Zucker- Abrams-esque romp through WWII North Africa movies (e.g. The Desert Fox or The Desert Rats). The problem being that the formula was already a bit calcified by the time Airplane was made in 1980, and this steaming heap was sh...uh, made, in 1990, featuring a never-went-anywhere Saturday Night Live alum named Gary Kroeger from the brutally bad seasons 8-10. And Gary Singer is the Nazi nemesis? This movie makes Top Secret look like Young Frankenstein. The basic difficulty is this: Clich\\xc3\\xa9s are not in and of themselves funny. I suppose if you\\'re drunk or stoned this might not be true, but in the cold light of a sober Sunday afternoon this truism applies, and how. Add to that the lack of Gene Wilder, Peter Boyle, Madeline Kahn, Marty Feldman or even Leslie Nielsen and you get this punishing feature. This is not a \"hey, this is so bad it\\'s good\" movie. This is just horrible, like a hundred paper-cuts or being surprised by bad milk.'\n",
            " b'Charlie and Rachael are on their way to Las Vegas to elope, but when they take a back-road. They are pulled over by a demonic cop who abducts Rachael and takes her back to hell. Charlie goes back to the gas station to the old guy who warned them of what could happen. He tells Charlie that Hell cop has taken her to hell city to be married off to Satan. The only way to get her back is to venture along hell\\'s highway and to rescue within 24 hours or both of them will be stuck there.<br /><br />Who likes weird? I do! \"Highway to Hell\" is so unusual and extremely refreshing in its vision that I couldn\\'t help but love its labyrinth of dazzling ideas and overall junky goodness. This fantasy-horror b-feature proves even with such a miniature budget that creativeness doesn\\'t cost a dime. If you sport a gleefully, juicy script and a willingness to go-out there with an impulsively odd recipe (which this film definitely does), it can go a long way in the finish product.<br /><br />What keeps this film really buoyant has to be its sly sense of humour, which is so resourceful in its inspired strokes and interesting diversions that feature heavily in the foreground. Campy dialogues beaming with delicious in-jokes and an odd batch of characters (loved the scene with Hitler in it) add to the rollicking madness. Watch out as the blistering pace clocks over the speed limit with such ease and driving this is a seeping, novel music score and spanking soundtrack. Ate De Jong\\'s direction is crackling with verve and unsparing thrills. While the cheap foundation shows up prominently, he manages to work around it superbly. Robin Vidgeon\\'s stylishly soothing camera-work is another colourful contribution that has no has boundaries.<br /><br />A fine cast really do kick in here. Chad Lowe smoothly fits in as the gawky, but jittery, strong-willed heroine Charlie. The exquisite Kristy Swanson is very likable with a certain edge about her character Rachael. Patrick Bergin reeks of charisma and is very convincing in his deceitful role. C.J. Graham is very imposing as the hell cop figure. Look out for Ben Stiller who chips in with a hilarious performance/s. Making up the rest of the solid performances are Richard Farnsworth, Lita Ford, Adam Stroke, Pamela Gidley and Gilbert Gottfried.<br /><br />This spaced-out pearler is grand fun and features one hell of a romp.'\n",
            " b'A young James Mason does a fine job in this film. The story is set a few years before the start of WW II. Mason is a guest at a quiet resort hotel in France. His camera is accidentally used by a German spy who has an identical one. When Mason takes a roll of film to be developed, the roll contains several pictures of top secret French aircraft and facilities. The police question Mason and are able to determine that he is innocent in the matter. But, they use the charges against him as leverage to get him to assist them in finding out which of the other hotel guests is the spy. How he succeeds makes for a most interesting and tension filled story.'\n",
            " b\"Space Camp is a pretty decent film. The plot is predictable, but the actors do a good job, and the special effects are decent for the time.<br /><br />This film was originally released about the time of the shuttle disaster, and that really put a hamper on how popular it was.<br /><br />The scene where the shuttle doors open in space is simply spectacular... on the big screen, that is... on a TV... it just looks average. I remember this scene in the theater. It made you feel like you were really up there.<br /><br />This would be a good film to see on IMAX, but I'm sure that will never happen.\"\n",
            " b\"It was all over with the slashers around 88 so it was time for the cheesy rip offs of those older movies. The Brain is well done, the script reminded me of Videodrome but then in a more cheesy way as said before. The acting can go through with it. But it's the effects that makes you laugh, the so called Brain is really a turkey and the blood is never shown. The opening sequence is what makes this movie worth watching, the hallucinations are really nicely done and reminded me of Nightmare on Elm Street, remember the telephone coming alive.... Some how you keep watching this flick, waiting what is happening next. It's viewable for all freaks out there cause there isn't any gore in it and as said the blood isn't there neither but there is nudity for the perverts. I have seen worser movies than this one, only wished they had made it bloodier...\"\n",
            " b'This artful and poignant film is a perfect balance between the sadness of how impotent adults are when a child is ill and the laughter that leavens the sadness. Music of Ghuzu guitar group propels the actions forward. Sensitive camera work doesn\\'t allow us to be more than very limited voyeurs into the workings of a SoHo sex club where our protagonist grandmother, played to perfection by Marianne Faithful, in a role that shows us how multi talented this former rock chick of 1970\\'s fame as the muse for Mick Jagger is as a mature woman. She does what she is able to do for not only her sick grandson, but for her son who is unable to \"fix\" what a \"good father\" should be able to. Her moral dilemma is resolved in how she limits and defines just what a \"good mother\" should do for her children to protect them from life\\'s foibles and cruelties. The Desert Film Society of Palm Springs, CA screened this film on Sat. Dec. 15, 2007 for our 300+ members who thought it one of the best films we have shown this year, along with The Man in the Chair.'\n",
            " b'Aside from the great movie METROPOLIS, this is about the oldest pure sci-fi movie. While at times the film is a bit preachy and the acting can be a bit broad, it is a great film for two reasons. First, it is extremely original in both style and content. Even in the 21st century, there are no films I can think of that are anything like it. Second, for its time, the special effects were absolutely incredible--using matte paintings, models and huge casts to create amazing scenes of both a post-apocalyptic world and a vast city of tomorrow. Sure, you could sit back and knock the film because, by today\\'s standards, the effects are only so-so. But, you must appreciate that this was state of the art when the film came out in 1936 and it must have really amazed audiences. In many ways, the sets look highly reminiscent of the \"modern cities\" featured at the 1939 WORLD\\'S FAIR.<br /><br />I think the movie is also interesting because it seems torn by the question \"are people really THAT stupid or are we destined for greatness?\" The end result seems to be a little of both! How true!<br /><br />A final note: I saw this twice on TV and just a short time ago on video. All three times the sound and print quality stank--particularly the sound. If this is available on a DVD, hopefully it is a lot cleaner and will provide optional captioning. As the sound on the video kept cutting out, I really would have appreciated this!'\n",
            " b'<br /><br />Having seen this film on Mystery Science Theater 3000, I was more than a little surprised to see this in the children\\'s section of the local video rental place. The packaging definitely made it clear they were marketing this to children.<br /><br />And I thought to myself, of course! We were looking at the film all wrong, through our jaded adult eyes. Why, this film is perfect for children, from the hilarious pee-throwing scene all the way to the whorehouse (setting new standards in fantasy films for how much breast can be exposed without actually showing a nipple).<br /><br />It\\'s educational too! Why, you\\'ll learn that Archimedes lived contemporarily with the Romans, and he had a secret \"stoolhouse\" where he kept all the wondrous inventions of Atlantis. Or that Leonardo da Vinci was a cretinous lech who lifted all of his best ideas from the aforementioned Atlanteans. And that everyone in Europe spoke cheesy middle english and wore poofy hats (Europe\\'s all pretty much the same, right?)<br /><br />So next time Junior\\'s running wild and you want him to settle down, plop him down in front of this film. It\\'s better than a lobotomy for eradicating any remaining joie de vive! (or, indeed, a reason to live)'\n",
            " b'I tried to like this program; I really did. I even bought the pilot film, first on VHS and later on DVD. However, I couldn\\'t get into this story because its two main characters: \"David\" (Bruce Willis) and \"Maddie\" (Cybill Shepherd) just seemed to in love with themselves, for one thing. I admit was some clever dialog in the shows, which was a key part of the success of the TV program, and I did appreciate of lot of that dialog. <br /><br />Basically, this was almost like the old screwball comedy movies of the \\'30s and \\'40s with male versus female. You get lots of arguing, accusations, yelling and screaming. A lot of people apparently love that sort of bickering, but I hate it, so I never got on the Moonlighting bandwagon. <br /><br />Only Allyce Beasley as the hapless aide \"Agnes,\" was entertaining. It\\'s too bad she had such little air time. Shepherd was nice on the eyes and I suppose women would say the same for Willis, but too much arguing between the two finally turned me off.'\n",
            " b'In Manhattan, the American middle class Jim Blandings (Cary Grant) lives with his wife Muriel (Myrna Loy) and two teenage daughters in a four bedroom and one bathroom only leased apartment. Jim works in an advertising agency raising US$ 15,000.00 a year and feels uncomfortable in his apartment due to the lack of space. When he sees an advertisement of a huge house for sale in the country of Connecticut for an affordable price, he drives with his wife and the real estate agent and decides to buy the old house without any technical advice. His best friend and lawyer Bill Cole (Melvyn Douglas) sends an acquaintance engineer to inspect the house, and the man tells that he should put down the house and build another one. Jim checks the information with other engineers and all of them condemn the place and sooner he finds that he bought a \"money pit\" instead of a dream house.<br /><br />\"Mr. Blandings Builds his Own House\" is an extremely funny comedy, with witty lines and top-notch screenplay. Cary Grant is hilarious in the role of a man moved by the impulse of accomplishing with the American Dream of owning a huge house that finds that made bad choice, while losing his touch in his work and feeling jealous of his friend. In 1986, Tom Hanks worked in a very funny movie visibly inspired in this delightful classic, \"The Money Pit\". My vote is eight.<br /><br />Title (Brazil): \"Lar, Meu Tormento\" (\"Home, My Torment\")'\n",
            " b'This is no budget at its best. Hope to see more of A. Schnaas in the near future (heard he is doing an new 35 mm film called \"Demonium\"). This one really is great underground, and great special fx.'\n",
            " b\"Greatest movie ever seen on the big screen!!The performances are nothing short of fantastic .Hrithik Roshan becomes Akbar and not once do you feel you are watching Hrithik on the screen. He is beyond brilliant and carries the film on his broad shoulders throughout. The way he emotes and delivers his lines shows that he is a super performer. This easily has to rank as the best performance of his career.<br /><br />Aishwarya Rai Bachchan matches Hrithik and delivers a wonderful performance as well. she looks ethereal \\xc2\\x97 a compliment she has heard a trillion times before. What's new in that? But watch her emote in this film. Although she does not have as many lines to deliver or have as much screen time, she still makes you sit up and take notice of her through her extremely expressive eyes. She emotes superbly with them and it only enhances her performance. This will go down as one of her career best performances. Also, the Hrithik and Aishwarya chemistry is as flawless as ever. They sizzle every scene they are in together.<br /><br />My advice to the audience is to not miss Jodhaa Akbar because doing so would be a huge mistake. It is a masterpiece and a definite must see. Don't miss it!\"\n",
            " b'It would help to know why it took so long for a book as movie-ready\\' as \"The House Next Door\" to be adapted for film or television. The book was copyrighted in 1978. One reason could be problems designing \\'the house\\'. The house in this Lifetime film is really so ugly that I can\\'t imagine anyone buying it. In fact it\\'s so ugly that someone would probably have come and destroyed it as soon as it was built.<br /><br />I\\'m not crazy about horror genre books, but this one was hard to put down when I came across it around ten years ago. The main characters are not the kind of people to look for anything occult in life, and this is one of the book\\'s strengths. They are not people who would conclude that the architect was some type of demon..(or the devil personified) without witnessing and analyzing the events described so well in the book. However, it is a downbeat book for the most part, and I don\\'t think that appeals to the people who run Lifetime. Maybe someone will come up with another version of the book in years to come. A better house..better music..a better screenplay and darker lighting...would certainly help.'], shape=(100,), dtype=string)\n",
            "\n",
            "========================================================================================================================================================================================================\n",
            "========================================================================================================================================================================================================\n",
            "========================================================================================================================================================================================================\n",
            "========================================================================================================================================================================================================\n",
            "\n",
            "n=1\n",
            "x.shape=(100,) x.dtype=<dtype: 'string'>\n",
            "y.shape=(100,) y.dtype=<dtype: 'int32'>\n",
            "y=tf.Tensor(\n",
            "[0 2 2 1 2 2 2 2 2 0 2 2 2 1 2 2 1 2 2 1 2 2 2 2 2 0 0 0 0 2 2 2 2 2 2 2 2\n",
            " 2 0 2 2 2 2 2 2 2 0 2 2 0 2 0 2 2 2 2 0 0 0 2 2 2 2 2 2 2 2 2 2 2 2 2 2 2\n",
            " 2 2 2 2 0 2 0 2 2 2 0 1 1 2 2 2 2 0 1 2 1 0 2 1 1 2], shape=(100,), dtype=int32)\n",
            "x=tf.Tensor(\n",
            "[b'Everything about this film was terrible. To start with this film had a pretty good cast and I find it impossible to make such a great cast into the biggest disaster to the gangster film genre ever. The sound track was like one of a very bad slap stick comedy. It had this music through the whole film and it started to get quite irritating.<br /><br />PLEASE PLEASE PLEASE PLEASE PLEASE DO NOT INFLICT YOURSELF WITH THIS DISASTER YOU WILL ONLY BE HURT'\n",
            " b'Impossible to watch through 21st century eyes,\"Sanders of the river\" belongs to the \"Saturday Morning Pictures\" school of movies.I saw dozens like it in my local Odeon (Our Dominion Extends Over Nations) as a small boy.Wise white man benevolently ruling over spear waving savages,chattering monkeys,trumpeting elephants,and other denizens of the Dark Continent.Most of the savages had bones through their noses and danced round the cooking pot chanting gibberish.They were badly-made,with unsteady scenery,crackling soundtracks and startling inadvertent jump-cuts.Nobody you ever heard of was in them and we forgot about them as soon as we got out into the daylight. Unfortunately there were some well-known actors in \"Sanders of the river\" it was well made and very popular in its day.Now it seems slightly hilarious to give it the broadest possible benefit of the doubt. If you go to see it don\\'t take Spike Lee.'\n",
            " b'Let\\'s face it, 100 Girls was a bad movie! And we all know that a follow up to a bad movie is usually an even worse one. That\\'s what I had on my mind when I first slipped in the DVD of this movie.<br /><br />Now remember the most annoying things about 100 Girls? The non-stop voice over, the unappealing imagination sequences, the annoying childish background music. Those are the things which ruined 100 girls, and yes, they are once again in this movie, but luckily they are kept to a minimum.<br /><br />The premise to this movie may not be too original and appealing, but I assure you, it\\'s pulled off well. I even laughed a few times (which is something I didn\\'t do once during 100 Girls). The cast do a great job here, and are a real treat compared to the highly annoying characters of 100 Girls. Okay, so this movie has it\\'s flaws. There\\'s a certain revelation which is one of the dumbest ideas ever. But doesn\\'t every movie have it\\'s bad moments!?!<br /><br />For some reason they seem to have changed the title of \"100 Women\" to \"Girl Fever\" in the USA. God only know why! It\\'s still called \"100 Women\" here in Australia, and I don\\'t think I would have bothered to see this if I was unaware of it\\'s connection to 100 Girls.<br /><br />I know I keep referring to 100 Girls, but the truth is, you really have to watch this movie in comparison to it. 100 Girls was a piece of garbage. 100 Women is basically the same movie, but done better this time around (although still not perfect). I didn\\'t completely hate 100 Girls, there was something about it which I try to hold on to, but after seeing 100 Women, I\\'ve grown a little faith in Michael Davis.<br /><br />So if you want to see 100 Girls done better, go see this movie. I\\'m sure you\\'ll enjoy it at least a little.'\n",
            " b'Although in my opinion this is one of the lesser musicals of stars Frank Sinatra, Gene Kelly, Kathryn Grayson and director George Sidney, a lesser musical featuring anyone from that line-up is nothing to sneeze at, and in conjunction, the line-up makes Anchors Aweigh a pretty good film despite its flaws.<br /><br />Sinatra and Kelly are Clarence Doolittle and Joseph Brady, respectively, two Navy men. As the film begins, they\\'re just pulling in to the Los Angeles area for some much needed leave. Brady plans on visiting a girlfriend named Lola. Doolittle is still a bit wet behind the ears, appropriately enough, and seeks advice on women from Brady in private (publicly, scriptwriter Isobel Lennart and Sidney have all of the Navy men comically exaggerating their finesse with women to each other). Brady promises to help get Doolittle hooked up, but primarily because Doolittle won\\'t leave him alone otherwise. A kink is put into their plans when local police basically force them to assist with a young boy who is obsessed with the Navy. He won\\'t give the police any information about who he is or where he lives. Brady helps and he and Doolittle end up taking the boy back home. When the boy\\'s guardian, Susan Abbott (Grayson), finally shows up, Doolittle goes gaga for her. Brady tries to convince him to forget about her; Brady just wants to get back to Lola. But they keep getting coaxed back to Abbott\\'s home, and eventually something of a love triangle forms. Things become more complicated when Brady lies about Doolittle knowing a famous musician, Jose Iturbi, who is in residence at a film studio, and claims that Doolittle has set up an audition for Abbott, who is a singer and actress, in front of Iturbi.<br /><br />Because of the story, the music is a strange combination of militaristic music--because of the Navy premise, obviously, Broadway pop--what the stars tend to sing in more informal settings, opera--what Abbott\\'s character excels at, Liberace-like popular classical--what Iturbi did, and Mexican music--because Abbott frequents a Mexican restaurant in a Mexican section of L.A. The combination doesn\\'t work as well as it could. Plenty of the songs are good, and everyone involved is certainly talented as a singer or musician, but the genre hopping tends to lose coherence. Worse, there are a couple showcases for Iturbi, who was apparently a big star at the time, that effectively bring the plot to a halt and that seem more than a bit hokey at this point in time. I just watched another film that happened to have outstanding music, Robert Altman\\'s Kansas City (1996), but that misguidedly stopped the plot to periodically turn into a concert film. Anchors Aweigh takes a similar tactic. Yes, this is a musical, but there\\'s a difference between songs that propel and are integral to the plot and concert showcases that seem like contractual obligation material.<br /><br />There are also some plot problems. It\\'s not very well established why Brady is so against Doolittle\\'s pursuit of Abbott. We can guess that Brady thinks Doolittle shouldn\\'t become involved with someone who has to take care of a kid, and who seems relatively \"proper\" and traditional, but on the other hand, Brady can tell that Doolittle doesn\\'t have the same womanizing disposition that Brady admits of himself. Abbott seems like a good fit for Doolittle, and furthermore, Lennart works hard to establish that Brady just wants to get Doolittle out of his hair and get on with meeting Lola--it seems that Brady\\'s character should be quickly pawning Doolittle off on any candidate, whether she\\'s a good fit or not. This might seem like a minor detail, but it\\'s actually the hinge for about a third to half of the plot. The story also seems a bit drawn out. Length is a problem. Anchors Aweigh, clocking in at roughly two hours and twenty minutes, should have been cut down by at least a half-hour.<br /><br />The above surely sounds like I\\'m complaining about the film too much to justify an 8. I just wanted to stress what I see as flaws, because the conventional wisdom on Anchors Aweigh is much closer to the idea that it has no flaws.<br /><br />Sinatra, Kelly and Grayson are certainly charismatic, separately and together. They turn in good, interesting performances. Sinatra looks and acts much younger than his actual age of 29 \\xc2\\x96 30 while shooting. He plays an unusually na\\xc3\\xafve, virginal character--completely different than most of the roles he would take later, and different than his public image as a crooner. For Kelly, this was his breakthrough film, and rightfully so. His choreography is varied and impressive, as is his acting. Grayson is charming, her performance is sophisticatedly understated, and she\\'s simply gorgeous. All of this helps override the flaws with the script and the drawn out pacing.<br /><br />And there\\'s even a very interesting element that probably only arises because Sidney was allowed to sprawl over a large variety of moods--the infamous Kelly dance with Jerry the Mouse (of \"Tom and Jerry\" fame) in an extended fantasy sequence. This is one of the earliest examples of combining live action and animation, and it is extremely well done and enjoyable as long as you\\'re a fan of fantasy. The fantasy sequences tend to be the best of the film. Matched in excellence to the dance with Jerry the Mouse is a long song and dance number featuring Kelly and Grayson, where Brady is imagining Abbott in a scene from a period film while he woos her, having to resort to acrobatic stunts to reach her physically as she stands on a high balcony.<br /><br />As uneven and flawed as the film is, it is largely successful and entertaining to watch. Fans of classic musicals certainly shouldn\\'t miss Anchors Aweigh, and neither should Sinatra fans, who\\'ll get quite a kick out of his character.'\n",
            " b\"I have been a lover of Chopin, the man and his music, for years and years, and have always been fascinated by George Sand. I rented this film on DVD (with English dubbing) and watched it last night with great expectations. I recently purchased IMPROMPTU, the other Chopin/Sand biopic, and found it wandered quite far from the actual events of their lives. So, I was disappointed with that one, and was hoping CHOPIN: DESIRE FOR LOVE would be just what I wanted from a Chopin biography. It was not.<br /><br />What would be so hard about making a film based entirely, or at least mostly, on true events? Why do film-makers seem determined to turn the lives of these historic geniuses into soap opera frivolity? If you have ever read a biography on Chopin, or even just listened to his music, then you know what a highly intelligent, sensitive, perfectionist, almost otherworldly man he was. I want a movie about Chopin with an actor and a script that are as sensitive and detailed as he was. This film seemed like a cheap, made-for-TV movie with overacting, cheesy drama, and unnecessary sexual situations. I'm mainly referring to the scene of Solange frolicking nearly naked in the river in front of Chopin. There is no documented proof that there was ever anything beyond mild flirtation between Solange and Chopin, if there was even that. He was older, frail, and sickly, and she was young, sexy, and looking for money. She used him for sympathy, and he did have it for her. Oh, and the scene with the maid and Chopin! Completely made up for sex appeal! What were they thinking? Perhaps they just wanted to show that Chopin was starved for sex while living with Sand, but there were other ways to show that. Chopin would be sick over this one, and George Sand would never have stood for that under her own roof.<br /><br />Chopin struggled with depression and sickness, and even had a few hallucinations from time to time. His own genius mind drove him mad with striving for perfection in music, dress, and appearance. Neither movie I have seen has touched on this aspect of his life very well, if at all. They have portrayed him as a whining snob and not much else. There was far more to him. In my opinion, he was very misunderstood. This is just something else I would love to see played out on screen.<br /><br />On a positive note, there were a few little details in this movie that lovers of Chopin might really appreciate. For instance, in most scenes, the actor playing Chopin wears gray pants. This was Chopin's favorite color for his suits. There were also scenes of Chopin in a room with gray and green walls, which were the true colors of the wallpaper he chose for his apartment in Paris. I also liked the fact that the actress playing Sand in this film actually resembled the real woman, whereas in IMPROMPTU, Judy Davis looked nothing like her. They didn't even try with Davis, except to put her in a man's clothing. In the first party scene of this film, the actress is dressed and has her hair done exactly like Sand in a well known painting. I loved the way she looked here.<br /><br />All in all, I would have to say that for Chopin and Sand fans, this movie is severely lacking in historical truth and nuance. At the same time, for those who have no knowledge of Chopin's life, it must be very confusing, tedious, and hardly entertaining. I hope one day that a good, detailed biographical film will be made for Chopin. Perhaps lack of interest from the public is why we've had two duds about him. However, I think if a well made film were to be done, many people who never knew about Chopin would find themselves fascinated and wanting to know more about this amazing composer's sad and hauntingly beautiful life story.\"\n",
            " b'Since there was so much comment on the \"fake gorillas,\" I think it is worth pointing out that these were not in fact intended to be gorillas but rather the fictional race of \"great apes\" that raised Tarzan in the Burroughs novels. They were supposed to be something closer to humans, with a language developed enough that it could be translated into English - in fact Tarzan was a word in the great ape language meaning \"white skin.\" You can quibble about how successful the movie portrayal of these creatures was, but any Burroughs fan will recognize what they were trying to do. In any case, it was a brief sequence.<br /><br />I thought this movie was surprisingly good and came closer to capturing the flavor of Burroughs\\' later Tarzan novels than anything else I have seen. Burroughs, after all, was primarily a fantasy writer and there is no point in holding his fiction to any \"realistic\" standard. The production standards were quite good and I liked the principal actors. In fact, Van Dien may be my second favorite Tarzan, after Gordon Scott.'\n",
            " b\"Watching this film was like reliving the jobs I had in my 20's - waiting for 5 o'clock, looking busy, trying to impress people who didn't give two hoots about you, and the dreams...ah, the dreams...<br /><br />This is a very believable study of working life for the bottom rung female. How they band together, then fall apart. It's ultimately a sad story with some hope for 2 of the characters. But it's as close to life as it gets.<br /><br />Wonderful performances by all 4 actresses. And small roles by some big character actors make this a good film.\"\n",
            " b'Mallrats is one of those films that very few saw in a movie theatre, but went on to become a cult favorite thanks to the home video market. It boasts a \"hot, young\" director and a cast of likeable characters that like to cuss a lot. Add a hip soundtrack, and you\\'ve got the complete package. For those of you 21 and older, go to the View Askew website and check out the \"Mallrats Drinking Game\". It makes for a good night with friends.'\n",
            " b'Because you sure chewed up pretty much all of it.<br /><br />I love Al Pacino. He is one of my favorite actors ever and I love it when he goes completely over the top like in Heat: \"Cause she\\'s got A GREAT ASS! AND YOU\\'VE GOT YOUR HEAD ALL THE WAY UP IT!!!\" But there\\'s a point where that stops being great and becomes just a crazy man yelling his lines. Overwrought doesn\\'t begin to describe the acting in this severely overrated film. I understand that Frank Serpico probably had a very intense life but did he really scream 24 hours a day? If that\\'s the case, no wonder nobody liked him. <br /><br />Sidney Lumet was a great director and Al Pacino is a fantastic actor. If you want to see a great example of Lumet and Pacino working together at the top of their game, rent Dog Day Afternoon and skip this. Your ears will thank me for it.'\n",
            " b\"This is not a good movie. It's disjointed, all the acting is bad, and has a lame story you've seen a thousand times done much better else where. Not to mention you can see every plot point coming from a mile away. Worst of all, no one bothered to tell Lonette Mckee she can't sing. But who cares, she's sooooo damn good looking. But I digress, nothing new here. Bottom-line, hot girl group gets taken advantage of, some one gets hooked on drugs, someone gets hooked on a guy, some one gets the hell out, and then the horrible stuff happens. Surprise, surprise. Welcome to the music business. I can't believe so many people out there think this is a good movie. So many of you seem to want to use a sliding scale when it comes to grading Black Movies. I don't play that! If you want to support these films by going to see them - great! If you enjoyed it - super! To each his own. But don't try to tell me it was good. Pleeeease! I wish colored folks would not fawn over these kind of movies just because they feature black actors. Wanna see a good African-American movie? See Love Jones. Ray. Or The Color Purple. Those would be great movies no matter what the color of the actors skin. Why? Because they told compelling stories with great acting, that made you feel something long after you left the theater. Just because it's our experience does not automatically make it a good film. It's only good -- when it's good. Period.\"\n",
            " b'Call me an immature little boy, but i\\'ve had a more profound experience just watching a documentary on Mount St. Helens. To that end, there was actually some real footage of the eruption mixed in there somewhere. Now that was good, about all that actually was good in this dumb movie. (some people might think of this as a spoiler) The actor who plays Harry Truman is. Way. Too. Young. Truman was probably in his seventies, the actor looks like he\\'s barely out of his fifties.<br /><br />This movie runs about ninety minutes. Am I ever thankful for that, ninety minutes of sheer torture magnified by the fact that they swear (i\\'m talking S-words here) like it\\'s 1999 just all the time. they must swear at least three times every scene. I\\'m telling you, it\\'s out of control.<br /><br />The only good line in the whole movie is \"Ahh, hayte bahg pypes!\" oh, sorry, translated version: \"I hate bagpipes!\" That line has become legendary around my house.<br /><br />1 star is way too many. if given a choice i\\'d give it 0.00000001 stars. Watch a Mount St. Helens documentary instead.'\n",
            " b'\"Miracles\" debuted on January 27, 2003 on the ABC Television Network. After constant pre-emptions and special episodes of \"The Practice\", \"Miracles\" was cancelled after only six episodes. The Save Miracles Team, even after a year has passed, is still doing what it can to save the show. For more information, please visit MiraclesHQ or feel free to contact me personally.'\n",
            " b'This film features two very Strong leads and They were not ashamed to have equality in all things even sex as the men did. Those not familiar with these times a women could be a Married or an old maid. As for work teacher,actress,nurse,novelist,strumpet or Nun were the varied career choices. As for what women had to say well it was re-expression of the views or opinions of the husband or father.( see Henrik Ibsen\\'s A Doll\\'s House) <br /><br />As it is an art film it has some fornication and nudity scenes that some moralists will find pornographic for it is \"pleasures of the flesh\". <br /><br />This is a prequel to Women in Love. neat Point,in the story Gudrun Brangwen mothers\\', Anna Brangwen played is played Glenda Jackson who played Gudrun Brangwen in Women in Love. <br /><br />So if you like period film get both movies and have a double feature.'\n",
            " b'I saw \"An American in Paris\" on its first release when I was still at school and fell in love with it straightaway. I went back to see it again the next day and have lost count of the number of times I have seen it since, both in the cinema and on TV. It makes fantastic use of some of the best music and songs by the greatest popular composer of the twentieth century (George Gershwin) and features the greatest male (Gene Kelly) and female (Leslie Caron) dancers in Hollywood history. The supporting cast of Oscar Levant (as quirky as ever), Georges Guetary (why didn\\'t he make more movies ?) and Nina Foch (brilliant in an unsympathetic role) are at the top of their form. The closing ballet, superbly choreographed to the title music, makes excellent use of the sights and sounds of Paris and of the images of impressionist and post-impressionist artists. All the Gershwin songs are beautifully staged, but the most memorable are \"It\\'s Very Clear\" (Caron and Kelly on the banks of the Seine) and \"I Got Rhythm\" (the kids of Paris joining Gene Kelly in \"Une Chanson Americaine\"). If you love Paris, see this movie. If you\\'ve never been to Paris in your life, see it. But see it !'\n",
            " b'What would life be like without an occasional rotten movie? The title tells all in this weak variation of the vintage 1977 killer whale movie \"Orca\" about a whale that wreaks vengeance on the fishermen that destroyed its mate and baby. In the lackluster \"Grizzly Rage,\" four obnoxious teenagers recklessly careening through the woods strike a grizzly bear cub accidentally and kill the little fellow. No, the filmmakers don\\'t show the cub getting clipped. Only after they have smashed headlong into a tree and done permanent damage to their 4X4 Jeep Cherokee do they discover the critter. Surprise, surprise, the cute girl, Lauren Findley(Kate Todd of \"Saving God\")cannot get a strong enough signal on her cell phone to summon help. Actually, she objected to their thoughtless plans. Specifically, the guys used the winch to break a chain and trespass onto private property deep in the middle of nowhere littered with ominous looking barrels that would appear more appropriate in a toxic waste dump. The producers never connect the dots here about the toxic waste dump and the bear. Suddenly, an angry momma bear emerges and comes after them. I gave this movie one star because they rely on the old, stand-by suspense scene where the vehicle refuses to crank until the last second.<br /><br />Director David Decoteau, who has helmed such low-budget schlock as \"Sorority Babes in the Slimball Bowl-O-Rama\" as well as \"Frankenstein & The Werewolf Reborn,\" is up to his usual nonsense. Basically, this rarely scary horror chiller boasts three dudes, a sexy babe and a hulking she-bear (a male named Koda) in the forest. Decoteau shows the bear howling, walking on all fours and then rearing up on its back legs, but you rarely see anything but the wrecked vehicle in the same shot with the critter. When the bear is merely stalking her prey, Decoteau provides us with a slightly wide-angled \\'bear cam\\' perspective like they do for the human killer in a stalker movie. When the momma bear does attack, all we see are its paws and claws in close-up. Nevertheless, you know that those belong to a man in a bear costume.<br /><br />Not only do these teenagers lack a shred of sympathy, but they also have no common sense. After their Jeep overheats, they separate and wander off into the woods searching for water to cool their vehicle off. Meanwhile, you find yourself rooting for the bear. Unfortunately, this carnivorous bear takes its time showing up and possesses little personality. Of course, the momma bear eats them all. The first casualty--Ritch Petroski (Brody Harms of \"Adam & Evil\")occurs about 20 minutes into the action, and the shook-up survivors tear off in their Jeep and then have second thoughts about leaving their poor mauled friend behind. They wreck their Jeep again, rolling it down an incline, but manage to recover despite some injuries to themselves. One of them decides to pull on his jogging shoes and run for help. Guess who he runs into? Guess what you\\'ll get watching this half-baked epic? No, no bears or bear cubs were harmed in the making of this forgettable film. Where was Daniel Boone when these kids needed him?'\n",
            " b'*Contains spoilers* <br /><br />This is a most trying movie. The idea seemed good going on the DVD cover, but the reality is tedious and at time irritating.<br /><br />It could have been OK if only the scriptwriter hadn\\'t had verbal diarrhoea and if the female lead hadn\\'t acted the part far too often in a fit of hysteria. We have to endure groups having arty conversations that have very little to do with the plot - at times nothing at all that I could see, and worse, are excruciatingly boring.<br /><br />The heroine is irritatingly dim. She\\'s had a history of loser lovers and when you watch her you aren\\'t going to be very surprised about that. When her futuristic lover turns up, she\\'s unable to listen to him trying to explain his situation because she\\'s just too thick to understand anything much of what he\\'s talking about. She doesn\\'t have to believe him, but she could at least have some grasp of science and time so that the guy could feel he\\'s talking to a woman with a brain. In other words, these two characters are totally unsuited - unless the futuristic visitor really wants just a bimbo? It\\'s somehow not surprising that she has to keep visiting a shrink though she doesn\\'t seem to improve from the visits.<br /><br />The most worrying thing is why this futuristic guy bothered to come back to find Ruby, but I guess it must be that man thing we women hear about that men fall for a girl\\'s looks, not her intellect. This girl doesn\\'t have much intellect. I have to say this may be due to the frenetic way the part is played. Perhaps the actress could have interpreted the script with something more measured than that style which Americans call zany. Perhaps it was all meant to be hilariously funny but I love funny stories and I didn\\'t find much in this movie that\\'s really funny.<br /><br />The hero tries, he really does. He acts the part pretty well. You can feel for him. It would have been good to hear more about his future time but we\\'re told so little it\\'s infuriating.<br /><br />There are a few interesting touches in what\\'s mostly pretty long-drawn-out and disappointing. I particularly liked it whenever we were introduced to other time travellers, particularly the shrink - yes, that was a surprise to me, very clever. But those intro\\'s were so rare and so brief. Once I knew there were others around, I was waiting for them and a few more would have helped liven up the movie.<br /><br />The solution to saving the hero from his problem re how to \"stay\" in \"now\" is one of those tedious ideas that \"love will do the trick. It was so, so cheesy. For all we know, it may really be the solution to everything, but I hope not the way it\\'s put over in this movie. <br /><br />This is a movie based on a quite clever sf idea but the s has nearly all gone missing and it\\'s very short on any interesting f.<br /><br />Vaguely watchable if you are desperate for something to see and take a liking to the casting.<br /><br />The issue of what happens if you change history by going back in time is always intriguing. A pity it wasn\\'t treated more seriously in this tale, but I think this movie isn\\'t aimed at sf fans.'\n",
            " b\"I remember seeing this movie a long time ago, back then even though it didn't have any special effects, the acting was really good. And it still has the same message for today, even though the technology has changed, maybe they should make a remake of this movie, it would be interesting to see a remake. I also enjoyed the music from the movie as well, Larry Norman was a really good songwriter during that time period, although now most Christian music is now worship and praise music. I was always curious to know what ever happened to Patty after the series ended? Did she go on to make more movies, did she get eventually get married and raise a family? I would like to have an update.\"\n",
            " b\"I just suffered through 'Death of a President'. It consists of 100 minutes of fake interviews with the fake investigators of a fictional assassination of George W Bush. Even the killing itself was a bore...just the sound of a gunshot, and W bends over slightly before being shuffled into a waiting vehicle..just like the Reagan hit in the 80's. No, you don't get to see Chimpy's brains blown out. The rest of the film is just a sob story about how the poor Muslims are always getting blamed when anything bad happens to America. Sorry, I'm not buying it. Muslims WERE to blame for 9/11, and this piece of leftist garbage that vilifies the USA for acting against Muslim terrorists deserves the box office failure it received.\"\n",
            " b\"Documentary about Sam Shepard and the star studded production of Shepard's play the Late Henry Moss.<br /><br />This was one of the choices on IFC in Theaters cable service and since I'm a huge theater fan as well as a fan of most of the people involved I figured I would give the film a shot. While its great to see how play is rehearsed and put together I found it all very disjointed and ultimately a mess. I know part of my problem going in was that I was completely unfamiliar with the play. Now having seen this film I feel I'm considerably less so. I'm sure that had I had some clue as to what the play was about the scenes we see being worked on might have had some resonance, instead of just seeming to be random.Many people have compared this to Looking For Richard, Al Pacino's film about Richard the Third, while that film had what seemed like random scenes, the play is part of our cultural heritage and so the plot is known by most people. Also that earlier film deals with Shakepeare and interpreting the Bard, things are put into a context. Thats not the case here. Here we have a good many talking heads talking about the production, Shepard, and Shepard's plays, and the autobiographical nature of what Shepard writes (and biographical stories). Its a jumbled mess that never really seemed to come together. Half an hour in I started to fast forward. It just never grabbed me or made me know what I was watching.<br /><br />A miss.\"\n",
            " b'This is one of my favorite family movies. Loved it when I was little and it still holds up with me now that I\\'m older. I still laugh at all the same old jokes and might even shed a tear a times. I never have much cared for animals talking, or at least UN-animated ones but this one I\\'ll stand up for. It\\'s a pretty old movie but it will always hold a place in my heart.<br /><br />There aren\\'t any other live animal movies that I can think of at the moment that I even could compare with, let alone like as much as this one. I might be giving too much praise to this movie but I don\\'t think show. I really holds that great message that\" Home is where the heart is.\" Or at least that\\'s the message I gained from it. Definitely recommended for a good old family movie night.'\n",
            " b\"This movie was unrealistic and a little boring. For the quality of acting it was alright but you could really tell that it was a movie. I didn't feel like i was a part of the movie. The movie was real muddled some parts made since but others didn't. I really believed that this is a deadly virus. The science behind it was really true i thought. The ending you could tell the way it would end but it still had some holes. Overall this movie was a really dull and not that hard to figure out. It was a bad movie. The actors could have done a better job on the reality of the movie. They didn't act as if the really liked the movies background. They also seemed as if they wanted more of the money instead of really liking the movie.\"\n",
            " b'and just as interesting. A non-writer writes a \"screenplay\" starring herself, the non-actress, and gets a non-director to say action and cut. Did she really think people would be interested in watching her sleep, get dressed, smoke, drive around, and ride in an elevator? With a real writer, director and actors this might have had a chance, but this is nothing more than a home movie made by amateurs. The director even has the audacity to take the possessory \"a film by\" credit above the title, perhaps in recognition of his many years of inexperience. There\\'s a reason he and the \"star\" and most of the others have no other credits--they have utterly no talent or even the slightest ability to make movies. Not only is this movie a crushing bore, but it\\'s incompetent in every respect.'\n",
            " b'Leslie will never be as funny as he was years ago,it would take a miracle,the reason being he is accepting all these ridiculous scripts,just because hes in it doesnt mean it will change anything.Spy Hard has a very few funny scenes,and i find this film very similar to Nielsons other unfunny films like \"DRACULA DEAD & LOVING IT\" & \"WRONGFULLY ACCUSED\".I always wished their would be another Naked Gun,that is the only way Nielson can get his spoof fame back,now he is the same as any other star like Charlie Sheen in a spoof movie. Spy Hard wasnt funny,a very few scenes will make you laugh,i also recommend you avoid this.<br /><br />OVERALL FOR SPYHARD: 4/10<br /><br />GOOD POINTS OF FILM: First Spy Spoof<br /><br />BAD POINTS OF FILM: Terrible Script/Unfunny.'\n",
            " b'I used to catch all the made-for-TV horror/thriller stuff in the 70\\'s, because there were no VCR\\'s or DVD players & this was all there was (well, except for movies at the theater, most of which I couldn\\'t go see because of the ratings and because I was too young to have money to go see them). Now though, this particular films makes for a rather nostalgic time, but it\\'s truly not a very good movie. Two hot-shot \"importers\" (Howard Hessman & Tom Atkins) are flying a planeload full of Ecuadorian coffee & a few stowaways to San Francisco, but they have engine problems & are looking for a place to land. They pick the small town of Finleyville but before they can land the inside of the plane is swarmed with tarantulas and the plane crashes. Of course, the townspeople swarm the site and the fire department shows up, with fire chief Claude Akins, a TV movie staple. We\\'re also treated to a stellar performance by Charles Frank, who plays Joe, and who RUNS everywhere shouting and waving his arms. Now, the tarantulas, of course, disembark, and before you know it they\\'ve made their presence known over apparently SEVERAL square miles, which is pretty silly considering how slowly they seem to move. They do manage to bite a few people too, and after one teacher at a school for autistic children is bitten, another teacher captures one & good old Doc sees what\\'s biting (and killing) the folks that have expired in his exam room. An expert is called in and finds that this is not your everyday household tarantula, it\\'s not even a true tarantula, but it\\'s extremely aggressive & its bite is poisonous. No kidding. Eventually the things all converge on the local warehouse which is full of oranges, and the townspeople rig some kind of ridiculous device up that will cause the spiders to go into a sort of immobile state when they hear amplified wasp sounds. And those that are alive still live happily ever after..or do they? This has several familiar faces in it, and a little boy played by Matthew Laborteaux, who was an 80\\'s teen-film face. Deborah Winters & Charles Siebert were also in another film together (the same year?) called \"Blue Sunshine\", which is NOT made for TV and is a far better film. \"Tarantulas: The Deadly Cargo\" is not really unwatchable, but it\\'s also not particularly good, unless you\\'re up for a nostalgic \"movie of the week\" fix. 4 out of 10.'\n",
            " b'I saw this movie because I am a huge fan of the TV series of the same name starring Roy Dupuis and Pet Wilson. The movie was really good and I saw how the TV show is based on the movie. A few episodes of the TV series came directly from the movie and their similarity was amazing. To keep things short, any fan of the movie has to watch the series and any fan of the series must see the original Nikita.'\n",
            " b'Outrageously trashy karate/horror thriller with loads of graphically gory violence and gratuitous nudity, and a thoroughly preposterous and bizarre \"plot\". This is lowbrow and low-grade entertainment that will appeal only to viewers with particularly kinky tastes, but it\\'s kind of cheerfully bad and I must admit that I wasn\\'t actually bored while watching it.... (*1/2)'\n",
            " b\"Shame really - very rarely do I watch a film and am left feeling disappointed at the end. I've seen quite a few of Ira Levin's adaptations - 'Rosemary's Baby' and 'The Stepford Wives' - and liked both them, but this just didn't appeal to me.<br /><br />When I read the plot outline - an award winning playwright (Michael Caine) decides to murder one of his former pupils (Christopher Reeve) and steel his script for his own success - I was excited. I like thrillers, Michael Caine's a good actor, Sidney Lumet's a good director and Ira Levin's work is generally good.<br /><br />I won't spoil it for anyone who hasn't seen it yet, but all I'd say is there are LOADS of twists and turns. So many its kind of hard to explain the film's plot line in detail, without giving it away. I enjoyed the first ... 45 minutes, before the twists and turns began to occur and at that point my interest and enjoyment began to fade out. Though I have to give Lumet credit for the very amusing ending which did make me laugh out loud.<br /><br />The main cast - Michael Caine, Christopher Reeve, Dyan Cannon and Irene Worth - were all brilliant in their roles. Though Worth's obvious fake Russian accent got on my nerves slightly (nothing personal Irene, I think any actor's fake accent would irritate me). Not sure if Cannon's character was meant to be annoyingly funny but Dyan managed to annoy and amuse - at the same time.<br /><br />Anyone reading this - I don't want you to be put-off watching this because of my views - give it a chance, you may like it, you may not. It's all about opinion.\"\n",
            " b'LOL! Not a bad way to start it. I thought this was original, but then I discovered it was a clone of the 1976 remake of KING KONG. I never saw KING KONG until I was 15. I saw this film when I was 9. The film\\'s funky disco music will get stuck in your head! Not to mention the film\\'s theme song by the Yetians. This is the worst creature effects I\\'ve ever seen. At the same time this film remains a holy grail of B-movies. Memorable quotes: \"Take a tranquilizer and go to bed.\" \"Put the Yeti in your tank and you have Yeti power.\" I remember seeing this film on MOVIE MACRABE hosted by Elvira. There is one scene where it was like KING KONG in reverse! In KING KONG he grabs the girl and climbs up the building, but in this film he climbs down the building and grabs the girl (who was falling)! Also around that year was another KONG clone MIGHTY PEKING MAN (1977) which came from Hong Kong. There is a lot of traveling matte scenes and motorized body parts. This film will leave you laughing. It is like I said, just another KING KONG clone. Rated PG for violence, language, thematic elements, and some scary scenes.'\n",
            " b\"The cover art (which features a man holding a scary pellet gun) would make it seem as if it's a martial arts film. (Hardly.)<br /><br />I find it interesting that the film's real title is Trojan Warrior. (Trojan is a brand of condoms in the US) This movie is loaded with homoeroticism. If you like that stuff, then this film isn't that bad really. However, consider these points:<br /><br />There are numerous close-ups of actors' groins & butts, (One scene even features every actor with an erection bulging in his pants.) the film is also bathed in gaudy colors like lime, peach, and red. From a cinematographer's standpoint, this movie's a drag queen! Several scenes feature characters standing EXTREMELY close to one another, occasionally touching as they converse. Also, the cousin of the hero likes women, and every other guy in the movie is trying to kill him. Is there a message here the filmmakers want to convey? <br /><br />Shall I go into the fight scenes? (Yes, someone's private parts get grabbed in one fight.) The martial arts scenes are brief and unimaginative. No fancy stuff here, just your standard moves you'd see in an old Chuck Norris flick. There's also a car chase scene which may be the first ever LOW-speed chase put on film.\"\n",
            " b\"About the kindest think I could possibly say about this movie, is that it is funnier than 'Commando.' Starring Fred 'Where the hell did my career go' Dryer as a Marine who lives by his own rules.(clever huh?) After the killing of all his buddies, and the kidnapping of his gruff but loveable Colonel, Yep... you guessed it, he goes on a one man rescue mission (against orders naturally) to rescue the Colonel, and to kill as many non-english speaking persons as possible. Laughably cliched from start to finish. Whoever wrote this should have their crayons taken away.\"\n",
            " b\"Firstly, being a fan of Jonathan Rhys Meyers I had been hearing about this project for a while and I couldn't figure out how they'd make sense out of it. It does end up making sense even if it's a little far-fetched. It's about a son and his parents who all have to find each other, but my problem was that I couldn't figure out a way they could have gotten so separated in the first place. But luckily the writers did. It's pretty sappy and sentimental but if you're not that kind of person, I can't imagine you'd be interested in something like this anyway. It's the type of story that always comes out around this time of year, which is also the most sentimental time of the year. It gives you warm fuzzies so if you like something like 'Mr. Holland's Opus' or 'About a Boy' or 'Love Actually' you'd more than likely enjoy it.<br /><br />I don't know if this qualifies as a musical but it should. It had lots of music in it although people didn't burst into fits of singing dialogue. The songs were normal songs, mostly original, and they were great. The young people involved were very talented, especially Jamia Simone Nash and Leon G. Thomas. Robin Willams and Terrence Howard had smaller supporting roles. (I've been saying that Williams and Bono resemble each other for 20 years so I'm glad he put the hat on and finally proved me right.) JRM and Keri Russell are co-stars who do their jobs well. But the star of the movie is Freddie Highmore. He's a good actor and I believe this was the first thing I've seen him in. I wouldn't be surprised to see him nominated for this.<br /><br />I actually think this movie would be good for kids. I think there is maybe one bad word in it and maybe the way he came into the world might bother the extreme conservatives. But it's uplifting and a story about belief, especially belief in yourself. And I expect that'd be good for anyone to see, except maybe those who really hate too much sentimentality.\"\n",
            " b'Very interesting product from South Korea, a.k.a. REPTILIAN is equally good as it is bad. Far out story line with unimaginative dialogue. Very good F/X holds your interest. Hostile invading aliens reanimate a dormant giant lizard-like creature named Yonggary to eradicate humanity and take control of Earth. Super cool alien spacecraft and a prehistoric monster should be more than enough to keep Sci-Fi fans happy.<br /><br />Overview of notable cast members: Harrison Young, Donna Philipson, Karl Calhoun, Dan Cashman and Richard B. Livingston. The monster is handsomely detailed and fun to watch.'\n",
            " b\"The man who directed and designed this film, William Cameron Menzies, was one of the great unheralded geniuses in the history of film. More than almost anyone he raised set and production design to the level of art; and his sets for the silent Fairbanks Thief Of Baghdad are still eye-popping. Menzies will probably be best-remembered as production designer of Gone With the Wind, a film he largely molded visually, and whose best scenes bear his unmistakable stamp. Alas, Menzies was never a good director, though his films are often interesting to look at. A good example is his 1953 Invaders From Mars. The Whip Hand, though, is just awful; dreadful script, poor acting, no pace; and it doesn't even have the Menzies 'look'. Yet as a period piece it is not without interest. It starts beautifully, in a studio-designed rustic setting (and the best set in the film); and then a rainstorm soaks a vacationing fisherman, who proceeds to go into the local town and ask for help in getting treatment for a head injury he sustained when he fell against a rock. The townfolk turn out to be even harder than the rock he hit his head against. They refuse to be more than perfunctorily friendly (with the exception of a superficially outgoing and jokey Raymond Burr), and are continually contradicting one another. It seems that there are strange doings on a lodge across the lake; and nocturnal visits to the lodge by the doctor, who doesn't want to talk about it. As things turn out, Communists have taken over this Minnesota town and turned it into a center for the study of germ warfare! <br /><br />This movie could have been so good. I was rooting for it all the way; hoping against hope that it would get its act together and finally work,--dramatically, logically, thespically. But it never did. The heavy hand of Howard Hughes had a good deal to do with ruining what slight chance this movie had of being good, as it was originally supposed to be about Nazis, and he decided, as studio chief, that he knew better, so he ordered much of the film re-shot to make the villains Russian agents instead. I'm surprised he didn't put Jane Russell in it as well. Lang, Hitchcock or even Siodmak might have worked wonders with the material. Menzies himself might have done better had his employer showed better taste and judgment. The movie's worth seeing if only for the spectacle of gifted people making asses of themselves both in front of and behind the camera, as there are flashes of real talent here and there.\"\n",
            " b'I noted that this movie was being compared to Dances with Wolves and Last of the Mohicans,aside from the fact that they all three involved native Americans there is little comparison.Windwalker would be a better comparison. This movie is more about this character who is being driven by a fierce passion to save a people and culture he doesn\\'t understand and doesn\\'t want to. It\\'s Man vs. Nature. God vs. Nature. It draws a far more fierce and savage picture of Native Americans than most films dare to in an effort to stay PC which sometimes means pretending a victim or minority is without fault. This character,this \"Black Robe\",is most certainly flawed, but his courage in the face of savagery is inspiring. Also the native Americans in this film seem far more human and less a Hollywood caricature of native Americans. I plead with every movie lover out there SEE THIS FILM. I felt I was truly transported back in time. So, if you are avoiding this film because you hated Dances with Wolves and fell asleep every time you tried to watch Last of the Mohicans, try this film instead.'\n",
            " b'Finally after a long year of waiting i got to see this movie. My expectations for this \"Rockumentary\" where very high and i was hoping i could see this as a sequel to \"Truth or Dare (in bed with Madonna)\". But nowhere this documentary can be compared to the 1991 Madonna documentary, the only similar thing these two \"docu\\'s\" share is the use for black & white footage for off stage scenes, and full color footage for on stage scenes. The great difference between these two docu\\'s is Madonna herself, and it is really great to see that the same egocentric woman who shocked the world by touching herself on stage has grown to be such a tender and caring person who now uses the \"shock-element\" to make a difference in the world. The docu begins with a stunning new video of \"the Beast Within\" which is perhaps the most dark and scary thing Madonna ever did. After that you can see Madonna at work in the studio mixing the soundtrack for her Re-invention tour. Step by step you see the preparations for such a massive tour, the audition of the dancers, rehearsing songs, shooting of backdrop screens. Then the docu follows Madonna from opening night until the last show in Lissabon, and also shows some of the strongest performances she did during the tour. Songs like \"Vogue\", \"American Life\", \"Like a Prayer\" and more. After some emotional footage of the last show the docu shows Madonna\\'s visit to Israel. In my opinion the docu would be better of without these scenes. I do understand that this also is an important part of Madonna\\'s life, but some of the footage you get to see is so hard and depressing that it leaves more impact then the 100 minutes before. I think it is save to say that although this docu isn\\'t that good as \"Truth or Dare\" you won\\'t be disappointed by this one.'\n",
            " b'Sasha Mitchell stars as David Sloan the brother of Kurt Sloan (Jean-Claude Van Damme) who takes on Tong Po (Michael Qissi) a brutal fighter who was beaten in Bangkok by Kurt, however Tong Po has killed Kurt and now demands a match with David to reclaim his honor in this disappointingly dull sequel which takes itself far too seriously. The actionscenes themselves are okay, but overall the film is worthless.'\n",
            " b'Of course there are movies so bad they\\'re fun to watch; this just ain\\'t one of \\'em- by any stretch of the imagination. Coming or going. While I did like the costume the title character sported (not that far removed from Rick Baker\\'s duds in SCHLOCK), that\\'s about IT as far as admiration goes. Looking over the posted comments here regarding this one, I can\\'t help but feel that Television has wrecked havoc with the taste buds of most viewers- because MIGHTY PEKING MAN, more than anything else, reminds me of an episode of a really bad television show (take your pick, from day first to this- and they\\'re still being cranked out with mind-numbing regularity); nothing more, nothing less. If you can honestly walk away from something like this having been in any way \"entertained,\" consider watching paint dry.'\n",
            " b'Sure Ice-T is cool and Michael Madsen is cool in strange way and Eric Roberts has a cool sister. Unfortunately she wasn\\'t in \"The Alternate\". I\\'ve seen thousands of films and this has got to be the baddest yet, not bad in the good sense, just plain bad. The \"action\" scenes were among the poorest I\\'ve EVER seen, or Eric is just plain good at dodging the several million rounds fired at him. His Glock should be investigated as it held in the neighborhood of 100+ rounds between reloads, perhaps that\\'s why he couldn\\'t hit anything-the thing was too heavy from all the bullets. The director, who\\'s name I choose to forget and I hope Hollywood does likewise, should be given one more chance, to direct a kindergarten play in Spudville, Idaho. I will admit that Eric\\'s use of the action verb \"GAACK\" several times was one of the thrilling moments of the film, perhaps the apex.'\n",
            " b'This is one of those movies that you and a bunch of friends sit around drinking beers, eating pizza, and laugh at. Unfortunately for me I found myself watching this one alone. My friends and I rented a big block of movies and never got around to seeing this one. It was due back and I figured that it was a waste not to watch it. So I did, and I was impressed at how absolutely terrible this movie is.<br /><br />Now, I love bad movies quite a bit, and I probably would have liked this one if the \"hero\" wasn\\'t so utterly loathsome. The entire movie I was hoping that he\\'d put that stupid sword down and let someone kill him! He does very little heroic things in the movie. He\\'s a beefy, disgusting, stupid thing. He has less redeeming qualities than the villains do. And what was it with all the naked chicks? I mean, I love naked chicks just as much as the next guy, but this movie went a tad overboard in that department.<br /><br />Well, anyway, if you love bad movies and can stand a disgusting \"hero\" then I\\'m sure you\\'ll like this schlock of a film.'\n",
            " b'It has been one whole year since the capers in Home Alone! And America\\'s favorite family is back again! It\\'s next Christmas and the family is going on yet another McCallister clan vacation. This time it\\'s to Florida! Christmas in Florida, well, according to Kevin,<br /><br />\"There\\'s no Christmas trees in Florida. How can you have Christmas without a Christmas tree?\" Good point. Kind of like you can\\'t have Easter without an Easter egg, or Halloween without a pumpkin. Anyway,<br /><br />[THIS REVIEW MAY CONTAIN SPOILERS, BUT THAT SHOULDN\\'T STOP YOU FROM READING ON!]<br /><br /> When Kevin goes to get his tie from the bathroom, Uncle Frank was in there taking a shower, who warned Kevin that if he saw Frank naked, Kevin would grow up never feeling like a real man. But he does anyway, and tape records Frank\\'s singing, but soon Frank discovers and Kevin runs. At the school, there was a pagent going on. There was a problem<br /><br />though: Buzz stood behind Kevin and was holding a candle. He held two of them up to Kevin\\'s ears, making him look ridiculous. Kevin found out and knocked Buzz down, causing a chain reaction that caused everything to fall. The family forced Buzz and Kevin to apologize. Buzz faked it but when Kevin explained, they didn\\'t buy it. Once again, another tizzy with his family. Next morning, they rush to the airport, Kevin with them this time! But at the airport, Kevin is sidetracked and<br /><br />follows a man in the same coat his father wore! So while the<br /><br />McCallisters boarded the plane to Florida, Kevin boarded the plane to New York!! So knowing his family was a thousand miles away, Kevin lived it up in the city. He bought fireworks, he rode in taxis, he even went to the top of the World Trade Center (Which sadly no longer exists). What Kevin didn\\'t know was that his old \"friends\" Harry and Marv broke out of jail and are in New York! They need money to leave the country! Kevin checks into the Plaza Hotel, where the sinister<br /><br />consierge, Tim Curry, was watching his every move. His hotel room is fabulous and he loses his shorts in the pool! He even orders a mountain of room service and watches \"Angels With Even Filthier Souls\", the sequel to the classic! So the next day while Kevin was enjoying a limo ride across town, Tim Curry discovers that the credit card Kevin used to check in was stolen. Kevin arrives at Duncan\\'s Toy Chest. A huge toy store filled with everything! Including Harry and Marv who are hiding in playhouses. Kevin is generous and gives some money to charity, so Mr. Duncan let\\'s him have some turtle doves from a mini tree. You keep one and give the other one to a special person, and as long as each of them has their turtle doves, they\\'ll be friends forever.<br /><br />Outside, Kevin reads a map while Harry and Marv depart from the store. Bad timing. They meet up with Kevin, and still having some left over bruises from last time, want to carve him into little pieces. Kevin<br /><br />runs, and cleverly gives them the slip, curtosey of a pearl necklace. But now the Plaza hotel staff is after him, but he outsmarts them with \"Angels With Even Filthier Souls\". Kevin escapes but runs into Harry and Marv. He escapes into Central Park! He stays there all night and runs into all the weirdos, so he finds shelter and runs into the Pigeon Woman! Kevin\\'s terrified but soon discovers a friendly woman underneath her tattered coat and pigeons. They have a talk at a concert hall. She teaches him that a<br /><br />good deed erases a bad deed, so Kevin thinks about what he can do that\\'s a good deed. He remembers that Harry and Marv plan to rob<br /><br />Duncan\\'s Toy Chest, but the money the store makes is going to the<br /><br />children\\'s hospital! Well that\\'s going too far. Kevin rushes to his Uncle Rob\\'s renovated townhouse and transforms it into the ultimate bobby trap haven! It includes all the trimmings: holes in the floor, monster sap slippery ladders and floor, tool chests falling downstairs, ropes dunked in kerosene for obvious reasons, and more! Kevin get\\'s the crooks to chase him there. Then, he hurls bricks at them, all of which hitting Marv. So when trying to enter through the front, Marv has a run-in with a staple gun. When he finally does get inside, he falls all the way down to the basement. Harry has tools topple onto him, his head catches fire, Marv has a shelf fall on him, a bag of plaster cover him to look like a snowman, and they both get mashed by a tool chest falling down stairs. They soon climb down the kerosene soaked rope after Kevin and find out why it was dunked in kerosene. As the rope is lit on fire, the bandits fall and get paint thinner splashed on them. Kevin knows he\\'s winning and feels great but doesn\\'t watch where he\\'s going! He slips and falls right into the clutches of Harry and Marv. They drag him into the park where Harry attempts to shoot him, but are attacked by a bucket of bird seed and dozens of hungry pigeons, curtosey of the Pigeon Lady. The police soon arrive and take Harry and Marv to jail once and for all. And, at the big tree in Rockefellar Center, Kevin and his mom meet up. The family was staying in a Plaza hotel suite! Yes, apparently the Plaza has started a new custom: \\'If We Lose Your Kid, Your Luxury Suite is On Us!\\' And what a deal that is! The family get\\'s a truck load of presents from none other than Santa Claus himself, Mr. Duncan. Kevin gives the Pigeon Lady a turtle dove so they\\'ll always be friends. And once again, all is happy and merry! Very! Until Kevin\\'s room service bill is brought to Peter (Dad)\\'s attention. He yells, \"Kevin! You spent $967.00 on room service?!!\" Then Kevin runs off. A brilliant film! Really lives up to the first one!! Great music, great messages, Good!!! It\\'s followed by Home Alone 3, naturally, but it doesn\\'t star anyone from the first two. It\\'s similar to the horror series Halloween. Halloween III was an original story having nothing to do with I and II. I\\'ll tell you about Home Alone 3 next time. For now, gotta go. Merry Christmas everybody!! --------'\n",
            " b\"Highway to Hell starts off as a campy 80's ish horror flick. It grabs you from the start and then holds on when our stars jump over the real world divide. The concept is ingenious and the characters are fresh. There are some great sight gags and loads of funny lines. THis is definitely better than the 5.7 rating here......I just left a review for 'The Prodigy' and I am FLABBERGASTED that it has the same rating on IMDb. This is EASILY a better film. Patrick Bergen and Chad Lowe are great adversaries and on originality alone this film deserves at least a 6-6.5 here. Pure unadulterated 'B' movie genius. Wish I could find a copy to rent. 3.5 out of five on my 'b' movie marathon list. It is very strange and not for all tastes, but HTH will forever be a cult-classic.\"\n",
            " b'Apparently everyone likes this movie except me. Strange thing, too, because while I was watching this I couldn\\'t find a single positive redeeming quality to raise my opinion of it - even the locations are not photographed very attractively. It\\'s a boring mystery tale, that never manages to get you involved, and when everything is revealed you don\\'t get any particular pleasure from the resolution. In fact, the movie takes so long to reach at wherever it\\'s going that you may feel like dozing off on several occasions. Denzel Washington, in this particular role, doesn\\'t show enough star charisma to hold the picture; his co-star, Robert Townsend, steals the show as the cheerfully irresponsible \"victim of circumstances\". (*1/2)'\n",
            " b\"I get that Joanna is a sort of Candide, an innocent heroine whose adventures are probably meant to give the director an opportunity to comment on aspects of the culture. That she has (or should have) this larger function is the only thing that could justify the big song and dance at the end, which is supposed to show that Joanna's transit through the other characters' lives has turned them around, made them see beauty and sweetness and gentleness and other faux hippie-dippy nonsense that would have made Voltaire scream. Joanna might be interesting if she were a puzzle, but she is a blank, she can barely be said to have any behavior at all. She is a beautiful rag doll, and your only response when she is mistreated is to hope that getting taken for granted or slapped around (and her bleating sorrow that follows) won't mar her features. In a general way, of course, you hate to see a movie doing some of the things to a character that are done to Joanna unless there is some point to be made, and the best point that could be made in this kind of Candide story when, for instance, Joanna's boyfriend philosophizes that women want to be treated rough and then he does just that -- as I'm saying, the best point that could be made from this is that this is the way the world is, here are some of the terrible cracks exposed in the world Joanna lives in. But no, the movie goes along with the troglodyte attitude and Joanna responds the way her boyfriend intends she should. All this might still be fun in an archeological kind of way, i.e., look what passed for social philosophy in the Sixties, if there were any energy in the directing, the writing, the music or, barring all that, in more than one or two of the main performances. Joanna's a dead fish. Donald Sutherland is even worse, but for such a great actor to put in such a poor performance says a lot about the writing and directing (was there a dialect coach anywhere?), but especially the writing. Sutherland's part is easily the worst written of a badly written movie. How could it not be? He is meant to exemplify the psychedelic metaphysics of beauty and oneness that the movie makes pastel stabs at pushing, and he has to spout all this hooey about it and he is supposed to find its embodiment in that shapely potato, Joanna, and then he is supposed to die, which is the best thing he does. Do I need to summarize? When I and my co-workers start talking movies and nominating the worst movies ever made (we do spend more time on good movies than bad) Joanna is high on my list.\"\n",
            " b'I am a fan of the offbeat independent genre of filmmaking and I found this to be a rather interesting entry into it. I really like morality tales but I feel a bit ripped when the ending doesn\\'t end with a crash and burn (much like Risky Business or The Graduate). What does save this movie is the first ninety percent of it. Here are my reasons (some spoilers contained within): (1) I loved the sharp dialogue in this movie. Some of the lines that I heard throughout the film I will probably remember for quite sometime. (2) Adrien Grenier\\'s performance was excellent and the best in the film. Seeing him go through that acid trip was enough for me to recommend him for an acting award. The words \"Oscar Clip\" should have been blinking at the bottom of the screen. (3) Sarah Michelle Gellar was enticingly evil as Grenier\\'s boyfriend. Even her alter-ego would probably want to stab a stake in her heart. (4) The acid trip sequence is about as messed up as any sequence I have ever seen in a movie. As I saw Eric Stoltz\\'s face become visually distorted, I felt like I had dropped acid myself. (5) The philosophical value in this movie is about as heavy as gold. I love it when movies inject philosophy into the plot of a film because the film is then acknowledging that something is supposed to be learned by watching it and therefore it isn\\'t stupid. Most mass-produced movies don\\'t have this phenomenon. (6) The most surprising aspect of the movie goes to Al Franken. He is the last person that I would ever expect to do a cameo in the movie and I don\\'t think his talent was wasted or misplaced. (7) This is the second movie I have ever seen by James Toback and I found his style of filmmaking to be an acquired taste (much like that of Paul Thomas Anderson). He did a splendid job directing this movie however. (8) I found the choppy cinematography to a blessing. If the cinematography hadn\\'t matched the somewhat choppy story to begin with, it would have sank even farther in my mind. Eight reasons give a score of eight.<br /><br />The downers I thought were (1) the choppy editing and (2) that sad excuse for a denouement and I believe they are interlocked. Granted the editing was rather sub-par I believe, it was needed to accomodate the screenplay. In order not to blow anything at all, they need to cut and paste it in that manner but the job was unfit anyway. I blame the denouement for that, if there had been a nice crash and burn at the end (much like Donnie Darko and The Dangerous Lives Of Altar Boys) the film wouldn\\'t have been so choppy to begin with. All movies that are made to send a strong moral should have the character suffer a big loss in his or her life that they have to live with forever. Granted the ending does have some of that, it didn\\'t really pay off in that manner and I felt a little cheated.<br /><br />Overall, I found \"Harvard Man\" to be an engrossing and disturbing film that interlocks philosophy, drug use, and crime into almost nicely wrapped package. If the ending had paid off, it would have been almost flawless. Here ends my rant!'\n",
            " b\"To wrap your head around Jason Goes to Hell, would be like trying to wrap your head around Paris Hilton actually releasing a CD. It doesn't make sense to you and it probably never will. If it came down to it, go with Jason Goes to Hell, because Paris Hilton, sucks, big time. But back to Jason. Jason Goes to Hell basically is the directors attempt to try and make Jason more than just a brute, slashing, zombie.<br /><br />However in the end it just goes even more so. Adding fuel to the fire for people who hate the Friday series. And with this installment, who can blame them? The premise itself is very ridiculous, Jason is blown into a million pieces, then comes back through the bodies of others. Wow, great plot right? Well maybe if you like trying to think about what the hell is going on.<br /><br />You start with a coroner, he eats Jason's heart. That makes sense... moving on. Jason goes around killing teens and adults again. And then eventually (For the last few minutes of the film.) Becomes himself again. Add in the mix of a Bounty Hunter who has a grudge (For an unexplained reason.) A family dagger which can somehow kill Jason, and Freddy Kreuger. And you have yourself a movie filled with more plot holes than teens murdered. This film does make up for it with more 'inventive' kills, but not even that can make this film great. It's OK for Friday Fans, if not, then steer clear.\"\n",
            " b'Opposite to the more recent films of La Bruce, this one is simply boring. Most moves can be anticipated, acting is far too \"professional\", the story is nonsense, even if I will admit, that it may suggest that sex has to do with violence. But that is knowledge from the last century or even older. So what? I strongly recommend not to view \"Skin Flick\", especially if someone is usually a fan of Bruce La Bruce.'\n",
            " b'There is just one word for this film. Appalling. The director clearly has talent but like his character Robert Carmichael he throws it all away.<br /><br />Carmichael has potential, but like Cray he can\\'t be bothered to use it. Being drawn into petty crime and then descending into depravity is Cray\\'s vision of British youth. Like the British tabloids this film portrays young people with no aspirations or respect. Cray cries out for attention, but deserves none.<br /><br />I was appalled by the act of violence that Cray chose to shove in the faces of the audience. He assumes the audience are ignorant of world atrocities. Like a piece of obscene graffiti on a toilet wall he shows us male depravity with adolescent glee.<br /><br />Some actors of quality have small parts in this film. Danny Dyer and Leslie Manville both make short appearances. The acting is otherwise amateur, the young men Joe and Ben are cringe making. Carmichael played by Daniel Spencer is creepy. Miranda Wilson plays Monica, the attractive wife of celeb chef Jonathon (Michael Howe); how she was able to subject herself to such an ordeal is beyond belief. The film is never subtle and Monica is treated to the most gratuitous violence which is cut with war action. War imagery is used to convey the idea that young men cannot help themselves, that acts of violence will occur within even \"civilised\" countries. This is most certainly true and is symptomatic of our altered society where males have an increasingly less important position, but Cray descends to the level of the barbaric males he seeks to expose through his use of such brutal and violent images. The female characters in the film offer no relief. They are either victims or in Manville\\'s case a washed out mother. The community is represented as dysfunctional.<br /><br />This is Cray\\'s first film. I listened to what he had to say during a Q and A session at Edinburugh and he is not unintelligent, he simply lacks experience and his film exposes his naivety. The film is due to be released later this year, but I hope the company goes bust cos the public really don\\'t need this kind of messed up material.'\n",
            " b\"In 1994 when Ace Ventura: Pet Detective was released many in the acting establishment felt the film to be unacceptable. And yet millions of people including myself and Jim Carrey still can't stop laughing. Clearly one of the hits of 1994, Jim Carrey gives a brilliant and funny performance that helped launch his superstar career. You have it Ace Ventura (Jim Carrey) simply is the best there is. In fact, he's the only one there is! Pet Detective (Jim Carrey) ventures out to find the Miami Dolphins' missing mascot after it is kidnapped from team headquarters just a week before the Super Bowl, to worsen matters dolphin quarterback Dan Marino is abducted. Along the way the good and the bad happen first a meeting with dolphin secretary Melissa Robinson (Courteney Cox) leads to a blast-off bed moving romance! Great acting by Cox hey she's got talent. I must say that Courteney Cox is a great piece of eye candy! Literally speaking Courteney is my chocolate delight! Plus Ace goes eyeball to eyeball with a man-eating shark, and his investigation of the Miami Dolphins team simply woos everyone as the persistent search for the missing mascot continues with a clue that is linked to a missing AFC Championship Ring from 1984. Boy does the fun begin then all starting with Lieutenant Lois Einhorn (A.K.A. Ray Finkle), when Ace takes a trip to nearby Collier County to meet with Finkle's parents he discovers the revenge and hate Finkle had for Marino and the dolphins after missing that critical field goal in the Super Bowl. I must mention to all you researchers, archivists, and investigators that have interest in The Florida Skunk Ape which is said to actually roam the woods of Collier County never fear you should hire a professional that being Ace Ventura: Pet Detective! I know the movie may see or spell it Culler County, but they actually mean Collier county and I feel Collier is more suitable. I just felt that a Skunk Ape mention was a nice little note to add to my Pet Detective comment! Now finally Ventura learns the horrible truth that Einhorn is really Finkle and is also guilty of the kidnapping of both Marino and the dolphin. Can you believe Einhorn a man! Better late than never Marino and the dolphin mascot back for the second half of the Super Bowl! All great performances from Carrey, Cox, Sean Young, and Tone Loc. So if you haven't watched, please do but I'm sure your like the millions who have watched Ace Ventura: Pet Detective. Plenty of laughs plus enjoy the film that really made Jim Carrey a star. This is much better than some of Carrey's more overrated works like Liar Liar and The Truman Show.\"\n",
            " b\"I wasted twelve bucks on this film that I had hoped to be an entertaining, funny but witty film with the talented Jennifer Garner.<br /><br />Instead, Matthew gave a less than acceptable performance with 'old' jokes and empty humor. Although some laughs were shed, at some points I was caught between watching 'Disaster Movie 8/Scary Movie 2' or 'Rachel Getting Married'.<br /><br />I'm sure if this movie would had been made several years ago, it would had been a riot! But being the year 2009, movies like this are overrated and the jokes are SO eight years ago.<br /><br />Take my advice and don't waste your hard earned money on this film. You aren't missing anything. Same old, same old plot. Nothing new. Nothing surprising.<br /><br />EmmaLynn\"\n",
            " b\"- I had planned to write something explaining what I didn't like about this movie, but this is going to be more difficult than I thought. Honestly, I can't remember much about it. I watched it just three days ago and it's made almost no impression on me. That's usually the sign of a real stinker. About the only thing I remember was being incredibly bored by most of it. The novelty of having a Humphrey Bogart look-a-like as the detective wore off real quick. It would be different if he could act, but he's a one-note entertainer. The kill scenes were amateurishly handled and there was no suspense leading up to them. If you can't spot the killer five minutes into the movie, you need to see more Euro horror. The casting is a dead giveaway to the killer's identity.\"\n",
            " b\"Alright this ain't exactly Goodfella's (1990). No drive-byes, no drug use, no murder shown. This isn't a mobster film even though the main character, Vinnie (Steve Martin) is a rat. <br /><br />Vinnie finally joins the witness protection program. Being the witness too a murder in New York, he joins and is shipped of to a small town outside San Diego. Assigned to watch him is an uptight FBI agent named Barney (Rick Moranis) and everything changes. Even though Vinnie tries to help he starts to get back into the business he was meant for, crime. He buys stolen credit cards, pirates goods, and starts up an organization with a group of other 'rats' put in the same place.<br /><br />The whole while both Barney and Vinnie loose their wives to other people. Now Barney's sole job is to protect Vinnie's name and see that he isn't knocked off. Through the course of the film, Barney is taught a few things by Vinnie: dancing the Marengo, hitting on woman, and trusting people. <br /><br />The film is a few laughs to short of being a classic comedy but it is very good. This is the only film I've ever seen that actually has Rick Moranis following in love and actually an actress during the film. Steve Martin does the best acting of the cast, basing his character loosely on Henry Hill (main character of Goddfella's who actually exists) in a comical sense. the film is beautifully choreographed with the two or three Marengo scenes. The story is funny and smart. The gathering of the 'rat' mob members mite be the funniest scene in the film.<br /><br />Vinnie also goes through a bit of character development like Barney, getting out of the business and eventually to start saving up to build a baseball park.<br /><br />My Blue Heaven. Starring: Rick Moranis, Steve Martin, Joan Cusack, Melanie Mayron, and Bill Irwin. <br /><br />4 out of 5 Stars.\"\n",
            " b'Saw this \\'film\\' recently and have to say it was the worst attempt at film making I have ever had the misfortune to see. What the Hell was going on with Coolio? Totally unprovoked shooting at people in distress. Totally uninvolving, slow, tedious and detached. Worse than Spawn. long live \"Evil dead II\".'\n",
            " b\"I was expecting a good story, good character development, excellent acting from Jolie & Banderas, and some great erotic scenes.<br /><br />What I got was a very implausible story that zigzags from love to murderous revenge and back again, no backstory, unsympathetic characters with erratic behavior, and a weird sadistic bisexual boyfriend/pimp (Thomas Jane's character). The sex scenes seemed passionless and were barely erotic. The acting by Banderas and Jolie was good, as were the sets, locations, and lighting, but it didn't rescue the film.<br /><br />Don't waste your time on this movie.\"\n",
            " b'Not a bad movie, but since it is made by Americans, there is a lot of USA born Chinese trying to speak Chinese without much success, and it turns out to be goobledegook. Should have hired some real chinese to do the speaking parts.<br /><br />John Wayne\\'s reference to \"baby\" makes me want to puke, it is cheesy to the extreme. Some great actions by the steam boat, unfortunately not by actors. I will not watch this film again, once is enough.'\n",
            " b\"Buster Keaton is generally known for his comedy forays in the silent era, but this movie is a hybrid romance, comedy, and action movie. The plot is merely a vessel for the action and stunts, and for a movie that came out in 1926, I was impressed.<br /><br />In what was apparently real stunts, I watched Keaton jump from trains and inflict pain on the North. It's an interesting commentary too, on films from the South. With the film being in black and white, Union soldiers symbolically come out looking as the villains with their navy blue uniforms appearing black. The opposite is true as well, as the South's gray uniforms look white on the film stock, giving them an aura of righteousness.<br /><br />It was also an interesting theme that Keaton got all of his motivation from the girl that wanted him to enlist, and all his inspiration from his other love, The General. Both helped him mold himself into a soldier, and by the end it was all tied up with a nice bow. An enjoyable hour-and-a-half\"\n",
            " b\"Never in my life have I just for one second think, seeing such crap is possible. It's important to stay cool right after killing fifty weird-funny looking men in pidzamas. Of course one cannot abide the fact that movie is nothing more than the lecture for kids that studying in school is more important than training for NINJA status. That lesson comes in as the last quote of the film: 'you can find me in the school any time.' Putting grade on such disaster-piece would be degrading, so my opinion of it is none other than awful. Cedric has really outdone himself this time and only one thing comes to my mind in time of writing this review, SOMEBODY STOP HIM! PS: Three days after seeing it, I still couldn't stop laughing...\"\n",
            " b\"'I'm working for a sinister corporation doing industrial espionage in the future and I'm starting to get confused about who I really am, sh*#t! I've got a headache and things are going wobbly, oh no here comes another near subliminal fast-cut noisy montage of significant yet cryptic images...'<br /><br />I rented this movie because the few reviews out there have all been favourable. Why? Cypher is a cheap, derivative, dull movie, set in a poorly realised bland futureworld, with wooden leads, and a laughable ending.<br /><br />An eerie sense that something interesting might be about to happen keeps you watching a series of increasingly silly and unconvincing events, before the film makers slap you in the face with an ending that combines the worst of Bond with a Duran Duran video.<br /><br />It's painfully obvious they have eked out the production using Dr Who style improvised special effects in order to include a few good (if a little Babylon 5) CGI set pieces. This sub Fight Club, sub Philip K Dick future noir thriller strives for a much broader scope than its modest budget will allow.<br /><br />Cool blue moodiness served up with po-faced seriousness - disappointingly dumb. This is not intelligent Sci-Fi, this is the plot of a computer game.\"\n",
            " b'Paul Armstrong is a liberal, Scottish-born, professor of law at Harvard, known for his passionate opposition to the death penalty, who is hired to take on the case of Bobby Earl, a young black man from Florida who has been convicted of the rape and murder of Joanie Shriver, an eleven year old white girl. Earl claims that his confession to the crime was obtained under duress by a sadistic police officer and that the real murderer is Blair Sullivan, a serial killer already under sentence of death for several other murders. Armstrong visits Sullivan in his cell on death row, hoping to persuade him to confess to Joanie\\'s murder, thereby saving Earl from the electric chair. <br /><br />At first all goes well. Sullivan confesses and Earl is released from prison when the appeal court quashes his conviction. As this development takes place only a little after halfway through the film, it is at this point that alarm bells will start ringing in the mind of the viewer. \"Warning! Major plot twist ahead!\" And so it proves. The anticipated twist soon materialises. Earl, it transpires, is actually guilty of the crime of which he has just been acquitted, and probably of several others as well, but hatched a diabolical plan together with Sullivan in order to secure his freedom; Sullivan will confess to Joanie\\'s murder if Earl will murder his parents. (Just why Sullivan wanted his parents dead is never precisely explained). Armstrong now finds that he is himself in danger from the man whose life he has just saved; Earl has a grudge against Armstrong\\'s wife, herself a lawyer, who acted as Counsel for the prosecution in an earlier case when Earl was accused of rape. <br /><br />\"Just Cause\" is an example of the auto-cannibalism in which Hollywood sometimes likes to indulge, cobbling together one film by recycling themes and plot devices from a number of others. The first half owes an obvious debt to films like \"Intruder in the Dust\" and \"To Kill a Mockingbird\"; about the only difference is that the Sheriff who beats a confession out of Bobby Earl is himself black, whereas in earlier films he would have been white. (Police brutality is now an equal opportunities activity). The central twist in the plot was borrowed from Costa-Gavras\\'s \"Music Box\", although in that film the revelation does not occur until the very end. The finale, in which a lawyer, his wife and their young daughter are in danger from a former client, is an obvious plagiarism of the two versions of \"Cape Fear\", which also take place in the swamplands of the American South. Ed Harris\\' characterisation of Sullivan as a Bible-quoting religious maniac is a direct imitation of Robert de Niro\\'s character in the Scorsese version of \"Cape Fear\", made four years before \"Just Cause\". <br /><br />(There is a postscript. Just as \"Just Cause\" borrowed heavily from several other movies, seven years later its central plot twist was, in its turn, to be blatantly plagiarised in the Ashley Judd vehicle \"High Crimes\"). <br /><br />The trouble with this style of film-making-by-numbers is that the resulting films are generally much less distinguished than those which inspired them. The whole is normally very much less than the sum of the parts, and \"Just Cause\" is a much lesser film than any of those which were cannibalised to make it. Harris is normally a gifted actor but this is one of his weakest performances, largely because he is not so much playing a character as playing de Niro playing Max Cady. Blair Underwood is OK as Bobby Earl the (supposedly) innocent young man of the early scenes, but unconvincing as Bobby Earl the murderous psychopath of the later ones. Sean Connery as Armstrong and Laurence Fishburne as the black Sheriff are rather better, but neither is good enough to save the film. (Connery and Harris were to act together in another, better, film, \"The Rock\", the following year). <br /><br />There is another problem with \"Just Cause\". The first half of the film looks like a standard liberal \"issue\" movie, anti-death penalty, anti-racist and critical of heavy-handed policing. The second half looks more like the work of a die-hard reactionary, preaching the message that all criminals are evil bastards, that the only way to deal with them is to fry them in the chair, that liberal lawyers are the useful idiots of the criminal fraternity and that police officers who beat up suspects are to be commended as heroes. The filmmakers seem to have been blissfully unaware that the plot twist casually introduced into the middle of their film had the (presumably unwanted) effect of reversing its political stance, or if they were aware of the problem they ignored it. A suitably convoluted plot was obviously thought to be more important than political consistency. 4/10'\n",
            " b'I have to say I was really looking forward on watching this film and finding some new life in it that would separate it from most dull and overly crafted mexican films. I have no idea why but I trusted Sexo, Pudor y Lagrimas to be the one to inject freshness and confidence to our non-existent industry. Maybe it was because the soundtrack(which I listened to before I saw the film) sounded different from others, maybe it was because it dared to include newer faces(apart from Demian Bichir who is always a favorite of mexican film directors) and supposedly dealed within it\\'s script with modern social behaviour, maybe because it\\'s photography I saw in the trailers was bright and realistic instead of theatrical. The film turned out to be a major crowd pleaser, and a major letdown. What Serrano actually deals here with is the very old fashioned \"battle of the sexes\" as in \"all men are the same\" and \"why is it that all women...;\" blah,blah,blah. Nothing new in it, not even that, it uses so much common ground and clich\\xc3\\xa8 that it eventually mocks itself without leaving any valuable reflexion on the female/male condition. Full of usual tramps on the audience like safe gags about the clich\\xc3\\xa8s I talked about before(those always work, always) and screaming performances(it is a well acted film in it\\'s context)..and by screaming I mean, literally. The at first more compelling characters played by Monica Dionne and Demian Bichir turn out to be according to Serrano the more pathetic ones. I completely disagree with Serrano, they shouldn\\'t have been treated that way only to serve as marionettes for his lesson to come through...he made sure we got HIS message and completely destroyed their roles that were the only solid ground in which this story could have stood. Anyway, it is after all, a very entertaining film at times and you will probably have a good time seeing it (if you accept to be manipulated by it).'\n",
            " b'This is one of the movies selected to the FIFTY WORST FILMS book by Harry Medved. And while I agree it is really bad, I\\'m not sure it reached the level of wretchedness needed to merit inclusion in the book--but it sure is close enough that I can\\'t fault its mention. The only reason that I would not have included it is because although it\\'s very bad, there are SMALL glimpses of actual entertainment scattered about. The problem is, is it worth slogging through all the awfulness and boredom to find it? I say \"NO\"!!! Avoid this film like the plague! If you don\\'t believe me, read on,....<br /><br />The film starts with Adolph Menjou screening his latest production to a preview audience. They are laughing convulsively--a real problem since the film is a romantic drama! So, aware that his instincts are failing him, Menjou goes in search of someone to give him advice on what people really like. He picks a lady who has nothing to do with the movie industry and blindly listens to everything she says even though she has no idea what she\\'s talking about. So, in other words, millions and millions of dollars are delegated based on this lady who Menjou nicknames \"Miss Humanity\". This idea is stupid and the nickname totally annoying. It gets worse, believe me.<br /><br />Then, the film becomes a giant \"everything but the kitchen sink\" extravaganza, where every few minutes, the action (such as it is) is punctuated by rather random song, dance, ventriloquism or comedy numbers. Ostensibly, the film is a variety show thinly connected by the plot. Oddly, however, the acts are generally just awful and probably won\\'t appeal overall to anyone! After all, in some segments, there is opera, while in others it\\'s Edgar Bergan and Charlie McCarthy, in another it\\'s ballet or modern dance, and in others it\\'s the incredibly unfunny antics of the Ritz Brothers. I honestly find it very hard to believe that all these incredibly divergent styles of entertainment will appeal to anyone--they may like some but hate the rest. Think about it--is there ANYONE who loves opera and ballet as well as the Ritz Brothers?! Frankly, I hate them all (especially the Ritz Brothers) and doubt if my opinion is much different from the average person. Yet, Miss Humanity seemed to like this and thought the average person would like this hodge-podge! As I mentioned above, the Ritz Brothers play quite prominently in the film. A couple times they were MILDLY funny, but most of the time they were like walking, talking migraines! I am a HUGE fan of silent and early sound comedy and think they were perhaps the most annoying comedy team ever. Their antics were far less funny and sophisticated than the Three Stooges and their act consisted mainly of annoying people! In addition, someone gave them a song to sing that is among the most UNINTENTIONALLY funny and obscene songs ever written--as they repeat the same word AGAIN and AGAIN and AGAIN--in fact, this is the entire chorus (it\\'s a euphemism for BOTH a cat and part of a female\\'s anatomy).<br /><br />There\\'s a lot more I didn\\'t like about the film, such as the countless times Menjou said to his talent scout \"Basil, drop it\" (it was funny the first time but not again and again) and the \"Romeo and Juliet\" song and dance number. Don\\'t watch this unless you are trying to watch all 50 of the films in Medved\\'s book or unless you are a masochist--it\\'s THAT bad!<br /><br />PS--A final observation. So far, all but one of the many reviews for this film were either negative or extremely negative--with most scores being in the one to two-star range. So, how does this movie have an overall IMDb rating of 5.4 (as of 1/31/07)?! Occasionally, I think some people are deliberately flooding certain films with overly negative or positive scores to unduly influence the ratings. I observed a BAD Humphrey Bogart recently that actually had a much higher percentage of scores of 10 than CASABLANCA--even though the overall score was still quite low. This doesn\\'t make any sense. Believe me when I say 5.4 is WAY TOO HIGH A SCORE to be believed!<br /><br />PPS--Look close--it\\'s a very young Alan Ladd who is singing (badly) at the piano in Menjou\\'s office.'\n",
            " b\"OK... this show is as perfect as TV gets. As a 1979 HS grad, I can totally relate to both Lindsay and Sam. I was a music nerd back then, but was able to relate with all cliques (one of my best friends was a jock). This series caught my attention when it aired way back when, but upon recent reappraisal, lives up to the highest standard of scrutiny. All the characters are insanely believable yet entertaining. I literally had tears in my eyes at a disturbing number of junctures whilst re-watching this stuff. Not only do I firmly believe that Linda Cardellini was/is maybe the best actress of the current era, but the recurrent themes of fitting in with groups outside one's comfort zone really rang a bell with me. Kim Kelly? Holy crap! I knew her as Donna Hole! And Bill? I pretended at times not to know him, but he proved to be a lifelong friend. The writing and set design on this show are so far beyond the norm as to defy description. I'll always love you Lindsay Weir. Too bad ER sux...\"\n",
            " b\"This is an all time favorite, with endearing characters that take on issues such as the plight of women in the 1800s, bond servants, in essence a summary of a way of pioneer life, showing the reliance on one another in order to survive. In a lighter mode, there is humor, music, danger and intrigue and a growing love between a man and woman who come together out of necessity. I cannot understand why it isn't on home video!? This is a USA made movie, and it's only available on DVD in Spanish with English subtitles from Spain. I give this movie an excellent rating because it captures not only a way of life, but also great acting by well-known celebrities whose characterizations bring the story a sense of reality. I highly recommend this movie to any one who enjoys a dramatic love story, conveying all the emotions without today's graphic gore as a backdrop.\"\n",
            " b'This was a truly amazing film. TCM just played this along with four others for Valentine\\'s Day. While \"Camille\" (What was with Nazimova\\'s hair?), \"The Eagle\", \"Four Horsemen\", and \"Conquering Power\" were all good, \"Son of the Sheik\" was the best for Valentine\\'s Day. The pure raw sensuality that Valentino portrayed was exciting. I\\'ve only been into the silent films for the past fours years, and as I\\'m only 22, one would think I have no appreciation for \"old\" people. However, this film had me online for a few hours finding pictures of Valentino in this film. HUBBA HUBBA!!! It really is a shame he didn\\'t live longer. He very well could have made talkies, as the song I heard him record sounded lovely.'\n",
            " b\"This series was the kind of thing that made TV worth it a quarter century ago. Written by the English novelist Frederick Raphael from his book, it was more than a little autobiographic, and carried the flavour of the 50s and 60s, while avoiding many of the clich\\xc3\\xa9s this period evokes.<br /><br />The TV series was Intelligent, wry, literate, subtle, with brilliant acting.<br /><br />In post-war England, it followed a group of students at Cambridge, with their hopes, affairs, confrontations with life, and, later, disillusionments and achievements. It's impossible to explain how truly intelligent the writing is; this has to be experienced. <br /><br />We NEED it on DVD!\"\n",
            " b'I could only get about 3 minutes into this video. Most of the reason for this is because it is, in fact, a video and not a film. This is an important distinguishing feature, because the use of a video camera here has made the piece look amateurish despite some decent camera work and far above average editing. Everything is there to make this a mediocre film... except the film. A better camera and an actual professional sound crew would have made this video something worthy of the video rental vending machine I got it from. Unless you are a film student and want to view this from the point of view of a director/ editor, then I strongly recommend that you avoid spending any money on this at all.'\n",
            " b'\"Big Wednesday\" (1978) is a film that was made for baby boomers. Writer/director John Milius was born in 1944 and the material draws on a ten year span of his life from the early 1960\\'s to the early 1970\\'s. Aside from needing a span of time to qualify as a coming-of-age saga, it was hoped that the long time span would enable it to connect with the entire range of boomers (birth dates from 1945-1963). Almost anyone born during those years will find things in the film they relate to-even shadow boomers with just the second-hand exposure provided by their older siblings. Younger viewers should enjoy the spectacular surfing sequences and might find the other stuff an interesting history lesson. <br /><br />Milius is one of the so-called young auteur directors of the 70\\'s (Coppola, Lucus, Spielberg, Scorsese, De Palma). Unlike the others he did very little after 1984, the year he released \"Red Dawn\", an embarrassingly moronic and histrionic right-wing propaganda film that alerted an unsuspecting world to his extremist political views. Hollywood insiders already knew about this and the Coen Brothers would use him as a model for John Goodman\\'s character in \"The Big Lebowski\". <br /><br />But \"Big Wednesday\" is his masterpiece and it is unlikely that any other writer/director could have brought this story to the screen this effectively. Unfortunately its surfer subject matter did not draw many non-enthusiasts to the theatre; even though the film is a lot more than surfing, containing a very original universal message about the process of living and changing. Low box office led to a re-edit for pay- television, with the more philosophical content was taken out. The current DVD and VHS are of this shorter version, so if you saw the \"Big Wednesday\" during its theatrical release you will be somewhat disappointed. <br /><br />Structured like a four act play with each transition moving the action ahead a couple of years, \"Big Wednesday\" follows three young surfers in the LA area (Jan-Michael Vincent, William Katt and Gary Busey). Each plays a talented surfer with Vincent\\'s character approaching legendary status. Surfing plays a big part in their lives (Bruce Surtees\\' cinematography provides some of the most stunning views of the sport you are likely to ever see) but much of the film takes place away from the beach; with scenes of parties, the military induction center, Tijuana, family life, and romance (a full range of what growing up in southern California was all about). <br /><br />Milius\\' treatment of surfing is reverential and sometimes even mystical, with a sweeping musical score and a local character (Bear) who is a kind of guru for the sport. In a scene cut from the television version Bear explains the origin and significance of the \"Big Wednesday\" title. Somehow Milius gets all this right and the film transcends what might have been a pretentious exercise in sport glorification. <br /><br />The final scene is truly special as the three main characters manage a convergence for a final day of surfing together, a scene that recalls the freedom and awe of their teenage years, contrasting it with how removed they have gotten from this former way of life. Anyone who has had to choke back their emotions after a nostalgic rush reminds them of what they will never have again, will be moved my this wonderful sequence. <br /><br />Then again, what do I know? I\\'m only a child.'\n",
            " b'I sat down to watch this movie with my girlfriend, who loves cheap sci fi films, expecting to fall asleep at some point. Just when I was losing interest, I began to realize that I was watching a loose remake of \"Treasure of the Sierra Madre\", the great Humphrey Bogart-Walter Huston movie from 1948, one of my favorites.<br /><br />I think the scene where the old man began dancing a jig and laughing crazily after finding the \"precious\" ore tipped me off. Although it was set on an asteroid, the plot was basically the same. The character in the 1948 film who wanted to horn in on their partnership was changed to a woman (Joan Chen) in this movie.<br /><br />Rent both films and see if I\\'m right. I rate \"Precious Find\" a 3 out of 10 by the way.'\n",
            " b'I wish I had something nice to say about this movie. But aside from a few quick shots of Eliza Dushku\\'s boobs, \"Alphabet Killer\" is a dull, hunt-the-killer movie. There are no special twists, no special effects, nothing exceptional or outstanding about the movie.<br /><br />The acting is believable enough but it\\'s no testament to the cast\\'s acting abilities; as I said, it\\'s just straight forward, nothing spectacular had to be done by the actors.<br /><br />The plot was simple. There is a killer that has to be found, so go find him! There are no close encounters with the killer in the movie until the end of the movie. There wasn\\'t a character development of the killer\\'s motif. Heck, there wasn\\'t even development of the heroine\\'s \"disease.\" I didn\\'t get scared, excited, upset, or anything in this movie. All throughout, I was just blah. The movie is based on true events so it was factual, but told in an obviously fictional manner so it felt like taking a course in psychology with Ben Stein as your professor.<br /><br />Save your money. Get this at a Red Box. You know what? Don\\'t waste your time. Watch it when it comes on TV...and watch it as the background ambiance while playing World of Warcraft or as your bedtime going-to-sleep movie.'\n",
            " b\"I realize I am probably going to get flames galore for this comment, and you all have the right to your opinion about my opinion, but hey, I'm entitled to my opinion too. Avatar is grade A crap. That's right, it's crap. I say this for one simple reason: Without the special effects this movie would never, ever captivate and take a hold of audiences like it has in the past week. Ask yourself this one question: If it didn't have the effects, the Navi plugging their hair into the trees like it's a damn broadband jack, mech suits(just like the ones in Matrix Revolutions) and barely futuristic ospreys, would you care about this movie at all? It's a truism when they say this movie is nothing more than Dances with Wolves in space. Some people may argue back that Star Wars borrowed from Hidden fortress, but at least it had enough compelling plot points to make it look different, such as I don't know... the force? The Death Star? Outer space? A location that has NOTHING at all to do with Earth? This important set of points clearly differentiates Star Wars and Hidden Fortress. But The difference between Avatar and Dances with wolves is... CGI. This CGI may be pretty but it cannot ever substitute for story and plot development. Speaking of, the characters save but a few are either very bland or stereotypes. The worst part is the story and the movie gives us no reason to care about the characters. You know what? I'll go one step further and say that the only difference between Avatar and a Star Wars prequel is this: Avatar has an environmental story that we can relate to. That's it. True, the action scenes in Avatar are well done, but hell, the action scenes in the Star Wars prequels were also arguably well-done. Still, there's that nagging lack of story development. Avatar is a huge let-down and doesn't belong on the best-of list of anybody with common sense.\"\n",
            " b'Bookstore employee Virginia (Jenny Wright) reads a sick if oddly poetic horror story by an author named Malcolm Brand and in so doing resurrects the demented creep, who kills off real people in the same fashion as those in his book. Virginia has a tough time convincing anybody, starting with her detective boyfriend Richard (Clayton Rohner), that she\\'s not just some fruitcake and that her information actually has merit.<br /><br />Genuinely interesting and rather imaginative terror film that could possibly satisfy both the audiences that desire creative writing and those who crave blood (even if the blood in this movie doesn\\'t exactly look real). Well acted by Wright and Rohner, with some unfamiliar but competent players in the supporting cast, and featuring decent effects work and gore. Effects expert Randall William Cook himself plays the part of Brand and does a creditable job. Overall, \"I, Madman\" (named \"Hardcover\" in the theatrical trailer) is a reasonably impressive piece of work that I would recommend that others seek out.<br /><br />For once, this is a movie that doesn\\'t show the gore merely for shock value but incorporates it as a necessary element to show the madness of the villain.<br /><br />Written by David Chaskin, whose credits also include the first \"Nightmare on Elm Street\" sequel.<br /><br />8/10'\n",
            " b'None of the British mini-series that found their way across the Atlantic stand as a greater achievement than \"The Glittering Prizes.\" Not \"I: Claudius,\" not \"Brideshead Revisited,\" none of them.<br /><br />Frederic Raphael\\'s script strikes just the right combination of warmth and acidity with a note of genuineness that we don\\'t always associate with this writer. The performances are uniformly apt. Many of the young cast would go on to solid careers, yet few of them would ever give greater performances than they do here.<br /><br />Undoubtedly the TV technology of the period may appear quaint, but that certainly hasn\\'t held back \"I, Claudius.\" I have seen this series again since the first American run in 1977, so I\\'m not relying only on dim memory. The writing and acting still hold up.<br /><br />So many of these mini-series are really second-rate, sometimes dreary, but that\\'s what average means, average. \"The Glittering Prizes\" is among a handful of really great pieces of television, and we are waiting impatiently for the BBC to complete excavation of the archives and place this wondrous series before a new generation of viewers.'\n",
            " b'A virus is killing young girls from 15 to seventeen, right before they die they go through a Near Death Happiness or NDH, if you will then die. Once dead they rise again as zombies The government has commissioned the \"Romero re-kill Squad\" to dispatch said zombiefied school-girls. There\\'s also illegal re-kill teams to pick up some slack. Sad to say, but this movie didn\\'t really work for me. Satire is more then merely naming something after Georg Romero or having a chainsaw weapon after Bruce Campbell (shouldn\\'t it be \\'Ash\\'s Righ Hand\\' anyway). It also tries to tell us a message. What that message is, who the hell knows. It tries to be a love story between an middle-aged man and a under-aged school girl, this too is misguided and contrived. The gore will keep your attention for maybe 10 minutes at the most before you keep checking your watch wondering when this mis-fire will finally end.<br /><br />My Grade: D+ <br /><br />DVD Extras: Uncut version, other then that just a Theatrical Trailer'\n",
            " b'In the early 1930s Alfred Hitchcock did a historic costume movie called WALTZES FROM VIENNA about the Strauss Family. He obviously never enjoyed such films (he never tried musicals or pseudo-biographies again). But it was the first of three attempts he made to do a historic film. While none were total disasters, none is usually counted among his best films. One can\\'t deny this is fair with WALTZES FROM VIENNA but JAMAICA INN should not be totally denied as being a good Hitchcock film.<br /><br />It was his first attempt to do a story from novelist Daphne Du Maurier. This would also be part of the reason for JAMAICA INN\\'s low rating - the following year Hitch would do Du Maurier\\'s REBECCA, as his first Hollywood film, his first film with David Selznick, and it would be his only film to win the Oscar as best picture. Without trying to rip down REBECCA, it\\'s higher production standards outclass JAMAICA INN. <br /><br />JAMAICA INN would also be the first of two films that Hitch made with Charles Laughton. Given that the other was THE PARADINE CASE, neither of them are in his top films. Hitchcock would always say that he always found Laughton a very difficult actor to direct, and claim that Laughton insisted on trying to base the character of Sir Humphrey on the walk he had. Supposedly his mincing little walk was that of a public school boy who had peed in his pants. Yet his regency baronet and his corrupt Old Bailey Judge were both excellent performances, and are among Laughton\\'s best characters.<br /><br />The film is about wrecking during the Regency period (roughly 1810 to 1837). As such one can see it as a kind of continuation of George Arliss\\' DR. SYN (later remade with Patrick MacGoohan as THE SCARECROW OF ROMNEY MARSH). That was set in the 1770s - 1780s. But the issue of the wreckers is handled differently. The Arliss and MacGoohan films stress the economic unfairness of the revenue anti-smuggling laws, and how they impact on the locals who support the smuggling ring. Arliss, in his trial scene, reminds the jury how he helped his neighbors. MacGoohan\\'s followers insist on chanting a sardonic mantra, \"THE KING\\'S LAW, THE KING\\'S LAW\", when discussing the revenue laws. But Hitch follows a pro-law and order point of view. The wreckers have murdered people and are targeted by the government for destruction. Robert Newton is sent as their leading agent to find out the smuggler\\'s secret.<br /><br />Newton (here young, vigorous, and not the slave to alcohol he became a decade later) learns that the key is at Jamaica Inn, a desolate, ill-famed hostelry, run by Leslie Banks (this would be Banks\\' second film with Hitchcock - he\\'d been in the original THE MAN WHO KNEW TOO MUCH). Banks does not like strangers too much, but he has his hands full - his niece Maureen O\\'Hara has shown up in need of a home and job. O\\'Hara notices the comings and goings of certain locals at the inn, and so does Newton. Eventually they join forces to solve the riddle. They find only one ally: the local magistrate and baronet, Sir Humphrey. Laughton\\'s regency buck is far better than the mincing step story suggests. He is a cultivated type surrounded by boobs, and he lets us know what he is up against. His performance, supported by Newton, O\\'Hara, and Banks, makes the film.<br /><br />But the best dramatic moment in the film is by Stephen Haggard, the youngest of the smugglers. When told he will be hanged, he gets hysterical, screaming about he\\'s too young to die. Even the last scene with Sir Humphrey is not quite as effective as that moment. A scene like that should have guaranteed a lasting career for Haggard in film. Sadly, if you look up his filmography on this board, you will find he was (like Leslie Howard) a war casualty in 1943.'\n",
            " b'I expected this movie to be something similar to The thing with Kurt Russel, which was a pretty good movie. Unfortunately the Ice station was degrading exponentially as it approached the end. Two sons of Satan meeting in the Antartics and playing around some pentagram altar is a bit below my taste of a good screenplay. It was a complete waste of money and time to see this movie, so I advise everyone to spend them somewhere else.'\n",
            " b\"the friend who lent me the DVD warned me, but it beat all my expectations of lowliness. this film is unspeakably bad. don't go and see it, take my word for it:<br /><br />* it has no plot.<br /><br />* the 'actors' suck huge rocks. really huge.<br /><br />* travolta doesn't even try.<br /><br />* the most elaborate dialog revolves around the sentence 'grumble mumble'.<br /><br />* special effects are the worst ever, because they pretend to be serious.<br /><br />* costumes and characterization make space: 1999 look excellent<br /><br />i could go on and on and on, but i'm beginning to feel sick just for having to think about it.\"\n",
            " b'I am not a fan of Ang Lee. I hate crouching tiger and I do not want to talk about hulk. I am a fan of shanghai. The setting appealed to me. There is war, there is electric tram, there is cheongsum, there is nothing more i can ask for. The film is based on a famous novel of Zhang Ai Ling, so not much credit for the plot should go to Lee.<br /><br />It was mature direction which stood out. It never look at my watch a single time while watching it. It shows experience and skill in how the story developed. I cannot think of any irrelevant or redundant scenes. Scenes like Yee Tai Tai meeting Mai Tai Tai and the six of them being executed were things we can picture and were clich\\xc3\\xa9. Lee did away with these scenes.<br /><br />Casting was another strength of Lee. Tang Wei is a like a ghost of the past. She should be living in the forties. She is too natural and no matter in what attire, she is stylish and elegant. I can never forget the look of Tony Leung during the last sex scene. Those sex scenes were battles. It made me pondered who was the prey and who was the predator. In a nutshell, it was good acting.<br /><br />I gave it 8/10. One point missing for the lack of meaningful and powerful dialogues. Some lines could be improved on. The last point for emotions. It did move me a bit, but I thought with such a plot Lee can actually bring tears to my eyes. I believe there should be more character development on Mr Yee. There should be a scene of him interrogating one rebel in the middle of the film, rather than him describing it. After witnessing it, we can relate the manner of the interrogation to the sex scenes, which will make those scenes more powerful.<br /><br />I was surprised by the element of humour which was present in the film. Wrapping this up, it is something you should watch in the theater, not anywhere else.'\n",
            " b\"It's like they put all of the biggest clich\\xc3\\xa9's together and made a movie out of it. Every thing is wrong about this film: stereotypical portrayals of Russian villains, the mafia and ghetto thugs (and kick-boxing champions). Unbelievable coincidences like the fact that Dr. Wu has exactly the same bag as the burglars (so of course the bags are mixed up). And in the same scene Dr. Wu is first threatened with a gun, kicks the gun out of the mobster's hands and then starts to fight with the other mobsters, while no one thinks of pulling a gun and simply shoot the good ol' Dr.<br /><br />Painstaking efforts at acting, especially in the scenes that are meant to be sentimental and/or romantic. And clich\\xc3\\xa9 up on clich\\xc3\\xa9... The fighting scenes are of the most boring kind; if this guy is a kick-boxing champion, then kick-boxing must be very lame...\"\n",
            " b\"Recap: Life is looking good for Robinson and his fianc\\xc3\\xa9e Elizabeth. But one day everything changes. Elizabeth is out riding in the hills and witnesses the brutal murders of a whole group of young women by trafficking mobster Dolan. Dolan is known for getting rid of all competition and threats but Elizabeth is determined to witness. Despite getting protection from the FBI Dolan manages to murder her and Robinson goes on a quest for revenge. But Dolan's car, a Cadillac, is a fortress in itself, armored and bulletproof, so Robinson must think of something special.<br /><br />Comments: A rather bad movie that actually is rather hard to put into a genre. It got a little action but not enough to make it an action. It is probably supposed to be a thriller, but it doesn't got much of suspense. And it certainly isn't a romance, comedy or drama. It got a little of everything, but it is nothing in the end.<br /><br />The story is very simple and divided into three parts. First, the setup. Show the happy couple, kill the girl and give proper motivation for Robinson's quest. Then, the plot. This is where Robinson plans his special revenge, which plays out by him working as a road-worker. Not very exciting at all. And last, the revenge. Which is not very exciting either, because it is very single sided. Oh, I'm sure Robinson got a kick out of it, but to watch it. Nah.<br /><br />Unfortunately, but not very surprising, the acting is nothing to remember either. Well, I suppose there wasn't much to do with the material at hand, but still. The cast is mostly unknown, to me at least, with the exception of Slater. I have higher expectations on him, although his recent work doesn't promise much. Vaugier was the only one that showed some promise, and I hope she gets another shot.<br /><br />In conclusion, not a good movie, but not too bad either. Nothing to remember, and there are many better movies out there.<br /><br />4/10\"\n",
            " b'The wife and I saw a preview of this movie while watching another DVD and thought \"Jon Heder, Diane Keaton, Jeff Daniels and Eli Wallach, it\\'s gotta be better than summer reruns, so I ordered it from local library. Well, any episode of \"Lawrence Welk\" would bring more laughs than \"Mama\\'s Boy\". I actually felt sorry for the actors for having to read the script in the privacy of their own homes and I couldn\\'t imagine what it must have been like for them to have to actually say their lines in front of a camera. Perhaps, at least, maybe next time they\\'re offered a movie of this sort, they\\'ll \"Just Say No!\\' A one anna two....'\n",
            " b'This series has its ups and occasional downs, and the latter is the case, here. There\\'s an agreeable amount of spatter, with an inventive implementation of the Baby Cart\\'s weapons, but the editing film is a seriously disjointed, the film-making itself rougher than usual. At times, the action slows to a crawl as the camera follows the wordless wanderings of the \"cub,\" who nearly gets lost early on. All in all, disappointment.<br /><br />That said, there\\'s a spaghetti eastern quality to the music and action that may win the approval of dedicated viewers. This installment spends much of its time following the minor misadventures of the little boy, who begins to stare into the abyss of death his father opened for him.'\n",
            " b'I watched this movie, and hoped for something to get better the entire time. What is so great about a guy with no emotion? *yawn*<br /><br />You never see Alex show emotion for anyone other than his son. Yeah, I know that this is why his son is the only one to cause him to lose his temper (if you can call it that), I get it.<br /><br />Characters are undeveloped, relationships aren\\'t given enough time to be understood. In one scene Sarah says they won\\'t fall in love, and the next time we see her she\\'s talking about how his death really shook her up because they were so close? Logic synapses abound in this film.<br /><br />It\\'s like someone watched Boogie Nights and wrote this part to mimic Little Bill. Even the scene where he \"loses his temper\" is the same as when Little Bill shoots his wife, down to the facial expression (or lack thereof). Yes, William H. Macy is good at portraying a man without emotion - been there, done that - can you say Magnolia?<br /><br />This movie didn\\'t only lack emotion, it lacked substance, a good script, developed characters, and a plot. And it certainly lacks my recommendation. :)<br /><br />~A~'\n",
            " b'This is without a doubt the worst adaptation ever. Im sorry but british comedy is only funny when its *British*. The American humour aint at all funny and the characters are weak to say the least. The only good point about this show is Kryten......only because its the original. An absolutely terrible tv show, if you like Red Dwarf then watch the original.<br /><br />'\n",
            " b'Satyricon is less a movie and more a series of complex images and actions. It is too long and tedious at times but ultimately fascinating. The costumes and the sets are spectacular, and some of the sequences are immensely entertaining. But, then again, the sequences are the problem. I first learned of the film while studying Latin and therefore was aware of the fractured nature of the original work and was prepared for the same in the movie, and while some of the action is provocative a fair amount of screen time is just, well, rather dull--its hard to follow and has no translation to modern times or sentiments, still through all the meandering there are moments--moments that are visually stunning, inspire awe, and feel like nothing from this world.'\n",
            " b\"This awful movie was really painful to watch. A small group from a wagon train linger behind to repair a broken down wagon in hostile Indian territory. They spend most of their time arguing and filibustering and take forever and a day to repair the wagon and attempt to catch up with the wagon train - I felt like I was watching Gilligan's Island. Any excuse to stay behind and mingle with the Indians was used to prolong the situation, (*spoiler*) including a slender pregnant woman who wasn't due anytime soon going into labor 3 days later (*spoiler* - NOT!...if you couldn't see this lame plot device coming, you must be living in a cave). The agony of this movie was painfully protracted. Of course, they have 4 cases of 25 Kentucky Rifles each (100 rifles) that must get through...or must they? Hmmm, why don't we show these rifles to the Indians and see if they want them? For that matter, why don't we see if the Iranians would like a few nuclear weapons? Yes, there is a lot of moralizing here, and if you don't know by now that giving your best weapons to your worst enemies because you are afraid of them is not an intelligent thing to do, then this movie will hammer that obvious point home and do it with a psychopathic vengeance that is firmly rooted in the belief that every dead horse requires a really good beating! But, then again, with the size of the wagon train and the firm belief that these rifles are excellent protection against hostile Indians, it would have made much more sense to distribute 4 or 6 rifles to each wagon for protection than to leave these vitally necessary items behind packed in crates on a broken down wagon. It would serve these dolts right if their entire wagon train was slaughtered by Indians. But then we wouldn't have a movie, would we? That would have been a blessing.\"\n",
            " b\"Warning: Spoilers Galore!<br /><br />Tim Burton remaking this sui generis movie is about as sensible as remaking Psycho - oh, that's right, some idiot already did that - I rest my case.<br /><br />Movie opens with chimpnaut blundering a simulation, proving he's not that smart from the outset. Marky Mark appears in shot without his characteristic underpants showing, then is turned down by a plain woman who prefers the touch of chimpanzees.<br /><br />The perfunctory establishing shot of the space station orbiting Saturn for no apparent reason, interior of ship a-bustle with genetic experiments on apes. Must we travel 1,300 million kilometers to Saturn to conduct these experiments? The special effects team decrees it.<br /><br />Marky's chimp gets lost in that staple of 60s sci-fi cinema - the Time Warp. Marky then demonstrates the space station's mind-boggling security ineptness by stealing a pod without anyone noticing, while simultaneously demonstrating his abject stupidity in mounting a deep-space rescue mission into a worm-hole for an expendable test chimp, with a million dollar vehicle with limited fuel and oxygen supplies.<br /><br />Before anyone can say `Pointless Remake' Marky has surfed the worm-hole, crashed on an alien planet, removed his helmet without any thought to the lethality of the atmosphere and is being chased through a sound stage that almost resembles a lush rainforest, if it weren't for the kliegs backlighting the plastic trees.<br /><br />Surprise! It's APES doing the chasing - or at least, it *would* have been a surprise if no one saw Planet Of The Apes THIRTY-THREE YEARS AGO.<br /><br />Since Marky Mark did not get to show his pecs, take down his pants, or bust his lame whiteboy rap, he was characterless. Michael Clarke Duncan's gorilla teeth being inserted crookedly helped immensely in establishing *his* lack of character. Helena Bonham-Carter (aka irritating chimp activist), at a loss without a Shakespearean script, did a fine job of outdoing both Marky and Clarke as Most Cardboard Cutout. Paul Giamatti, the orangutan slave trader, secured the role of token comic relief and interspecies klutz. Though I have grown bilious in hearing puns relating to this movie, one review headline captured the essence of this Planet Of The Apes `re-imagining': `The Apes Of Roth'. While everyone else minced about looking like extras from One Million Years BC or Greystoke, Tim Roth, as Chimpanzee Thade, chews massive amounts of scenery and hurls kaka splendiferously. As entertaining as his portrayal of the psychotic Thade was, his character lacked a behavioral arc: Thade is mad when we first meet him... and he's pretty much at the same level of mad at film's end. Nice twist.<br /><br />The original POTA (1968) featured a leading character, Charlton Heston's Taylor, who was so disenchanted with mankind that he left earth for space with no regrets - yet as that film progressed, Taylor unwittingly found himself locked in a battle to prove mankind's worth - as their sole champion! The original film was ultimately a tale of humiliation, not salvation: when Taylor discovers the Statue of Liberty, he is forced to realize that his species had NOT prevailed. Is there anything that cerebral or ironic to Marky Mark's Leo? Or Roth's Thade? No, but there's lots of running.<br /><br />The slogans cry: Take Back The Planet .but it's the APES' planet. In this movie, humans and apes crash-landed here together, the humans having degenerated to cavepeople, allowing the apes to acquire speech and sensual body armor; the apes DESERVED to inherit the planet! Along comes Marky Mark, in true anthropocentric arrogance, taking it for granted that humans HAVE to be the apex predators, simply because they're there. `Taking it back' is as ludicrous as apes landing here in 2001, complaining, `A planet where men evolved from APES??!!' and then causing trouble with their overacting and hairy anuses.<br /><br />Heston was cast in the 1968 POTA because he had established his reputation as a maverick: he WAS Ben-Hur, Michelangelo, Moses! To cast him as the mute, dogged animal in an alien society was to stupefy an audience's expectations: how crazed must a world be where Our Man Charlton cannot command respect? Marky Mark has currently only established that he has tight underpants.<br /><br />Though Heston was denigrated constantly by the ape council, he dominated the screen with his charisma and stupendous overacting. When Marky Mark tries to instill fervor in the mongoloid humans, it's like that unpopular guy in school suddenly being made classroom monitor, who tells you to stop drawing penises on the blackboard and you throw a shoe at him. Burton tries to elevate Marky to humanity's icon, but he comes off as a chittering deviant. In the original film, the apes deem Taylor a deviant, yet he was, to audience and apes alike, an icon of humanity. That irony again.<br /><br />It was apt that a man who elevated scene-chewing to an acting technique - Heston - should play the father of this film's primo scene-chewer, Thaddeus Roth. As Roth's ape-dad, Charlton utters his own immortal lines, turned against the HUMANS this time, `Damn them! Damn them all to hell!'<br /><br />The movie gets dumb and dumber towards the end. While Thaddeus is giving Marky an ass-beating lesson, a pod descends from on high with Marky's chimpnaut in it. Apes demonstrate their hebetude by bowing in obeisance to this incognizant creature, while Marky proves his own hebetude by muttering, `Let's teach these monkeys about evolution.' Firstly, they're not monkeys, you ape! Secondly, it was genetic tampering and imbecilic plot fabrications which brought the apes to this point, not evolution. And what you intend to teach them by blowing them away with the concealed lasergun is called misanthropy, not evolution.<br /><br />Giving away the twist ending would only confuse viewers into believing that Estella Warren's half-nekkid role was actually integral to the plot (be still my pants.).<br /><br />No matter that he was humankind's last underpanted hope; in the end, cop apes take Marky away to Plot Point Prison where he was last heard ululating, `It's a madhouse! A MADHOUSE!!...'\"\n",
            " b\"This film takes you on one family's impossible journey, and makes you feel every step of their odyssey. Beautifully acted and photographed, heartbreakingly real. Its last line, with its wistful hope, is one of the more powerful in memory.\"\n",
            " b\"Nora is a single mother-of-two who still wants to live the life of a young artist in the 1970s, as do her friends, a group of writers, singers and actors. The \\xc2\\x91free love' philosophy isn't quite out of the system \\xc2\\x96 and Nora didn't count on falling in love, particularly with a junkie. Hazlehurst won her first of two AFI Awards in the space of four years for her amazing portrayal of Nora, who makes sure she does the right thing by her children, but falls in love with junkie Javo (Friels) at the same time. Garner \\xc2\\x96 who would later costar in films such as LOVE AND OTHER CATASTROPHES and STRANGE PLANET \\xc2\\x96 is well-cast as Nora's pre-pubescent daughter, and Caton (perhaps in readiness for his role as host of the lifestyle program HOT PROPERTY in 2000???) appears as a bearded painter. Early effort by director Cameron is a winner; he went on to make the award-winning miniseries MY BROTHER JACK among his later projects. But it's the stunning delivery by Hazlehurst which brings to life the intelligent, searching script, based on Helen Garner's award-winning novel.\"\n",
            " b\"This movie became a cult classic in Norway, described as one of the worst Norwegian movies ever made, so when I took the courage to watch it, my expectations where already very low. But even so, after I managed to get trough the whole movie I couldn't help but wonder how the actors willingly would humiliate themselves like this? It's not just the thing that it's really boring, and without a story, but it seems like they have tried to compensate with as much kinky sex as possible. This one sex scene lasted for about 7 minutes, no music, nothing but humping. Right... Acward... Fast Forward and... Urinating! Nice... Well if you are into that sort of thing, this movie still wouldn't be anything for you. Even porn have better storyline than this.<br /><br />A solid 1, and come on, don't vote this 10 because both you and I know it's not worth it. The only place this film belongs is in the trash, or on IMDb's bottom 100 list.\"\n",
            " b'I actually had high hopes for this movie when watching it in the cinema at a film festival in Copenhagen, the director Amirkulov was also present at the viewing, so it felt like a special occasion. And it surely isnt every day one is given the opportunity to shake a director from Kasakhstan in the hand. The movie itself revolved around some historical battles and politics which are really unknown for me, and even though mr Amirkulov pointed out before the film began that we in the audience could expect some obscure historical talk in the film, i was surprised about the lack of many things in the movie. A lot of ideas are tested in the movie, but everything feels like the movie tried so hard to be great, that it fell apart. Bad editing, and often dull cinematography made the interest fall apart. I would suggest finding some reading material about the historical facts about the fall of Otrar, than wasting 3 hours watching this overlong film.'\n",
            " b'I rented this film on accident; I thought I was renting The Hills Have Eyes part 1. That didn\\'t turn out to matter though, because nearly the entire contents of the first film have been conveniently spliced in to this flick. A double feature? More like ninth circle of flashback hell.<br /><br />Now, film-hounds will tell you that the flashback is a weak cinematic technique but that a skilled director can sometimes pull it off. These people assumed the dreamer was bipedal. When a DOG starts having flashbacks... My God. I was so young.<br /><br />My rating: 2/10. A documentary, perhaps, on how a horror films can go wrong, akin to the \"Teenagers: Don\\'t Drink and Drive\" flicks shown at some high schools. Avoid.<br /><br />'\n",
            " b'Having never seen a silent film before, I wasn\\'t sure what to expect going into it. Buster Keaton\\'s \"The General\" is set in 1861, the year the American civil war broke out. Like all young men at the time, the film\\'s main protagonist John Gray (Keaton), a railroad engineer tries to enlist in the army but is denied entry as he is deemed more valuable to the southern cause as an engineer. Subsequently, he is dismissed as a coward by his girlfriend, Annabelle. It so happens that one day soon after, the northern union spies steal his train.....with Annabele on board and it\\'s up to Johnnie to go deep into the enemy territory to recapture the engine and the girl.<br /><br />Buster Keaton who also co-wrote and co-directed the film is utter perfection as the title character. Not only are his facial expressions when he realises that something has gone wrong on the train hilarious but one must also give him credit for doing most of his own stunt work! Also deserving of praise are the film\\'s three composers whose score is memorable and never feels repetitive.<br /><br />Overall: 8/10 and a great first film for anyone who wants to broaden their horizons by watching films made in the \"pre-talkies\" era.'\n",
            " b':Spoilers:<br /><br />I was very disappointed in Love\\'s Abiding Joy. I had been waiting a really long time to see it and I finally got the chance when it re-aired Thursday night on Hallmark. I love the first three \"Love\" movies but this one was nothing like I thought it was going to be. The whole movie was sad and depressing, there were way to many goofs, and the editing was very poor - to many scenes out of context. I also think the death of baby Kathy happened way to soon and Clarks appearance in the movie just didn\\'t seem to fit. It seemed like none of the actors really wanted to be there - they were all lacking emotion. There seemed to be no interaction between Missie and Willie at all.<br /><br />I think the script writers should have went more by the book. It seems like every movie that\\'s been made so far just slips further and further away from Janette Oke\\'s writings. I mean in the movie they never mentioned a thing about the mine and the two boys or Clark getting hurt because of it. And I think Missie and Willies reactions to Kathy\\'s death could have been shown and heard rather than just heard.<br /><br />Out of the four movies that have been made so far I\\'d have to say that Love\\'s Abiding Joy is my least favorite. I hope with the next four movies that more of the book is followed and if Clarks character is in them I hope he\\'s got a bigger part and I hope his part isn\\'t so bland. I also hope there is more of Scottie and Cookie and maybe even Marty but who knows what the script writers will have in store next.'\n",
            " b\"Dan Katzir has produced a wonderful film that takes us on a roller-coaster ride through a real romance set in the troubles surrounding modern Israel.<br /><br />For anyone who's ever been in love, the film brings back the uncertainties, the insecurities and heartache that make love so bitter-sweet. The atmosphere of fear and isolation that came with the difficult times in Israel at that time just serve to intensify the feeling. Instantly, you are drawn in to Dan's plight, and you can't fail to be deeply moved.<br /><br />You can't write drama and passion like this - the contrast between the realities of Dan's desperate, snatched relationship with Iris, and the realities of a state in turmoil make this eminently watchable. If you have an ounce of passion, and have ever been in love, see this film.\"\n",
            " b'wow, i\\'ve seen something worse then cena\\'s wrestling, his acting! wow....don\\'t watch the marine...i went for the laugh factor of seeing cena play in a movie...but it wasn\\'t worth it...they tried being funny, but quite frankly it was just pathetic....there were 43 explosions for crying out loud! bad acting anyone? when his wife thinks he dies, she doesn\\'t even changer her facial expressions...she just shrugs it off like it\\'s no big thing.<br /><br />a very very stupid plot....an ex marine goes to a gas station with his wife...but little does he know...some jewel thief\\'s are in that exact same gas station! they steal his wife, need her as a hostage, though they didn\\'t really....need a hostage at all. and they walk through a forest, while cena gets whacked in the head with a fire extinguisher and a plank of wood for the only laugh factors of the film.<br /><br />so we end off the film, with 20 explosions, and his wife chained up in a truck falling into a lake! and then...cena has an epic battle with the main villain everyone thought was dead! after 5 more explosions and much more crappy acting later, he beats him up and the whole place blows up with a huge explosion....he dives in for his wife....who is obviously dead at this point, brings her up, and saves her somehow....and in an ironic twist, john tritan says to his wife \"shoulda gone to da beach\" ohohohoh, hilarity ensued.<br /><br />i truly want my money back, plus some extra cash just for how bad it was'\n",
            " b\"Though not in the whole film, Andy Griffith again plays his role best in this CBS tv-movie. The plot is easy-Griffith's character dies and his last wish is that his wife and kids scatter his ashes is the place he named (Mountains Somewhere). Though it will never be seen on TV and never be released on video, if you do get the chance to watch this--TAKE IT.\"\n",
            " b'Well, I\\'ll start by admitting I\\'m not a John Ford fan. (I watched \"The Informer\" only because I\\'m trying to work my way through a list of the \"greats.\") So if you are, just move along, \\'cause you\\'re not going to agree with me.<br /><br />What an overwrought and dated piece of silliness this is! I will say that there is a good idea for a movie here (it made me think about how few films there are about the Irish Revolution) but, as usual, Ford is determined to bury it under over-acting and cheap sentiment. I suppose it\\'s somewhat interesting to watch for a while in order to see the less-than-seamless transition that was being made from the silents to the \"talkies\" -- the acting styles of some of the principals have that overbroad quality endemic to early films and movie does feel as if it might play better with title cards than spoken dialogue. (Of course, title cards would prevent Ford from restating every bit of emotion six times.) What dialogue there is usually has a \"They\\'re always after me Lucky Charms!\" quality that is aggravated by the fact that each actor seems to have been allowed to use his or her own personal version of an Irish accent. Of course, as bad as they are, the accents are helpful in reminding us we\\'re in Ireland because the sets mostly look as if they were dragged in from from some German expressionist piece being filmed on the next soundstage over. (It feels as if, with an eagle eye, you might see some villagers off to torch Dr. Frankenstein in the background.)<br /><br />Techniques change. Tastes change. So I won\\'t go off on how crazy it seems that this film was so acclaimed in its day. But it\\'s not one of the classics that hold up --- more just \"fair warning\" about the kind of over-simplified malarkey to which Ford was going to devote his career.'\n",
            " b'Pretty accurate account of the both greatly admired and violently despised, depending on which side of the fence your sitting on, legendary Cuban, even though he\\'s from Argentina, revolutionary leader Commandante Ernesto Che Guevara, Benicio Del Toro.<br /><br />The film \"Che\" starts with Che Guevera on the verge of addressing the UN on the afternoon of December 11, 1964 in his first official trip to the USA as a Representative of the Cuban Government. We see Che being interviewed by CBS TV reporter Lisa Howard, Julia Ormond, about how he and his good friend and now Cuban Premier Fidel Castro, Demian Bichir, were able to pull off the impossible! In them taking over Cuba against overwhelming odds in just two short and bitter years of bloody hit and run guerrilla fighting. The movie switches from high contrast and newsreel-like black and white to vivid color as were shown the circumstances that lead Che, as well as Fidel, to the exalted positions that they now occupy.<br /><br />It wasn\\'t an easy climb to the top that\\'s for sure as we see Che together with Fidel Castro and about 80 Cuban Revolutionaries hit the beaches of South-Western Cuba, on the morning of December 2 1956, from their rusty dinky and leaking boat \"The Gramna\". Before they know it Castro\\'s men were ambushed by Bitista\\'s-the then Cuban Dictator-soldiers with only about a dozen, including Che & Fidel, surviving the carnage. Short of men arms and ammunition the Cuban Revolutionaries, calling themselves \"The July 26th Movement\", in a series of hit and run attacks, brilliantly planned and executed by Che, against the Cuban Government troops establish a foothold in the impassable Sierra Maestra Mountains. It\\'s in the Sierra Maestra\\'s where the revolutionaries gain in strength by recruiting the local peasants, who have no use for Bitista, into their now swelling ranks. <br /><br />It\\'s now the late fall of 1958 and Che-now Fidel Castro\\'s right-hand man-despite his acute asthmatic condition, he\\'s always falling behind and passing out during the fighting because of it, ends up leading his men to victory in the final stages of the Cuban Revolution. Bitista and his cronies in the government army and Cuban police seeing that the end is near, with them facing long prison terms or the firing squad, flee the country just before New Year\\'s Eve 1959. It\\'s between these flashbacks that we get to see what is considered by many to be Che Guevara\\'s finest moment! Standing at the podium of the UN that just hours before was almost hit by a bazooka shell, that landed harmlessly in the East River, fired by anti-Castro Cubans Che laid out the principles behind the Cuban Revolution that he was so proud to be part of. Like it or not Che\\'s flamboyant and no holds barred, in his dedication to foment revolution all across the South American Continent, even had his most bitter critics, among the UN delegates, stand up and cheer!<br /><br />The movie \"Che\" tries to be neutral in what it wants us to think of Che but comes across a bit disingenuous in overlooking, or air brushing out, most of the serious accusations of lynch mob-like show trials and summery executions, of members and supporters of the now ousted Bitista Regime, by Castro & Che\\'s out of control guerrilla army that-in early 1959-were floating around at the time! The film \"Che\" stopped short or ended just as, which they were comically known back in those days, the \"Smith Brothers\" Castro & Che took power as well as revenge against their defeated enemies. It\\'s then that Castro Che & Co. showed their true colors, Deep Commie Red, in what they planned for the Cuban people that they just \"liberated\". A Soviet style dictatorship that was just as repressive and brutal as the one that they just replaced!'\n",
            " b'Absolutely enjoyable singing and dancing movie starring Frank Sinatra and gen Kelly, as well as Kathryn Grayson.<br /><br />The film won and Oscar for George E. Stoll\\'s score, and it garnered nominations for Best Picture, Best Actor for Kelly, and Best Cinematography, as well as a Best Son nomination for \"I Fall in Love Too Easily\" sung by Sinatra.<br /><br />It was a cute story about Kelly helping his pal Sinatra get a girl and falling in love with her himself. The lovely Grayson (The Toast of New Orleans) dazzled us with her singing, and we had a lot of great songs and dance routines by Kelly and Sinatra, as well as the artistry of pianist-conductor Jos\\xc3\\xa9 Iturbi.<br /><br />A classic Hollywood music from an era gone by.'\n",
            " b'CITY HALL is a somewhat mixed bag. Part vignettes of NYC political life, and part moralizing tale. Al Pacino, a Dukakis-esque Boss with Presidential dreams, gives an oft times sullen or subdued performance. There\\'s a couple times when he chews the scenery, and in the case of CITY HALL, this is where he shines. John Cusack gives a subdued and generally flawless performance, without going into caricature of a New Orleans dialect, or sliding into melodrama during the films climax. Danny Aiello as a burrough political chief, is also very good. I love showtunes, too.<br /><br />The major problem with CITY HALL, and it is a good movie in many ways, is the general feeling of a lack of momentum. It comes off more like a documentary, than a motion picture. We see the action or follow the story from a detached perspective, and naturally, the viewer doesn\\'t become involved. When the viewer doesn\\'t get involved to a certain degree, they become apathetic towards the characters, and eventually, the plot.<br /><br />This tends to alienate, and what should have been a riveting, detail divulging finale, came off as a \"Hmmm...uh...okay.\" They say you \"Can\\'t fight city hall,\" as the tread worn cliche goes. Yet, it still can\\'t stop you from thinking what might have been, if they had just tightened up the screenplay and pacing of this movie.'\n",
            " b'A brutal western morality tale starring Henry Fonda as the \"mayor\" of a tiny frontier town whose courage is tested when deranged outlaw Aldo Ray runs rampant burning buildings, raping saloon girl Janice Rule and killing anyone who stands up to him. Directed by the efficient Burt Kennedy and based on an early E.L. Doctorow novel, WELCOME TO HARD TIMES isn\\'t great by any stretch, but it is involving and features some great acting. Fonda, Keenan Wynn, and Warren Oates are excellent. The great Janis Paige sings a couple of Christmas songs. Highly trained actress Rule affects an Irish accent like a highly trained actress. Ray, in a nearly silent role, is suitably nasty.'], shape=(100,), dtype=string)\n",
            "\n",
            "========================================================================================================================================================================================================\n",
            "========================================================================================================================================================================================================\n",
            "========================================================================================================================================================================================================\n",
            "========================================================================================================================================================================================================\n",
            "\n",
            "n=2\n",
            "x.shape=(100,) x.dtype=<dtype: 'string'>\n",
            "y.shape=(100,) y.dtype=<dtype: 'int32'>\n",
            "y=tf.Tensor(\n",
            "[2 2 2 2 2 2 0 2 1 2 2 2 2 1 2 2 1 0 2 2 2 2 0 2 1 0 1 0 2 2 1 2 1 1 2 2 2\n",
            " 2 2 0 1 2 2 2 1 2 2 2 2 2 2 2 1 0 2 2 0 2 1 2 2 1 2 1 2 2 2 2 2 1 2 2 2 2\n",
            " 2 0 2 2 2 2 0 1 2 2 0 2 2 2 2 2 1 2 2 2 2 0 2 0 0 2], shape=(100,), dtype=int32)\n",
            "x=tf.Tensor(\n",
            "[b\"This is such a wonderful movie. I saw it for the first time in September of this year and remember thinking that this is such a great movie why hadn't I heard of it. It is a very touching story that made me laugh and made me cry. I hardly never cry at movies. This movie is special.\"\n",
            " b\"This film was overshadowed by it's live action counterparts by Burton and Schumacher, but this goes beyond any of them. For an on-screen adaption of a cartoon series, you'd think it'd just be eye-candy for kids. But this is true film-making, with a romance tale that rivals even the stuff of Shakespeare. The animation and art style doesn't feel like a cartoon, but more like a moving- better yet, living-painting. Just the poster for it feels operatic, and when Bruce Wayne becomes Batman, it truly feels so. The film really stays true to the comics, with an at times shocking and thought provoking origin story. The performances are pretty spot on, with Kevin Conroy delivering a true Batman, and Mark Hamill being show-stealing as the Joker despite his small screen time. It's much better than Burton's and obviously better than Schumacher's Batman films, and over all it's my 3rd favourite out of the franchise.\"\n",
            " b\"Holy Lola (20040 <br /><br />Directed by Bertrand Tavernier <br /><br />Starring Jacques Gamblin(L'Enfer), Isabelle Carr\\xc3\\xa9 (He Loves Me. He Loves Me Not) <br /><br />An emotional roller-coaster of the trials and tribulations of a French couples efforts to adopt an orphan baby in Cambodia.<br /><br />Monsoon season, a husband and wife arrive in Cambodia having completed reams of paperwork back home in order to be able to adopt a baby, they end up at a hotel full of similar couples some of whom have already been there several weeks waiting for their chance.<br /><br />For two hours or so we follow them around visiting orphanages, small villages and facing a steady stream of bribery and corruption in their attempt to obtain the one thing they feel will make their lives complete.<br /><br />Heartache, joy, disappointment, frustration, the emotions soar and dive as an opportunity ends in an empty promise. Babies often stolen from their mothers are offered for a price, a phone call from an orphanage will end in bitterness because another (usually American) couple have used large amounts of cash to jump the queue and have taken the child.<br /><br />Even when they eventually manage to find a beautiful orphan baby girl already rejected by another couple, the endless paperwork and bribes needed to complete even the simplest of tasks leads to arguments and despair. Physically, emotionally and financially drained, you wonder will they ever be able to leave Cambodia with the child of their dreams? <br /><br />Hand-held camera-work and totally naturalistic acting gives the film an almost documentary feel, the emotional highs and lows are so perfectly played that you could easily believe this is all for real. How real couples can handle this sort of situation, the faith, love and fortitude needed must be incredible.<br /><br />This is no travelogue, you get the non tourist Cambodia including a visit to a large open garbage tip where hundreds of people from very young children to the very old eke out an existence scrabbling through other peoples waste. You also see the wards in the orphanages of the babies nobody wants, babies with Aids etc.<br /><br />A very good film but with a couple of minor flaws, you lose a sense of time, I honestly couldn't say how long the search for the baby took? This along with the follow up frustration of sorting out all the paperwork to be able to take the baby back to France, it could have been weeks or even months, I honestly haven't got a clue. The constant dashing from here to there, from hotel to orphanage to village etc leaves you feeling lost and in a sense frustrated as to why, but that does in a sense draw you into the same emotional state as the couple as each trip they make ends in more and more frustration.<br /><br />All in all, not your typical film but if it does pique your interest, it will grab you and drag you along on a literally dizzying ride. It is tough going but I felt it was more than worth it to for the amazing performances (especially the main couple) and to get a real sense of life in Cambodia.<br /><br />Cheers Trev.\"\n",
            " b'I am now convinced Monte Hellman is one of America\\'s most unjustly overlooked filmmakers. \"Cockfighter\" was good (easially the best hicksploitation film ever made), \"The Shooting\" was great, and \"Two Lane Blacktop\" is simply put a masterpiece. Even though \"Easy Rider\" came earlier and was much more successful, \"Two Lane Blacktop\" is a far superior film. The films minimalist style is engrossing throughout, and despite the slow pacing your interest never waivers. Its also the greatest road movie ever made because its thematically interesting unlike many other car films. To call this a car film is akin to calling \"2001\" a sci-fi film or \"The Seven Samurai\" an action film.<br /><br />What makes it work so well? For one, the stark minimalism of it all. Hellman proves you don\\'t need flashy effects or a big budget to make a great motion picture (something which Hollywood\\'s school of music video directors hasn\\'t caught on to). Everything is very low key, especially the performances of James Taylor, Laurie Bird, and Dennis Wilson. It perfectly captures the lack of meaning to their lives. Unlike many other counter culture heroes, they seem to be rebelling against nothing except life itself. Secondly, Warren Oates makes the film. Oates is one of the most tragically underrated actors of all time, and this is next to only \"Bring Me the Head of Alfredo Garcia\" as his best film. In both, he manages to take a desperate and pathetic man and make him all too human. Its a shame that this is so hard to find as its one of the best films of the decade. (10/10)'\n",
            " b'John Hodiak is a war vet with amnesia who searches for his identity and possible complicity in a crime \"Somewhere in the Night,\" a 1946 film also starring Nancy Guild, Richard Conte, and Lloyd Nolan. The film is directed by Joseph L. Mankiewicz, and he also co-wrote the screenplay with Howard Dimsdale.<br /><br />Severely wounded in the war, Hodiak\\'s character, George Taylor, has had to have facial reconstruction. His recovery is slow, and he can\\'t remember anything. He has a partial letter on his person telling him that he\\'s despicable, and when he picks up his belongings, he finds a letter from one Larry Cravat. Investigating Cravat leads him to murder, stolen money, and some unsavory characters who are after him.<br /><br />This is a muddled movie that still manages to be absorbing, probably because of the talent behind and in front of the camera. Nancy Guild plays a singer in a club owned by Richard Conte. She becomes interested in Taylor and tries to help him. Guild is attractive and looks like a noir heroine in the Bacall-Raines genre, but she delivers her lines in a very flat manner. Lloyd Nolan as a police detective is terrific as always, and Conte gives a smooth performance.<br /><br />You have to pay attention to \"Somewhere in the Night\" or you\\'ll get lost - sort of like the hero does at points in the movie. Still, it\\'s worth seeing.'\n",
            " b'This very standard early 80\\'s haunted house/possessed souls chiller does feature one ingenious and genuinely creepy gimmick, namely the titular vehicle that mysteriously drives around at night. Barely recovered from personal problems in the big city, Jane Hardy moves to an inherited mansion in a small and very superstitious village. The locals treat her like dirt, especially when they learn Jane is the niece of the previous resident, who worshiped the devil and whose dead body mysteriously vanished when the hearse ran into a bridge and caught fire. It doesn\\'t take long before Jane herself begins to suffer from nightmares and the antique hearse even begins to stalk her! \"The Hearse\" is very slow but occasionally atmospheric and well-acted. Unfortunately however, the script is full of holes, too predictable and the total lack of spectacle is pretty hard to forgive. I respect the fact there were obviously financial limitations to this production, but to deliver an entirely bloodless film is a tad bit exaggerated. Class actor and horror veteran Joseph Cotton (\"Baron Blood\", \"The Abominable Dr. Phibes\", \"Island of the Fishmen\") is totally wasted in the role of obnoxious attorney. Crap ending, too.'\n",
            " b\"I'm not a big fan of slasher flicks as a genre, but even by the standards of low-low-budget exploitation, this one is really lame. Even on a nudity-and-gore level, it's incredibly boring (there is some of both, but it's all sort of...meh). Before the home video revolution, it might not even have been released theatrically (though it might have; after all, *Plan 9 From Outer Space* played in theaters). There is precisely one good (and competently-delivered) line in the entire movie; I assume they stole it from somewhere.<br /><br />The acting is among the worst I have ever seen. I mean, even Ed Wood had a couple of competent actors, and the rest tended to be ludicrously hammy, which can be fun to watch. Anyway, most of his actors could pretty much pass as literate. Here, those who don't read their lines like cigar-store Indians sound like they learned them phonetically. And this film does have one distinction: it manages to be badly underplotted for most of the movie, then laughably overplotted for the ending.<br /><br />(Update: I should have singled out the actress playing the receptionist as an exception. She is by no means wooden. Not that she's good, but she certainly isn't wooden.)<br /><br />Even the worst slasher flicks are generally good for a few Puritan meditations on their grotesque offensiveness, but with this one, there doesn't even seem to be anything there to work up a moral outrage about.<br /><br />And you know the funniest thing? They clearly expected to make a sequel!<br /><br />It's so bad and boring that it actually becomes fascinating in a weird way. I sat enrapt through much of the video wondering why anyone would go to the bother of making it.\"\n",
            " b\"I would compare this to Talk to Her and Heaven. The protagonist commits a terrible crime but turns out to be a likable guy. The murder is over and done with quickly. <br /><br />After that, I laughed a lot. This is more of a romantic comedy than a drama. The characters are somewhat over the top, especially Keiko's mother. The weird thing is the chaste romance story. The lack of PDAs and kissing in a movie with sex and nudity is disorienting. High contrast between a reserved, traditional Japanese culture and frank subject matter. Not for kids. Beaultifully shot. The director is world famous for good reason.\"\n",
            " b'I just saw this episode this evening, on a recently-added presentation by one of our local independent channels, which now presents two episodes each weekday.<br /><br />As the gentleman opined in the other, previous comment here, I agree this may not have been one of the best programs of the series, but I find it entertaining nonetheless.<br /><br />My father was a friend of one of the principals (in my hometown, Cincinnati), for whom young Rod Serling had worked in the media there -- and I remember Dad telling how talented and creative he was remembered there. Overall \"Twilight Zone\" is certainly one of the true classics in television, and given its production during the height of the Cold War period, provides not only a view of this era in the country, but also (today) a nostalgic picture of production techniques, creative viewpoints and the actors of this era several decades ago.<br /><br />* Minor \"spoiler.\"*<br /><br />This particular story depicts, as did other presentations in this series and elsewhere, a story where the locale is meant to provide a \"surprise\" ending. Sometimes the characters are on earth, from elsewhere, while the story at first implies at least one is an \"Earthling.\" These usually contained the message (as here) of a situation prompted by the doomsday buttons having finally been pressed by the super powers during this Cold War period.<br /><br />Viewed today, stories like this one provide a nostalgic look at this worldly viewpoint 4-5 decades ago, and still provide some food-for-thought. -- as did this episode.<br /><br />While the dialog may not have stretched the considerable talents of the leads, it still presents a simple, important message, and a worthwhile 20-some minutes of entertainment and interest.'\n",
            " b'This is by far the best movie I have ever seen, and I think anyone that has seen it agrees with me. Basically, the movie tells 5 different stories,which interact with each other, but still follow their own story. The movie is about the basic principles you learned in life; people come closer during danger or despair, we should accept people who as they are and learn to live with them etc. I beg of you who has not seen this movie, PLEASE go and buy it from ebay or anywhere else, you wont regret it. This movie is the most vibrant and mindblowing experience you wont find anywhere else, it is simply amazing. There are not anough words to diplay the beauty of this movie.'\n",
            " b\"As a popcorn guzzling action lover, I found this film to be pretty bad. Sure, Van Damne may not be the greatest of all the action movie heroes, but he does have his moments (Hard Target, TimeCop, Sudden Death, Universal Soldier). But this film was just a waste. It was a slow paced, pretty boring film. The action of the film consists of two fight scenes, neither of which are any good. This is Van Damne's worst film, and one of the worst action films I have ever seen.\"\n",
            " b'This film was one of Luis Llosa\\'s early ventures in Hollywood, and Luana Anders last as a writer. It follows photo-journalist R.J.O\\'Brien (Craig Sheffer), who is jailed by corrupt South American police while investigating the murder of an environmental activist, being released when rain forest activist Alyssa (Sandra Bullock) kindly tells the police he is harmless.<br /><br />I don\\'t know how to describe the film except it has such a lazy feel to it. When the Indian that R.J. was jailed with supposedly confesses to the murder R.J. believes he was framed, and when the Indian is found hanged in his cell R.J. and Alyssa decide to dig deeper, though Alyssa is less than impressed with R.J.\\'s behaviour to this point. R.J. redeems himself a touch by charging in to a burning hut to save a young boy, who is resuscitated by Alyssa, and having a burning ember on his shirt gives R.J. an excuse to turf it and show some muscle to Alyssa, who promptly cries on his shoulder. Feeling the answer lies with the hanged Indian\\'s tribe they paddle up river into the jungle, unaware that the real murderer is stalking them until R.J. gets shot, but they escape to Indian territory where they are stalked again, and R.J. yells loudly while trying to lose them. The Indians turn out friendly and pass around some \"feel good\" potion by the fire which drives R.J. and Alyssa to get naked and quench their desire. Continuing to enjoy mixing pleasure with business R.J. returns to his hotel with Alyssa, but before they can continue their newfound romance in the hotel room the police ambush R.J. in his room, beating him up and leaving him tied to a chair with a time bomb at his feet. Alyssa arrives at his door, against instructions from her boss, just in time to untie him and they escape once again, but when they run to Alyssa\\'s boss for help they find that she too is on the take and it seems that the happy duo are now left to bring the story to its conclusion by themselves.'\n",
            " b\"This film is likely the best view in the world of early television. Though most of the audience didn't know it at the time, the large part of TV performers were second-rate, washed-up, or suffered with substance abuse. Surprisingly, many of them had great success in this new format.<br /><br />The cast all fit the time period excellently. Peter O'Toole is perfectly cast as the aging drunkard who wishes for his former glory and Mark Linn-Baker is good as the ambitious young writer. The whole film is brimming with energy and cleverness, more than it's share, but kept together by director Richard Benjamin.<br /><br />7.1 out of 10\"\n",
            " b'I haven\\'t seen this film in years so my knowledge is a little rusty. I do remember thinking that this film is twice the film of Braveheart. It is simply more realistic and has more believable characters. Ridb Roy looks like one would imagine Rob Roy to look like, messy hair and beard with simple clothing. Also the Liam Nesson has a Celtic look about him, he looks like a Scot and more importantly looks like Rob Roy. It\\'s a comparison which angers some people but compare him to Mel Gibson as William Wallace. Gibson is supposedly playing a man who\\'s legend has caused him to be described as a 6 foot 7 giant while Gibson is almost a foot shorter. The story contains a little romance, conspiracy and an underdog story. Sound anything like Braveheart? But instead of a film that cries out \"freedom\", liberty and nationalism we get a film which says honour, love and justice. This makes it a more interesting film. Much like Gladiator. The cast is fantastic and Liam Nesson is a very strong leader in this endeavour. The story is great with how it deals with heroism and humanity. The scene where Mary is raped and she walks out of the burning house with a look of true Scottish strength is followed by her washing the semen from her crotch in an extreme panic. This is something a heroine in Braveheart would never do. Overall this is a stunning and almost flawless watch. Go and see it!'\n",
            " b\"Manmohan Desai was known for larger then life entertaining and illogical films AAA is one of them <br /><br />The film marked one of Bachchan- MD most famous films and also a blockbuster<br /><br />The plot is the similar long lost brothers theme but it's well handled and entertaining<br /><br />The plot is revealed in the initial 20 mins itself which is damn serious but then the film gets funny and entertaining Amitabh's character is one of the best parts, Anthony Gonsalves became a big rage and is remembered even today The scenes between Amitabh- Vinod, the fight and the jail scenes are well handled(in PARVARISH surprisingly both played opposite roles of cop and thief) though the long lost theme isn't taken much further like other films(meaning the searching of the siblings.etc) but the film is more on entertainment then story<br /><br />The film then focuses on love stories between Amitabh- Parveen, Rishi- Neetu.etc There are several entertaining scenes like Bachchan carrying Mukri to the hospital, Amitabh's long drunken monologue, Amitabh- Pran scene and many more There are too many songs though, like after the famous MY NAME IS ANTHONY GONSALVES in few minutes there is HUMKO TUMSE HO GAYA and PYAAR KE DUSHMAN <br /><br />The film ends too in a slapstick manner with the disguises which also got famous and the long fight scene<br /><br />Direction by MD is fabulous Music is good too<br /><br />Amongst actors Though an esemble cast Amitabh towers above all and no doubt his character of Anthony became a rage and won him best actor award too He excelled in his character which is completely different from what Bachchan did mostly Vinod Khanna plays the cop role with elan and his last funny act is hilarious Rishi is a natural in his role and he is at his best towards the end Amongst the girls Neetu is alright, Shabana irritates, Parveen is very good Pran excels, Jeevan is as usual Hercules is okay\"\n",
            " b\"With just enough realism and surrealism, Coppola plays this documentary the way a documentary should be played - an individual with a vision and his attempt to push the limits of the envelope in post-WWII industrial America. The period costumes and music are excellent and accurate, the bittersweet punchline at the end is well done and just understated enough. The camera work is vivid in brilliant Technicolor as opposed to the black and white sometimes reserved for this time period. Frederic Forrest, Christian Slater and Joan Allen are all adequate and the gentle acting of Martin Landau complements Bridges frenzied portrayal. But the focus is always Jeff Bridges who carries Tucker's manic, obsessive, genius with amazing ease. Definitely one of my favorites.\"\n",
            " b'This is one of the best episode from the second season of MOH, I think Mick Garris has a problem with women... He kill\\'em all, they are often the victims (Screwfly solution, Pro-life, Valerie on the stairs, I don\\'t remember the Argento\\'s episode in season 1, etc., obviously Imprint). I think he enjoys to watch women been burn, torture, mutilated and I don\\'t know. Never least \"Right to die\" is one of the best, with good turns and graphic scenes and suspense (specially with the photos from the cell scene, wonderful). The acting is like the entire series, regular I could be worst like \"Pro-life\" or \"We scream for Ice cream\". Also I think the plot it could be made for a movie and not just for an episode. The ideology of the series is horrible, killing and terminating women, mutilating animals and on and on... the first season it was better than the second one with episodes like \"Cigarrette burns\" (The best of all), \"Homecoming\" (The most funny), \"Imprint\" (really shocking).'\n",
            " b\"A cannibalistic backwoods killer is on the prowl and two bickering couples might be his next source of protein in this bargain basement Friday the 13th-clone cheapie. There s literally nothing of interest to see in this one, the killings are surprisingly sparse and when they do happen, completely amateurish. It also adds ghosts into the mix for no reason what so ever. I felt drained after watching it as if my brain was liquefying and draining out my nose. And it remains without a doubt Donald Jones' worst movie. If you're thinking of renting it because of Code Red's snazzy new DVD re-release Don't bother<br /><br />My Grade: F\"\n",
            " b\"unfortunately shows like these along the lines of American history X and romper stomper help fan the flames of hate for skinheads. in reality most skinheads are not neo-Nazis or neo-fascists. there are very few of these kinds of skinheads around and mostly referred to as boneheads. most skinheads are SHARPS (skin heads against racial prejudice) or really don't care. the funny thing about skinheads is that the subculture is from the Jamaican rude boy culture mostly a black subculture. so please just ignore this show and hopefully shows like these will go away and someone out there will finally make a non bias non ignorant show about skinheads. until then see the movie skin head attitude it's the closest you'll get to the truth through the media.\"\n",
            " b'This is a great ending to the show. The fact that Adm. Janeway was able to do a double switch on the Borg was great. The fact that she allowed herself to be infected, thus infecting the Queen with a \"poison\" that in, essence, ended the Borg was great. The way they ended it also left some, not a lot, for a reunion movie. However, they did bring them \"home\" and the way they did it was fantastic!! It was sad to say good bye to a part of my family. Ending it with Tom and B\\'Lanna having their baby just as they enter the Alpha quad. was a great way to show a new beginning. It would be nice to have a reunion movie of some type - just to see where their characters would be today.'\n",
            " b'Director Jay Russell stated, \"If they asked me to make it talk I would have been off the project.\" And full marks to him for not disneyfying the characters of this charming film.<br /><br />The film tackles difficult subjects such as loneliness and bereavement extremely well, and makes a very believable fantasy, but there are flaws, mostly fundamental goofs and an irritating opening. It may seem petty bringing these up, but the rest of the film being so good these are disappointing.<br /><br />Goofs, The film is kicked off by two students looking at what is a world famous fake photo widely known to come from a decade before this film was set.<br /><br />The plot of the film is that an egg is laid in a tidal pool in loch Ness, where later the Brits set up Submarine defences. Loch Ness is a non tidal fresh water loch 12 km from the sea, which has only been attached to the sea by rivers for the past several millennia.<br /><br />For me the opening undermined the importance of the story of the film. Where Angus retells his tale to two complete strangers, simply because they were looking at a fake photo in a pub that 100 people a day look at and question. It would have been nice to see a deeper reason for Angus to share his legend.<br /><br />You may say \"So what, this is a fantasy\" But the rest of this film is so good and so much effort has been made to make it \\'believable\\' I am disappointed more effort was not made to entwine the story into the real world better.'\n",
            " b'That pretty much says it all. True, an important character dies during the film, but this is a very daring move on the part of the director. I do not care for main characters getting killed, but once in a while it\\'s okay. It gives my \"film reality\" a jolt, something it needs. As a female assassin, Shu Qi ranks at the top rank of cinematic killers. I have no doubt that she could kill Arnold, Clint Eastwood or Mel Gibson in any of their film roles. She is also so easy on the eyes that her anti-social job is acceptable. The action is top notch, as is the cinematography. Hong Kong Cinema is far ahead of any other and it shows here. Rating: 8 out of 10.'\n",
            " b'Actually, this flick, made in 1999, has pretty good production values. The actors are attractive, and reasonably talented. There aren\\'t a bunch of clowns running around blasting away, expending hundreds of rounds, but never hitting flesh. Nor are there wild car chases/crashes where thousands of dollars worth of beautiful machines are uselessly trashed.<br /><br />The interiors look respectably modern, architecturally, and the equipment looks up to snuff. Well, there is that high tech computer room furnished with what look like leftovers from a \\'50s electronics lab. And the pancake make-up on the corpses cracked me up. Not pancake make-up in the conventional sense, but what looks like dried pancake batter slathered over their exposed skin. This is supposed to support the idea that the bodies have calcified -- though how the virus would accomplish this transmutation is an exercise left for the student (viewer).<br /><br />Ah yes, the virus. I would like to tell you that this is not the absolute worst premise for a sci-fi, horror flick I know of, but I can\\'t. A computer virus that is transmitted via a television (or computer monitor) screen and becomes a lethal biological pathogen? Gimme a break. Warp drives a la \"Star Trek\" are one thing, but photons becoming viruses? This is so silly the desired \"fright factor\" just isn\\'t realizable. The flick could have used one of those awful dream sequences where the dead come alive, or have a cat jump out of the closet, or something, because the viral thingamajig isn\\'t doing it. <br /><br />One presumes Robert Wagner has the same excuse for playing in this inanity that Lord Oliver gave for some of his later, trashy venues. He needed the money. No other comparison between the two should be construed,however.'\n",
            " b'I viewed this film with my freshman theatre arts class and after taking a vote they all rated it a 1 on a scale of 10. These students have been studying Antigone extensively for 8 weeks and had nothing positive to say about it. They found the choreography to be poor, the use of voice over confusing and the music disturbing. They had trouble following the story, even though they have been dissecting Sophocles\\' words for weeks. To quote my students, \"It was a poor excuse for an adaptation of a great play.\" \"The director is apparently on crack\" For viewers that are trying to understand the story of Antigone, this film only served to confuse them rather than clarify.'\n",
            " b\"Class Reunion is a very underated comedy gem. It's 1982 and the 1972 class of Lizzie Borden High return for there 10 year reunion, among them are the usual stereotypes, the hunk, babe, the fat guy & nerd etc, but the former students are in for a bumpy night, one of their classmates is Walter Baloer, the class wimp who was subject to a comedy prank by the rest of the class on graduation night and since then has been in a mental home, Walter escapes and now plans to avenge his humiliation,,,,<br /><br />Despite the dark premise, this is really just an excuse for lots of very funny gags & set pieces. To say too much more would spoil the film but if you enjoyed the Naked Gun & Airplane movies you'll love this, & what other film offers a music cameo by Chuck Berry?. A great comedy which deserves a wider audience.\"\n",
            " b'***SPOILERS*** ***SPOILERS*** If one were to review the film based on the premise alone, one might think that you were looking at an average animal orientated horror flick. The plot is as follows. A group of documentary filmmakers head off to an island in order to film a documentary about surfing with sharks or blood surfing. (I live in South Africa so it was released as \"Blood Surf.\") Admittedly, this seems to have a somewhat interesting idea behind it which, if it were explored further, could have improved the movie somewhat. However, this is not the case as the blood surfing part of the movie is minimal due to the fact that their documentary is interrupted by a rather large salt-water crocodile.<br /><br />The script is absolutely terrible. A good example of this is whenever someone gets eaten by the crocodile which is a frequent occurrence in this film, no one seems to give a damn. The most anyone person did in the film was to merely toast the victim in a scene which was meant to be poignant but just ended up being laughable due to the fact that the dialogue in this film was of a highly dubious nature. Another thing that really irritates about this film is the fact that they introduce characters who are totally superfluous to the film itself. They introduce a bunch of pirates who can only be seen to be adding another 10 minutes to a mercifully short film.<br /><br />The acting can be said to be mediocre. It probably would have been a lot more impressive if they did not have such a terrible script to work from. All in all there isn\\'t one person who made a terrible impact on me. Every single person seemed to be a watered-down caricature and in this way, not one of these actors made any sort of impact on me.<br /><br />The crocodile itself is said to be huge, over 31 feet exactly and this sense of size is well portrayed by the obvious fake of a crocodile that they have provided for us in the film. The crocodile\\'s death at the end of the film is so ridiculously fake and contrived that it makes one\\'s stomach turn. With a huge cry of bravado, the hero of the film announces that he has a plan which turns out be falling down a hill and getting the crocodile to impale himself on a luckily-placed spike at the bottom of this said hill.<br /><br />All in all, I would say that this film is one which has to be seen for you to believe how bad it could be. What probably seemed like a good idea at the time suffered from a terrible script and an overwhelming sense of low-budgetness which all served to create a truly awful movie.'\n",
            " b'If you\\'re going to put on a play within the prison walls why not go for the top playwright William Shakespeare? And if you are going to choose your cast from a whole lot of criminals serving long sentences for the most heinous crimes, you can be sure there will be plenty of time for rehearsals. In a Kentucky Correctional Prison a courageous project such as this was undertaken with amazing results. This film shows how it was all done\\xc2\\x85.the casting\\xc2\\x85.the rehearsals\\xc2\\x85.the set and costumes\\xc2\\x85and the final presentation of Shakespeare\\'s play \"The Tempest.\" It had not occurred to me before but there is an analogy between the setting of the play and the correctional prison. In the play the ship-wrecked characters are confined to an island with no contact with the outside world. Prison life too is much like that.<br /><br />With a simple painted back drop of a surrounding seascape, the characters in a most pleasing assortment of costumes bellow out their lines to an approving audience, may be not quite as Shakespeare intended but with good heart and true sincerity for sure.<br /><br />More interesting than the play itself were the little cameos of each man behind his character. One inmate saw the play as a lesson in forgiveness another as a redemption of his sins. It was quite moving to see the men wipe away a tear as they spoke of murder, shooting and strangulation. One had the feeling that they would all like to wind back the clock and reconsider their brutal actions. However (as someone said) the past was past, and the present was the beginning of a new future. At least the play gave temporary relief from the depressing thoughts of past events.<br /><br />The prison authorities should be applauded for allowing the play to take place. Such an event would put Kentucky on the map and hopefully other prisons might follow their good example. It seems to me that everyone stands to benefit\\xc2\\x85not only the Kentucky prison but the prisoners themselves who need to find new confidence and self esteem and be prepared for the day when they go out on parole.'\n",
            " b'I didn\\'t expect much from this TV movie. You have to set the bar lower than you would for midget limbo for any TBS movie starring Antonio Sabato Jr. Still, it managed to disappoint, failing even to be a good-bad film.<br /><br />Every scene was by rote, as if someone had cut and pasted scenes from a dozen movies and tv shows dealing with big business conspiracies into the script, leaned back and said, \"My work is done\". It\\'s all cliche, all predictable, and, even worse, the actors are forced to look like they\\'re taking it seriously, (even when the plot developments are laughable).<br /><br />Do yourself a favor. Watch \"The X-Files\" if you\\'re in the mood for paranoia. They handle it better. Also, let anyone know that sitting through \"Fatal Error\" is just that.'\n",
            " b'Two comments. First, some reviewers are taking the movie too seriously, it is supposed to be a caricature of the 50\\'s. One earlier reviewer cited Sandra Dee and James Dean parallels, etc, no need to repeat it. While it had fun dance music and hits (although I am usually not a Bee Gees fan, even when I was younger) with several famous and soon to be famous actors, the reason I give it a 7 versus something higher is that it gets a little too serious regarding Sandra and Danny (inconsistent with the rest of the movie, even the possible pregnancy is taken less seriously) and it did not keep true to the original musical.<br /><br />Second, the comments regarding sending bad messages was bit confusing. I don\\'t see this message. One of the earlier reviewers talked about losing virginity as a must based on this movie. Well, to start this is inconsistent with the pregnancy issue where the character is mocked for being \"knocked up\" and even referred to as trash. The character tries to defend her actions by saying it\\'s better than being an insincere flirt, but you can see she really regrets what she did inside. It also shows how virginity was still the vogue back then and that all the other provocative women were putting on a show. Next there are the comments about Sandy conforming to Danny\\'s (and the T-birds/Pink Ladies) behavior, look etc in order to be accepted. The movies clearly shows that she was accepted before she made the alterations. One of the pink ladies befriends her, and Betty thanks her for her support. Danny letters in track and tries to change HIS LOOK for her in a mutual sign of affection. Sandy is not conforming to Danny as much as it may seem. She is mature in that she is kind to everyone and is responsible. However, she is immature because she lacks confidence in herself and how to deal with Danny. At the end she matures in that department by asserting herself and getting her man. She changes her dress, look and attitude not to conform but to get Danny\\'s attention that she really wants him, and that she is the one in charge, not him. She now is asserting herself, showing confidence and at the same time saying she is willing to accept him for the way he is by \"dressing up\" for a day. It is interesting though that no one mentioned Danny putting on that awful sweater with the letter on to conform to his image of Sandy. Sandy knew that Danny\\'s jacket, T-bird routine was just a ruse for whom he really was and she figured to play the ruse with him....<br /><br />Lastly, several commented on the women\\'s roles issue and minorities. It appeared to me that the women had the upper hand in these relationships and a woman was a principal of a school in the 50\\'s, etc. As for minorities and their appearance in the 1950\\'s Rydell was in California. Was there segregation in California? I wasn\\'t aware of any. Secondly, anyone know the percentage of African Americans in a typical LA well to do high school in the 1950\\'s (or the 1990\\'s for that matter)? Let\\'s just say it was really low. So, it was realistic. I do agree that it is not nostalgia for the 50\\'s I feel in this movie, it mocks the 50\\'s. It to me is more nostalgic of the 1970\\'s and the actors who became the stars later on and the music that I heard when I was a kid.'\n",
            " b\"Director Peter Hewitt captured the essence of friendship in this family friendly film. Set in southern Missouri in the early 1800's, Tom (Jonathon Taylor Thomas) and Huck (Brad Renfro)reunite and have some very interesting adventures together. While trying to get rid of warts in the graveyard, they witness a murder at the hands of Injun Joe (Eric Schweig). They swear an oath not to tell and sign in blood, for fear of Injun Joe coming after them. Tom has doubts about their oath, however, when an innocent man, Tom's friend, is accused of the murder. Tom has to make a very hard decision, friendship or an innocent man's death? In the mix is an ancient treasure and an important map, making this a movie to remember. This is an action-packed adventure kids will love and parents will approve of.\"\n",
            " b'I watched the movie while recovering from major surgery. While I knew it was only a \"B\" film, a space western, I loved it. It may have lacked the flash of high dollar productions it non-the-less held my imagination and provided great escapism. Sadly our society has so much available, discounting small attempts is too easy. In the same way that I can enjoy a even a grade school performance of Shakespeare, I can appreciate many levels of achievement for the art sake. I am a cop and found affinity with the retired LAPD. Dreams like his haunt me that I will be unable in the moment of crisis be able to respond to save another\\'s life (or my own). while it was a romantic ending where Farnsworth did take out the bad guy (predictable) I needed a little happy romance where good can triumph. My world is really too cynical.'\n",
            " b\"Pretty dreadful franchisy sequel. Apart from Dahan's (French) meditative camera-work inbetween stock action filming there's absolutely nothing original about this film at all. To name all the contrivances and their lineage would be as boring as the film itself: suffice to say that if you've seen Bond, Indiana Jones and The.., Seven and even The Matrix you've probably covered most of this.<br /><br />Of the cast, Magimel has the 'cute' of Cassel (from the first) but not his charisma. Reno is the one holding it together, although his ennui is rather more phoned-in for this one. And simply putting Christopher Lee in a film - doing his sect-leader yet again - does not rubber-stamp it with integrity (he's left out to dry almost as much as the redundant chick-interest, Natta).<br /><br />I did, however, enjoy an unwittingly (?) postmodern thrill-sequence set in the supermarket. If only there were more of this invention 3/10\"\n",
            " b\"I first saw this movie on cable about 5 years ago and I could not stop laughing. Everything about this movie seemed to click, the storyline, the characters, the setting. As far as film is concerned I wouldn't call this a great movie but for what it is supposed to be it is fantastic. It gets it's meaning across. The cast is maybe as good as any ever put together in a comedy movie. Corben Berbson, Fred Gwynne, Ruben Blades, and Ed O'Neil are hilarious. For this who haven't seen it, I will give you a brief synopsis: Four Criminals meet up in a small town in Montana after receiving a letter from their friend about a bank heist. However when their friend is arrested by two cops who chased him from New Jersey, they try to figure out whats going on and all hell breaks loose. The film is truly a great bank caper comedy and is sort of like a poor mans version of Oceans Eleven, only with four criminals who can't stand each other, and in Montana rather than Las Vegas. All in all if like to laugh I would strongly encourage you to see this movie.\"\n",
            " b'this may not be War & Peace, but the two Academy noms wouldn\\'t have been forthcoming if it weren\\'t for the genius of James Wong Howe...<br /><br />this is one of the few films I\\'ve fallen in love with as a child and gone back to without dissatisfaction. whether you have any interest in what it offers fictively or not, BB&C is a visual feast.<br /><br />I\\'m not saying it\\'s his best work, I\\'m no expert there for sure. but the look of this movie is amazing. I love everything about it; Elsa Lanchester, the cat, the crazy hoo-doo, the retro-downtown-ness; but the way it was put on film is breathtaking.<br /><br />I even like the inconsistencies pointed out on this page above, and the \"special effects\" that seem backward now. it all creates a really consistent world.'\n",
            " b'I was actually an extra in this movie, one of the worst sports movies ever made. I only did one day\\'s worth of work and it was one of the most boring things I\\'ve ever experienced. I\\'m in the scene where someone supposedly puts helium in the basketballs and they float to the top of the Civic Arena. A crane (out of camera range) had thin wires attached to the balls. The director took about 10 takes of the scene. I thought I would lose my mind, trying to act surprised every time the balls \"floated.\" When I saw the film I was shocked at how little screen time the shot got, but not as shocked at how bad the whole movie was. With a cast as good as it has you\\'d think they could save it, but the script was so bad even the great Stockard Channing couldn\\'t help!'\n",
            " b'This film was one of the real gems to come out of Sundance, and I was quite surprised to discover that Amber Tamblyn (Stephanie Daley) didn\\'t walk away with the Independent Spirit Award for which she was nominated. I can only imagine that the majority of ISA voters didn\\'t see the film. So far as I can tell, it has been the best reviewed film of 2006 as of the first quarter of the year, and nothing else for which I\\'ve seen trailers thus far looks likely to unseat it any time soon. The terms \"career building\" and \"tour de force\" are so rabidly overused that they don\\'t do the performances justice in this film -a film that actually deserves such description without sacrificing subtlety. Stephanie Daley should be mandatory viewing for parents and daughters everywhere. It addresses the problems that can arise from the lack of information available to teens. Misconceptions about the \"facts of life\" due to withholding those facts (from young people) can lead to dire consequences, whether you are a believer of abstinence or a proponent of birth control. Education is the key, and this film presents a very candid, emotional and valid viewpoint that addresses both sides of this hot-topic issue. This film deserves as wide an audience as possible, and support from educators and community leaders will help open a dialogue that benefits all viewpoints, but most importantly benefits our children.'\n",
            " b'Mix exotic tropical locations, babes in skimpy attire, explosions, good-looking Dudley Do-Right clones, a movie star with his best years behind him (Martin Sheen), a little martial arts and a sexy villainess (Tracy Lor.....er, sorry...Tracy ELIZABETH Lords) and you\\'d think you\\'d be in for some escapist fun. Not so! This is a dreary TV movie and even though it likes to promote itself as a \"Charlie\\'s Angels\" deal,it is nowhere near as good as the original series or even the gawdawful, irretrievably stupid, recent C.A. movies. This abomination is best described as a THIRD RATE Andy Sidaris film. Nowhere near as much fun as Andy\\'s \"Hard Ticket To Hawaii\", although some of the fight scenes are decent enough. The girls spend too much time posing and trying too look prissy and it gets annoying after a while. There\\'s better genre stuff that this out there. Oh yeah, and the \"babes\" aren\\'t as hot as they like to think they are. Terrible soundtrack...when it\\'s there.'\n",
            " b'No...seriously...this is just plain boring. I have a fondness for watching Vinnie Jones in just about anything which seems to be both a blessing and a curse. He was great in Snatch, hilarious in Eurotrip, and awesome in Midnight Meat Train (despite having only one line in the whole movie...that\\'s how cool he is). He may just be one of the most distinctly British actors in the history of cinema...when the dude\\'s on screen you can\\'t help but think \"holy crap, that guy is British\". But the blandness of Legend of The Bog is just plain inexcusable, Jones or not.<br /><br />This movie doesn\\'t really seem to know where it wants to go from the start. Is it a zombie movie? Kind of, but not really. There\\'s people rising from the dead, but they\\'re not zombies in the typical sense. There\\'s pretty much nothing in the way of explanation. You\\'re just meant to accept that 2,000 year old bog bodies are rising from their graves (or lack thereof) looking surprisingly alive and free from decomposition. Period. To be perfectly honest, this movie reminded me (often painfully) of that old episode of Mystery Science Theater 3000 where they showed \"Eegah\". It\\'s so similar in parts that it seriously makes me question the future of just about anyone appearing this movie. As I watched this movie I was fighting sleep from about 30 minutes in and briefly succumbed right near the end, nodding off momentarily. That\\'s how boring it is...in a HORROR MOVIE, during the CLIMAX, when everything\\'s supposed to go all to hell and be the most entertaining, I briefly nodded off. I didn\\'t miss anything important, though at that point I wouldn\\'t have cared if I had. Oh...and no violence? Seriously? All of the kills are done off screen which is just a huge party foul for a horror movie. Whatever...I think even writing this is giving this film more than it deserves. Skip it and watch something...anything...else.'\n",
            " b'I have seen all of John Waters\\' films, but something in this one seemed to stick out. I noticed that in his other movies, the characters are rarely developed, and if they are, you never get a glimpse at their personal lives.<br /><br />This film is different in that way... it begins as racy as all of his other films, with \"Lady Divine\\'s Cavalcade of Perversion\" a circus for perverts, drug addicts, homosexuals, and weirdo\\'s. Mr. David, Lady Divine\\'s boyfriend, wants Lady Divine to let Bonnie into the cavalcade, but she quickly dismisses the idea.<br /><br /> From here on, the film switches to a bizarre, and long, view of the characters personal lives. This is done by, long monologues, long shots in which the camera does not change, and very long scenes. These long scenes aren\\'t that badly written, but it is more that they are real, and not part of a movie. After the first 10-15 minutes characters seem to have disassociated themselves from the original plot of the film, and it becomes some sort of a deranged soap opera. But just when you think that this film is different from all other of John\\'s films, a giant lobster appears out of nowhere (and for no reason), named \"Lobstora\", and it rapes Divine. Divine then goes insane and goes on a rampage, and is then put to death by the national guard.<br /><br />Besides the fact that Divine is killed in the end, it seems to be a prequel to a young Divine\\'s life that is later portrayed in \"PINK FLAMINGOS\". This because in \"PINK FLAMINGOS\", Divine, is supposedly in hiding from the FBI, for murder. This murder which happened in \"MULTIPLE MANIACS\" of basically all the characters.<br /><br />All in all, this is most definitely a must see for John Waters fans, it will bring new meaning to his other films.'\n",
            " b\"I saw this for free, thankfully, and wish it was better than it was, but it's really the same old stuff that movie studios seem to foist on us in the last ten years.<br /><br />Ben Stiller and Jennifer Anniston play a couple who are opposites- and yet they are attracted to each other.<br /><br />If that plot line doesn't take you by surprise and thrill you, the movie won't either.<br /><br />Lots of sight gags and fart jokes. Halfway through the movie I began to realize that Ben Stiller really isn't that funny, but he tries VERY hard. And Jennifer Anniston really isn't that pretty, but her HAIR looks great. And Hank Azaria and Phillip Seymore Hoffman must have got paid a great deal of money to be in this kind of average ho-hum movie, I've come to expect more from them.<br /><br />What was interesting was that I saw this after I saw American Splendor, which is a truly funny and original movie- and I compared the two in my head, and found myself wishing that the movie executives would be forced to sit through those two movies back to back- perhaps that would knock some sense into them and<br /><br />they'd start making better movies with unknowns rather than this formulaic stuff that plays best on airplanes.\"\n",
            " b\"It is nice to see Suraj Barjatya back at what he is best at.A story woven around a marriage.It feels nice to have a movie in which there is no single scene which you would avoid watching with your family. Though the story is simple and does not contain any new elements,you still like the movie,because of the presentation, performances,and actually the over all treatment. Hats Off to Suraj.. The movie is about the fact that engagement leads to love. The depiction of the changes in the way of thinking,behaving once you get engaged is excellent. Director has definitely given it much thought and actors have done it to perfection.Though the movie is slow,you don't mind it,because you kind of get so much involved with the story that you just wanna continue watching the joy of this newly engaged couple. As a typical RajShree stuff it has many sentimental scenes which are highly likely to make viewer burst into tears(specially ladies). But when you come out of the cinema hall you are very much satisfied and feel that the ticket was worth :-).\"\n",
            " b'This French movie, written and directed by women (two different ones), falls squarely into the serial killer genre, or so it initially seems. It starts off rather typical, a mousy but beautiful blonde woman, Claire, who sports glasses (to show her extreme mousiness) and is often filmed wearing a tightly wrapped wool coat and painful-looking high heels, works as an insurance agent who examines people filing claims. She\\'s a bit proper and a bit pushed around, as we come to see as her co-workers unload their work on her because they know she won\\'t say no. She is married to a somewhat unambitious photographer husband, played by the yummy Jonathan Zaccai (I bought a ticket for this movie because of him, I\\'ll admit it) and has a daughter, aged around 5 or 6, who is afraid of the dark. So far so good. We have a boring nuclear family.<br /><br />Claire also has a \"wild\" friend Valerie. How do we know she\\'s wild? She sleeps around a lot, dumps her boyfriends after one month, and in one particularly annoying scene, hears a song she likes on the radio, turns it up, and starts dancing wildly, much to Claire\\'s bemusement. Yup, that slut has to die! She is essentially the opposite of Claire. Brunette whereas Claire is blonde, sexually and personally \"liberated\", while Claire is a slave to her family and job, wisecracking where Claire is austere.<br /><br />Anyway, Claire investigates a vet\\'s office, where the basement has flooded. We get an eerie scene, where the vet, Laurent, leaves Claire to walk around the dark, flooded basement, and from that moment on, the tension begins to build. To make a long story short, Laurent and Claire hit it off, Laurent initially doing more of the hitting until Claire falls in love with him, and he starts to back off. Why? Because he\\'s got daddy issues and he feels the need to carve up slutty ladies and sees Claire as \"different\", someone he could actually love. For the first time in his life (cue the music).<br /><br />This is where the film gets interesting. The audience knows Laurent is the killer, (at least I think we are supposed to) and as the story progresses, we start to actually like him. There\\'s a key point here, up until late in the film we never see him kill anybody and that contributes greatly to our process of sympathizing. We see the Laurent that Claire sees. All until one scene, where we see a murder so graphic, so no-holds-barred, that we are shocked at our previous opinions. It\\'s a brilliant cinematic move, arresting, indicting, grotesque.<br /><br />However, Claire is not totally innocent either, as news reports of a man killing women with a scalpel arise, Claire begins to question what Laurent might be moonlighting as. Yes, she knows it and she can\\'t bring herself to leave him alone, because she starts to feel- alive, which begs the question, does she like him for him or because he\\'s a serial killer? She loses the glasses (isn\\'t it interesting how actors never actually need the glasses they wear?), starts to wear makeup, leaves her home late at night to meet up with Laurent at seedy bars- we\\'re very close to S&M territory here, but Fontaine never takes that route. We learn small things about Claire, such as when she was a child, she was forgotten at the beach by her family, or that when she was an adolescent, she used to cut herself to remind herself that she was living. Laurent just listens, passing no judgment, knowing his levels of craziness far outweigh hers.<br /><br />I don\\'t know which aspect of the movie is starker, the fact that Claire sympathizes with a serial killer, or that we do. Laurent is essentially like the sleeping lion? tiger? that we see him treat, potentially ferocious but sweet when asleep.<br /><br />The film ends with a beautiful but ambiguous shot of Claire alone, walking towards the ferris wheel that she and Laurent rode together previously in the film. Ferris wheels seem to me to be emblematic of youth, innocence, first dates, first kisses, all of course from previous cinematic treatments of them, and I think one of the film\\'s themes is innocence, the innocence of not knowing, of love, of hoping, of children, of animals, and the inevitable corruption of that innocence.<br /><br />cococravescinema.blogspot.com'\n",
            " b\"Crummy horror sequel that is barely connected to the original but manages to be just as bad. Anthropologist Michael Moriarty moves with his delinquent teenage son to his recently inherited house, only to discover that the town is overrun with vampires. Yikes! The only compensation here is that there are a few laughs scattered about, thanks in no small part to Samuel Fuller as an old Nazi killer. There's a bit of life to be found towards the end, but make no mistake, this is dire stuff. The script is almost as junky as Larry Cohen's direction, while the actors are so wooden they could be used as stakes with just a quick sharpening of the head. No good at all.\"\n",
            " b'Possible Spoilers!!!!<br /><br />Wow. What else can I say?<br /><br />This is the ultimate movie experience. It has everything! Excellent direction, gorgeous cinematography, great story, a score that always suits the mood and as for Audrey Tautou...<br /><br />This is without doubt the single greatest performance by an actress ever committed to celluloid. In the title role she not only plays Amelie Poulian, she embodies her.<br /><br />The tagline, \"She\\'ll change your life\" is true. After watching AMELIE you will feel compelled to help a blind man cross the road or more importantly, you\\'ll feel sure that there is a love out there for you. This is REAL magic.'\n",
            " b'\"Against All Flags\" is every bit the classic swashbuckler. It has all the elements the adventure fan could hope for and more for in this one, the damsel in distress is, well, not really in distress. As Spitfire Stevens, Maureen O\\'Hara is at her athletic best, running her foes through in defiance of the social norms of the period. Anthony Quinn rounds out the top three billed actors as the ruthless Captain Roc Brasiliano and proves to be a wily and capable nemesis for Brian Hawke (Flynn). For the classic adventure fan, \"Against All Flags\" is a must-see. While it may not be in quite the same league as some of Errol Flynn\\'s earlier work (Captain Blood and The Sea Hawk, for instance), it is still a greatly entertaining romp.'\n",
            " b\"Alicia Silverstone is very hot, though the title of this strange looking thing really sucks.<br /><br />When rich chick Alicia fakes her own kidnapping by locking herself in the trunk of her car in order to get attention from her elusive father (Jack Thompson), a car thief (Benicio Del Toro) steals it while followed by two lowly hoodlums and Alicia's anemic uncle (Chris Walken) who wants to bring her back to Daddykins. <br /><br />Alicia is beautiful and Benicio is handsome in this light romantic-comedy, though all the car trunk scenes will make you look at your watch.\"\n",
            " b'This could have titled \"Issac Newton\" because the story bears about as much of a resemblance to his life as it does that of Wyatt Earp\\'s. Some filmmakers will never learn that the truth or a semblance of it can be just as interesting as their imagination. This movie is a historically inacurate tale purporting to be about Earp and is actually nothing more than a plotless, western soap opera with some shootings. I gave it a 2 out of 10 instead of a 1 simply because the visual effects and cinematography are good.'\n",
            " b\"This film is highly reminiscent of another film, LA TERRA TREMA. Both might be considered Italian Neo-realist films, though LA GRAND STRADA AZZURA does feature a big-name actor in the lead (Yves Montand) and a big budget--somethings that a Neo-realist film cannot have to be technically this type of film. However, I am apparently one of the few reviewers on IMDb that really disliked LA TERRA TREMA--because the acting was so incredibly amateurish as well as the lousy camera-work. Instead, LA GRAND STRADA is beautifully filmed in color and Montand is the centerpiece around which all the non-professional actors are anchored.<br /><br />The film itself is also a little more exciting because it deals not just with a family of fishermen like the other film, but a family that illegally uses homemade dynamite to fish!! And the negative impact on the fishing industry and the other fishermen makes for some great tension. While this certainly isn't a great film, it's a very, very good one and has an excellent ending to wrap it all together.<br /><br />By the way, do not get the idea that I dislike Neo-realist films and prefer big-name actors and budgets. No, I actually love movies such as UMBERTO D, MIRACLE IN MILAN and THE CHILDREN ARE WATCHING US (all by Vittorio De Sica)--it's just that there are also a couple truly awful and amateurishly made Neo-realist films as well that I really hate--and apart from STOMBOLI, LA TERRA TREMA is probably the most boring and unwatchable Neo-realist film I have seen. You are MUCH better off just watching this film--it's very similar but interesting--and avoid LA TERRA TREMA unless you are a masochist and you actually like very slow and miserable films.\"\n",
            " b'After reading the novel, I am usually disappointed by the screenplay, but not in this case.<br /><br />The story is preserved and is magical in this film. Romola Garai is brilliant as the young Cassandra, but all of the characters are strongly played.<br /><br />The soundtrack is fitting, and the settings work well. The characters traits develop smoothly and interact believably. This, to me is proof that with a great storyteller/writer, cast and director, time and care; something true to itself can be produced.<br /><br />I just wish there were more films made to this standard.'\n",
            " b'This mini series, which is based on the brilliant novel of Bulgakov, is NOTHING like the plot summery! The summery is just a disgrace for the plot! Woland (Satan) and his entourage are not shown as evil beings whose main purpose is to come between the Artists and Margaritas love. On the contrary, their main goal is to put some sense into corrupted human minds. In any case, the book himself is a wonderful book which gives you something to think about. And the series presents the book with wonderful actors and a plot which is one-in-one to the book (except, of course, for the little things that are not according to the book. But what can you do? No movie is exactly what the book says). I give it 10! 10 for the book, and 10 for the series!'\n",
            " b'...and being an icon of outrageously glittering entertainment, people resent their idea of a scatterbrain can actually being able to act and speak like normal people. If you stop to think seriously about it, you\\'ll have to admit she\\'s convinced us she\\'s having a wonderful time in her costumes-that-weigh-a-ton numbers, or maybe 2 ounces.....not for a couple of years, but for decades. THAT\\'S ACTING ! Most pop-artists don\\'t last more than a couple of years. Madonna is successful because she \"re-invents\" herself, we tell ourselves, but is a DREADFUL actress......well, maybe \"Evita\". Cher makes no pretense: \"this is it, folks.\" This movie is a good example of just getting lost in one without having to be overly intellectual. The twists in the plot are not earth-moving, but keeps me interested all through it. I, too, wondered why \"Michael\" was even in the plot, except to make for some scary scenes - worked for me. Also doubted the victim\\'s auto would be left in the parking-lot, intact, for so long.....but, I got over that without having a coronary.<br /><br />The first scene with The Justice giving a \"clerk-typist\" an envelope with \"hope it\\'s sufficient - use it well\" should tell you right now there\\'s some hanky-panky going-on. Perhaps we tend to believe that justices in The Supreme Court are angels, and have no human frailties? Hey - they\\'re APPOINTED by presidents, not elected. You think president\\'s don\\'t have agendas ? Wow! how naive you are ! Because the locale is D C, the incentive for ambition should always be suspect - politicians don\\'t REALLY get there by kissing babies.<br /><br />Since \"Suspect\" has been released, we\\'ve had several good movies that depict just how our justice-system often works. With professional \"juror-pickers\" knowing every time you break wind, it\\'s a toss-up whether the jury-system or a panel of judges should try EVERY case - BUT, both groups are homo-sapiens....lots of room for vulnerability and plain-ole stupidness and discrimination in there. The best way to remain \"unjudged\" is to be good and not get caught in situations you have to be......<br /><br />Dennis Quaid was great - I\\'m not familiar with Paul Mahoney, but his role was well-played. Also didn\\'t know who Liam Neeson was at that time, but sure thought he did his role VERY well. The ending scene was surprising to me, because I suspected that OTHER justice-dept guy......<br /><br />I get my VHSs and DVDs from eBay - why pay $10.00 for a one-time shot in the theater, when the same amount lets you watch whenever you want - even if it isn\\'t so often, and only for a change of pace? I\\'m one of those guys who can enjoy a movie if you give me a running description of the movie while watching it - but, I also like watching alone at home.....the restroom is a LOT closer !!! Lighten-up, Guys - this is a movie to be enjoyed without having to wrack your brains to figure-out. Gets a 9 from me -'\n",
            " b'Exciting, suspenseful and tightly woven suspense drama.<br /><br />Cher proves she can ACT.<br /><br />You probably will not immediately recognize Liam Neeson in the role of the deaf, mute, shell-shocked Carl Wayne Anderson.<br /><br />For someone that does not speak for the entire film he turns in a stellar performance.<br /><br />Dennis Quaid is very good as the juror that steps outside his assigned duties as a juror and becomes a detective.<br /><br />Also John Mahoney is almost unrecognizable as Judge Matthew Helms -- a polar opposite from his \"Frasier\" character.<br /><br />When I spoke to Tom Barbour (Justice Lowell in this film, stage actor and the father of Dudley Moore in the \"Arthur\" movies) he said when he got the script he was thrilled -- the film opens with him, it took place in his office, he had every other line, and then on page three -- well I guess you will just have to see it.<br /><br />Surprise ending goes right up to the last couple of minutes -- prepare to be shocked.'\n",
            " b'Thanks to Warner Archive, I can once again see this mammoth variety show which throws in everything but the kitchen sink. (The bathtub, however is present.) This film gives screen time to every person who was under contract to Warners at the time. If some of the artists seem unfamiliar to some, it is because they were big in the silent days, and most faded with the popularity of the talkies. There are some truly remarkable artists from the vaudeville era as well. You will be most impressed with Winnie Lightner, who performs two numbers. Also there is that French star, Irene Bordoni who croons a love song in a sexy manner. Perhaps one of the biggest highlights is the two-strip Technicolor \"Chinese Fantasy,\" which has been restored for this version. It is truly beautiful and it stars Myrna Loy and Nick Lucas. Finally, there is the massive \"Lady Luck\" finale which goes on for nearly a quarter of an hour. This is truly an epic of the early-talkie era. Any old-movie buff will love this.'\n",
            " b'This \"film\" attempts to follow the genre of low budget, hand-held camera flicks that have proved to be very effective and successful.<br /><br />This one, fails, and HOW.<br /><br />It\\'s amazing how many so called \"awards\" this piece of garbage has got plastered on the cover..... it makes you wonder what these critics were on when they actually submitted this....<br /><br />Words fail to describe just how absolutely appalling this movie really is. Seriously, it\\'s THAT BAD.<br /><br />I watched it in 20 minutes flat, on almost continual fast forward.<br /><br />From rubbish lighting to dreadful directing, grainy visuals to muffled sound, and of course not forgetting the ABYSMAL acting, this was one completely and utterly pathetic piece of so-called film making.<br /><br />It seriously, has NO redeeming qualities - whatsoever. Save your cash and watch a decent low budget horror flick, there are plenty out there - Dead End, The Blair Witch, REC, to name but a few.<br /><br />AVOID this rubbish at all costs. DO NOT waste your money or time on this piece of trash pretending to be an actual film.<br /><br />Take heed of all the other comments! You\\'ve been warned!'\n",
            " b'It is perhaps inevitable that Broken News will be compared to The Day Today. Although The Day Today is probably the funnier of the two shows, I don\\'t feel that this means Broken News should be written off as a waste of time. Both shows may be satirising the same subject, but they choose different ways to do it. Broken News perhaps stays closer to the real thing while The Day Today chooses to get a bit more surreal with the stories they report. Despite the similarity between the two shows, I don\\'t get the feeling that Broken News is trying to copy The Day Today.<br /><br />The back of the DVD box says the show satirises \"the on-screen world of rolling news where there\\'s too much airtime and not enough news to go around\". That\\'s a pretty accurate summary of the show and some of it is cringingly familiar. The recognisability of it makes it even funnier, especially when you then go back and watch the real news and see those things happening there. Some of the parody is actually pretty close to reality.<br /><br />The show holds up to repeat viewing quite well. Many of the jokes are quite subtle and it\\'s easy for them to slip past you the first time. There are also the ticker-tape messages scrolling across the bottom of the screen which you tend not to read the first time you watch an episode. I found these particularly funny in the \"hijack\" episode (which is also my favourite episode).<br /><br />The large cast did help to lend an air of reality to the whole thing and virtually all of them were convincing. Having real Americans playing the American newscasters was also a nice touch which could have easily been overlooked.<br /><br />My only complaint was that the same jokes did get used in several episodes. In some cases this worked well, but in other cases I did feel like hitting fast-forward. However, the \"channel hopping\" format of the show actually works in its favour here as it helps segments appear longer than they really are without drawing a joke out for too long.<br /><br />If the BBC commission a second series, I hope they add more writers. I think there\\'s certainly scope for more, although the stories would probably be more surreal in order to avoid going over too much of the same material from the first series.'\n",
            " b'Great satire of the modern greek -tsifteteli, souvlaki, xavale- society given with a great political sense and fair doses of clever humour. The dialogues are inflammable and the interpretations are excellent. ( both Zouganelis and Boulas in the leading roles are very much worth being noticed)'\n",
            " b'Not even Goebbels could have pulled off a propaganda stunt like what Gore has done with this complete piece of fiction. This is a study in how numbers and statistics can be spun to say whatever you have predetermined them to say. The \"scientists\" Gore says have signed onto the validity of global warming include social workers, psychologists and psychiatrists. Would you say a meteorologist is an expert in neuro-surgery? The field research and data analysis geologists are involved in do not support Gores alarmist claims of global warming. As one of those geologists working in the field for the last 40 years I have not seen any evidence to support global warming. My analysis of this movie and Gores actions over the last couple years brings me to the conclusion that global warming is his way of staying important and relevant. No more, no less. Ask any global warming alarmist or \"journalist\" one simple question- You say global warming is a major problem. Tell me. What temperature is the Earth supposed to be?'\n",
            " b\"Limbo are one of those seldom little qualities that one is lucky they found. The film just has such a gripping storyline that leaves allows one to interpret it in so many numerous ways. Then the black and white look that keeps you edgy through the whole movie is truly excellent and the score by Andy Daniels is incredible in my opinion. This really is a film that everybody needs to own, ESPECIALLY, aspiring filmmakers. I still find it outstanding, being a filmmaker myself, that Ikimi managed to assemble a crew this good to produce such excellence for a meagre $9,000. I just hope that it can come out soon on DVD so that I can watch it again as I am really desperate to do so. <br /><br />Hopefully, those 'directors' in Hollywood can take note of the brilliance of Limbo. It really is a great effort by the whole crew that was assembled. Well done\"\n",
            " b\"Ok, so, this is coming a few weeks late, but it is here. Mostly, this is because of statements of various negative natures. Starting with the technology. When Star Trek: TOS ran, special effect technology was extreamely low tec, and more than that, the crew had little money to do any kind of proper mock ups. In the 35 years seince TOS premiered, the crew of Star Trek have become experts at economy.<br /><br />Ultimately, they have decided, quite rightly in my mind, to abandon the look of TOS and reverse engineered TNG et all. So what if they decided not to make the transporter out of gold glitter or made the phase pistols look closer to the ones from Star Trek II? As for the nits being picked about first contact with the Klingon Empire, it was presumed based upon comments made by Kirk and Riker that Earth only met the Klingon's in 2200. Nothing was firmly established.<br /><br />Enterprise gives us the most promising venue of exploration that we've seen in a while. This is what Voyager COULD have been. No series can evolve without a few inconsistancies, but be thankful that Star Trek has so few. So, quit gripping and enjoy.\"\n",
            " b\"Cannon was an excellent tv movie and resulted in a successful series that ran for 5yrs.<br /><br />William Conrad was brilliant as the overweight Private Eye Frank Cannon.<br /><br />He proved that you didn't have to be good looking or a super hero to be a good detective.<br /><br />So he was fat, so what, he was an everyman detective and an ordinary guy that you might see in the street who happened to be overweight.<br /><br />Despite this he proved he was intelligent, quick witted and he had a number of smarts to outwit his opponents, but he was also capable of looking after himself physically when the situation arose (he was an expert in karate, being overweight does not mean you can't handle the rough stuff when you need to, my judo instructor was 19st, the same weight as Cannon, but boy could he move fast when performing various judo throws and moves).<br /><br />I am 19st myself, but I know that I can look after myself when need be, with my experience of judo.<br /><br />Remember Cannon was cunning and knew that his size might get in the way of the physical rough stuff, so he planned his moves carefully and used short swift karate & judo moves to gain the upper hand of his opponents.<br /><br />He proved that a fat man could look after himself and that he was more than capable when it was needed to deal with violent crooks.<br /><br />If he was ever attacked and beaten up, he usually got his revenge at the end of the story one way or another.<br /><br />Also it has to be remembered that Cannon carried a gun. He was an expert with firearms and an excellent marksman (as was William Conrad in real life)and was a competent driver in his Lincoln Continental.<br /><br />All in all Cannon was another good tv detective series of the 70's, which sadly has given way to the over violent and over done crime films & television series of today, which to my mind lack story content of these old tv detective series of yesterday, which had good story content without the need for over the top violence.<br /><br />I hope to see video releases of this series soon.\"\n",
            " b'Ahhh... There\\'s nothing like the holiday season! Family reunions around the big table, presents for everybody and the kids playing all night long after Santa Claus\\' visit. Movies set in Christmas are always the kind of production which enhance our mood, touch us and make us feel better... Is it? <br /><br />Not anymore. Because \"Die Hard\" is set exclusively on Christmas Eve, but it has nothing to do with Santa, elves or Frosty the Snowman. It simply is the catalyst of the blockbuster generation of the 90s and it\\'s also one of the best action movies of all time.<br /><br />The movie is about a group of European terrorists (they\\'re German, actually) who plan to steal $600,000,000 from Nakatomi Plaza\\'s vault, in Los Angeles. By the way, for those who didn\\'t know it, the Nakatomi Plaza building is exactly the same than 20th Century Fox headquarters.<br /><br />The group is led by Hans Gruber, one of the most interesting villains portrayed for a while and Alan Rickman\\'s best role to date. What distinguishes Gruber from the other master criminals is his great intelligence, his apparently high level of education and erudition and his careful plotting of the heist. He always seems to know what he is doing, what he has to do, what is gonna happen and what to do if there is any hitch. He looks like a modern Phileas Fogg. This is almost scary, because we can ask ourselves: \"How could we beat this... machine?\" <br /><br />Unfortunately for Gruber, there is only one little thing (and a considerable one) that he didn\\'t count on: John McClane (the one and only Bruce Willis, in his breakthrough role). McClane is a NYPD cop who came to L.A. to visit his wife Holly (Bonnie Bedelia), but he was able to escape himself from the terrorists when they invaded the building. Now, he\\'s the only one able of defeating the terrorists and he\\'s gonna have to use his brains, his guts and his muscles in order to stay alive and save everybody.<br /><br />McClane is first depicted as a mildly-reclusive, word-avid cop, but he quickly becomes wild after the terrorists\\' takeover. And his heroic actions throughout the entire movie make him one of the coolest heroes of the last years, along with Indiana Jones and James Bond.<br /><br />The action scenes are greatly orchestrated by action maestro John McTiernan (known at the time for \"Predator). Not only do they figure bloody battles, explosive gunfights and eye-popping pyrotechnic effects, but they\\'re filmed in unique and interesting ways. Here are some examples: After Harry Ellis is shot, we can watch Gruber talking to the police via walkie-talkie... throughout holes made in Ellis\\' head. And there\\'s also these scenes where McClane shoot two terrorists in the legs, making them literally blow out with blood.<br /><br />Gunfights are unrelenting and we could believe that there were as many bullets shot in this film as in an entire war.<br /><br />And for dessert, what about two great bombings inside the building itself? First, there is that unforgettable and visually-dazzling massive explosion made by McClane with a \\'bomb chair\\' and, second, that epic roof bombing, which can be visible from the far other side of the city.<br /><br />This is the great part of the visual. The less shining part is the light circles and ovals which constantly appear and disappear during nearly all the movie. This is very annoying and disturbing.<br /><br />Other than Gruber and McClane, there are only two very interesting characters. The first one is Gruber\\'s henchman Karl (Alexander Godunov). Just looking at him is dreadful. His eyes are aggressive, cold and piercing. And his indelible grimace render him menacing and serious. He\\'s that kind of guy with whom it is preferable not to make angry.<br /><br />The other interesting protagonist is Sgt. Powell (Reginald VelJohnson). He\\'s the only contact that McClane has with the exterior from inside his glass pseudo-prison. Together, they develop a close relationship with each other during the operation although they never see each other until the end, in a very heart-warming scene.<br /><br />\"Die Hard\" wins points for what it is and for what is has become. In 1988, it showed a whole new kind of action sub-genre: the die-hard genre, which is an action picture taking place in a restrained place, such as a skyscraper, a plane and so on... The hero was a real human being, instead of being a reckless soldier, a suave spy or a martial-arts expert. It is a great example of the near-perfect action picture. It\\'s \"Die Hard\" that launched a wave of big-budget action pictures, making the 90s what we could call the \\'yippee-ki-yay\\' generation.'\n",
            " b'Not as bad a film as i thought it would be.<br /><br />It has a good cast.Nice to see Roger Moore back on screen as well as the use of other British actors.<br /><br />Would like to see more of Olivia D`Abo in future projects.Maybe starring opposite her cousin the sexy Maryam D`Abo.<br /><br />Also a good use of unseen locations such as Luxembourg.<br /><br />Hopefully we will see more UK-European co-productions like this.'\n",
            " b'When he was younger, Thomas Seyr had a dream of becoming a concert pianist just like his mother but abandoned that goal when she passed away, taking the dream with her. Now, ten years later, Thomas, at twenty-eight, is little more than a professional punk whose job appears to be investing in shady real estate deals then using underhanded and sometimes even violent methods to evict those who cannot pay their rents or mortgages. However, one day Thomas bumps into his late mother\\'s agent who encourages him to take up music again. With a renewed sense of purpose, Thomas begins taking lessons from a beautiful Chinese virtuoso while, at the same time, attempting to pull away from some of the more unsavory elements of his life (including his own derelict father who he keeps having to defend against recalcitrant debtors). But he soon learns that renewal and redemption are often easier to dream about than they are to achieve and that the life we choose early on is often the life we have to live with.<br /><br />In an unusual trans-Atlantic turnabout, \"The Beat That My Heart Skipped\" is actually a French remake of an American film (it\\'s generally the other way around) - in this case, James Toback\\'s 1978 \"Fingers.\" Set in Paris, this is a subtle, low-keyed study of a man fighting the demons of his own personality while trying to turn around a life that has veered perilously off its original course. Working off Toback\\'s original screenplay, writer Tonino Benacquista and co-writer/director Jacques Audiard avoid making their points with heavy-handed melodrama, choosing instead to show us Thomas as he goes about the routines of his hectic daily life. Wisely, the film rarely makes moral judgments about the character; it merely records his activities, then allows us to size him up based on what we see. The fluid hand-held camera style employed by Audiard and cinematographer Stephanie Fontaine makes it feel as if the events were unfolding extemporaneously - that what we are witnessing is life caught on the cuff as it were. The filmmakers also don\\'t find it necessary to tie up every loose plot end or coddle us by taking the storyline where we in the audience think it should go.<br /><br />\"The Beat That My Heart Skipped\" would not be the success it is without the riveting performance by Romain Duris in the lead role. He brings such an intensity of focus and so much nervous energy to the part of Thomas that we cannot take our eyes off him for the entire hour-and-a-half-plus that he is on screen. He makes a morally ambiguous character both repugnant and strangely appealing at the same time. This is one of the strongest acting jobs of the past several years, in a film that provides a rich character study along with much fine classical music.'\n",
            " b'I got to see this just this last Friday at the Los Angeles film festival at Laemlee\\'s on Beverly. This movie got the most applause of all the films that evening. Considering that two music videos opened first, I didn\\'t know what to expect since they were very fast and attention grabbing, I wasn\\'t sure I was ready for a short immediately. But to my surprise I really enjoyed this. I thought the main actor demon guy was really good. I was so impressed with his performance that I checked out his name. I was surprised to see that this was the Witchblade guy. He\\'s gotten really good especially since then! Either that or he was given lousy roles or had been pushed by the director really hard for this short. The girl did an okay job. I guess its hard since it was her first performance and being so young. The dad did well also. There was a lot of really nice cg work for a short, both for this and the short playing next \"Mexican Hat\" which was also nice, but I enjoyed this the most because it had the most depth and emotion and I actually cared about the characters. The other was a very simple story. The story was quite illustrative and dark! It dealt with real topics using a more fantasy like approach to keep ADD people like me interested. We won\\'t even talk about the last film in the block which I left. My only complaint is that I only wish I had seen more of the demon character and a little less of getting started, which is why I gave it a 9 out of 10. I also thought the end credits went a little slowly. Otherwise it was beautifully told, directed and edited. The timing was very nice with a complete change from the fast MTV editing done on everything nowadays. There will be more coming from this director in the future as well as the actor. I now will think of him as the Sorrows Lost actor not the Witchblade guy.'\n",
            " b'One Down, Two to Go may rank a few notches beneath other celluloid team-ups with these stars, but it definitlely has it\\'s share of fun moments. Jim Kelly\\'s character is wounded for most of the movie, but it\\'s always a pleasure to watch big bad Jim \"SLAUGHTER\" Brown team-up with Fred \"The HAMMER\" Williamson! Especially when Richard \"SHAFT\" Roundtree is in the mix! One Down is no Three the Hard Way, but there\\'s just nothing like the spectacle of the Hammer uttering the immortal line \"Back off Mojo! You may know Kung Fu but I know Gun Fu!\"! LOL! One Down, Two to Go is a cheesy blast of fun that goes best with favorite beverages, good popcorn, and a room full of rowdy B-movie lovers.'\n",
            " b'**SPOILERS** Brain-numbing film that\\'s a movie within a movie with a number of confusing dream sequences added on as well. <br /><br />Beautiful but unstable motion picture actress Rebecca Fairbanks, Elizabeth Hurley,had been off the silver and big screen for three years. Rebecca is now attempting to make her big comeback in the movie role as turn of the century serial murderess Belle Gunness \"known as the Black Widow of the the America Heartland\" who killed 42 people in he early 1900\\'s.<br /><br />Determined to make her comeback in the movies a smashing success Rebecca trying to get into the role, using method acting techniques, lives on the set where the film\\'s being made in off all places Romania! the home of serial blood-sucker Darcula. Later she even becomes a murderous fanatic to get the \"feel\" and \"state of mind\" of what Belle Gunness was in at the time she murdered her victims.<br /><br />Pushed by her stage mother Mona, Carmen Du Sautoy, and having her co-star movie leading man and heart-throb Jake Fields,Jeremy Sisto,who had an affair with Rebecca three years ago that lead to her getting pregnant having an abortion. Jacks affair almost had him lose his wife Bethany, Hanna Yellard, because of it putting her, Rebecca, into such a deep depression over the whole mess that she hadn\\'t made a movie since. Jake promising his wife Bethany who\\'s there to make sure that he keeps he feeling, as well as pants on, for Rebecca in check and that he\\'s only in love with her and no-one else. Bethany also wants to make sure that the hot and heavy work Jack\\'s doing in his love scenes with Rebecca on the set are strictly professional and nothing more, ha ha ha. <br /><br />On the set Rebecca is more then in her role as the psycho-killer Belle Gunness by overdoing some of the murder scenes that\\'s she\\'s, using axes and knives, in. Rebecca\\'s method acting techniques cause a number of actors in them with her to get medical treatment. There\\'s also a number of people in and around the movie set that end up getting brutally murdered including both Rebbeca\\'s mom and Jake\\'s wife. Rebecca early in the movie drives out to a nearby town and picks up the local bar/saloon stud who also ends up dead with his throat slashed, was this her way of perfecting her acting as a serial murderess?<br /><br />With the exception of one of the actors in the movie, who Rebbeca smashed his head in with her new found method-acting skills, we don\\'t know for sure if she\\'s really responsible for all the murders off the set. Even when the movie is over her involvement in them is still up in the air and unexplained to the audience by the director and writer of the movie \"Method\". <br /><br />We also see the ghost of the real Belle Gunness, Loana Prvelescu, pop up every now and then in the movie giving Rebecca tips and advice in killing off her cast members in the film. \"Method\" looks as if it wasn\\'t finished and just slapped together to get it released as if it\\'s some kind of abstract art-film that only those who are really \"hip\" and \"with it\" could understand what it\\'s all about. <br /><br />Even the scenes in the movie that Rebecca is staring in come across more convincing and realistic, then those that are supposed to be not before the camera, with Rebbecca and Jake having their affair rekindled after three years.In fact the love scenes that take place in the movie with Rebecca and Jake, playing their roles of Belle and her lover Ray, are far more hotter and convincing then the ones where their in bed and getting it on as Rebecca and Jake. <br /><br />The movie ends with a really out-of-this-world dream sequence that gives you the impression that Rebecca either kills herself or Jake or both with the encouragement of the ghost of the evil Belle Gunness. It\\'s then that it switches to Rebecca playing Belle as if that scene was put in by mistake with the film editors not knowing that she was either dead or imprisoned for what happened in the previous scene!'\n",
            " b\"Casper Van Dien is one of the worst actors I've seen in movies today, but he is particular bad in this terrible shark movie which is completely devoid of good action, horror, and fun. If you are looking for a shark movie without much of a plot but with fun moments, check out DEEP BLUE SEA (7/10), the more expensive and superior shark movie that came out the same year, but do not watch SHARK ATTACK.<br /><br />3/10\"\n",
            " b\"The worst movie I've seen in a very long time, granted I don't deliberately set out to find horrible movies to watch. Banal dialog, callow story telling sense, and (except for Lance Henriksen) tumid acting.. People who make these movies should be throughly castigated. (hey, the movie was terrible. Gotta have fun writing my review..). The first half of the movie is a mess, needlessly jumping around in time 3 days ago, an hour ago. The rest of the movie is filled with drastic over explanation of points the audience throughly comprehends and with 'intelligent dialog' that the majority of viewers actually found intelligent back when they themselves were asking the same questions when they were 9 years old. Pointless, confusing ending (she was the one who was supposed to be able to kill him because she had an abortion?? because..? Abortions are magical, mystical events that empower you to kill the metaphysical metapycho??) The tacky explanation of what happened to everyone after the end of the movie in the This-was-a-true-story manner of simply splashing some text is even more annoying here than in the 'true story' flicks. Production quality was good though ie. the autopsy scene, cinematography in general (cept for the shot-on-video look).\"\n",
            " b'Set in the Japanese gangster underworld, Sonatine gives insight into not just Kitanos Murakawa character, but also Japanese culture and behavior, which is quite different from the Scorsese school of western films. Sonatine presents a real story of the mobster tired of a trade he is being squeezed out of by rivals. Kitano is clearly a \"less is more\" type of actor, but more is shown in his gaze than any other actor, something anyone knowing \"Beat\" Takeshi\\'s troubled history will understand. Takeshis stand up history also comes across in Sonatines several humorous moments, such as the William Tell sequence on the beach. The cinematography is also absolutely beautiful, nice and simple static shots plus some pretty locations, such as the beach. Sonatine is recommended for its mixture of action, humour and poetically alternative performances.'\n",
            " b'Yes, as the other reviewers have already stated, this may not be vintage L&H but it\\'s far from being their worst work as at 20th Century Stupid...I mean Fox. This film certainly has all of the basic ingredients for things to go wrong for the boys. But it\\'s their serious approach and determination that makes them funny. They don\\'t play it for laughs as other comedians might but they take their work and situation quite seriously and that is the essence of their eternal humor. In this film, they are faced with some basic issues that really might be encountered by any one of us today, namely job related stress. First, we would get checked out by a doctor and he would prescribe some much needed rest and perhaps staying by the sea. That\\'s where the surrealness comes in to all of this. L&H always take a most plausible set of circumstances and exaggerate it but never to the point of being incredible, except maybe once in awhile. This makes us laugh because we can relate to their self caused predicaments and attempts at extrication. That\\'s what makes Stan and Ollie universal in their appeal. In this film all those ingredients are presented in a delightfully artful and gracefully slapstick way. Not their best in comparison to their earlier work probably because this was the actual last film they did for Roach because he wanted to mirror the \"big\" studios and go into making features exclusively and also wanted to hurry up and finish their contractual obligation. BIG MISTAKE! They should have all stayed together and continued for maybe five more years. What the world may have missed in their not considering this as an option. Watch, laugh, and enjoy this as their last great performance.'\n",
            " b'Well what can be expected with zero budget. On the other hand the movie has some highlights and it turns out just like the movies we make here for zero budget. Fun to watch for those who understand the background and a complete waste for those who want mainstream. My best moment is when the \"Butte Police\" character is at home and wastes some time in the sofa and stares around thinking of something to do. I guess the script said \"sit in the sofa\" and he had to think of the rest himself. I recommend it for people who makes home action movies for fun. There are some good punch-scenes also and some that could benefit from some more timing..'\n",
            " b'Tim Blake Nelson takes his stage play--an adaptation of a book by Miklos Nyiszki--to the big screen,and what a story it is! <br /><br />An unthinkable,unconscionable deal has been worked out between a certain group of Nazi death camp inmates and their captors: in order to avoid the ovens(in all likelihood,only temporarily),these inmates would use their talents(among them,musical) to placate and ease along the funneling of other Jews and \"undesirables\" into the death chambers. A strong cast and an even stronger screenplay/script is augmented by very intelligent cinematography. Particularly good turns by David Arquette,Steve Buscemi,Daniel Benzali and Mira Sorvino as the inmates,all desperate,all convinced of what they have to do to survive and in Arquette\\'s character\\'s case,not even certain if it is even worth it.<br /><br />It would be tempting to slam \"Schindler\\'s List\" after seeing this,but I won\\'t. SL is meant as an epic,a tribute,a story of the upside of surviving through the most dense of human tragedy,whereas GZ is a decidedly darker exploration of what happens to people in the same situation but are pushed into much less noble,much more selfish and desperate devices. Both are strong examples of the genre,but where GZ triumphs is that that it explores the most damning actions through the consciences of people faced with decisions that nobody should have to make. It is an unflinching portrait of a dark chapter in human history,rife with detail and completely lacking of lecturing. THis film is for anyone who wants to see an unvarnished and stark portrayal of the human condition brought to its lowest denominator. A must-see for college classrooms and Holocaust museums anywhere!'\n",
            " b'A work of art. Shows money is not every thing was the thing on my mind I was to say.. Ironic... a little more thinking on the subject, money became something. or is it not? no matter what.. this work is a great combination of directing and acting.. worth to think about it..'\n",
            " b\"I used to be a big fan of horror movies, but got tired of the usual slasher movies produced today. What made Head Case so appealing to me is that not only is it realistic, but the premise of it is entirely possible and I admit, while sitting in the theater enjoying this independent thriller, I ran through a mental list of my own neighbors. It's gory, exciting, humorous at times....all in all, it's the best horror movie I have seen in years. I applaud Anthony Spadaccini for coming up with an original idea and also applaud the cast who did such a wonderful job portraying these characters. The movie will not disappoint, but it will leave you wondering exactly where the main character ended up and exactly what (and I'm not sure I really want to know) happened to the daughter.\"\n",
            " b\"The Judges make this show horrible and I will not be watching in the future. The one judge x's everybody before they start and then when the other two don't because they want to give the talent at least a chance to perform, he reaches over and x's their buttons for them stopping the talent. He is a joke and needs to be muzzled or this show will not be successful!!! Also why do they X talent and then still send them through?? Do they have a clue??? The judges think people tune in to watch them. No we tune in because we want to see the talent good or bad. Take the x buttons away from them, they don't know how to appropriately use them and the show is very aggravating to watch because of it.\"\n",
            " b\"I just saw this movie last night and, being someone who had very low expectations to begin with, was still disappointed. The most glaring error in this abomination of a movie is that the main plot point (the guy being awake during the surgery), had NOTHING to do with the outcome. It would have ended the same way regardless. So, what was the point of this? Who knows. Also, this surgeon had 4 malpractice suits against him and he didn't think people would ask questions if a patient died on his table? Give me a break. Jessica Alba is completely talentless and Christiansen is almost as bad. The whole thing was just laughable from start to finish. I'm fairly certain that if you could feel someone cutting through your chest with a scalpel, you would be in more pain than that.\"\n",
            " b'Given the A-list pedigree of the cast, this is one baffling relic of a brief and long-gone period of our cultural history. Soft-core fanatic Roger \"Barbarella\" Vadim teams up with Star Trek creator Gene Roddenberry (of all people!) to produce this shameless exploitation flick. Granted, it was based on a novel, so I suppose writer/producer Roddenberry can\\'t receive all the blame for this mess. But the fact that he chose this particular material for his one and only non-Star Trek feature film sheds new light on the ultra mini skirt, coconut shell bra, and Captain-Kirk-seducing-every-buxom-alien-in-the-galaxy fixation of his series. All the girls in this high school are centerfold wannabes, disrobing and literally throwing themselves into the arms of married football stud Rock Hudson. Teachers having sex with students on campus grounds is treated with an off-hand \"lock the door.\" (And believe me, I am by no means a prude when it comes to the complex issue of teenage sexuality.) Hudson essentially pimps out substitute teacher Angie Dickenson to his young virginal prot\\xc3\\xa9g\\xc3\\xa9, while she makes her own fierce attempts at getting into Hudson\\'s drawers. Whew! I realize this was the 70s when free love reigned, but maybe the original novel gave better psychological background for all this casual bed-hopping. I won\\'t even get into the whole murder mystery angle of the story, but the appearance of a serial killer in school is treated with the same shrug of indifference by the characters as their fixation on sex. This film is not outrageous enough to be camp, and not dark enough to be creepy, but just another sorry addition to Roger Vadim\\'s irrelevant cannon of work.'\n",
            " b'Today I had the pleasure of screening this film for an upcoming film fest. We are in the proses of picking films and I have watched many duds. This one I through in with no idea what I was watching and was amazed. The story was a lot of fun. The characters very natural and well acted. The script also natural and witty. The Directing was great. The production value was better than most Hollywood family films. A lot of people will compare this to such films as spy kids or catch that kid but this one has far more real characters. It is not a totally clean G rated film it defiantly hits a PG mark but in the same way that Second hand lions did for some realistic fist fights as well as a few people shot. If I have my why this will head up the family portion of our festival.'\n",
            " b'\"Say, Jeff,\" says Frankie (Frankie Darro), a student at Rawley University who is doing some biology homework, \"do you know how the head is formed?\" \"Well,\" says Jeff (Mantan Moreland, bugging his eyes and rolling his head), \"I\\'d say it starts at the base of the spine and works its way up to a lump.\" <br /><br />That\\'s as good as Let\\'s Go Collegiate gets, folks...except for two things, and one of these depends on how old you are. The movie is a dispensable programmer, one of thousands churned out quickly by studios (Monogram, in this case), which had minimal budgets and shooting schedules and, often, minimal plots. With Let\\'s Go Collegiate, Frankie Darro plays the coxswain on what might be Rawley University\\'s first champion rowing team in 15 years. When Bob Terry, the new star stroke for the team, who hasn\\'t arrived at Rawley yet, gets drafted, Frankie and his pal, Tad, spot a big guy, Herc Bevans, hefting a safe on the street. They immediately decide to recruit him for the team and substitute him for Terry. That way their girls will continue to think they\\'ll be heroes when the team wins the big race. Of course, the big guy is prone to sea sickness, Frankie and Tad may get booted off the team because they\\'re spending so much time coaching Herc that their grades have slipped, their girl friends have fallen for Herc, their coach loses his glasses, and Herc has a secret that\\'s discovered only after the team wins. <br /><br />As one of several popular movies Frankie Darro starred in with Mantan Moreland as his pal, always named Jeff, this one isn\\'t much. Moreland gets stuck with all the stereotypical mugging and dialect that passed for racial humor back then. The acting is self-conscious. Collegiate movies about the big game were a clich\\xc3\\xa9 even in 1940. So what are the two exceptions? First is one excellent song sung at a fraternity/sorority dance by Gale Storm. She plays Midge, seventh billed, and is one of the girlfriends. The song is \"Look What You have Done to Me,\" music by Edward Kay and lyrics by Harry Tobias. It\\'s a bright, swinging song with a smooth melodic line that takes a couple of unexpected turns. It\\'s a quality song and you\\'ll never hear it unless you slog through Let\\'s Go Collegiate. <br /><br />The second exception depends on how old you are. Barton Yarborough, a journeyman film actor who made 17 movies in the Forties, plays the role of Coach Walsh. For those of us old enough to recall sitting around the radio in the evening, Yarborough was Doc Long, one of the three major characters in perhaps the greatest adventure series on radio...drum roll, please...\"I Love a Mystery.\" It went on the air in 1939, became hugely popular and then sputtered out in 1952 as television took over. Jack Packard was the tough, smart leader of the three, Doc Long was the ebullient one, always ready for a fight or a laugh. Reggie York was big and strong, and fancied himself as much a ladies man as Doc did. They were old friends who started a detective agency in San Francisco. Most of the installments ran 15 minutes and Carlton Morse, the man who also created and wrote \"One Man\\'s Family\", wrote all. Jack, Doc and Reggie were always getting involved in dangerous adventures and mysteries, with lots of action and vivid situations. If you were sitting around your radio, you didn\\'t need CGI to visualize the worst that was happening. All this was delivered in your home every weeknight. One of the memorable things about I Love a Mystery was the opening theme, Valse Triste, a brooding, foreboding dark melody if there ever was one. <br /><br />Yarborough was born in 1900 and died in 1951. He played Doc Long until the last year of the show. He also was a key character in Morse\\'s \"One Man\\'s Family,\" playing Cliff Barbour when the series started in 1932 until he died. Yarborough had a distinctive voice that doesn\\'t seem like much when you see him in Let\\'s Go Collegiate. And he doesn\\'t look like how I imagined the young Doc Long. He used his voice memorably as Doc (and as Cliff Barbour). That was the point of radio. <br /><br />The impression of great adventures brought distinctively to life in \"I Love a Mystery\" is still vivid in my memory. Another radio highlight for a little kid listening alone one afternoon to, I think, Jack Armstrong, was when a beautiful and evil woman dispatched a victim by taking a hat pin from her hair and driving it into the guy\\'s ear. That sent me out running into the yard, where I stayed until someone came home. I was not about to take the chance that this woman and her hat pin might emerge from a closet and rush toward me. Those are the delights of a person\\'s imagination, free of the can-you-top-this curse of too much CGI. Give me a hat pin in the hand of a beautiful woman any day instead of an enhanced comic book hero flying through mile-high explosions.'\n",
            " b'I must say, this is one of the all-time worst sitcoms that I have ever viewed. It ranks right up there with Curb Your Enthusiasm as first rate letdowns. I went into this show really wanting to like it, but it gave me no reason whatsoever to become an avid viewer of the show. I gave it a two episode trial and didn\\'t laugh at a single \"joke\" that was presented in this lifeless, flat sitcom. This show gives \"dry-humor\" a whole new meaning.<br /><br />Having sat through the two episodes at my brother\\'s house, since I can\\'t bring myself to pay for USA\\'s Monk - the only watchable show on television today - I can breath easy, knowing that I am not missing anything worthwhile on the tube. Brent Butt, who seems to be lauded as a Canadian Jerry Seinfled, is the most colorless, lifeless lead I\\'ve ever seen in a sitcom. The writing for this show is clearly done by people lacking even a working knowledge of the word \"funny.\" The similarities to Seinfeld end with the basis of the plot - both shows being about nothing. Where Seinfeld was witty and had spontaneous jokes, Corner Gas builds up their jokes at such an excessive degree that you see them coming, ruining their value. A joke with an obvious punchline is dead-on-arrival, folks - just like this show.'\n",
            " b'I didn\\'t expect a movie as good as \"In The Line of Fire\" or an episode of \"24\", but it looked like this movie was made for TV and did a mediocre job at best. The (good) cast couldn\\'t disguise the fact that the plot was all too predictable and actors had to struggle (they really try their best I think) through their lines of bad script, giving their rather flat characters any extras. When I watched the movie I got the feeling that I had seen most of this in other (better) movies. In it you had car chases, big shootouts, romance, plot twists etc. etc; This movie has none.<br /><br />** Spoiler** As soon as you see another woman talking into the phone to Cuba\\'s character, you know who\\'s behind all this and all the hints you\\'re being given (\"you stand too close to the president, see it from my perspective..\" ) sound silly. <br /><br />If it were up to me (and maybe it\\'s a good thing that it isn\\'t) I would rewrite the plot like this:<br /><br />First lady orders the murder of her husband because she is sick and tired of writing checks to Cuba all the time.'\n",
            " b\"I've waited to see this movie for a long time and at last I could manage to see it in Istanbul Film Festival. Maybe because I expected too much from this film and that's why i was slightly disappointed. I was not the best movie from Korea but still it is really worth watching.<br /><br />The subject was nice and the film makes you keep watching without getting bored though it is long. But there are gaps in the movie and you jump from one point to another. However, the acting of Jeon Do-Yeon is incredibly beautiful. It was was one of the best performances in the early cinema history and I think this movie wouldn't be that nice if she was not in the leading role.\"\n",
            " b'I had the opportunity to watch this movie as a screener and was not shocked by its disappointment. This movie reunites Kristy Cotton(Ashley Lawrence)and Pin Head (Doug Bradley) for the 4th time and hopefully the last. The plot revolves around Kristys husband Trevor and his abnormal life after a car accident. Flashes of the cenobytes and pinhead and the fact that he cant remember the previous month causes Trevor to go insane. No one has seen Kristy for since the accident and the cops are thinking that foul play was involved and Trevor is their main suspect. Later on you start to realize what pain and anguish you have to go through to get \"all problems solved\".<br /><br />The problem with this film is that its lacking in what made the first 2 films popular. Pinhead and his cenobytes are rarely seen in this film and it lacks the hellish looks. The film starts to resort to nudity to help keep interest in the plot. The series would of been better if the creators would of stopped at bloodlines. It seems like the produces are milking this for all that its worth by coming up with plotlines that have almost nothing to do with the original film. There are no morals to the story and there is nothing you can gain by watching this film. One thing that this film can be praised on is the used of special effects and the sound track, which is a rarity in most direct to video releases. In conclusion I would say watch this film if your a huge fan of horrible rip offs of great 80\\'s horror movies. If you liked this film I would suggest Texas Chainsaw Massacre 4 The Next Generation.'\n",
            " b'The failure of this film can not be lain at the feet of the actors. They did the best they could with what they were given... this movie was just so horribly cobbled together by the writers no actor could have saved it.<br /><br />The best word I can find to describe this film is \"unstable\" - it starts out simple enough. A girl with special abilities needs to be transported from point A to point B and protected from people trying to kidnap her. Okay, so we make our way across a vaguely realized quasi post-apocalyptic Eurasia... along the way we catch glimpses of the girls abilities... she\\'s clairvoyant... she\\'s telepathic... she\\'s empathic... (but apparently has no amazing healing powers so there goes the second-coming premise) good stuff. So, sure we can see why many organizations might want to get their hands on her.<br /><br />So they\\'re at one stop off and the girl takes off with one of the groups. Exciting so Vin and Michelle will be chasing them across the world to get her back and... oh no wait... they catch up and stop them. Uh..okay, never mind.<br /><br />So then they toss in \"maybe she\\'s carrying a viral weapon\"... ooh! I don\\'t see why that would give her psychic powers but okay that would be a cool plot! Not sure why we\\'re changing plots a quarter the way in to the film but whatever.<br /><br />So we fight out way to the border with a few weak plot devices to make sure there\\'s only the 3 of them when they cross. So we\\'re at the border and Aurora (how old is she supposed to be again?) starts to make a lusty move on Vin... okay let\\'s toss in a romance... oh but they\\'re interrupted.. and... that\\'s it? It\\'s never brought up again?<br /><br />So the cross the border and fly to New York... well so much for transporting. So they get to New York and the religious sect shows up and it turns out she\\'s pregnant and not just that a virgin pregnancy! Ohhhhkay.... so we can just toss the whole viral weapon plot... And it turns out the religious sect want to use her to legitimize themselves. Never mind they already seem to be one of the most powerful organizations in the world somehow. So lets get this straight... Aurora was a virgin birth.. her twins are a virgin conception.. and Aurora has psychic powers. But for some reason the sect will be killing her. Right. That makes no real sense at all... but so now the sect are the bad guys, right.<br /><br />So they take her downstairs to deliver her when Vin has a change of heart and starts fighting them... with an army or Russian bikers and an army of sect goons standing around making sure he doesn\\'t. So they fight their way through and for some reason the Russians and the sect are shooting at each other? Whatever I guess... and somehow all this gunfire and launching of missiles doesn\\'t attract the cops.<br /><br />So we kill Michelle and kill Vin and we discover Aurora not only knows martial arts but also has telekinetic powers. Why the hell does she need protecting again?<br /><br />The movie could have ended there... say maybe use the premise she was just coming into her powers and when Vin dies it\\'s because she doesn\\'t need his protection any more. Ah - but that would be too easy.<br /><br />No, lets resurrect Vin with Bionic parts, reveal that the girl was manufactured (okay) and has a super computer for a brain (oh come on! give me a break!) and that her powers are coming from the twins (sigh). So he needs to find her and keep protecting her. What is this? A TV show pilot where they spend the first two seasons running from town to town evading the religious nuts?<br /><br />So he goes and gets her in the most obvious place the plot devices could have sent her and they defeat some more religious guys.<br /><br />Then flash forward and she dies in child birth (so much for super advanced medicine of the future when a healthy 17-18 year old woman dies in child birth) and makes Vin promise to take care of the kids.<br /><br />And we close with a scene of two racially different twins (oh sure... at this point whatever, right?) being cared for several years later by bionic Vin with a cryptic \"let\\'s go inside, there\\'s a storm coming\"... you SURE this wasn\\'t meant as a TV pilot?'\n",
            " b\"I've seen some crappy movies in my life, but this one must be among the very worst. Definately bottom 100 material (imo, that is).<br /><br />We follow two couples, the Dodds (Billy Bob Thornton as Lonnie Earl and Natasha Richardson as Darlene) and the Kirkendalls (Patrick Swayze as Roy and Charlize Theron as Candy) in one car on a roadtrip to Reno.<br /><br />Apparently, Lonnie isn't too happy with his sex-life, so he cheats on his wife with Candy, who's despirately trying to have a baby. Roy, meanwhile, isn't too sure if his sperm is OK so he's getting it checked by a doctor.<br /><br />Now, I had read the back of the DVD, but my girlfriend didn't, and she blurted out after about 20 minutes: 'oh yeah, she's gonna end up pregnant but her husband can't have any baby's'. Spot on, as this movie is soooo predictable. As well as boring. And annoying. Meaningless. Offensive. Terrible.<br /><br />An example of how much this movie stinks. The two couples set out in their big car towards Nevada, when they are stopped by 2 police-officers, as they didn't stop at a stop-sign. The guys know each other and finally bribe the two officers with a case of beer. Not only is this scene pointless and not important (or even relevant) for the movie, it takes about 5 minutes! It's just talk and talk and talk, without ever going somewhere.<br /><br />I still have to puke thinking about the ending though. Apparently, Roy ISN'T having problems down there so he IS the father of the child. How many times does that happen in the movies... try something new! The cheated wife ultimately forgives her husband and best friend for having the affair and they all live happily ever after. Yuck.<br /><br />Best scene of the movie is right at the end, with a couple of shots of the Grand Canyon. Why couldn't they just keep the camera on that for 90 minutes?<br /><br />One would expect more from this cast (although Thornton really tries), but you can't really blame them. Writers, shame on you!<br /><br />1/10.\"\n",
            " b'One of my personal favorites... can\\'t beat the classics, eh? This film is hard to come by these days but it is a definite \"gotta-see-it.\" Apparently an icy comet hit Venus around about now and made the planet habitable. The planet contains a population of relatively disillusioned human beings who, when not complaining or uni-bike racing, raise armies to try and control the planet. Bleak, eh? Our heroes are a bunch of hot-shot biker punks who team up with some rebels to fight the evil warlords... Good stuff. The animation is fluid and lovingly rendered... the sort of quality that made \"Akira\" so popular. Occasionally, live-action shots of what I assume are Arizona are incorporated into the backgrounds to give the whole film a \"real feel.\" Do not miss this film. Get it get it get it. There\\'s next to nil in the way of flesh, but that\\'s not important. Great plot, great action, great characters... not to mention some hilarious lines here and there for fun. This film makes a powerful statement about human nature.'\n",
            " b'I\\'m really confused by other users comments. After reading them I ordered a copy from the states as fast as my fingers could click to Amazon. I\\'m a huge fan of Lovecraft and to be told that this is the best film adaption of his work and that I\\'d never even heard of it made me think I was about to get my slime covered tentacles on a forgotten gem. Then it arrived and I must ask the other users, are you all completely bonkers? This is a terrible, terrible film. It\\'s badly lit, shot, edited, acted and scripted. When the femme non fetale first arrives at the PI\\'s office it\\'s this dreadful side shot which just sits there for about five minutes while the two of them fail to act in each others general direction from the opposite sides of the screen. The rest of the film seems to consist of either seen it all before POV\\'s or more of these overly lit side shots, I thought Dan O\\'Bannon could shoot films? Thank god the flashbacks break up the boredom. In a voice over Ward\\'s wife says something like \"He just left the party and said he had to do some work that couldn\\'t wait\", at which point Ward in the flashback says \"I have to leave the party to do some work that cannot wait.\" Brilliant! It goes on like that for an hour and forty tedious minutes with a couple of goofy and gooey effects don\\'t liven up the proceedings one bit, until it ends with Chris Sarandon hamming it up for all he\\'s worth while I considered hanging myself from the tedium of it all. Come on guys, us Lovecraft fans have to be forgiving occasionally by the general low quality and/or budgets of his related movies, but we shouldn\\'t let this film off the hook just because it sticks fairly close to the original story. I mean, Dagon is rubbish but at least it\\'s FUN rubbish, this is just plain dull.'\n",
            " b'My AP US History teacher recommended this film to my class and I think it was an exceptional work of art. I was compelled throughout the whole film, watching every single scene with interest. Bluteau does a great job with his character as a Jesuit Priest and I believe that watching this will boost my knowledge of the Jesuits and will help me later on with the AP History test. I feel that this film should have been more acknowledged amongst the \"society\" because it shows what a film really should be made of. Not all films are supposed to be action-packed, whereas this film touches the mind and maybe the soul of those who believe in the Native American spirits. I recommend this film to all who are interested in North American history or just want to watch a good movie. If you feel against this, email me for a good argument. =)'\n",
            " b'I\\'m always interested in seeing a horror/western and this unofficial sequel to \"Django\" directed by Sergio Garrone and starring Anthony Steffen promised to offer just that. But evidently my impression wasn\\'t positive. It\\'s promise of combining the two genres, was overblown. \"Django The Bastard\" tried to create a seemingly supernatural atmosphere while at the same time keeping as close to reality as possible. And it failed.<br /><br />Anthony Steffen stars as Django a loyal, honest soldier who is betrayed by his officers in the Confederate army and seemingly killed along with his whole detachment. Now he apparently has risen from the grave to exact his revenge. In the opening scene we see Django carrying a cross through town. He stops in front of a building, and pins it in the ground. The men inside suspiciously examine Django, while finally discovering that the cross bears the name of them. Further more, on it is written the day of his death, today. What follows is a traditional shootout that leads to the obvious conclusion, Django now triumphant proceeds to punish all those responsible for the death of his comrades and his in a similar fashion.<br /><br />This movie has often been compared to Clint Eastwood\\'s \"High Plains Drifter\", claiming that it\\'s more or less been the inspiration. Honestly the only similarity found in both these movies is that they are presented as quasi-supernatural westerns. On the threshold between supernatural and natural, both posses characters that could or could not be spirits of vengeance. Such story is not anything new though and tales of such content have long existed in the western mythology. But \"Django The Bastard\" suffers from the inability to exploit it\\'s features. The plot is shaky at best, often contradicting itself. At one point we have the titular character displaying unexplainable supernatural abilities, such as appearing from nowhere, disappearing, and even becoming transparent. While at another sequence Django gets, beaten, practically tortured, forced to run and hide from bad guy\\'s henchmen. These plot elements did a great job at leaving me confused, but did little in creating that mystical atmosphere which was the supposed goal of the entire film. Django didn\\'t feel supernatural because he was being beaten and didn\\'t feel real because at one moment he became transparent. On other points of interest, namely the acting. Anthony Steffen does have the intimidating look, but his performance was lackluster and quite frankly it was flat. Nothing different can be said about the supporting cast. There was not a single character that made an impression, in fact to be honest I forgot most of them shortly after I saw the movie.<br /><br />Cinematography was a mixed bag. There were some really nicely directed tracking shots and overall stable, camera work. But the shootouts were unimpressive. Gorrene could have at least tried to put some more work in creating memorable action scenes to compensate for the second-hand plot. Ultimately what we get is a series of boring, uncreative, unsynchronized shootouts. What\\'s even worse is that the gunned-down people tend fall in a slow irritating manner, it\\'s as if they are being careful not to get hurt. Hello ? They are a supposed to be dead. Finally, the last thing worth commenting, namely the score. It is as forgettable as everything else in \"Django The Bastard\" I was neither able to remember who composed or any specific tune.<br /><br />\"Django The Bastard\" might have a cool sounding name, but it doesn\\'t have much else to offer. It\\'s a forgettable experience failing to tap on it\\'s quasi-supernatural plot, with just a few minor sequences sticking out from the otherwise bellow-average presentation.'\n",
            " b'If you really want to make history boring, I advise you to see this epic 1949 flop.<br /><br />I imagine this misery was originally in black and white. Attempting to colorize it completely destroyed the texture.<br /><br />Fred March is the title role is totally colorless here as well as the writing.<br /><br />When the ships are at sea, the writing is so monotonous and it\\'s only mid-September 1492. You can actually start rooting for October 12th to come. When it finally does, Columbus encounters new world people who are as dull as the picture is.<br /><br />When he talks about a hanging, he brings in the name Haman. Were the writers suspicious that Columbus was really Jewish? At least, they could have played up that angle to make the film more exciting.<br /><br />His enemies in Spain never relented and Columbus was charged with thievery and ineptness and was brought back in shackles in a scene similar to Charlton Heston\\'s Moses coming in to the kingdom in shackles when it was discovered that he was the deliverer.<br /><br />Angry, that Ferdinand and Isabella have decided to keep him in Spain, he angrily retorts: \"My name will be long remembered long after they\\'re both dead!\" He walks off and the film mercifully ends.<br /><br />1492 also marked the inquisition of the Jews from Spain. We should have also inquired why this abominable film was ever made.'\n",
            " b\"You'll notice by the stars I've given this GREAT film that '...before you see it the first time,' is implied. I had never before heard of this film and happened across it just because this week (and last) was a very slow rental experience (not much great coming in). I'm not sure how this movie slipped past me -I love Lucy Liu and Jeremy Northam is great too. Still, it did.<br /><br />This movie is an awesome example of what to do if you don't have a large budget. It had just the right amount of plot and dialog to make it very interesting and keep the viewer in the dark; just enough. The entire film is you (the viewer) trying to figure out the plots many twists and turns. I would have given this film 10/10, however some of the shots were pretty fake looking. I don't hold that against this film too much, but I don't think it deserves a perfect score.<br /><br />Lucy Liu is beautiful and mysterious (as always). I think she's pretty underrated as a serious talent. Nevermind her beauty (which is difficult), she really takes her roles seriously and doesn't rest on her appearance to drive her through scenes of sophisticated emotion. And she can seem cold and even lifeless if needed, as well.<br /><br />Jeremy Northam does really well, at first, as quite a geeky corporate rat, willing to run through any maze to prove himself. However, as he changes throughout the film, it's like night and day. I know some fans of Clive Owen, Jude Law, or other hopefuls to become the next James Bond will hate me for this, but Northam would/could/should fit that bill. He's suave and cultured. He's got a great Bond posture and voice. I think he too can be cold if the situation calls for it, and rather down-to-Earth, as well.<br /><br />Great film and definitely this movie-buff recommends it to be seen at least once if you like corporate espionage films.\"\n",
            " b'I have been trying to make myself \"like\" this nearly unwatchable horror/comedy for a couple years now and am getting nowhere.<br /><br />Shot in the Phillipines on the cheap, starring a bunch of nobodies and featuring John Carradine\\'s most forgettable screen appearance as Count Dracula [though sharply outfitted with a white linen suit complete with Panama hat; he looks great!], VAMPIRE HOOKERS pretends to be kinky horror fare but wallows in fart jokes, transvestite jokes, racial humor and awful disco music. Nai Bonet\\'s NOCTURNA with it\\'s sleepy boogie scenes and breathtaking bathtub scene by it\\'s star doesn\\'t seem like such a bad movie after suffering through VAMPIRE HOOKERS again. At least they could dance -- all the jokes in HOOKERS fall flat on my eyes & ears, there is no real horror, and the question of whether or not there are really girls in this movie at all sort of reduces it all to a cringe inducing slog of 90 minutes. The fact that it seems to go on and on forever doesn\\'t help, and while I am as nostalgic for the late 1970\\'s as the next guy one can at least take heart in the fact that human kind effectively evolved beyond a state where movies like this are possible. If you\\'ve ever wondered why there hasn\\'t been a re-release of this for the digital age, STOP, because people often find themselves getting exactly what they asked for and regretting it. Beyond a fabulous title, VAMPIRE HOOKERS is unredeemable, uninteresting crapola, and that is what Out of Print prior rental tapes were invented for.<br /><br />Avoid it; * 1/2 out of a possible ****.'\n",
            " b'\"A woman who was literally frightened to death narrates the story of how she arrived at her untimely demise. The woman is shown going through a series of circumstances that begin to wear down her psyche and drive her to madness. A lengthy line-up of suspects for the person responsible for her death has the police baffled,\" according to the DVD sleeve\\'s synopsis. A film filled with baffling mystery; it\\'s substandard is almost every respect, but was shot in color. Bela Lugosi appears, occasionally. <br /><br />** Scared to Death (1947) Christy Cabanne ~ Nat Pendleton, George Zucco, Bela Lugosi'\n",
            " b'I\\'ve been a movie lover all of my life (which means almost sixty years of loving movies); saying that, I\\'m also one who tries to find something good to say about nearly every movie I\\'ve seen. I even defended such turkeys as \"Ishtar\" and \"Mom and Dad Save the Universe.\" Sorry. No can do, this time around. \"Magorium\" was such a total disappointment, I hardly know where to begin. So instead, let me point out my disappointment by asking a few questions. Just who the heck IS Magorium? We learn almost nothing about him, most importantly, we get no back story as to his connection to the toy shop (most importantly, WHY a toy store.) Same with Natalie Portman\\'s character. How did she get the job at the Emporium? Clearly she loves the shop and it loves her, so why does she suddenly find it so difficult to take over? Moreover, what is Bateman\\'s character all about, and why did NOTHING happen in developing his relationship with Portman? So many more questions --- so little time. You get my drift. Dustin Hoffman is one of the great actors of our time. What a waste. Portman is more than competent, and there were brief flashes of character development. But a few flashes weren\\'t enough. Jason Bateman had so much potential that the script clear didn\\'t cash in on. Okay. Sorry about the rant. I\\'m so deeply disappointed. I gave up going to see \"Fred Claus\" for this? Especially giving that the movie just stopped. No wrap-up. No ending. It just stopped!!! Wha?'\n",
            " b\"I saw Hellbent near the end of the Philadelphia Gay and Lesbian Film Festival. I'm so glad I saw it when I did - it was a super finale to the film festival. Hellbent is great fun, probably the most fun I've had in years during a horror flick. It delivers on all counts - it's scary as hell (sorry, I couldn't resist!), gruesome in a couple of well placed scenes, and funny without weakening the tension. In fact, it's one of the scariest films I've seen in quite some time. In addition, the action revolves around five hunky gay men who are pursued by the psycho slasher - a refreshing and welcome change. <br /><br />Four gay men go out in West Hollywood on Halloween night to have a good time, unaware that the previously mentioned psycho slasher has his eye on them. The boys party like only gay men can, and one of them talks to another hunk that he's seen around who joins them. One by one the boys are picked off until the final confrontation. What makes this film differ from others in the horror/slasher genre is the concentration on and the respect for the characters of the film. Paul Etheredge-Ouzts develops well-fleshed characters for the film, giving the performers much to work with in the story. The cast is terrific, in addition to being great to look at. Matt Phillips is particularly effective, funny and even touching, showing the vulnerability of his character even through drag.<br /><br />I had the opportunity to meet Paul Etheredge-Ouzts and Matt Phillips at the film festival. I was fortunate to be able to compliment them on their great work for Hellbent. I hope to see Hellbent again soon when it's released on a national scale. It's great fun - and I'll be looking for Hellbent 2 soon!\"\n",
            " b\"... but the trouble of this production is that it's very far from a good musical.<br /><br />Granted, one can't always expect the witty masters like Sondheim or Bernstein or Porter; yet the music of this piece makes even Andrew Lloyd Webber look witty. It's deadly dull and uninventive (with one or two exceptions) and just after I watched it I couldn't recall a single significant melody - which is rather tragic coming from someone who learned the whole Another Hundred People from three listenings.<br /><br />It is also strangely un-theatrical. It takes place on an incredibly large stage (one really has to feel sorry for those people in front rows who broke their necks in order to see something happening 50 meters on the right or 100 meters on the left) and does absolutely nothing with it. When there's supposed to be one person singing on-stage, that's just what you get - and the rest of the enormeous stage is empty. For me as an aspiring theatre director it was almost painful to watch.<br /><br />The fact remains, Cole Porter seems to have captured the French culture in his works better than these no-talents can ever come close to. And I'm puzzled by the popularity of this would-be-legendary musical.\"\n",
            " b\"Great film. This movie did not do as well as expected at the box office. But it was one helluva smash on Cable - back in the late 70's/early 80's. I hope to see a re-release of this film on video. Hopefully there will be a special edition DVD in the works soon. The chemistry between Brolin and Clayburgh is absolutely astounding.\"\n",
            " b'About 4 years ago, I liked this movie. I would watch it over and over and over. But now... I don\\'t. Actually, I think this movie would have been great for Mystery Science Theater 3000. It has a bunch of comment-heavy actors (Macaulay Culkin, Christopher Lloyd, Patrick Stewart, Whoopi Goldberg), and a pretty cheesy plot. My favorite part is when Culkin is riding his bike and he comes across a gang and a gang member says, \"Hey, Tyler! Where ya goin\\'? The MOON??\" Also look out for the classic line, \"Do you have feeling in your toes?\"<br /><br />On the other hand, it\\'s better than \"The Good Son\".'\n",
            " b\"Sondra Locke stinks in this film, but then she was an awful 'actress' anyway. Unfortunately, she drags everyone else (including then =real life boyfriend Clint Eastwood down the drain with her. But what was Clint Eastwood thinking when he agreed to star in this one? One read of the script should have told him that this one was going to be a real snorer. It's an exceptionally weak story, basically no story or plot at all. Add in bored, poor acting, even from the normally good Eastwood. There's absolutely no action except a couple arguments and as far as I was concerned, this film ranks up at the top of the heap of natural sleep enhancers. Wow! Could a film BE any more boring? I think watching paint dry or the grass grow might be more fun. A real stinker. Don't bother with this one.\"\n",
            " b\"I actually saw this movie on a trans-Pacific flight - first thing I thought, when it came on, was that it merely had the same name as the French Taxi movies I love so much. Next, when I saw the opening sequence was nearly identical, I started to get worried that the original had been remade and destroyed by Hollywood. I was right!<br /><br />If you watch this movie without prior knowledge of the French Taxi movies, you may or may not like it. It's a fresh idea and a fun movie. The acting wasn't great, but at least non-serious roles like this don't require top-grade acting. What made this movie horrible, though, is that it just didn't measure up to the originals (Taxi and Taxi 2). Even though I don't understand French, and my Taxi DVDs do not have subtitles, I still thoroughly enjoy them, as they are packed full of exciting car chases and slapstick humour. They are both incredibly tightly-packaged movies - they never lose my attention. The remake had several completely unnecessary scenes inserted, was full of bad jokes, and to top it off, had far less interesting cars.<br /><br />Though this movie is useful in helping you understand the Taxi story (if you don't understand French), I must urge anyone to watch the originals as well/instead!\"], shape=(100,), dtype=string)\n",
            "\n",
            "========================================================================================================================================================================================================\n",
            "========================================================================================================================================================================================================\n",
            "========================================================================================================================================================================================================\n",
            "========================================================================================================================================================================================================\n",
            "\n"
          ]
        }
      ],
      "source": [
        "for n, (x, y) in enumerate(train_ds):\n",
        "    print('n=',n,sep='')\n",
        "    print('x.shape=',x.shape,' x.dtype=',x.dtype,sep='')\n",
        "    print('y.shape=',y.shape,' y.dtype=',y.dtype,sep='')\n",
        "    print('y=',y,sep='')\n",
        "    print('x=',x,sep='')\n",
        "    print('\\n','='*200,'\\n','='*200,'\\n','='*200,'\\n','='*200,'\\n',sep='') # 等號分隔線\n",
        "\n",
        "    # print(f'{n= }')\n",
        "    # print(f\"{x.shape= }, {x.dtype= }\")\n",
        "    # print(f\"{y.shape= }, {y.dtype= }\")\n",
        "    # print(f\"{y= }\")\n",
        "    # print(f\"{x= }\")\n",
        "    if n==2: break"
      ]
    },
    {
      "cell_type": "code",
      "execution_count": 25,
      "metadata": {
        "collapsed": true,
        "jupyter": {
          "outputs_hidden": true
        },
        "tags": [],
        "id": "1LPDX5sVLqxr",
        "colab": {
          "base_uri": "https://localhost:8080/"
        },
        "outputId": "f45e1cc2-cf4f-41e5-85eb-19b416d30273"
      },
      "outputs": [
        {
          "output_type": "execute_result",
          "data": {
            "text/plain": [
              "(<tf.Tensor: shape=(2,), dtype=string, numpy=\n",
              " array([b\"I got this movie out for the family, and yes there are unsettling bits in it, vis - the dog fight, the abuse, the orphanage, the tree scene, when you think about it probably the whole film. And why is that? Probably due to the verisimilitude of the film to the times, the grainy nature just added to the realism, the times were tough so lets not sugar coat the experiences of those who went through them. Disney probably made this film by mistake but i'm glad they did. And I just love a story where a wolf gets equal billing in the sensibility stakes, even if it's a dog actor. Good film, good acting, great trains and the U.S. countryside never looked more beautiful. Oh and the DVD did jitter but settled down after clean ?, and it was letterbox for the widescreen so I didn't have to suffer amputation. 10 - 10\",\n",
              "        b'if you loved the \"wogs\" series of the late 80\\'s then you will probably think this is funny as well.<br /><br />Racial stereotypes set in day to day life, if you want to watch something in that sort of vein go watch \"Kingswood Country\" or for a USA production, \"Married with children\" or \"SOAP\".<br /><br />If the producers were trying to turn away potential immigrants then they have a hit production, this would turn me away if I was foreign born and saw this as what Australian\\'s were like. <br /><br />It\\'s as funny as Barry Humphries\\' Dame Edna character, and has as much to do with Australian life as Dame Edna does.<br /><br />do yourself a favor, if you find it funny, go see a psychiatrist?'],\n",
              "       dtype=object)>,\n",
              " <tf.Tensor: shape=(2,), dtype=int32, numpy=array([2, 2], dtype=int32)>)"
            ]
          },
          "metadata": {},
          "execution_count": 25
        }
      ],
      "source": [
        "list(train_ds)[0][0][0:2], list(train_ds)[0][1][0:2]"
      ]
    },
    {
      "cell_type": "markdown",
      "metadata": {
        "id": "PefLuscHLqxr"
      },
      "source": [
        "### Processing words as a set: The bag-of-words approach"
      ]
    },
    {
      "cell_type": "markdown",
      "metadata": {
        "id": "Zb4jBkaaLqxr"
      },
      "source": [
        "#### Single words (unigrams) with binary encoding"
      ]
    },
    {
      "cell_type": "markdown",
      "metadata": {
        "id": "410wAjzNLqxr"
      },
      "source": [
        "**Preprocessing our datasets with a `TextVectorization` layer**"
      ]
    },
    {
      "cell_type": "code",
      "execution_count": 30,
      "metadata": {
        "id": "E5wB1eKLLqxr"
      },
      "outputs": [],
      "source": [
        "from tensorflow.keras.layers import TextVectorization\n",
        "max_tokens= 1000 #20000\n",
        "max_tokens= 20000\n",
        "\n",
        "text_vectorization= TextVectorization(\n",
        "    max_tokens= max_tokens, #10000, #20000,\n",
        "    output_mode= \"multi_hot\",\n",
        ")\n",
        "\n",
        "text_only_train_ds= train_ds.map(\n",
        "    lambda x, y: x)\n",
        "\n",
        "text_vectorization.adapt(\n",
        "    text_only_train_ds)\n",
        "\n",
        "binary_1gram_train_ds= train_ds.map(\n",
        "    lambda x, y: (text_vectorization(x), y),\n",
        "    num_parallel_calls=4)\n",
        "\n",
        "binary_1gram_val_ds= val_ds.map(\n",
        "    lambda x, y: (text_vectorization(x), y),\n",
        "    num_parallel_calls=4)\n",
        "\n",
        "binary_1gram_test_ds= test_ds.map(\n",
        "    lambda x, y: (text_vectorization(x), y),\n",
        "    num_parallel_calls=4)"
      ]
    },
    {
      "cell_type": "code",
      "execution_count": 31,
      "metadata": {
        "id": "8-zQR_ROLqxs",
        "colab": {
          "base_uri": "https://localhost:8080/"
        },
        "outputId": "4c59cc6f-beb2-460b-9ca4-d48a60022e3c"
      },
      "outputs": [
        {
          "output_type": "execute_result",
          "data": {
            "text/plain": [
              "(<tf.Tensor: shape=(100, 20000), dtype=float32, numpy=\n",
              " array([[1., 1., 1., ..., 0., 0., 0.],\n",
              "        [1., 1., 1., ..., 0., 0., 0.],\n",
              "        [1., 1., 1., ..., 0., 0., 0.],\n",
              "        ...,\n",
              "        [1., 1., 1., ..., 0., 0., 0.],\n",
              "        [1., 1., 1., ..., 0., 0., 0.],\n",
              "        [1., 1., 1., ..., 0., 0., 0.]], dtype=float32)>,\n",
              " <tf.Tensor: shape=(100,), dtype=int32, numpy=\n",
              " array([2, 2, 2, 2, 1, 2, 2, 0, 2, 0, 2, 0, 2, 2, 0, 0, 2, 0, 2, 2, 2, 2,\n",
              "        0, 2, 2, 2, 2, 2, 2, 2, 2, 2, 2, 0, 0, 2, 2, 2, 0, 2, 2, 2, 2, 1,\n",
              "        0, 2, 2, 0, 0, 1, 2, 2, 2, 2, 2, 2, 2, 0, 2, 2, 2, 2, 1, 2, 2, 0,\n",
              "        2, 2, 2, 2, 2, 2, 2, 2, 0, 1, 1, 2, 2, 1, 2, 2, 2, 1, 2, 2, 2, 2,\n",
              "        2, 2, 1, 2, 2, 0, 2, 2, 2, 2, 2, 2], dtype=int32)>)"
            ]
          },
          "metadata": {},
          "execution_count": 31
        }
      ],
      "source": [
        "#list(text_only_train_ds)[0][0]\n",
        "\n",
        "#text_vectorization.get_vocabulary()\n",
        "#text_vectorization(\"I love you.\")\n",
        "list(binary_1gram_train_ds)[0]"
      ]
    },
    {
      "cell_type": "markdown",
      "metadata": {
        "id": "vDsQ5vbjLqxs"
      },
      "source": [
        "**Inspecting the output of our binary unigram dataset**"
      ]
    },
    {
      "cell_type": "markdown",
      "metadata": {
        "collapsed": true,
        "jupyter": {
          "outputs_hidden": true
        },
        "tags": [],
        "id": "pNk7TTljLqxs"
      },
      "source": [
        "for inputs, targets in binary_1gram_train_ds:\n",
        "    print(\"inputs.shape:\", inputs.shape)\n",
        "    print(\"inputs.dtype:\", inputs.dtype)\n",
        "    print(\"targets.shape:\", targets.shape)\n",
        "    print(\"targets.dtype:\", targets.dtype)\n",
        "    print(\"inputs[0]:\", inputs[0])\n",
        "    print(\"targets[0]:\", targets[0])\n",
        "    break"
      ]
    },
    {
      "cell_type": "markdown",
      "metadata": {
        "id": "1FrAxAXtLqxs"
      },
      "source": [
        "**Our model-building utility**"
      ]
    },
    {
      "cell_type": "code",
      "execution_count": 32,
      "metadata": {
        "id": "gHgMXBOiLqxs"
      },
      "outputs": [],
      "source": [
        "from tensorflow import keras\n",
        "from tensorflow.keras import layers\n",
        "\n",
        "def get_model(max_tokens= max_tokens, #20000, \n",
        "              hidden_dim= 16):\n",
        "    \n",
        "    inputs=  keras.Input(shape=(max_tokens,))\n",
        "    x=       layers.Dense(hidden_dim, activation=\"relu\")(inputs)\n",
        "    x=       layers.Dropout(0.5)(x)\n",
        "    outputs= layers.Dense(1, activation=\"sigmoid\")(x)\n",
        "    model=   keras.Model(inputs, outputs)\n",
        "    \n",
        "    model.compile(\n",
        "        optimizer=\"rmsprop\",\n",
        "        loss=     \"binary_crossentropy\",\n",
        "        metrics=  [\"accuracy\"])\n",
        "    \n",
        "    return model"
      ]
    },
    {
      "cell_type": "markdown",
      "metadata": {
        "id": "gLIIz3_iLqxs"
      },
      "source": [
        "**Training and testing the binary unigram model**"
      ]
    },
    {
      "cell_type": "code",
      "execution_count": 33,
      "metadata": {
        "id": "QYz1uIkBLqxs",
        "colab": {
          "base_uri": "https://localhost:8080/"
        },
        "outputId": "71e0b81f-6a28-46a8-fb3f-6feacb64ac12"
      },
      "outputs": [
        {
          "output_type": "stream",
          "name": "stdout",
          "text": [
            "Model: \"model_1\"\n",
            "_________________________________________________________________\n",
            " Layer (type)                Output Shape              Param #   \n",
            "=================================================================\n",
            " input_2 (InputLayer)        [(None, 20000)]           0         \n",
            "                                                                 \n",
            " dense_2 (Dense)             (None, 16)                320016    \n",
            "                                                                 \n",
            " dropout_1 (Dropout)         (None, 16)                0         \n",
            "                                                                 \n",
            " dense_3 (Dense)             (None, 1)                 17        \n",
            "                                                                 \n",
            "=================================================================\n",
            "Total params: 320,033\n",
            "Trainable params: 320,033\n",
            "Non-trainable params: 0\n",
            "_________________________________________________________________\n",
            "Epoch 1/10\n",
            "700/700 [==============================] - 43s 56ms/step - loss: -122.7453 - accuracy: 0.1429 - val_loss: 270.8021 - val_accuracy: 0.5000\n",
            "Epoch 2/10\n",
            "700/700 [==============================] - 4s 5ms/step - loss: -620.2622 - accuracy: 0.1429 - val_loss: 879.2988 - val_accuracy: 0.5000\n",
            "Epoch 3/10\n",
            "700/700 [==============================] - 4s 5ms/step - loss: -1506.2589 - accuracy: 0.1429 - val_loss: 1824.2798 - val_accuracy: 0.5000\n",
            "Epoch 4/10\n",
            "700/700 [==============================] - 3s 5ms/step - loss: -2778.4727 - accuracy: 0.1429 - val_loss: 3106.5605 - val_accuracy: 0.5000\n",
            "Epoch 5/10\n",
            "700/700 [==============================] - 4s 5ms/step - loss: -4438.8516 - accuracy: 0.1429 - val_loss: 4724.7515 - val_accuracy: 0.5000\n",
            "Epoch 6/10\n",
            "700/700 [==============================] - 4s 5ms/step - loss: -6468.8926 - accuracy: 0.1429 - val_loss: 6678.6880 - val_accuracy: 0.5000\n",
            "Epoch 7/10\n",
            "700/700 [==============================] - 4s 5ms/step - loss: -8851.0615 - accuracy: 0.1429 - val_loss: 8967.0420 - val_accuracy: 0.5000\n",
            "Epoch 8/10\n",
            "700/700 [==============================] - 4s 5ms/step - loss: -11736.9961 - accuracy: 0.1429 - val_loss: 11595.3975 - val_accuracy: 0.5000\n",
            "Epoch 9/10\n",
            "700/700 [==============================] - 4s 5ms/step - loss: -14857.2490 - accuracy: 0.1429 - val_loss: 14556.1797 - val_accuracy: 0.5000\n",
            "Epoch 10/10\n",
            "700/700 [==============================] - 4s 5ms/step - loss: -18421.8281 - accuracy: 0.1429 - val_loss: 17853.5352 - val_accuracy: 0.5000\n"
          ]
        },
        {
          "output_type": "execute_result",
          "data": {
            "text/plain": [
              "<keras.callbacks.History at 0x7f0aaad4d0d0>"
            ]
          },
          "metadata": {},
          "execution_count": 33
        }
      ],
      "source": [
        "model= get_model()\n",
        "model.summary()\n",
        "\n",
        "callbacks= [\n",
        "    keras.callbacks.ModelCheckpoint(\n",
        "        \"binary_1gram.keras\",\n",
        "        save_best_only= True)\n",
        "]\n",
        "\n",
        "model.fit(\n",
        "    binary_1gram_train_ds.cache(),\n",
        "    validation_data= binary_1gram_val_ds.cache(),\n",
        "    epochs=10,\n",
        "    callbacks= callbacks)"
      ]
    },
    {
      "cell_type": "code",
      "execution_count": 34,
      "metadata": {
        "id": "LH-Wp7QwLqxt",
        "colab": {
          "base_uri": "https://localhost:8080/"
        },
        "outputId": "a6a5d7e5-13b7-49cc-e220-08f58267801b"
      },
      "outputs": [
        {
          "output_type": "stream",
          "name": "stdout",
          "text": [
            "250/250 [==============================] - 47s 179ms/step - loss: 269.8371 - accuracy: 0.5000\n",
            "acc=[269.8370666503906, 0.5]\n"
          ]
        }
      ],
      "source": [
        "model= keras.models.load_model(\"binary_1gram.keras\")\n",
        "\n",
        "acc= model.evaluate(binary_1gram_test_ds)\n",
        "print('acc=',acc,sep='')#print(f\"{acc= }\")\n"
      ]
    },
    {
      "cell_type": "code",
      "execution_count": 35,
      "metadata": {
        "tags": [],
        "id": "Bd0eV8T9Lqxt",
        "colab": {
          "base_uri": "https://localhost:8080/"
        },
        "outputId": "452b3406-84c3-4b58-cd43-ae47a5c9e2e0"
      },
      "outputs": [
        {
          "output_type": "execute_result",
          "data": {
            "text/plain": [
              "<tf.Tensor: shape=(2, 20000), dtype=float32, numpy=\n",
              "array([[1., 0., 0., ..., 0., 0., 0.],\n",
              "       [1., 0., 0., ..., 0., 0., 0.]], dtype=float32)>"
            ]
          },
          "metadata": {},
          "execution_count": 35
        }
      ],
      "source": [
        "x= [\"這 部 電影 爛透 了 。 不 要 浪費 時間 與 金錢 。\",\n",
        "    \"太 棒 了 ， 演員 卡司 很 強大 。\"\n",
        "   ]\n",
        "x= text_vectorization(x)\n",
        "x"
      ]
    },
    {
      "cell_type": "code",
      "execution_count": 36,
      "metadata": {
        "id": "v7P8h9jLLqxt",
        "colab": {
          "base_uri": "https://localhost:8080/"
        },
        "outputId": "d4dfd93b-73a7-41f6-dc2a-53ffab5ff15f"
      },
      "outputs": [
        {
          "output_type": "stream",
          "name": "stdout",
          "text": [
            "1/1 [==============================] - 0s 67ms/step\n"
          ]
        },
        {
          "output_type": "execute_result",
          "data": {
            "text/plain": [
              "array([[0.9999969],\n",
              "       [0.9999969]], dtype=float32)"
            ]
          },
          "metadata": {},
          "execution_count": 36
        }
      ],
      "source": [
        "model.predict(x)"
      ]
    },
    {
      "cell_type": "markdown",
      "metadata": {
        "id": "O3f0UTMELqxt"
      },
      "source": [
        "#### Bigrams with binary encoding"
      ]
    },
    {
      "cell_type": "markdown",
      "metadata": {
        "id": "aylk0UvcLqxt"
      },
      "source": [
        "**Configuring the `TextVectorization` layer to return bigrams**"
      ]
    },
    {
      "cell_type": "code",
      "execution_count": 37,
      "metadata": {
        "tags": [],
        "id": "9IjfBV8wLqxt"
      },
      "outputs": [],
      "source": [
        "max_tokens= 10000\n",
        "\n",
        "text_vectorization= TextVectorization(\n",
        "    ngrams= 2,\n",
        "    max_tokens= max_tokens, #20000,\n",
        "    #output_mode= \"int\", #\"tf_idf\", #\"count\", #\"multi_hot\",\n",
        "    output_mode= \"multi_hot\"\n",
        ")\n",
        "\n",
        "text_vectorization.adapt(text_only_train_ds)"
      ]
    },
    {
      "cell_type": "code",
      "execution_count": 38,
      "metadata": {
        "collapsed": true,
        "jupyter": {
          "outputs_hidden": true
        },
        "tags": [],
        "id": "dvYAKmzLLqxu",
        "colab": {
          "base_uri": "https://localhost:8080/"
        },
        "outputId": "2ee36575-2b7d-406e-db34-525e2f908182"
      },
      "outputs": [
        {
          "output_type": "execute_result",
          "data": {
            "text/plain": [
              "['[UNK]',\n",
              " 'the',\n",
              " 'and',\n",
              " 'a',\n",
              " 'of',\n",
              " 'to',\n",
              " 'is',\n",
              " 'in',\n",
              " 'it',\n",
              " 'this',\n",
              " 'i',\n",
              " 'that',\n",
              " 'br',\n",
              " 'was',\n",
              " 'as',\n",
              " 'with',\n",
              " 'for',\n",
              " 'movie',\n",
              " 'but',\n",
              " 'of the',\n",
              " 'film',\n",
              " 'on',\n",
              " 'you',\n",
              " 'not',\n",
              " 'are',\n",
              " 'his',\n",
              " 'have',\n",
              " 'be',\n",
              " 'he',\n",
              " 'one',\n",
              " 'in the',\n",
              " 'its',\n",
              " 'at',\n",
              " 'all',\n",
              " 'by',\n",
              " 'an',\n",
              " 'they',\n",
              " 'from',\n",
              " 'who',\n",
              " 'so',\n",
              " 'like',\n",
              " 'her',\n",
              " 'just',\n",
              " 'or',\n",
              " 'about',\n",
              " 'has',\n",
              " 'if',\n",
              " 'out',\n",
              " 'some',\n",
              " 'there',\n",
              " 'this movie',\n",
              " 'what',\n",
              " 'good',\n",
              " 'when',\n",
              " 'more',\n",
              " 'very',\n",
              " 'and the',\n",
              " 'is a',\n",
              " 'no',\n",
              " 'up',\n",
              " 'even',\n",
              " 'the film',\n",
              " 'she',\n",
              " 'my',\n",
              " 'would',\n",
              " 'to the',\n",
              " 'to be',\n",
              " 'their',\n",
              " 'which',\n",
              " 'only',\n",
              " 'time',\n",
              " 'really',\n",
              " 'story',\n",
              " 'see',\n",
              " 'were',\n",
              " 'the movie',\n",
              " 'can',\n",
              " 'had',\n",
              " 'this film',\n",
              " 'me',\n",
              " 'than',\n",
              " 'it is',\n",
              " 'we',\n",
              " 'much',\n",
              " 'well',\n",
              " 'been',\n",
              " 'this is',\n",
              " 'get',\n",
              " 'into',\n",
              " 'also',\n",
              " 'bad',\n",
              " 'will',\n",
              " 'on the',\n",
              " 'great',\n",
              " 'people',\n",
              " 'do',\n",
              " 'because',\n",
              " 'other',\n",
              " 'in a',\n",
              " 'first',\n",
              " 'most',\n",
              " 'how',\n",
              " 'him',\n",
              " 'dont',\n",
              " 'it was',\n",
              " 'one of',\n",
              " 'for the',\n",
              " 'with the',\n",
              " 'of a',\n",
              " 'them',\n",
              " 'then',\n",
              " 'make',\n",
              " 'br the',\n",
              " 'films',\n",
              " 'made',\n",
              " 'movies',\n",
              " 'could',\n",
              " 'way',\n",
              " 'after',\n",
              " 'too',\n",
              " 'any',\n",
              " 'characters',\n",
              " 'think',\n",
              " 'is the',\n",
              " 'at the',\n",
              " 'as a',\n",
              " 'watch',\n",
              " 'being',\n",
              " 'two',\n",
              " 'many',\n",
              " 'character',\n",
              " 'br br',\n",
              " 'never',\n",
              " 'where',\n",
              " 'little',\n",
              " 'seen',\n",
              " 'plot',\n",
              " 'love',\n",
              " 'best',\n",
              " 'from the',\n",
              " 'in this',\n",
              " 'acting',\n",
              " 'did',\n",
              " 'with a',\n",
              " 'know',\n",
              " 'as the',\n",
              " 'life',\n",
              " 'does',\n",
              " 'ever',\n",
              " 'show',\n",
              " 'if you',\n",
              " 'better',\n",
              " 'your',\n",
              " 'off',\n",
              " 'these',\n",
              " 'while',\n",
              " 'still',\n",
              " 'over',\n",
              " 'end',\n",
              " 'i was',\n",
              " 'scene',\n",
              " 'why',\n",
              " 'that the',\n",
              " 'the story',\n",
              " 'scenes',\n",
              " 'say',\n",
              " 'here',\n",
              " 'man',\n",
              " 'to see',\n",
              " 'out of',\n",
              " 'such',\n",
              " 'something',\n",
              " 'should',\n",
              " 'by the',\n",
              " 'go',\n",
              " 'back',\n",
              " 'through',\n",
              " 'those',\n",
              " 'im',\n",
              " 'the first',\n",
              " 'real',\n",
              " 'was a',\n",
              " 'for a',\n",
              " 'movie is',\n",
              " 'doesnt',\n",
              " 'now',\n",
              " 'and i',\n",
              " 'watching',\n",
              " 'didnt',\n",
              " 'i have',\n",
              " 'thing',\n",
              " 'years',\n",
              " 'all the',\n",
              " 'have been',\n",
              " 'though',\n",
              " 'there is',\n",
              " 'actors',\n",
              " 'another',\n",
              " 'new',\n",
              " 'actually',\n",
              " 'makes',\n",
              " 'of this',\n",
              " 'nothing',\n",
              " 'and a',\n",
              " 'funny',\n",
              " 'film is',\n",
              " 'going',\n",
              " 'find',\n",
              " 'before',\n",
              " 'look',\n",
              " 'same',\n",
              " 'few',\n",
              " 'is not',\n",
              " 'lot',\n",
              " 'every',\n",
              " 'work',\n",
              " 'part',\n",
              " 'old',\n",
              " 'us',\n",
              " 'director',\n",
              " 'br i',\n",
              " 'thats',\n",
              " 'cant',\n",
              " 'again',\n",
              " 'there are',\n",
              " 'the same',\n",
              " 'things',\n",
              " 'quite',\n",
              " 'cast',\n",
              " 'a lot',\n",
              " 'want',\n",
              " 'a good',\n",
              " 'the end',\n",
              " 'pretty',\n",
              " 'seems',\n",
              " 'fact',\n",
              " 'young',\n",
              " 'around',\n",
              " 'world',\n",
              " 'the most',\n",
              " 'take',\n",
              " 'got',\n",
              " 'both',\n",
              " 'however',\n",
              " 'but the',\n",
              " 'enough',\n",
              " 'the best',\n",
              " 'down',\n",
              " 'horror',\n",
              " 'give',\n",
              " 'between',\n",
              " 'own',\n",
              " 'thought',\n",
              " 'action',\n",
              " 'to make',\n",
              " 'big',\n",
              " 'ive',\n",
              " 'may',\n",
              " 'theres',\n",
              " 'about the',\n",
              " 'the only',\n",
              " 'of his',\n",
              " 'without',\n",
              " 'long',\n",
              " 'original',\n",
              " 'isnt',\n",
              " 'always',\n",
              " 'series',\n",
              " 'right',\n",
              " 'saw',\n",
              " 'comedy',\n",
              " 'on a',\n",
              " 'gets',\n",
              " 'must',\n",
              " 'whole',\n",
              " 'but i',\n",
              " 'come',\n",
              " 'interesting',\n",
              " 'least',\n",
              " 'i think',\n",
              " 'role',\n",
              " 'hes',\n",
              " 'times',\n",
              " 'almost',\n",
              " 'he is',\n",
              " 'that is',\n",
              " 'bit',\n",
              " 'a movie',\n",
              " 'the plot',\n",
              " 'a great',\n",
              " 'last',\n",
              " 'point',\n",
              " 'that i',\n",
              " 'to a',\n",
              " 'to watch',\n",
              " 'guy',\n",
              " 'this one',\n",
              " 'music',\n",
              " 'script',\n",
              " 'a very',\n",
              " 'since',\n",
              " 'but it',\n",
              " 'done',\n",
              " 'feel',\n",
              " 'might',\n",
              " 'be a',\n",
              " 'the characters',\n",
              " 'minutes',\n",
              " 'far',\n",
              " 'that it',\n",
              " 'anything',\n",
              " 'performance',\n",
              " 'probably',\n",
              " 'a few',\n",
              " 'yet',\n",
              " 'am',\n",
              " 'some of',\n",
              " 'was the',\n",
              " 'family',\n",
              " 'away',\n",
              " 'and it',\n",
              " 'rather',\n",
              " 'kind',\n",
              " 'is that',\n",
              " 'its a',\n",
              " 'to get',\n",
              " 'i dont',\n",
              " 'girl',\n",
              " 'have to',\n",
              " 'worst',\n",
              " 'they are',\n",
              " 'each',\n",
              " 'sure',\n",
              " 'played',\n",
              " 'found',\n",
              " 'fun',\n",
              " 'having',\n",
              " 'want to',\n",
              " 'a little',\n",
              " 'our',\n",
              " 'tv',\n",
              " 'trying',\n",
              " 'into the',\n",
              " 'would have',\n",
              " 'anyone',\n",
              " 'woman',\n",
              " 'making',\n",
              " 'lot of',\n",
              " 'has a',\n",
              " 'especially',\n",
              " 'believe',\n",
              " 'to do',\n",
              " 'like a',\n",
              " 'the acting',\n",
              " 'hard',\n",
              " 'shows',\n",
              " 'at least',\n",
              " 'although',\n",
              " 'different',\n",
              " 'comes',\n",
              " 'the way',\n",
              " 'course',\n",
              " 'goes',\n",
              " 'i am',\n",
              " 'day',\n",
              " 'a film',\n",
              " 'the other',\n",
              " 'sense',\n",
              " 'worth',\n",
              " '2',\n",
              " 'place',\n",
              " 'looks',\n",
              " 'is one',\n",
              " 'maybe',\n",
              " 'put',\n",
              " 'would be',\n",
              " 'once',\n",
              " 'looking',\n",
              " 'i would',\n",
              " 'wasnt',\n",
              " 'plays',\n",
              " 'main',\n",
              " 'trying to',\n",
              " 'ending',\n",
              " 'the whole',\n",
              " 'kind of',\n",
              " 'to have',\n",
              " 'br this',\n",
              " 'everything',\n",
              " 'three',\n",
              " 'have a',\n",
              " 'screen',\n",
              " 'during',\n",
              " 'as well',\n",
              " 'money',\n",
              " 'set',\n",
              " 'reason',\n",
              " 'like the',\n",
              " 'effects',\n",
              " 'john',\n",
              " 'said',\n",
              " 'takes',\n",
              " 'dvd',\n",
              " 'together',\n",
              " 'this was',\n",
              " 'american',\n",
              " 'someone',\n",
              " 'instead',\n",
              " 'seem',\n",
              " 'true',\n",
              " 'he was',\n",
              " 'and his',\n",
              " 'special',\n",
              " 'watched',\n",
              " 'a bit',\n",
              " 'actor',\n",
              " 'job',\n",
              " 'that this',\n",
              " 'of course',\n",
              " 'book',\n",
              " 'play',\n",
              " 'you can',\n",
              " 'most of',\n",
              " 'movie was',\n",
              " 'everyone',\n",
              " 'later',\n",
              " '10',\n",
              " 'in his',\n",
              " 'is an',\n",
              " 'going to',\n",
              " 'himself',\n",
              " 'that he',\n",
              " 'night',\n",
              " 'which is',\n",
              " 'seeing',\n",
              " 'the worst',\n",
              " 'audience',\n",
              " 'simply',\n",
              " 'could have',\n",
              " 'left',\n",
              " 'beautiful',\n",
              " 'not a',\n",
              " 'the original',\n",
              " 'idea',\n",
              " 'excellent',\n",
              " 'war',\n",
              " 'used',\n",
              " 'youre',\n",
              " 'more than',\n",
              " 'black',\n",
              " 'death',\n",
              " 'wife',\n",
              " 'second',\n",
              " 'completely',\n",
              " 'shot',\n",
              " 'high',\n",
              " 'who is',\n",
              " 'to say',\n",
              " 'nice',\n",
              " 'version',\n",
              " 'i can',\n",
              " 'at all',\n",
              " 'i had',\n",
              " 'the time',\n",
              " 'poor',\n",
              " 'help',\n",
              " 'house',\n",
              " 'by a',\n",
              " 'kids',\n",
              " 'else',\n",
              " 'fan',\n",
              " 'dead',\n",
              " 'star',\n",
              " 'men',\n",
              " 'less',\n",
              " 'try',\n",
              " 'performances',\n",
              " 'friends',\n",
              " 'use',\n",
              " 'along',\n",
              " 'i saw',\n",
              " 'all of',\n",
              " 'home',\n",
              " 'given',\n",
              " 'until',\n",
              " 'boring',\n",
              " 'read',\n",
              " 'year',\n",
              " 'and then',\n",
              " 'when the',\n",
              " 'couple',\n",
              " 'when i',\n",
              " 'need',\n",
              " 'next',\n",
              " 'the fact',\n",
              " 'sex',\n",
              " 'is so',\n",
              " 'start',\n",
              " 'into a',\n",
              " 'women',\n",
              " 'of them',\n",
              " 'either',\n",
              " 'mind',\n",
              " 'short',\n",
              " 'seems to',\n",
              " 'its not',\n",
              " 'hollywood',\n",
              " 'but this',\n",
              " 'enjoy',\n",
              " 'movie and',\n",
              " 'truly',\n",
              " 'half',\n",
              " 'is just',\n",
              " 'rest',\n",
              " 'of all',\n",
              " 'classic',\n",
              " 'wrong',\n",
              " 'father',\n",
              " 'perhaps',\n",
              " 'line',\n",
              " 'part of',\n",
              " 'such a',\n",
              " 'keep',\n",
              " 'getting',\n",
              " 'it has',\n",
              " 'tell',\n",
              " 'of it',\n",
              " 'moments',\n",
              " 'production',\n",
              " 'came',\n",
              " 'in my',\n",
              " 'others',\n",
              " 'recommend',\n",
              " 'i thought',\n",
              " 'understand',\n",
              " 'stupid',\n",
              " 'full',\n",
              " 'fact that',\n",
              " 'movie i',\n",
              " 'let',\n",
              " 'she is',\n",
              " 'camera',\n",
              " 'the main',\n",
              " 'like this',\n",
              " 'from a',\n",
              " 'mean',\n",
              " 'as it',\n",
              " 'film and',\n",
              " 'terrible',\n",
              " 'definitely',\n",
              " 'with his',\n",
              " 'playing',\n",
              " 'awful',\n",
              " 'gives',\n",
              " 'wonderful',\n",
              " 'small',\n",
              " 'they were',\n",
              " 'doing',\n",
              " 'itself',\n",
              " 'the rest',\n",
              " 'is very',\n",
              " 'you have',\n",
              " 'remember',\n",
              " 'the last',\n",
              " 'often',\n",
              " 'the world',\n",
              " 'name',\n",
              " 'that they',\n",
              " 'school',\n",
              " 'for this',\n",
              " 'went',\n",
              " 'lost',\n",
              " 'you are',\n",
              " 'dialogue',\n",
              " 'over the',\n",
              " 'couldnt',\n",
              " 'the two',\n",
              " 'face',\n",
              " 'the actors',\n",
              " 'budget',\n",
              " 'video',\n",
              " 'become',\n",
              " '3',\n",
              " 'stars',\n",
              " 'has been',\n",
              " 'early',\n",
              " 'lines',\n",
              " 'person',\n",
              " 'case',\n",
              " 'certainly',\n",
              " 'yes',\n",
              " 'top',\n",
              " 'perfect',\n",
              " 'the director',\n",
              " 'title',\n",
              " 'hope',\n",
              " 'live',\n",
              " 'human',\n",
              " 'there was',\n",
              " 'entertaining',\n",
              " 'supposed',\n",
              " 'liked',\n",
              " 'guys',\n",
              " 'the script',\n",
              " 'mother',\n",
              " 'that was',\n",
              " 'through the',\n",
              " 'had a',\n",
              " 'episode',\n",
              " 'absolutely',\n",
              " 'be the',\n",
              " 'problem',\n",
              " 'finally',\n",
              " 'several',\n",
              " 'against',\n",
              " 'and is',\n",
              " 'boy',\n",
              " 'it to',\n",
              " 'entire',\n",
              " 'of her',\n",
              " 'overall',\n",
              " 'head',\n",
              " 'piece',\n",
              " 'based',\n",
              " 'it and',\n",
              " 'sort',\n",
              " 'felt',\n",
              " 'in fact',\n",
              " 'style',\n",
              " 'of my',\n",
              " 'waste',\n",
              " 'fans',\n",
              " 'written',\n",
              " 'so much',\n",
              " 'shes',\n",
              " 'picture',\n",
              " 'at a',\n",
              " 'will be',\n",
              " 'it would',\n",
              " 'lead',\n",
              " 'seemed',\n",
              " 'evil',\n",
              " 'see the',\n",
              " 'friend',\n",
              " 'beginning',\n",
              " 'final',\n",
              " 'it a',\n",
              " 'about this',\n",
              " 'worse',\n",
              " 'lives',\n",
              " 'can be',\n",
              " 'direction',\n",
              " 'humor',\n",
              " 'despite',\n",
              " 'to find',\n",
              " 'because of',\n",
              " 'oh',\n",
              " 'care',\n",
              " 'totally',\n",
              " 'dark',\n",
              " 'story is',\n",
              " 'and that',\n",
              " 'wanted',\n",
              " 'the cast',\n",
              " 'laugh',\n",
              " 'film that',\n",
              " 'and its',\n",
              " 'he has',\n",
              " 'loved',\n",
              " 'wont',\n",
              " 'becomes',\n",
              " 'id',\n",
              " 'and he',\n",
              " 'already',\n",
              " 'unfortunately',\n",
              " 'cinema',\n",
              " 'throughout',\n",
              " 'film was',\n",
              " 'under',\n",
              " 'not to',\n",
              " 'rest of',\n",
              " 'youll',\n",
              " 'with this',\n",
              " 'than the',\n",
              " 'drama',\n",
              " 'low',\n",
              " 'son',\n",
              " 'supposed to',\n",
              " 'just a',\n",
              " 'make a',\n",
              " 'i cant',\n",
              " 'able',\n",
              " 'the show',\n",
              " 'is no',\n",
              " 'mr',\n",
              " 'sort of',\n",
              " 'guess',\n",
              " 'movie that',\n",
              " 'should be',\n",
              " '1',\n",
              " 'turn',\n",
              " 'fine',\n",
              " 'days',\n",
              " 'does not',\n",
              " 'history',\n",
              " 'wants',\n",
              " 'killer',\n",
              " 'called',\n",
              " 'game',\n",
              " 'children',\n",
              " 'tries',\n",
              " 'is in',\n",
              " 'to go',\n",
              " 'not the',\n",
              " 'to this',\n",
              " 'about a',\n",
              " 'when he',\n",
              " 'able to',\n",
              " 'i could',\n",
              " 'white',\n",
              " 'i didnt',\n",
              " 'up to',\n",
              " 'theyre',\n",
              " 'starts',\n",
              " 'kill',\n",
              " 'girls',\n",
              " 'such as',\n",
              " 'has to',\n",
              " 'turns',\n",
              " 'sound',\n",
              " 'past',\n",
              " 'hard to',\n",
              " 'horrible',\n",
              " 'ever seen',\n",
              " 'act',\n",
              " 'i found',\n",
              " '\\x96',\n",
              " 'enjoyed',\n",
              " 'example',\n",
              " 'watch it',\n",
              " 'is also',\n",
              " 'quality',\n",
              " 'you will',\n",
              " 'town',\n",
              " 'see it',\n",
              " 'genre',\n",
              " 'but its',\n",
              " 'as i',\n",
              " 'of their',\n",
              " 'writing',\n",
              " 'see this',\n",
              " 'city',\n",
              " 'the films',\n",
              " 'had to',\n",
              " 'was not',\n",
              " 'killed',\n",
              " 'watch this',\n",
              " 'expect',\n",
              " 'themselves',\n",
              " 'the audience',\n",
              " 'to his',\n",
              " 'and this',\n",
              " 'gave',\n",
              " 'amazing',\n",
              " 'favorite',\n",
              " 'behind',\n",
              " 'flick',\n",
              " 'parts',\n",
              " 'acting is',\n",
              " 'side',\n",
              " 'run',\n",
              " 'enough to',\n",
              " 'where the',\n",
              " 'after the',\n",
              " 'works',\n",
              " 'decent',\n",
              " 'and they',\n",
              " 'car',\n",
              " 'do not',\n",
              " 'of those',\n",
              " 'should have',\n",
              " 'the book',\n",
              " 'sometimes',\n",
              " 'for me',\n",
              " 'fight',\n",
              " 'a bad',\n",
              " 'directed',\n",
              " 'group',\n",
              " 'end of',\n",
              " 'obviously',\n",
              " 'during the',\n",
              " 'hell',\n",
              " 'that you',\n",
              " 'i really',\n",
              " 'very good',\n",
              " 'as an',\n",
              " 'the ending',\n",
              " 'matter',\n",
              " 'well as',\n",
              " 'michael',\n",
              " 'on this',\n",
              " 'and not',\n",
              " 'viewer',\n",
              " 'soon',\n",
              " 'special effects',\n",
              " 'thinking',\n",
              " 'because it',\n",
              " 'heart',\n",
              " 'eyes',\n",
              " 'a couple',\n",
              " 'not only',\n",
              " 'played by',\n",
              " 'stuff',\n",
              " 'better than',\n",
              " 'are the',\n",
              " 'brilliant',\n",
              " 'back to',\n",
              " 'so i',\n",
              " 'stories',\n",
              " 'myself',\n",
              " 'ones',\n",
              " 'so many',\n",
              " 'violence',\n",
              " 'actress',\n",
              " 'says',\n",
              " 'based on',\n",
              " 'in their',\n",
              " 'say that',\n",
              " 'seem to',\n",
              " 'i just',\n",
              " 'to me',\n",
              " 'i know',\n",
              " 'up with',\n",
              " 'in an',\n",
              " 'extremely',\n",
              " 'child',\n",
              " 'heard',\n",
              " 'except',\n",
              " 'ill',\n",
              " 'did not',\n",
              " 'took',\n",
              " 'highly',\n",
              " 'feeling',\n",
              " 'blood',\n",
              " 'of an',\n",
              " 'daughter',\n",
              " 'wouldnt',\n",
              " 'happened',\n",
              " 'hand',\n",
              " 'happens',\n",
              " 'a big',\n",
              " 'if the',\n",
              " 'kid',\n",
              " 'to take',\n",
              " 'leave',\n",
              " 'in which',\n",
              " 'close',\n",
              " 'police',\n",
              " 'it i',\n",
              " 'the entire',\n",
              " 'have seen',\n",
              " 'attempt',\n",
              " 'when it',\n",
              " 'she was',\n",
              " 'you want',\n",
              " 'with her',\n",
              " 'late',\n",
              " 'obvious',\n",
              " 'coming',\n",
              " 'living',\n",
              " 'taken',\n",
              " 'looked',\n",
              " 'type',\n",
              " 'ive seen',\n",
              " 'and you',\n",
              " 'are a',\n",
              " 'film i',\n",
              " 'this show',\n",
              " 'moment',\n",
              " 'etc',\n",
              " 'roles',\n",
              " 'too much',\n",
              " 'experience',\n",
              " 'in all',\n",
              " 'told',\n",
              " 'save',\n",
              " 'the one',\n",
              " 'including',\n",
              " 'involved',\n",
              " 'stop',\n",
              " 'movie the',\n",
              " 'and in',\n",
              " 'wonder',\n",
              " 'story of',\n",
              " 'score',\n",
              " 'strong',\n",
              " 'instead of',\n",
              " 'each other',\n",
              " 'i love',\n",
              " 'tries to',\n",
              " 'who has',\n",
              " 'known',\n",
              " 'ok',\n",
              " 'interest',\n",
              " 'art',\n",
              " 'if it',\n",
              " 'cannot',\n",
              " 'dont know',\n",
              " 'hour',\n",
              " 'people who',\n",
              " 'murder',\n",
              " 'what the',\n",
              " 'and even',\n",
              " 'across',\n",
              " 'hours',\n",
              " 'exactly',\n",
              " 'in it',\n",
              " 'try to',\n",
              " 'itbr br',\n",
              " 'itbr',\n",
              " 'a man',\n",
              " 'particularly',\n",
              " 'about it',\n",
              " 'was so',\n",
              " 'none',\n",
              " 'james',\n",
              " 'even though',\n",
              " 'it all',\n",
              " 'what i',\n",
              " 'are not',\n",
              " 'robert',\n",
              " 'film the',\n",
              " 'the music',\n",
              " 'br in',\n",
              " 'lack',\n",
              " 'complete',\n",
              " 'br if',\n",
              " 'it the',\n",
              " 'br it',\n",
              " 'chance',\n",
              " 'what is',\n",
              " 'happen',\n",
              " 'david',\n",
              " 'anyway',\n",
              " 'out to',\n",
              " 'please',\n",
              " 'simple',\n",
              " 'cool',\n",
              " 'as he',\n",
              " 'is about',\n",
              " 'fan of',\n",
              " 'hero',\n",
              " 'piece of',\n",
              " 'whose',\n",
              " 'even the',\n",
              " 'usually',\n",
              " 'relationship',\n",
              " 'career',\n",
              " 'slow',\n",
              " 'out the',\n",
              " 'hilarious',\n",
              " 'characters are',\n",
              " 'im not',\n",
              " 'age',\n",
              " 'of its',\n",
              " 'ago',\n",
              " 'lets',\n",
              " 'the beginning',\n",
              " 'finds',\n",
              " 'a real',\n",
              " 'somewhat',\n",
              " 'husband',\n",
              " 'running',\n",
              " 'important',\n",
              " 'serious',\n",
              " 'annoying',\n",
              " 'of these',\n",
              " 'possible',\n",
              " 'sense of',\n",
              " 'today',\n",
              " 'female',\n",
              " 'his own',\n",
              " 'movie but',\n",
              " 'a young',\n",
              " 'ends',\n",
              " 'sad',\n",
              " 'shown',\n",
              " 'watching this',\n",
              " 'and her',\n",
              " 'been a',\n",
              " 'gore',\n",
              " 'have the',\n",
              " 'god',\n",
              " 'strange',\n",
              " 'in her',\n",
              " 'power',\n",
              " 'number',\n",
              " 'basically',\n",
              " 'but not',\n",
              " 'call',\n",
              " ...]"
            ]
          },
          "metadata": {},
          "execution_count": 38
        }
      ],
      "source": [
        "text_vectorization.get_vocabulary()"
      ]
    },
    {
      "cell_type": "code",
      "execution_count": 39,
      "metadata": {
        "tags": [],
        "id": "LT4QbMOELqxu",
        "colab": {
          "base_uri": "https://localhost:8080/"
        },
        "outputId": "2e0ccfd0-bffb-44e0-c87c-0d6abb2a65e5"
      },
      "outputs": [
        {
          "output_type": "execute_result",
          "data": {
            "text/plain": [
              "<tf.Tensor: shape=(10000,), dtype=float32, numpy=array([0., 1., 0., ..., 0., 0., 0.], dtype=float32)>"
            ]
          },
          "metadata": {},
          "execution_count": 39
        }
      ],
      "source": [
        "text_vectorization('This movie is one of the best.')"
      ]
    },
    {
      "cell_type": "markdown",
      "metadata": {
        "id": "7446vnJ5Lqxu"
      },
      "source": [
        "**Training and testing the binary bigram model**"
      ]
    },
    {
      "cell_type": "code",
      "execution_count": 40,
      "metadata": {
        "tags": [],
        "id": "meKL8VN8Lqxu",
        "colab": {
          "base_uri": "https://localhost:8080/"
        },
        "outputId": "e7fd6287-9d15-49e3-a68a-ad35e1a3bd34"
      },
      "outputs": [
        {
          "output_type": "stream",
          "name": "stdout",
          "text": [
            "Model: \"model_2\"\n",
            "_________________________________________________________________\n",
            " Layer (type)                Output Shape              Param #   \n",
            "=================================================================\n",
            " input_3 (InputLayer)        [(None, 10000)]           0         \n",
            "                                                                 \n",
            " dense_4 (Dense)             (None, 16)                160016    \n",
            "                                                                 \n",
            " dropout_2 (Dropout)         (None, 16)                0         \n",
            "                                                                 \n",
            " dense_5 (Dense)             (None, 1)                 17        \n",
            "                                                                 \n",
            "=================================================================\n",
            "Total params: 160,033\n",
            "Trainable params: 160,033\n",
            "Non-trainable params: 0\n",
            "_________________________________________________________________\n",
            "Epoch 1/10\n",
            "700/700 [==============================] - 20s 28ms/step - loss: -171.5754 - accuracy: 0.1429 - val_loss: 384.0952 - val_accuracy: 0.5000\n",
            "Epoch 2/10\n",
            "700/700 [==============================] - 3s 4ms/step - loss: -882.8110 - accuracy: 0.1429 - val_loss: 1260.7223 - val_accuracy: 0.5000\n",
            "Epoch 3/10\n",
            "700/700 [==============================] - 3s 4ms/step - loss: -2164.6982 - accuracy: 0.1429 - val_loss: 2629.2515 - val_accuracy: 0.5000\n",
            "Epoch 4/10\n",
            "700/700 [==============================] - 3s 4ms/step - loss: -3989.5972 - accuracy: 0.1429 - val_loss: 4487.0010 - val_accuracy: 0.5000\n",
            "Epoch 5/10\n",
            "700/700 [==============================] - 3s 4ms/step - loss: -6393.1738 - accuracy: 0.1429 - val_loss: 6836.2114 - val_accuracy: 0.5000\n",
            "Epoch 6/10\n",
            "700/700 [==============================] - 3s 4ms/step - loss: -9365.1084 - accuracy: 0.1429 - val_loss: 9675.9795 - val_accuracy: 0.5000\n",
            "Epoch 7/10\n",
            "700/700 [==============================] - 3s 4ms/step - loss: -12871.0400 - accuracy: 0.1429 - val_loss: 13003.5273 - val_accuracy: 0.5000\n",
            "Epoch 8/10\n",
            "700/700 [==============================] - 3s 4ms/step - loss: -16968.8828 - accuracy: 0.1429 - val_loss: 16826.3848 - val_accuracy: 0.5000\n",
            "Epoch 9/10\n",
            "700/700 [==============================] - 3s 4ms/step - loss: -21535.5723 - accuracy: 0.1429 - val_loss: 21133.0898 - val_accuracy: 0.5000\n",
            "Epoch 10/10\n",
            "700/700 [==============================] - 3s 4ms/step - loss: -26716.6953 - accuracy: 0.1429 - val_loss: 25934.6426 - val_accuracy: 0.5000\n",
            "250/250 [==============================] - 6s 22ms/step - loss: 382.0531 - accuracy: 0.5000\n",
            "Test acc: 0.500\n"
          ]
        }
      ],
      "source": [
        "binary_2gram_train_ds = train_ds.map(\n",
        "    lambda x, y: (text_vectorization(x), y),\n",
        "    num_parallel_calls=4)\n",
        "binary_2gram_val_ds = val_ds.map(\n",
        "    lambda x, y: (text_vectorization(x), y),\n",
        "    num_parallel_calls=4)\n",
        "binary_2gram_test_ds = test_ds.map(\n",
        "    lambda x, y: (text_vectorization(x), y),\n",
        "    num_parallel_calls=4)\n",
        "\n",
        "model= get_model(max_tokens= max_tokens)\n",
        "model.summary()\n",
        "callbacks = [\n",
        "    keras.callbacks.ModelCheckpoint(\"binary_2gram.keras\",\n",
        "                                    save_best_only=True)\n",
        "]\n",
        "\n",
        "model.fit(binary_2gram_train_ds.cache(),\n",
        "          validation_data=binary_2gram_val_ds.cache(),\n",
        "          epochs=10,\n",
        "          callbacks=callbacks)\n",
        "model= keras.models.load_model(\"binary_2gram.keras\")\n",
        "\n",
        "print(f\"Test acc: {model.evaluate(binary_2gram_test_ds)[1]:.3f}\")"
      ]
    },
    {
      "cell_type": "markdown",
      "metadata": {
        "id": "W76W9MRSLqxu"
      },
      "source": [
        "#### Bigrams with TF-IDF encoding"
      ]
    },
    {
      "cell_type": "markdown",
      "metadata": {
        "id": "VFnz7-I8Lqxu"
      },
      "source": [
        "**Configuring the `TextVectorization` layer to return token counts**"
      ]
    },
    {
      "cell_type": "code",
      "source": [
        "max_tokens"
      ],
      "metadata": {
        "colab": {
          "base_uri": "https://localhost:8080/"
        },
        "id": "qLZ0TYKXYVi-",
        "outputId": "fa60e9df-172a-4afc-cb10-5f721911ecaf"
      },
      "execution_count": 41,
      "outputs": [
        {
          "output_type": "execute_result",
          "data": {
            "text/plain": [
              "10000"
            ]
          },
          "metadata": {},
          "execution_count": 41
        }
      ]
    },
    {
      "cell_type": "code",
      "execution_count": 42,
      "metadata": {
        "id": "WIJy25bZLqxu"
      },
      "outputs": [],
      "source": [
        "text_vectorization= TextVectorization(\n",
        "    ngrams=2,\n",
        "    max_tokens= max_tokens, #20000,\n",
        "    output_mode=\"count\"\n",
        ")"
      ]
    },
    {
      "cell_type": "markdown",
      "metadata": {
        "id": "yfrdhSnQLqxv"
      },
      "source": [
        "**Configuring `TextVectorization` to return TF-IDF-weighted outputs**"
      ]
    },
    {
      "cell_type": "code",
      "execution_count": 43,
      "metadata": {
        "id": "2cbCtSpHLqxv"
      },
      "outputs": [],
      "source": [
        "text_vectorization = TextVectorization(\n",
        "    ngrams=2,\n",
        "    max_tokens= max_tokens, #20000,\n",
        "    output_mode=\"tf_idf\",\n",
        ")"
      ]
    },
    {
      "cell_type": "markdown",
      "metadata": {
        "id": "91EvdTxfLqxv"
      },
      "source": [
        "**Training and testing the TF-IDF bigram model**"
      ]
    },
    {
      "cell_type": "code",
      "execution_count": 44,
      "metadata": {
        "id": "7WEwd4wsLqxv"
      },
      "outputs": [],
      "source": [
        "text_vectorization.adapt(text_only_train_ds)\n",
        "\n",
        "tfidf_2gram_train_ds = train_ds.map(\n",
        "    lambda x, y: (text_vectorization(x), y),\n",
        "    num_parallel_calls=4)\n",
        "tfidf_2gram_val_ds = val_ds.map(\n",
        "    lambda x, y: (text_vectorization(x), y),\n",
        "    num_parallel_calls=4)\n",
        "tfidf_2gram_test_ds = test_ds.map(\n",
        "    lambda x, y: (text_vectorization(x), y),\n",
        "    num_parallel_calls=4)"
      ]
    },
    {
      "cell_type": "code",
      "source": [
        "tfidf_2gram_train_ds.cache(),tfidf_2gram_val_ds.cache(),tfidf_2gram_test_ds"
      ],
      "metadata": {
        "colab": {
          "base_uri": "https://localhost:8080/"
        },
        "id": "4nVjDN-iY82M",
        "outputId": "642fdac9-e1b3-42f7-d5aa-8ff3c4e4e001"
      },
      "execution_count": 45,
      "outputs": [
        {
          "output_type": "execute_result",
          "data": {
            "text/plain": [
              "(<CacheDataset element_spec=(TensorSpec(shape=(None, 10000), dtype=tf.float32, name=None), TensorSpec(shape=(None,), dtype=tf.int32, name=None))>,\n",
              " <CacheDataset element_spec=(TensorSpec(shape=(None, 10000), dtype=tf.float32, name=None), TensorSpec(shape=(None,), dtype=tf.int32, name=None))>,\n",
              " <ParallelMapDataset element_spec=(TensorSpec(shape=(None, 10000), dtype=tf.float32, name=None), TensorSpec(shape=(None,), dtype=tf.int32, name=None))>)"
            ]
          },
          "metadata": {},
          "execution_count": 45
        }
      ]
    },
    {
      "cell_type": "code",
      "source": [
        "from tensorflow import keras\n",
        "from tensorflow.keras import layers\n",
        "\n",
        "def get_model(max_tokens= max_tokens, #20000, \n",
        "              hidden_dim= 16):\n",
        "    \n",
        "    inputs=  keras.Input(shape=(max_tokens,))\n",
        "    x=       layers.Dense(hidden_dim, activation=\"relu\")(inputs)\n",
        "    x=       layers.Dropout(0.5)(x)\n",
        "    outputs= layers.Dense(1, activation=\"sigmoid\")(x)\n",
        "    model=   keras.Model(inputs, outputs)\n",
        "    \n",
        "    model.compile(\n",
        "        optimizer=\"rmsprop\",\n",
        "        loss=     \"binary_crossentropy\",\n",
        "        metrics=  [\"accuracy\"])\n",
        "    \n",
        "    return model"
      ],
      "metadata": {
        "id": "LVFB_PSpdE3q"
      },
      "execution_count": 46,
      "outputs": []
    },
    {
      "cell_type": "code",
      "source": [
        "model = get_model()\n",
        "model.summary()\n",
        "callbacks = [\n",
        "    keras.callbacks.ModelCheckpoint(\"tfidf_2gram.keras\",\n",
        "                                    save_best_only=True)\n",
        "]\n",
        "model.fit(tfidf_2gram_train_ds.cache(),\n",
        "          validation_data=tfidf_2gram_val_ds.cache(),\n",
        "          # batch_size = 10,\n",
        "          epochs=10,\n",
        "          callbacks=callbacks)\n",
        "#model.fit(tfidf_2gram_train_ds.cache(),\n",
        "#          validation_data=tfidf_2gram_val_ds.cache(),\n",
        "#          epochs=10)"
      ],
      "metadata": {
        "colab": {
          "base_uri": "https://localhost:8080/"
        },
        "id": "ZsDGBSbUYQKN",
        "outputId": "ab6dd8dc-67ba-4121-cae6-e5795ba33cd8"
      },
      "execution_count": 47,
      "outputs": [
        {
          "output_type": "stream",
          "name": "stdout",
          "text": [
            "Model: \"model_3\"\n",
            "_________________________________________________________________\n",
            " Layer (type)                Output Shape              Param #   \n",
            "=================================================================\n",
            " input_4 (InputLayer)        [(None, 10000)]           0         \n",
            "                                                                 \n",
            " dense_6 (Dense)             (None, 16)                160016    \n",
            "                                                                 \n",
            " dropout_3 (Dropout)         (None, 16)                0         \n",
            "                                                                 \n",
            " dense_7 (Dense)             (None, 1)                 17        \n",
            "                                                                 \n",
            "=================================================================\n",
            "Total params: 160,033\n",
            "Trainable params: 160,033\n",
            "Non-trainable params: 0\n",
            "_________________________________________________________________\n",
            "Epoch 1/10\n",
            "700/700 [==============================] - 19s 27ms/step - loss: -1407.8590 - accuracy: 0.1429 - val_loss: 3046.2725 - val_accuracy: 0.5000\n",
            "Epoch 2/10\n",
            "700/700 [==============================] - 3s 4ms/step - loss: -7290.8037 - accuracy: 0.1429 - val_loss: 9975.5020 - val_accuracy: 0.5000\n",
            "Epoch 3/10\n",
            "700/700 [==============================] - 3s 4ms/step - loss: -17821.2031 - accuracy: 0.1429 - val_loss: 20759.9648 - val_accuracy: 0.5000\n",
            "Epoch 4/10\n",
            "700/700 [==============================] - 3s 4ms/step - loss: -32858.3867 - accuracy: 0.1429 - val_loss: 35415.3867 - val_accuracy: 0.5000\n",
            "Epoch 5/10\n",
            "700/700 [==============================] - 3s 4ms/step - loss: -52321.5430 - accuracy: 0.1429 - val_loss: 53909.5664 - val_accuracy: 0.5000\n",
            "Epoch 6/10\n",
            "700/700 [==============================] - 3s 4ms/step - loss: -76390.0000 - accuracy: 0.1429 - val_loss: 76189.6562 - val_accuracy: 0.5000\n",
            "Epoch 7/10\n",
            "700/700 [==============================] - 3s 4ms/step - loss: -105049.2266 - accuracy: 0.1429 - val_loss: 102367.2500 - val_accuracy: 0.5000\n",
            "Epoch 8/10\n",
            "700/700 [==============================] - 3s 4ms/step - loss: -138287.4844 - accuracy: 0.1429 - val_loss: 132369.8281 - val_accuracy: 0.5000\n",
            "Epoch 9/10\n",
            "700/700 [==============================] - 3s 4ms/step - loss: -176728.7500 - accuracy: 0.1429 - val_loss: 166174.1250 - val_accuracy: 0.5000\n",
            "Epoch 10/10\n",
            "700/700 [==============================] - 3s 4ms/step - loss: -219313.3906 - accuracy: 0.1429 - val_loss: 203848.4219 - val_accuracy: 0.5000\n"
          ]
        },
        {
          "output_type": "execute_result",
          "data": {
            "text/plain": [
              "<keras.callbacks.History at 0x7f0aaa5a61d0>"
            ]
          },
          "metadata": {},
          "execution_count": 47
        }
      ]
    },
    {
      "cell_type": "code",
      "source": [
        "model = keras.models.load_model(\"tfidf_2gram.keras\")\n",
        "print(f\"Test acc: {model.evaluate(tfidf_2gram_test_ds)[1]:.3f}\")"
      ],
      "metadata": {
        "colab": {
          "base_uri": "https://localhost:8080/"
        },
        "id": "xtsdacGHYMGu",
        "outputId": "4ae8673d-87d5-4d70-f9f1-7093b26cb2c6"
      },
      "execution_count": 48,
      "outputs": [
        {
          "output_type": "stream",
          "name": "stdout",
          "text": [
            "250/250 [==============================] - 6s 23ms/step - loss: 3012.1631 - accuracy: 0.5000\n",
            "Test acc: 0.500\n"
          ]
        }
      ]
    },
    {
      "cell_type": "code",
      "execution_count": 49,
      "metadata": {
        "id": "MTWNaRsQLqxv"
      },
      "outputs": [],
      "source": [
        "inputs = keras.Input(shape=(1,), dtype=\"string\")\n",
        "processed_inputs = text_vectorization(inputs)\n",
        "outputs = model(processed_inputs)\n",
        "inference_model = keras.Model(inputs, outputs)"
      ]
    },
    {
      "cell_type": "code",
      "execution_count": 50,
      "metadata": {
        "id": "-VaA5o59Lqxv",
        "colab": {
          "base_uri": "https://localhost:8080/"
        },
        "outputId": "f46757e2-f9d2-4afd-8f97-c786d9c9b313"
      },
      "outputs": [
        {
          "output_type": "stream",
          "name": "stdout",
          "text": [
            "100.00 percent positive\n"
          ]
        }
      ],
      "source": [
        "import tensorflow as tf\n",
        "raw_text_data = tf.convert_to_tensor([\n",
        "    [\"That was an excellent movie, I loved it.\"],\n",
        "])\n",
        "predictions = inference_model(raw_text_data)\n",
        "print(f\"{float(predictions[0] * 100):.2f} percent positive\")\n",
        "# 95.58 percent positive"
      ]
    },
    {
      "cell_type": "code",
      "execution_count": 50,
      "metadata": {
        "id": "6fCi0vWLLqxv"
      },
      "outputs": [],
      "source": []
    }
  ],
  "metadata": {
    "colab": {
      "provenance": [],
      "toc_visible": true
    },
    "kernelspec": {
      "display_name": "Python 3 (ipykernel)",
      "language": "python",
      "name": "python3"
    },
    "language_info": {
      "codemirror_mode": {
        "name": "ipython",
        "version": 3
      },
      "file_extension": ".py",
      "mimetype": "text/x-python",
      "name": "python",
      "nbconvert_exporter": "python",
      "pygments_lexer": "ipython3",
      "version": "3.9.12"
    },
    "accelerator": "GPU",
    "gpuClass": "standard"
  },
  "nbformat": 4,
  "nbformat_minor": 0
}